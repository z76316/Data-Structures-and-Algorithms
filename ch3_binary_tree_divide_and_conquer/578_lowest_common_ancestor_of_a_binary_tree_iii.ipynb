{
 "cells": [
  {
   "cell_type": "markdown",
   "metadata": {},
   "source": [
    "Given the root and two nodes in a Binary Tree. Find the lowest common ancestor(LCA) of the two nodes.\n",
    "The nearest common ancestor of two nodes refers to the nearest common node among all the parent nodes of two nodes (including the two nodes).\n",
    "Return null if LCA does not exist.\n",
    "\n",
    "Example 1:\n",
    "\n",
    "    Input: \n",
    "        {4, 3, 7, #, #, 5, 6}\n",
    "        3 5\n",
    "        5 6\n",
    "        6 7 \n",
    "        5 8\n",
    "    \n",
    "    Output: \n",
    "        4\n",
    "        7\n",
    "        7\n",
    "        null\n",
    "    \n",
    "    Explanation:\n",
    "          4\n",
    "         / \\\n",
    "        3   7\n",
    "           / \\\n",
    "          5   6\n",
    "\n",
    "    LCA(3, 5) = 4\n",
    "    LCA(5, 6) = 7\n",
    "    LCA(6, 7) = 7\n",
    "    LCA(5, 8) = null\n",
    "\n",
    "Notice\n",
    "\n",
    "    Assume two nodes are exist in tree.\n",
    "\n",
    "https://www.lintcode.com/problem/578/"
   ]
  },
  {
   "cell_type": "markdown",
   "metadata": {},
   "source": [
    "# Solution"
   ]
  },
  {
   "cell_type": "markdown",
   "metadata": {
    "heading_collapsed": true
   },
   "source": [
    "## idea (!)"
   ]
  },
  {
   "cell_type": "markdown",
   "metadata": {
    "hidden": true
   },
   "source": [
    "Using two flags to judge if A and B both exist in the given binary tree."
   ]
  },
  {
   "cell_type": "markdown",
   "metadata": {},
   "source": [
    "## code"
   ]
  },
  {
   "cell_type": "code",
   "execution_count": 1,
   "metadata": {},
   "outputs": [],
   "source": [
    "class Solution:\n",
    "    \"\"\"\n",
    "    @param: root: The root of the binary tree.\n",
    "    @param: A: A TreeNode\n",
    "    @param: B: A TreeNode\n",
    "    @return: Return the LCA of the two nodes.\n",
    "    \"\"\"\n",
    "    def lowestCommonAncestor3(self, root, A, B):\n",
    "        # write your code here\n",
    "        exist_a, exist_b, lca = self.helper(root, A, B)\n",
    "        if exist_a and exist_b:\n",
    "            return lca\n",
    "        return None\n",
    "\n",
    "\n",
    "    def helper(self, root, A, B):\n",
    "        if not root or not A or not B:\n",
    "            return False, False, None\n",
    "\n",
    "        left_exist_a, left_exist_b, left = self.helper(root.left, A, B)\n",
    "        right_exist_a, right_exist_b, right = self.helper(root.right, A, B)\n",
    "\n",
    "        exist_a = left_exist_a or right_exist_a or root == A\n",
    "        exist_b = left_exist_b or right_exist_b or root == B\n",
    "\n",
    "        if root == A or root == B:\n",
    "            return exist_a, exist_b, root\n",
    "\n",
    "        if left and right:\n",
    "            return exist_a, exist_b, root\n",
    "        elif left:\n",
    "            return exist_a, exist_b, left\n",
    "        elif right:\n",
    "            return exist_a, exist_b, right\n",
    "        return exist_a, exist_b, None\n",
    "    "
   ]
  },
  {
   "cell_type": "markdown",
   "metadata": {},
   "source": [
    "# Test"
   ]
  },
  {
   "cell_type": "markdown",
   "metadata": {},
   "source": [
    "## Class TreeNode"
   ]
  },
  {
   "cell_type": "code",
   "execution_count": 2,
   "metadata": {},
   "outputs": [],
   "source": [
    "class TreeNode:\n",
    "    def __init__(self, val):\n",
    "        self.val = val\n",
    "        self.left, self.right = None, None"
   ]
  },
  {
   "cell_type": "markdown",
   "metadata": {},
   "source": [
    "## Test"
   ]
  },
  {
   "cell_type": "code",
   "execution_count": 3,
   "metadata": {},
   "outputs": [
    {
     "data": {
      "text/plain": [
       "2"
      ]
     },
     "execution_count": 3,
     "metadata": {},
     "output_type": "execute_result"
    }
   ],
   "source": [
    "node0 = TreeNode(0)\n",
    "node1 = TreeNode(1)\n",
    "node2 = TreeNode(2)\n",
    "node3 = TreeNode(3)\n",
    "node4 = TreeNode(4)\n",
    "node5 = TreeNode(5)\n",
    "\n",
    "node0.left = node1\n",
    "node0.right = node2\n",
    "\n",
    "node1.left = node3\n",
    "node1.right = node4\n",
    "\n",
    "node2.left = node5\n",
    "\n",
    "\n",
    "\n",
    "a = Solution()\n",
    "\n",
    "root = node0\n",
    "A = node2\n",
    "B = node5\n",
    "\n",
    "\n",
    "a.lowestCommonAncestor3(root, A, B).val"
   ]
  },
  {
   "cell_type": "code",
   "execution_count": null,
   "metadata": {},
   "outputs": [],
   "source": []
  }
 ],
 "metadata": {
  "kernelspec": {
   "display_name": "Python 3",
   "language": "python",
   "name": "python3"
  },
  "language_info": {
   "codemirror_mode": {
    "name": "ipython",
    "version": 3
   },
   "file_extension": ".py",
   "mimetype": "text/x-python",
   "name": "python",
   "nbconvert_exporter": "python",
   "pygments_lexer": "ipython3",
   "version": "3.7.2"
  },
  "toc": {
   "base_numbering": 1,
   "nav_menu": {},
   "number_sections": true,
   "sideBar": true,
   "skip_h1_title": false,
   "title_cell": "Table of Contents",
   "title_sidebar": "Contents",
   "toc_cell": false,
   "toc_position": {},
   "toc_section_display": true,
   "toc_window_display": false
  }
 },
 "nbformat": 4,
 "nbformat_minor": 2
}
