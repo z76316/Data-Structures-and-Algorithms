{
 "cells": [
  {
   "cell_type": "markdown",
   "metadata": {},
   "source": [
    "Given the root and two nodes in a Binary Tree. Find the lowest common ancestor(LCA) of the two nodes.\n",
    "\n",
    "The lowest common ancestor is the node with largest depth which is the ancestor of both nodes.\n",
    "\n",
    "The node has an extra attribute parent which point to the father of itself. The root's parent is null.\n",
    "\n",
    "Example 1:\n",
    "\n",
    "    Input：{4,3,7,#,#,5,6},3,5\n",
    "    Output：4\n",
    "    Explanation：\n",
    "         4\n",
    "         / \\\n",
    "        3   7\n",
    "           / \\\n",
    "          5   6\n",
    "    LCA(3, 5) = 4\n",
    "\n",
    "Example 2:\n",
    "\n",
    "    Input：{4,3,7,#,#,5,6},5,6\n",
    "    Output：7\n",
    "    Explanation：\n",
    "          4\n",
    "         / \\\n",
    "        3   7\n",
    "           / \\\n",
    "          5   6\n",
    "    LCA(5, 6) = 7\n",
    "\n",
    "https://www.lintcode.com/problem/lowest-common-ancestor-ii/description"
   ]
  },
  {
   "cell_type": "code",
   "execution_count": 1,
   "metadata": {},
   "outputs": [],
   "source": [
    "class Solution:\n",
    "    \"\"\"\n",
    "    @param: root: The root of the tree\n",
    "    @param: A: node in the tree\n",
    "    @param: B: node in the tree\n",
    "    @return: The lowest common ancestor of A and B\n",
    "    \"\"\"\n",
    "    def lowestCommonAncestorII(self, root, A, B):\n",
    "        # write your code here\n",
    "        if root == None:\n",
    "            return root\n",
    "        \n",
    "        parent_list = []\n",
    "        while A:\n",
    "            parent_list.append(A)\n",
    "            A = A.parent\n",
    "            \n",
    "        while B:\n",
    "            if B in parent_list:\n",
    "                return B\n",
    "            B = B.parent\n",
    "        return root"
   ]
  },
  {
   "cell_type": "markdown",
   "metadata": {},
   "source": [
    "# Test"
   ]
  },
  {
   "cell_type": "code",
   "execution_count": 3,
   "metadata": {},
   "outputs": [
    {
     "data": {
      "text/plain": [
       "1"
      ]
     },
     "execution_count": 3,
     "metadata": {},
     "output_type": "execute_result"
    }
   ],
   "source": [
    "class ParentTreeNode:\n",
    "    def __init__(self, val):\n",
    "        self.val = val\n",
    "        self.parent, self.left, self.right = None, None, None\n",
    "\n",
    "\n",
    "node0=ParentTreeNode(0)\n",
    "node1=ParentTreeNode(1)\n",
    "node2=ParentTreeNode(2)\n",
    "node3=ParentTreeNode(3)\n",
    "node4=ParentTreeNode(4)\n",
    "node5=ParentTreeNode(5)\n",
    "\n",
    "node0.left=node1\n",
    "node0.right=node2\n",
    "\n",
    "node1.left=node3\n",
    "node1.right=node4\n",
    "node1.parent=node0\n",
    "\n",
    "node2.left=node5\n",
    "node2.parent=node0\n",
    "\n",
    "node3.parent=node1\n",
    "node4.parent=node1\n",
    "node5.parent=node2\n",
    "\n",
    "\n",
    "\n",
    "a=Solution()\n",
    "\n",
    "root=node0\n",
    "A=node3\n",
    "B=node1\n",
    "\n",
    "a.lowestCommonAncestorII(root, A, B).val\n"
   ]
  },
  {
   "cell_type": "code",
   "execution_count": null,
   "metadata": {},
   "outputs": [],
   "source": []
  }
 ],
 "metadata": {
  "kernelspec": {
   "display_name": "Python 3",
   "language": "python",
   "name": "python3"
  },
  "language_info": {
   "codemirror_mode": {
    "name": "ipython",
    "version": 3
   },
   "file_extension": ".py",
   "mimetype": "text/x-python",
   "name": "python",
   "nbconvert_exporter": "python",
   "pygments_lexer": "ipython3",
   "version": "3.7.2"
  }
 },
 "nbformat": 4,
 "nbformat_minor": 2
}
