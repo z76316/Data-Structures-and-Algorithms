{
 "cells": [
  {
   "cell_type": "markdown",
   "metadata": {},
   "source": [
    "Given a root of Binary Search Tree with unique value for each node. Remove the node with given value. If there is no such a node with given value in the binary search tree, do nothing. You should keep the tree still a binary search tree after removal.\n",
    "\n",
    "Example\n",
    "\n",
    "    Example 1\n",
    "\n",
    "    Input: \n",
    "    Tree = {5,3,6,2,4}\n",
    "    k = 3\n",
    "    Output: {5,2,6,#,4} or {5,4,6,2}\n",
    "    Explanation:\n",
    "    Given binary search tree:\n",
    "        5\n",
    "       / \\\n",
    "      3   6\n",
    "     / \\\n",
    "    2   4\n",
    "    Remove 3, you can either return:\n",
    "        5\n",
    "       / \\\n",
    "      2   6\n",
    "       \\\n",
    "        4\n",
    "    or\n",
    "        5\n",
    "       / \\\n",
    "      4   6\n",
    "     /\n",
    "    2\n",
    "\n",
    "Example 2\n",
    "\n",
    "    Input: \n",
    "    Tree = {5,3,6,2,4}\n",
    "    k = 4\n",
    "    Output: {5,3,6,2}\n",
    "    Explanation:\n",
    "    Given binary search tree:\n",
    "        5\n",
    "       / \\\n",
    "      3   6\n",
    "     / \\\n",
    "    2   4\n",
    "    Remove 4, you should return:\n",
    "        5\n",
    "       / \\\n",
    "      3   6\n",
    "     /\n",
    "    2\n",
    "\n",
    "https://www.lintcode.com/problem/remove-node-in-binary-search-tree/\n",
    "\n"
   ]
  },
  {
   "cell_type": "markdown",
   "metadata": {},
   "source": [
    "# Solution"
   ]
  },
  {
   "cell_type": "code",
   "execution_count": 31,
   "metadata": {},
   "outputs": [],
   "source": [
    "\"\"\"\n",
    "Definition of TreeNode:\n",
    "class TreeNode:\n",
    "    def __init__(self, val):\n",
    "        self.val = val\n",
    "        self.left, self.right = None, None\n",
    "\"\"\"\n",
    "\n",
    "\n",
    "class Solution:\n",
    "    \"\"\"\n",
    "    @param: root: The root of the binary search tree.\n",
    "    @param: value: Remove the node with given value.\n",
    "    @return: The root of the binary search tree after removal.\n",
    "    \"\"\"\n",
    "    def removeNode(self, root, value):\n",
    "        # write your code here\n",
    "        if root == None:\n",
    "            return root\n",
    "        \n",
    "        if root.val > value:\n",
    "            root.left = self.removeNode(root.left, value)\n",
    "        elif root.val < value:\n",
    "            root.right =  self.removeNode(root.right, value)\n",
    "        else:    ##### remove node\n",
    "            if root.left == None:\n",
    "                return root.right\n",
    "            elif root.right == None:\n",
    "                return root.left\n",
    "            else:\n",
    "                midNode = self.findMinNode(root.right)    ##### find the min node of the right subtree\n",
    "                root.val = midNode.val\n",
    "                root.right = self.removeNode(root.right, midNode.val)\n",
    "        \n",
    "        return root\n",
    "        \n",
    "    def findMinNode(self, root):\n",
    "        while root.left != None:\n",
    "            root = root.left\n",
    "        return root"
   ]
  },
  {
   "cell_type": "markdown",
   "metadata": {},
   "source": [
    "# Test"
   ]
  },
  {
   "cell_type": "markdown",
   "metadata": {},
   "source": [
    "## class TreeNode"
   ]
  },
  {
   "cell_type": "code",
   "execution_count": 3,
   "metadata": {},
   "outputs": [],
   "source": [
    "class TreeNode:\n",
    "    def __init__(self, val):\n",
    "        self.val = val\n",
    "        self.left, self.right = None, None"
   ]
  },
  {
   "cell_type": "markdown",
   "metadata": {},
   "source": [
    "## Testing"
   ]
  },
  {
   "cell_type": "code",
   "execution_count": 32,
   "metadata": {},
   "outputs": [
    {
     "name": "stdout",
     "output_type": "stream",
     "text": [
      "3\n",
      "4\n"
     ]
    }
   ],
   "source": [
    "node = []\n",
    "for i in range(8):\n",
    "    node.append(TreeNode(i))\n",
    "    \n",
    "root = node[5]\n",
    "root.left = node[3]\n",
    "root.right = node[6]\n",
    "node[3].left = node[2]\n",
    "node[3].right = node[4]\n",
    "\n",
    "print(root.left.val)\n",
    "\n",
    "a = Solution()\n",
    "new_root = a.removeNode(root, 3)\n",
    "print(new_root.left.val)"
   ]
  },
  {
   "cell_type": "code",
   "execution_count": 33,
   "metadata": {},
   "outputs": [
    {
     "name": "stdout",
     "output_type": "stream",
     "text": [
      "4\n",
      "5\n"
     ]
    }
   ],
   "source": [
    "node = []\n",
    "for i in range(10):\n",
    "    node.append(TreeNode(i))\n",
    "    \n",
    "root = node[8]\n",
    "root.left = node[4]\n",
    "root.right = node[9]\n",
    "node[4].left = node[2]\n",
    "node[4].right = node[6]\n",
    "node[2].right = node[3]\n",
    "node[6].left = node[5]\n",
    "node[6].right = node[7]\n",
    "\n",
    "print(root.left.val)\n",
    "\n",
    "a = Solution()\n",
    "new_root = a.removeNode(root, 4)\n",
    "print(new_root.left.val)"
   ]
  },
  {
   "cell_type": "code",
   "execution_count": null,
   "metadata": {},
   "outputs": [],
   "source": []
  }
 ],
 "metadata": {
  "kernelspec": {
   "display_name": "Python 3",
   "language": "python",
   "name": "python3"
  },
  "language_info": {
   "codemirror_mode": {
    "name": "ipython",
    "version": 3
   },
   "file_extension": ".py",
   "mimetype": "text/x-python",
   "name": "python",
   "nbconvert_exporter": "python",
   "pygments_lexer": "ipython3",
   "version": "3.7.2"
  },
  "toc": {
   "base_numbering": 1,
   "nav_menu": {},
   "number_sections": true,
   "sideBar": true,
   "skip_h1_title": false,
   "title_cell": "Table of Contents",
   "title_sidebar": "Contents",
   "toc_cell": false,
   "toc_position": {},
   "toc_section_display": true,
   "toc_window_display": false
  }
 },
 "nbformat": 4,
 "nbformat_minor": 2
}
