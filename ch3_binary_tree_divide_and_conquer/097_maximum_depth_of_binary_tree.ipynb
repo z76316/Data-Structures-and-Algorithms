{
 "cells": [
  {
   "cell_type": "markdown",
   "metadata": {},
   "source": [
    "Given a binary tree, find its maximum depth.\n",
    "\n",
    "The maximum depth is the number of nodes along the longest path from the root node down to the farthest leaf node.\n",
    "\n",
    "Example 1:\n",
    "\n",
    "    Input: tree = {}\n",
    "    Output: 0\n",
    "    Explanation: The height of empty tree is 0.\n",
    "\n",
    "Example 2:\n",
    "\n",
    "    Input: tree = {1,2,3,#,#,4,5}\n",
    "    Output: 3\t\n",
    "    Explanation: Like this:\n",
    "       1\n",
    "      / \\                \n",
    "     2   3                \n",
    "        / \\                \n",
    "       4   5\n",
    "    it will be serialized {1,2,3,#,#,4,5}\n",
    "\n",
    "https://www.lintcode.com/problem/maximum-depth-of-binary-tree/description\n",
    "\n",
    "https://photos.app.goo.gl/fuBquzbuWEviwtbu6"
   ]
  },
  {
   "cell_type": "markdown",
   "metadata": {},
   "source": [
    "# Recursion"
   ]
  },
  {
   "cell_type": "code",
   "execution_count": 8,
   "metadata": {},
   "outputs": [],
   "source": [
    "# divide and conquer\n",
    "\n",
    "class Solution:\n",
    "    \"\"\"\n",
    "    @param root: The root of binary tree.\n",
    "    @return: An integer\n",
    "    \"\"\"\n",
    "    def maxDepth(self, root):\n",
    "        # write your code here\n",
    "        if root == None:\n",
    "            return 0\n",
    "        \n",
    "        d_left = self.maxDepth(root.left)\n",
    "        d_right = self.maxDepth(root.right)\n",
    "        d_root = max(d_left, d_right) + 1\n",
    "        return d_root\n",
    "        "
   ]
  },
  {
   "cell_type": "markdown",
   "metadata": {},
   "source": [
    "# Iteration"
   ]
  },
  {
   "cell_type": "code",
   "execution_count": null,
   "metadata": {},
   "outputs": [],
   "source": []
  },
  {
   "cell_type": "markdown",
   "metadata": {},
   "source": [
    "# Test"
   ]
  },
  {
   "cell_type": "markdown",
   "metadata": {},
   "source": [
    "## Class TreeNode"
   ]
  },
  {
   "cell_type": "code",
   "execution_count": 9,
   "metadata": {},
   "outputs": [],
   "source": [
    "class TreeNode:\n",
    "    def __init__(self, val):\n",
    "        self.val = val\n",
    "        self.left, self.right = None, None"
   ]
  },
  {
   "cell_type": "code",
   "execution_count": 10,
   "metadata": {},
   "outputs": [
    {
     "data": {
      "text/plain": [
       "3"
      ]
     },
     "execution_count": 10,
     "metadata": {},
     "output_type": "execute_result"
    }
   ],
   "source": [
    "node0=TreeNode(0)\n",
    "node1=TreeNode(1)\n",
    "node2=TreeNode(2)\n",
    "node3=TreeNode(3)\n",
    "node4=TreeNode(4)\n",
    "node5=TreeNode(5)\n",
    "\n",
    "node0.left=node1\n",
    "node0.right=node2\n",
    "\n",
    "node1.left=node3\n",
    "node1.right=node4\n",
    "\n",
    "node2.left=node5\n",
    "\n",
    "\n",
    "root=node0\n",
    "a=Solution()\n",
    "a.maxDepth(root)"
   ]
  },
  {
   "cell_type": "code",
   "execution_count": null,
   "metadata": {},
   "outputs": [],
   "source": []
  },
  {
   "cell_type": "markdown",
   "metadata": {},
   "source": [
    "# History"
   ]
  },
  {
   "cell_type": "markdown",
   "metadata": {},
   "source": [
    "## recursion"
   ]
  },
  {
   "cell_type": "code",
   "execution_count": 7,
   "metadata": {},
   "outputs": [],
   "source": [
    "# divide and conquer\n",
    "\n",
    "class Solution:\n",
    "    \"\"\"\n",
    "    @param root: The root of binary tree.\n",
    "    @return: An integer\n",
    "    \"\"\"\n",
    "    def maxDepth(self, root):\n",
    "        # write your code here\n",
    "        if root == None:\n",
    "            return 0\n",
    "        \n",
    "        left_depth = self.maxDepth(root.left)\n",
    "        right_depth = self.maxDepth(root.right)\n",
    "        max_depth = max(left_depth, right_depth) + 1\n",
    "        \n",
    "        return max_depth"
   ]
  },
  {
   "cell_type": "code",
   "execution_count": 13,
   "metadata": {},
   "outputs": [],
   "source": [
    "# traverse\n",
    "\n",
    "class Solution:\n",
    "    \"\"\"\n",
    "    @param root: The root of binary tree.\n",
    "    @return: An integer\n",
    "    \"\"\"\n",
    "    def maxDepth(self, root):\n",
    "        # write your code here\n",
    "        self.max_depth = 0\n",
    "        curt_depth = 1\n",
    "        self.traverse(root, curt_depth)\n",
    "        return self.max_depth\n",
    "        \n",
    "    def traverse(self, root, curt_depth):\n",
    "        if root == None:\n",
    "            return\n",
    "        self.max_depth = max(self.max_depth, curt_depth)\n",
    "        self.traverse(root.left, curt_depth + 1)\n",
    "        self.traverse(root.right, curt_depth + 1)\n",
    "        "
   ]
  },
  {
   "cell_type": "markdown",
   "metadata": {},
   "source": [
    "## Iteration"
   ]
  },
  {
   "cell_type": "code",
   "execution_count": 33,
   "metadata": {},
   "outputs": [],
   "source": [
    "# iteration\n",
    "\n",
    "class Solution:\n",
    "    \"\"\"\n",
    "    @param root: The root of binary tree.\n",
    "    @return: An integer\n",
    "    \"\"\"\n",
    "    def maxDepth(self, root):\n",
    "        # write your code here\n",
    "        if root == None:\n",
    "            return 0\n",
    "        \n",
    "        max_depth = 1\n",
    "        queue = [root, None]\n",
    "        \n",
    "        while queue != [None]:\n",
    "            node = queue.pop(0)\n",
    "            if node == None: # reach the last node of prev level\n",
    "                max_depth += 1\n",
    "                queue.append(None) ######## mark the end of current level\n",
    "            else:\n",
    "                if node.left != None:\n",
    "                    queue.append(node.left)\n",
    "                if node.right != None:\n",
    "                    queue.append(node.right)\n",
    "            \n",
    "        return max_depth"
   ]
  }
 ],
 "metadata": {
  "kernelspec": {
   "display_name": "Python 3",
   "language": "python",
   "name": "python3"
  },
  "language_info": {
   "codemirror_mode": {
    "name": "ipython",
    "version": 3
   },
   "file_extension": ".py",
   "mimetype": "text/x-python",
   "name": "python",
   "nbconvert_exporter": "python",
   "pygments_lexer": "ipython3",
   "version": "3.7.2"
  },
  "toc": {
   "base_numbering": 1,
   "nav_menu": {},
   "number_sections": true,
   "sideBar": true,
   "skip_h1_title": false,
   "title_cell": "Table of Contents",
   "title_sidebar": "Contents",
   "toc_cell": false,
   "toc_position": {},
   "toc_section_display": true,
   "toc_window_display": false
  }
 },
 "nbformat": 4,
 "nbformat_minor": 2
}
