{
 "cells": [
  {
   "cell_type": "markdown",
   "metadata": {},
   "source": [
    "Given a binary tree, return the level order traversal of its nodes' values. (ie, from left to right, level by level).\n",
    "\n",
    "Example\n",
    "Example 1:\n",
    "\n",
    "    Input：{1,2,3}\n",
    "    Output：[[1],[2,3]]\n",
    "    Explanation：\n",
    "      1\n",
    "     / \\\n",
    "    2   3\n",
    "    it will be serialized {1,2,3}\n",
    "    level order traversal\n",
    "\n",
    "Example 2:\n",
    "\n",
    "    Input：{1,#,2,3}\n",
    "    Output：[[1],[2],[3]]\n",
    "    Explanation：\n",
    "    1\n",
    "     \\\n",
    "      2\n",
    "     /\n",
    "    3\n",
    "    it will be serialized {1,#,2,3}\n",
    "    level order traversal\n",
    "\n",
    "Challenge\n",
    "\n",
    "    Challenge 1: Using only 1 queue to implement it.\n",
    "\n",
    "    Challenge 2: Use BFS algorithm to do it.\n",
    "\n",
    "Notice\n",
    "\n",
    "    The first data is the root node, followed by the value of the left and right son nodes, and \"#\" indicates that there is no child node.\n",
    "    The number of nodes does not exceed 20.\n",
    "\n",
    "https://www.lintcode.com/problem/binary-tree-level-order-traversal/\n"
   ]
  },
  {
   "cell_type": "markdown",
   "metadata": {},
   "source": [
    "# Solution"
   ]
  },
  {
   "cell_type": "code",
   "execution_count": 9,
   "metadata": {},
   "outputs": [],
   "source": [
    "\"\"\"\n",
    "Definition of TreeNode:\n",
    "class TreeNode:\n",
    "    def __init__(self, val):\n",
    "        self.val = val\n",
    "        self.left, self.right = None, None\n",
    "\"\"\"\n",
    "\n",
    "class Solution:\n",
    "    \"\"\"\n",
    "    @param root: A Tree\n",
    "    @return: Level order a list of lists of integer\n",
    "    \"\"\"\n",
    "    def levelOrder(self, root):\n",
    "        # write your code here\n",
    "        if root == None:\n",
    "            return []\n",
    "        \n",
    "        queue, result = [root], []\n",
    "        while len(queue) != 0:\n",
    "            queue_len = len(queue)\n",
    "            level_list = []\n",
    "            for i in range(queue_len):\n",
    "                node = queue.pop(0)\n",
    "                level_list.append(node.val)\n",
    "                \n",
    "                if node.left:\n",
    "                    queue.append(node.left)\n",
    "                if node.right:\n",
    "                    queue.append(node.right)\n",
    "            \n",
    "            result.append(level_list)\n",
    "        \n",
    "        return result"
   ]
  },
  {
   "cell_type": "markdown",
   "metadata": {},
   "source": [
    "# Test"
   ]
  },
  {
   "cell_type": "markdown",
   "metadata": {},
   "source": [
    "## class TreeNode"
   ]
  },
  {
   "cell_type": "code",
   "execution_count": 7,
   "metadata": {},
   "outputs": [],
   "source": [
    "class TreeNode:\n",
    "    def __init__(self, val):\n",
    "        self.val = val\n",
    "        self.left, self.right = None, None"
   ]
  },
  {
   "cell_type": "markdown",
   "metadata": {},
   "source": [
    "## Testing"
   ]
  },
  {
   "cell_type": "code",
   "execution_count": 10,
   "metadata": {},
   "outputs": [
    {
     "data": {
      "text/plain": [
       "[[1], [2, 3], [4, 5, 6]]"
      ]
     },
     "execution_count": 10,
     "metadata": {},
     "output_type": "execute_result"
    }
   ],
   "source": [
    "node1=TreeNode(1)\n",
    "node2=TreeNode(2)\n",
    "node3=TreeNode(3)\n",
    "node4=TreeNode(4)\n",
    "node5=TreeNode(5)\n",
    "node6=TreeNode(6)\n",
    "\n",
    "node1.left=node2\n",
    "node1.right=node3\n",
    "\n",
    "node2.left=node4\n",
    "node2.right=node5\n",
    "\n",
    "node3.left=node6\n",
    "\n",
    "root=node1\n",
    "\n",
    "a = Solution()\n",
    "a.levelOrder(root)"
   ]
  },
  {
   "cell_type": "code",
   "execution_count": null,
   "metadata": {},
   "outputs": [],
   "source": []
  }
 ],
 "metadata": {
  "kernelspec": {
   "display_name": "Python 3",
   "language": "python",
   "name": "python3"
  },
  "language_info": {
   "codemirror_mode": {
    "name": "ipython",
    "version": 3
   },
   "file_extension": ".py",
   "mimetype": "text/x-python",
   "name": "python",
   "nbconvert_exporter": "python",
   "pygments_lexer": "ipython3",
   "version": "3.7.2"
  },
  "toc": {
   "base_numbering": 1,
   "nav_menu": {},
   "number_sections": true,
   "sideBar": true,
   "skip_h1_title": false,
   "title_cell": "Table of Contents",
   "title_sidebar": "Contents",
   "toc_cell": false,
   "toc_position": {},
   "toc_section_display": true,
   "toc_window_display": false
  }
 },
 "nbformat": 4,
 "nbformat_minor": 2
}
