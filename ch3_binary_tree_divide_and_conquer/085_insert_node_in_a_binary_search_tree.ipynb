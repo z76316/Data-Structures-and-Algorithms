{
 "cells": [
  {
   "cell_type": "markdown",
   "metadata": {},
   "source": [
    "Given a binary search tree and a new tree node, insert the node into the tree. You should keep the tree still be a valid binary search tree.\n",
    "\n",
    "Example\n",
    "\n",
    "Example 1:\n",
    "\t\n",
    "    Input:  tree = {}, node = 1\n",
    "\tOutput:  1\n",
    "\t\n",
    "\tExplanation:\n",
    "\tInsert node 1 into the empty tree, so there is only one node on the tree.\n",
    "\n",
    "Example 2:\n",
    "\t\n",
    "    Input: tree = {2,1,4,3}, node = 6\n",
    "\tOutput: {2,1,4,3,6}\n",
    "\t\n",
    "\tExplanation: \n",
    "\tLike this:\n",
    "\n",
    "\t  2             2\n",
    "\t / \\           / \\\n",
    "\t1   4   -->   1   4\n",
    "\t   /             / \\ \n",
    "\t  3             3   6\n",
    "\t\t\n",
    "Challenge\n",
    "\n",
    "    Can you do it without recursion?\n",
    "\n",
    "Notice\n",
    "\n",
    "    You can assume there is no duplicate values in this tree + node.\n",
    "    \n",
    "https://www.lintcode.com/problem/insert-node-in-a-binary-search-tree/\n",
    "\n",
    "https://photos.app.goo.gl/WDzXoEmh3B9aza7a7"
   ]
  },
  {
   "cell_type": "markdown",
   "metadata": {},
   "source": [
    "# Solution"
   ]
  },
  {
   "cell_type": "markdown",
   "metadata": {},
   "source": [
    "## Iteration"
   ]
  },
  {
   "cell_type": "code",
   "execution_count": 3,
   "metadata": {},
   "outputs": [],
   "source": [
    "class Solution:\n",
    "    \"\"\"\n",
    "    @param: root: The root of the binary search tree.\n",
    "    @param: node: insert this node into the binary search tree\n",
    "    @return: The root of the new binary search tree.\n",
    "    \"\"\"\n",
    "    def insertNode(self, root, node):\n",
    "        # write your code here\n",
    "        if root == None:\n",
    "            root = node\n",
    "            return root\n",
    "        \n",
    "        curr_node = root\n",
    "        while curr_node:\n",
    "            if curr_node.val > node.val:\n",
    "                if curr_node.left:\n",
    "                    curr_node = curr_node.left\n",
    "                else:\n",
    "                    curr_node.left = node\n",
    "                    return root\n",
    "            else:\n",
    "                if curr_node.right:\n",
    "                    curr_node = curr_node.right\n",
    "                else:\n",
    "                    curr_node.right = node\n",
    "                    return root\n",
    "            "
   ]
  },
  {
   "cell_type": "markdown",
   "metadata": {},
   "source": [
    "## Recursion"
   ]
  },
  {
   "cell_type": "code",
   "execution_count": 37,
   "metadata": {},
   "outputs": [],
   "source": [
    "class Solution:\n",
    "    \"\"\"\n",
    "    @param: root: The root of the binary search tree.\n",
    "    @param: node: insert this node into the binary search tree\n",
    "    @return: The root of the new binary search tree.\n",
    "    \"\"\"\n",
    "    def insertNode(self, root, node):\n",
    "        # write your code here\n",
    "        if root == None:\n",
    "            return node\n",
    "        \n",
    "        if root.val > node.val:\n",
    "            root.left = self.insertNode(root.left, node) ########## in recursion, return the modified subtree root\n",
    "        else:\n",
    "            root.right = self.insertNode(root.right, node) ########## in recursion, return the modified subtree root\n",
    "        return root"
   ]
  },
  {
   "cell_type": "markdown",
   "metadata": {},
   "source": [
    "# Test"
   ]
  },
  {
   "cell_type": "markdown",
   "metadata": {},
   "source": [
    "## class TreeNode"
   ]
  },
  {
   "cell_type": "code",
   "execution_count": 2,
   "metadata": {},
   "outputs": [],
   "source": [
    "class TreeNode:\n",
    "    def __init__(self, val):\n",
    "        self.val = val\n",
    "        self.left, self.right = None, None "
   ]
  },
  {
   "cell_type": "markdown",
   "metadata": {},
   "source": [
    "## Testing"
   ]
  },
  {
   "cell_type": "code",
   "execution_count": 35,
   "metadata": {},
   "outputs": [
    {
     "name": "stdout",
     "output_type": "stream",
     "text": [
      "None\n",
      "3\n"
     ]
    }
   ],
   "source": [
    "node1 = TreeNode(1)\n",
    "node2 = TreeNode(2)\n",
    "node3 = TreeNode(3)\n",
    "node4 = TreeNode(4)\n",
    "node5 = TreeNode(5)\n",
    "\n",
    "root = node4\n",
    "root.left = node2\n",
    "root.right = node5\n",
    "node2.left = node1\n",
    "print(root.left.right)\n",
    "\n",
    "a = Solution()\n",
    "new_root = a.insertNode(root, node3)\n",
    "print(new_root.left.right.val)"
   ]
  },
  {
   "cell_type": "code",
   "execution_count": 36,
   "metadata": {},
   "outputs": [
    {
     "name": "stdout",
     "output_type": "stream",
     "text": [
      "None\n",
      "3\n"
     ]
    }
   ],
   "source": [
    "node1 = TreeNode(1)\n",
    "node2 = TreeNode(2)\n",
    "node3 = TreeNode(3)\n",
    "node4 = TreeNode(4)\n",
    "node5 = TreeNode(5)\n",
    "node6 = TreeNode(6)\n",
    "\n",
    "root = node5\n",
    "root.left = node2\n",
    "root.right = node6\n",
    "node2.left = node1\n",
    "node2.right = node4\n",
    "print(root.left.right.left)\n",
    "\n",
    "a = Solution()\n",
    "new_root = a.insertNode(root, node3)\n",
    "print(new_root.left.right.left.val)"
   ]
  },
  {
   "cell_type": "code",
   "execution_count": null,
   "metadata": {},
   "outputs": [],
   "source": []
  }
 ],
 "metadata": {
  "kernelspec": {
   "display_name": "Python 3",
   "language": "python",
   "name": "python3"
  },
  "language_info": {
   "codemirror_mode": {
    "name": "ipython",
    "version": 3
   },
   "file_extension": ".py",
   "mimetype": "text/x-python",
   "name": "python",
   "nbconvert_exporter": "python",
   "pygments_lexer": "ipython3",
   "version": "3.7.2"
  },
  "toc": {
   "base_numbering": 1,
   "nav_menu": {},
   "number_sections": true,
   "sideBar": true,
   "skip_h1_title": false,
   "title_cell": "Table of Contents",
   "title_sidebar": "Contents",
   "toc_cell": false,
   "toc_position": {},
   "toc_section_display": true,
   "toc_window_display": false
  }
 },
 "nbformat": 4,
 "nbformat_minor": 2
}
