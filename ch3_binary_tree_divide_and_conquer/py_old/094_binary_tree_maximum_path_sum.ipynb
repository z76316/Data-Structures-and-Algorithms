{
 "cells": [
  {
   "cell_type": "markdown",
   "metadata": {},
   "source": [
    "Given a binary tree, find the maximum path sum.\n",
    "\n",
    "The path may start and end at any node in the tree.\n",
    "\n",
    "Example 1:\n",
    "        \n",
    "        Input:  For the following binary tree（only one node）:\n",
    "        2\n",
    "        Output：2\n",
    "\t\n",
    "Example 2:\n",
    "\t\n",
    "    Input:  For the following binary tree:\n",
    "\n",
    "      1\n",
    "     / \\\n",
    "    2   3\n",
    "\t\t\n",
    "\tOutput: 6\n",
    "\n",
    "https://www.lintcode.com/problem/binary-tree-maximum-path-sum/description"
   ]
  },
  {
   "cell_type": "code",
   "execution_count": 12,
   "metadata": {},
   "outputs": [],
   "source": [
    "import sys #########\n",
    "\n",
    "class Solution:\n",
    "    \"\"\"\n",
    "    @param root: The root of binary tree.\n",
    "    @return: An integer\n",
    "    \"\"\"\n",
    "    def maxPathSum(self, root):\n",
    "        # write your code here\n",
    "        root2any, any2any = self.root2any_and_any2any(root)\n",
    "        return any2any\n",
    "    \n",
    "    def root2any_and_any2any(self, root):\n",
    "        \n",
    "        min_value = -sys.maxsize ###############\n",
    "        \n",
    "        if root == None:\n",
    "            return min_value, min_value\n",
    "        \n",
    "        left_root2any, left_any2any = self.root2any_and_any2any(root.left)\n",
    "        right_root2any, right_any2any = self.root2any_and_any2any(root.right)\n",
    "        \n",
    "        sum1 = left_any2any\n",
    "        sum2 = right_any2any\n",
    "        sum3 = root.val + max(0, left_root2any, right_root2any)\n",
    "        sum4 = root.val + left_root2any + right_root2any\n",
    "        \n",
    "        root2any = sum3\n",
    "        any2any = max(sum1, sum2, sum3, sum4)\n",
    "        \n",
    "        return root2any, any2any"
   ]
  },
  {
   "cell_type": "markdown",
   "metadata": {},
   "source": [
    "# Test"
   ]
  },
  {
   "cell_type": "code",
   "execution_count": 11,
   "metadata": {},
   "outputs": [
    {
     "data": {
      "text/plain": [
       "42"
      ]
     },
     "execution_count": 11,
     "metadata": {},
     "output_type": "execute_result"
    }
   ],
   "source": [
    "class TreeNode:\n",
    "    def __init__(self, val):\n",
    "        self.val = val\n",
    "        self.left, self.right = None, None\n",
    "        \n",
    "node0=TreeNode(-10)\n",
    "node1=TreeNode(9)\n",
    "node2=TreeNode(20)\n",
    "# node3=TreeNode(3)\n",
    "# node4=TreeNode(4)\n",
    "node5=TreeNode(15)\n",
    "node6=TreeNode(7)\n",
    "\n",
    "node0.left=node1\n",
    "node0.right=node2\n",
    "\n",
    "# node1.left=node3\n",
    "# node1.right=node4\n",
    "\n",
    "node2.left=node5\n",
    "node2.right=node6\n",
    "\n",
    "\n",
    "a=Solution()\n",
    "\n",
    "root=node0\n",
    "A=node2\n",
    "B=node5\n",
    "\n",
    "\n",
    "a.maxPathSum(root)"
   ]
  },
  {
   "cell_type": "code",
   "execution_count": null,
   "metadata": {},
   "outputs": [],
   "source": []
  }
 ],
 "metadata": {
  "kernelspec": {
   "display_name": "Python 3",
   "language": "python",
   "name": "python3"
  },
  "language_info": {
   "codemirror_mode": {
    "name": "ipython",
    "version": 3
   },
   "file_extension": ".py",
   "mimetype": "text/x-python",
   "name": "python",
   "nbconvert_exporter": "python",
   "pygments_lexer": "ipython3",
   "version": "3.7.2"
  }
 },
 "nbformat": 4,
 "nbformat_minor": 2
}
