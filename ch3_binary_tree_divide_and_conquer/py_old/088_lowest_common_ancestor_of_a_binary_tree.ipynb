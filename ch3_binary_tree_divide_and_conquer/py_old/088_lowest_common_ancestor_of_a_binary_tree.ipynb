{
 "cells": [
  {
   "cell_type": "markdown",
   "metadata": {},
   "source": [
    "Given the root and two nodes in a Binary Tree. Find the lowest common ancestor(LCA) of the two nodes.\n",
    "\n",
    "The lowest common ancestor is the node with largest depth which is the ancestor of both nodes.\n",
    "\n",
    "Example 1:\n",
    "\n",
    "    Input：{1},1,1\n",
    "    Output：1\n",
    "    Explanation：\n",
    "     For the following binary tree（only one node）:\n",
    "             1\n",
    "     LCA(1,1) = 1\n",
    "\n",
    "Example 2:\n",
    "\n",
    "    Input：{4,3,7,#,#,5,6},3,5\n",
    "    Output：4\n",
    "    Explanation：\n",
    "     For the following binary tree:\n",
    "\n",
    "          4\n",
    "         / \\\n",
    "        3   7\n",
    "           / \\\n",
    "          5   6\n",
    "\n",
    "     LCA(3, 5) = 4\n",
    "\n",
    "Notice\n",
    "\n",
    "    Assume two nodes are exist in tree.\n",
    "\n",
    "https://www.lintcode.com/problem/lowest-common-ancestor-of-a-binary-tree/description"
   ]
  },
  {
   "cell_type": "markdown",
   "metadata": {},
   "source": [
    "# Recursion"
   ]
  },
  {
   "cell_type": "code",
   "execution_count": 1,
   "metadata": {},
   "outputs": [],
   "source": [
    "class Solution:\n",
    "    \"\"\"\n",
    "    @param: root: The root of the binary search tree.\n",
    "    @param: A: A TreeNode in a Binary.\n",
    "    @param: B: A TreeNode in a Binary.\n",
    "    @return: Return the least common ancestor(LCA) of the two nodes.\n",
    "    \"\"\"\n",
    "    def lowestCommonAncestor(self, root, A, B):\n",
    "        # write your code here\n",
    "        if root in [None, A, B]:\n",
    "            return root ########## reach one of two targets or None\n",
    "        \n",
    "        left_LCA = self.lowestCommonAncestor(root.left, A, B)\n",
    "        right_LCA = self.lowestCommonAncestor(root.right, A, B)\n",
    "        \n",
    "        if left_LCA and right_LCA:\n",
    "            return root\n",
    "        elif left_LCA:\n",
    "            return left_LCA\n",
    "        elif right_LCA:\n",
    "            return right_LCA\n",
    "        return None"
   ]
  },
  {
   "cell_type": "markdown",
   "metadata": {},
   "source": [
    "# Test"
   ]
  },
  {
   "cell_type": "code",
   "execution_count": 4,
   "metadata": {},
   "outputs": [
    {
     "data": {
      "text/plain": [
       "2"
      ]
     },
     "execution_count": 4,
     "metadata": {},
     "output_type": "execute_result"
    }
   ],
   "source": [
    "class TreeNode:\n",
    "    def __init__(self, val):\n",
    "        self.val = val\n",
    "        self.left, self.right = None, None\n",
    "        \n",
    "node0=TreeNode(0)\n",
    "node1=TreeNode(1)\n",
    "node2=TreeNode(2)\n",
    "node3=TreeNode(3)\n",
    "node4=TreeNode(4)\n",
    "node5=TreeNode(5)\n",
    "\n",
    "node0.left=node1\n",
    "node0.right=node2\n",
    "\n",
    "node1.left=node3\n",
    "node1.right=node4\n",
    "\n",
    "node2.left=node5\n",
    "\n",
    "\n",
    "\n",
    "a=Solution()\n",
    "\n",
    "root=node0\n",
    "A=node2\n",
    "B=node5\n",
    "\n",
    "\n",
    "a.lowestCommonAncestor(root, A, B).val"
   ]
  },
  {
   "cell_type": "code",
   "execution_count": null,
   "metadata": {},
   "outputs": [],
   "source": []
  }
 ],
 "metadata": {
  "kernelspec": {
   "display_name": "Python 3",
   "language": "python",
   "name": "python3"
  },
  "language_info": {
   "codemirror_mode": {
    "name": "ipython",
    "version": 3
   },
   "file_extension": ".py",
   "mimetype": "text/x-python",
   "name": "python",
   "nbconvert_exporter": "python",
   "pygments_lexer": "ipython3",
   "version": "3.7.2"
  }
 },
 "nbformat": 4,
 "nbformat_minor": 2
}
