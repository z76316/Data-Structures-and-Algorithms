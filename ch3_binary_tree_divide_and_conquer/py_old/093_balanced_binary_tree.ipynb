{
 "cells": [
  {
   "cell_type": "markdown",
   "metadata": {},
   "source": [
    "Given a binary tree, determine if it is height-balanced.\n",
    "\n",
    "For this problem, a height-balanced binary tree is defined as a binary tree in which the depth of the two subtrees of every node never differ by more than 1.\n",
    "\n",
    "Example  1:\n",
    "\t\n",
    "    Input: tree = {1,2,3}\n",
    "\tOutput: true\n",
    "\tExplanation:\n",
    "\tThis is a balanced binary tree.\n",
    "\t\t  1  \n",
    "\t\t / \\                \n",
    "\t\t2  3\n",
    "\n",
    "\t\n",
    "Example  2:\n",
    "\t\n",
    "    Input: tree = {3,9,20,#,#,15,7}\n",
    "\tOutput: true\n",
    "\tExplanation:\n",
    "\tThis is a balanced binary tree.\n",
    "\t\t  3  \n",
    "\t\t / \\                \n",
    "\t\t9  20                \n",
    "\t\t  /  \\                \n",
    "\t\t 15   7 \n",
    "\n",
    "\t\n",
    "Example  3:\n",
    "\t\n",
    "    Input: tree = {1,#,2,3,4}\n",
    "\tOutput: false\n",
    "\tExplanation:\n",
    "\tThis is not a balanced tree. \n",
    "\tThe height of node 1's right sub-tree is 2 but left sub-tree is 0.\n",
    "\t\t  1  \n",
    "\t\t   \\                \n",
    "\t\t   2                \n",
    "\t\t  /  \\                \n",
    "\t\t 3   4\n",
    "\t\n",
    "https://www.lintcode.com/problem/balanced-binary-tree/description"
   ]
  },
  {
   "cell_type": "markdown",
   "metadata": {},
   "source": [
    "# Recursion"
   ]
  },
  {
   "cell_type": "code",
   "execution_count": 9,
   "metadata": {},
   "outputs": [],
   "source": [
    "class Solution:\n",
    "    \"\"\"\n",
    "    @param root: The root of binary tree.\n",
    "    @return: True if this Binary tree is Balanced, or false.\n",
    "    \"\"\"\n",
    "    def isBalanced(self, root):\n",
    "        # write your code here\n",
    "        if root == None:\n",
    "            return True\n",
    "        \n",
    "        left_depth = self.getDepth(root.left)\n",
    "        right_depth = self.getDepth(root.right)\n",
    "        diff_depth = abs(left_depth - right_depth)\n",
    "        \n",
    "        if (self.isBalanced(root.left) and \n",
    "            self.isBalanced(root.right) and \n",
    "            diff_depth <= 1):\n",
    "            return True\n",
    "        else:\n",
    "            return False\n",
    "        \n",
    "    def getDepth(self, node):\n",
    "        if node == None:\n",
    "            return 0\n",
    "        \n",
    "        left_depth = self.getDepth(node.left)\n",
    "        right_depth = self.getDepth(node.right)\n",
    "        result = max(left_depth, right_depth) + 1        \n",
    "        \n",
    "        return result"
   ]
  },
  {
   "cell_type": "markdown",
   "metadata": {},
   "source": [
    "# Test"
   ]
  },
  {
   "cell_type": "code",
   "execution_count": 10,
   "metadata": {},
   "outputs": [
    {
     "data": {
      "text/plain": [
       "True"
      ]
     },
     "execution_count": 10,
     "metadata": {},
     "output_type": "execute_result"
    }
   ],
   "source": [
    "class TreeNode:\n",
    "    def __init__(self, val):\n",
    "        self.val = val\n",
    "        self.left, self.right = None, None\n",
    "\n",
    "\n",
    "node0=TreeNode(0)\n",
    "node1=TreeNode(1)\n",
    "node2=TreeNode(2)\n",
    "node3=TreeNode(3)\n",
    "node4=TreeNode(4)\n",
    "node5=TreeNode(5)\n",
    "\n",
    "node0.left=node1\n",
    "node0.right=node2\n",
    "\n",
    "node1.left=node3\n",
    "node1.right=node4\n",
    "\n",
    "node2.left=node5\n",
    "\n",
    "\n",
    "root=node0\n",
    "a=Solution()\n",
    "a.isBalanced(root)"
   ]
  },
  {
   "cell_type": "code",
   "execution_count": null,
   "metadata": {},
   "outputs": [],
   "source": []
  }
 ],
 "metadata": {
  "kernelspec": {
   "display_name": "Python 3",
   "language": "python",
   "name": "python3"
  },
  "language_info": {
   "codemirror_mode": {
    "name": "ipython",
    "version": 3
   },
   "file_extension": ".py",
   "mimetype": "text/x-python",
   "name": "python",
   "nbconvert_exporter": "python",
   "pygments_lexer": "ipython3",
   "version": "3.7.2"
  }
 },
 "nbformat": 4,
 "nbformat_minor": 2
}
