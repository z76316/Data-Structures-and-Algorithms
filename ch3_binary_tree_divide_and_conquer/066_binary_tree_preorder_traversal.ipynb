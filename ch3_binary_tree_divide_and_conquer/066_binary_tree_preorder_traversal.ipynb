{
 "cells": [
  {
   "cell_type": "markdown",
   "metadata": {},
   "source": [
    "Given a binary tree, return the preorder traversal of its nodes' values.\n",
    "\n",
    "Example 1:\n",
    "\n",
    "    Input：{1,2,3}\n",
    "    Output：[1,2,3]\n",
    "    Explanation:\n",
    "       1\n",
    "      / \\\n",
    "     2   3\n",
    "    it will be serialized {1,2,3}\n",
    "    Preorder traversal\n",
    "\n",
    "Example 2:\n",
    "\n",
    "    Input：{1,#,2,3}\n",
    "    Output：[1,2,3]\n",
    "    Explanation:\n",
    "    1\n",
    "     \\\n",
    "      2\n",
    "     /\n",
    "    3\n",
    "    it will be serialized {1,#,2,3}\n",
    "    Preorder traversal\n",
    "\n",
    "Challenge\n",
    "    \n",
    "    Can you do it without recursion?\n",
    "\n",
    "Notice\n",
    "\n",
    "    The first data is the root node, followed by the value of the left and right son nodes, and \"#\" indicates that there is no child node.\n",
    "    The number of nodes does not exceed 20.\n",
    "\n",
    "https://www.lintcode.com/problem/binary-tree-preorder-traversal/description"
   ]
  },
  {
   "cell_type": "markdown",
   "metadata": {},
   "source": [
    "# Recursion"
   ]
  },
  {
   "cell_type": "code",
   "execution_count": 4,
   "metadata": {},
   "outputs": [],
   "source": [
    "\"\"\"\n",
    "Definition of TreeNode:\n",
    "class TreeNode:\n",
    "    def __init__(self, val):\n",
    "        self.val = val\n",
    "        self.left, self.right = None, None\n",
    "\"\"\"\n",
    "\n",
    "class Solution:\n",
    "    \"\"\"\n",
    "    @param root: A Tree\n",
    "    @return: Preorder in ArrayList which contains node values.\n",
    "    \"\"\"\n",
    "    def preorderTraversal(self, root):\n",
    "        # write your code here\n",
    "        \n",
    "        result = []\n",
    "        self.dfs(result, root)\n",
    "        return result\n",
    "    \n",
    "    def dfs(self, result, root):\n",
    "        if root == None:\n",
    "            return\n",
    "        \n",
    "        result.append(root.val)\n",
    "        self.dfs(result, root.left)\n",
    "        self.dfs(result, root.right)\n",
    "        "
   ]
  },
  {
   "cell_type": "markdown",
   "metadata": {},
   "source": [
    "# Iteration"
   ]
  },
  {
   "cell_type": "code",
   "execution_count": 10,
   "metadata": {},
   "outputs": [],
   "source": [
    "\"\"\"\n",
    "Definition of TreeNode:\n",
    "class TreeNode:\n",
    "    def __init__(self, val):\n",
    "        self.val = val\n",
    "        self.left, self.right = None, None\n",
    "\"\"\"\n",
    "\n",
    "class Solution:\n",
    "    \"\"\"\n",
    "    @param root: A Tree\n",
    "    @return: Preorder in ArrayList which contains node values.\n",
    "    \"\"\"\n",
    "    def preorderTraversal(self, root):\n",
    "        # write your code here\n",
    "        if root == None:\n",
    "            return []\n",
    "        \n",
    "        result = []\n",
    "        stack = [root]\n",
    "        \n",
    "        while len(stack) != 0:\n",
    "            node = stack.pop()\n",
    "            result.append(node.val)\n",
    "            if node.right:\n",
    "                stack.append(node.right)\n",
    "            if node.left:\n",
    "                stack.append(node.left)\n",
    "            \n",
    "        return result\n",
    "            "
   ]
  },
  {
   "cell_type": "markdown",
   "metadata": {},
   "source": [
    "# Test"
   ]
  },
  {
   "cell_type": "code",
   "execution_count": 11,
   "metadata": {},
   "outputs": [
    {
     "data": {
      "text/plain": [
       "[0, 1, 3, 4, 2, 5]"
      ]
     },
     "execution_count": 11,
     "metadata": {},
     "output_type": "execute_result"
    }
   ],
   "source": [
    "class TreeNode:\n",
    "    def __init__(self, val):\n",
    "        self.val = val\n",
    "        self.left, self.right = None, None\n",
    "\n",
    "node0=TreeNode(0)\n",
    "node1=TreeNode(1)\n",
    "node2=TreeNode(2)\n",
    "node3=TreeNode(3)\n",
    "node4=TreeNode(4)\n",
    "node5=TreeNode(5)\n",
    "\n",
    "node0.left=node1\n",
    "node0.right=node2\n",
    "\n",
    "node1.left=node3\n",
    "node1.right=node4\n",
    "\n",
    "node2.left=node5\n",
    "\n",
    "root=node0\n",
    "\n",
    "a = Solution()\n",
    "a.preorderTraversal(root)"
   ]
  },
  {
   "cell_type": "code",
   "execution_count": null,
   "metadata": {},
   "outputs": [],
   "source": []
  }
 ],
 "metadata": {
  "kernelspec": {
   "display_name": "Python 3",
   "language": "python",
   "name": "python3"
  },
  "language_info": {
   "codemirror_mode": {
    "name": "ipython",
    "version": 3
   },
   "file_extension": ".py",
   "mimetype": "text/x-python",
   "name": "python",
   "nbconvert_exporter": "python",
   "pygments_lexer": "ipython3",
   "version": "3.7.2"
  }
 },
 "nbformat": 4,
 "nbformat_minor": 2
}
