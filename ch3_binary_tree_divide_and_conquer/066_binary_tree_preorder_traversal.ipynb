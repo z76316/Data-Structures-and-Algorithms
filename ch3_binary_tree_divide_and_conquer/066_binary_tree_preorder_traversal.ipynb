{
 "cells": [
  {
   "cell_type": "markdown",
   "metadata": {},
   "source": [
    "Given a binary tree, return the preorder traversal of its nodes' values.\n",
    "\n",
    "Example 1:\n",
    "\n",
    "    Input：{1,2,3}\n",
    "    Output：[1,2,3]\n",
    "    Explanation:\n",
    "       1\n",
    "      / \\\n",
    "     2   3\n",
    "    it will be serialized {1,2,3}\n",
    "    Preorder traversal\n",
    "\n",
    "Example 2:\n",
    "\n",
    "    Input：{1,#,2,3}\n",
    "    Output：[1,2,3]\n",
    "    Explanation:\n",
    "    1\n",
    "     \\\n",
    "      2\n",
    "     /\n",
    "    3\n",
    "    it will be serialized {1,#,2,3}\n",
    "    Preorder traversal\n",
    "\n",
    "Challenge\n",
    "    \n",
    "    Can you do it without recursion?\n",
    "\n",
    "Notice\n",
    "\n",
    "    The first data is the root node, followed by the value of the left and right son nodes, and \"#\" indicates that there is no child node.\n",
    "    The number of nodes does not exceed 20.\n",
    "\n",
    "https://www.lintcode.com/problem/binary-tree-preorder-traversal/description"
   ]
  },
  {
   "cell_type": "markdown",
   "metadata": {},
   "source": [
    "# Recursion"
   ]
  },
  {
   "cell_type": "code",
   "execution_count": 18,
   "metadata": {},
   "outputs": [],
   "source": [
    "\"\"\"\n",
    "Definition of TreeNode:\n",
    "class TreeNode:\n",
    "    def __init__(self, val):\n",
    "        self.val = val\n",
    "        self.left, self.right = None, None\n",
    "\"\"\"\n",
    "\n",
    "class Solution:\n",
    "    \"\"\"\n",
    "    @param root: A Tree\n",
    "    @return: Preorder in ArrayList which contains node values.\n",
    "    \"\"\"\n",
    "    def preorderTraversal(self, root):\n",
    "        # write your code here\n",
    "        \n",
    "        result = []\n",
    "        if root == None:\n",
    "            return result\n",
    "        \n",
    "        left_result = self.preorderTraversal(root.left)\n",
    "        right_result = self.preorderTraversal(root.right)\n",
    "        \n",
    "        result.append(root.val)\n",
    "        result += left_result\n",
    "        result += right_result\n",
    "        \n",
    "        return result\n",
    "        "
   ]
  },
  {
   "cell_type": "markdown",
   "metadata": {},
   "source": [
    "# Iteration"
   ]
  },
  {
   "cell_type": "code",
   "execution_count": null,
   "metadata": {},
   "outputs": [],
   "source": []
  },
  {
   "cell_type": "markdown",
   "metadata": {},
   "source": [
    "# Test"
   ]
  },
  {
   "cell_type": "markdown",
   "metadata": {},
   "source": [
    "## class TreeNode"
   ]
  },
  {
   "cell_type": "code",
   "execution_count": 2,
   "metadata": {},
   "outputs": [],
   "source": [
    "class TreeNode:\n",
    "    def __init__(self, val):\n",
    "        self.val = val\n",
    "        self.left, self.right = None, None"
   ]
  },
  {
   "cell_type": "markdown",
   "metadata": {},
   "source": [
    "## Test"
   ]
  },
  {
   "cell_type": "code",
   "execution_count": 19,
   "metadata": {},
   "outputs": [
    {
     "data": {
      "text/plain": [
       "[0, 1, 3, 4, 2, 5]"
      ]
     },
     "execution_count": 19,
     "metadata": {},
     "output_type": "execute_result"
    }
   ],
   "source": [
    "node0=TreeNode(0)\n",
    "node1=TreeNode(1)\n",
    "node2=TreeNode(2)\n",
    "node3=TreeNode(3)\n",
    "node4=TreeNode(4)\n",
    "node5=TreeNode(5)\n",
    "\n",
    "node0.left=node1\n",
    "node0.right=node2\n",
    "\n",
    "node1.left=node3\n",
    "node1.right=node4\n",
    "\n",
    "node2.left=node5\n",
    "\n",
    "root=node0\n",
    "\n",
    "a = Solution()\n",
    "a.preorderTraversal(root)"
   ]
  },
  {
   "cell_type": "code",
   "execution_count": null,
   "metadata": {},
   "outputs": [],
   "source": []
  },
  {
   "cell_type": "markdown",
   "metadata": {},
   "source": [
    "# History"
   ]
  },
  {
   "cell_type": "markdown",
   "metadata": {},
   "source": [
    "## Recursion"
   ]
  },
  {
   "cell_type": "code",
   "execution_count": 4,
   "metadata": {},
   "outputs": [],
   "source": [
    "\"\"\"\n",
    "Definition of TreeNode:\n",
    "class TreeNode:\n",
    "    def __init__(self, val):\n",
    "        self.val = val\n",
    "        self.left, self.right = None, None\n",
    "\"\"\"\n",
    "\n",
    "class Solution:\n",
    "    \"\"\"\n",
    "    @param root: A Tree\n",
    "    @return: Preorder in ArrayList which contains node values.\n",
    "    \"\"\"\n",
    "    def preorderTraversal(self, root):\n",
    "        # write your code here\n",
    "        \n",
    "        result = []\n",
    "        self.dfs(result, root)\n",
    "        return result\n",
    "    \n",
    "    def dfs(self, result, root):\n",
    "        if root == None:\n",
    "            return\n",
    "        \n",
    "        result.append(root.val)\n",
    "        self.dfs(result, root.left)\n",
    "        self.dfs(result, root.right)\n",
    "        "
   ]
  },
  {
   "cell_type": "markdown",
   "metadata": {
    "heading_collapsed": true
   },
   "source": [
    "## Iteration"
   ]
  },
  {
   "cell_type": "code",
   "execution_count": 10,
   "metadata": {
    "hidden": true
   },
   "outputs": [],
   "source": [
    "\"\"\"\n",
    "Definition of TreeNode:\n",
    "class TreeNode:\n",
    "    def __init__(self, val):\n",
    "        self.val = val\n",
    "        self.left, self.right = None, None\n",
    "\"\"\"\n",
    "\n",
    "class Solution:\n",
    "    \"\"\"\n",
    "    @param root: A Tree\n",
    "    @return: Preorder in ArrayList which contains node values.\n",
    "    \"\"\"\n",
    "    def preorderTraversal(self, root):\n",
    "        # write your code here\n",
    "        if root == None:\n",
    "            return []\n",
    "        \n",
    "        result = []\n",
    "        stack = [root]\n",
    "        \n",
    "        while len(stack) != 0:\n",
    "            node = stack.pop()\n",
    "            result.append(node.val)\n",
    "            if node.right:\n",
    "                stack.append(node.right)\n",
    "            if node.left:\n",
    "                stack.append(node.left)\n",
    "            \n",
    "        return result\n",
    "            "
   ]
  }
 ],
 "metadata": {
  "kernelspec": {
   "display_name": "Python 3",
   "language": "python",
   "name": "python3"
  },
  "language_info": {
   "codemirror_mode": {
    "name": "ipython",
    "version": 3
   },
   "file_extension": ".py",
   "mimetype": "text/x-python",
   "name": "python",
   "nbconvert_exporter": "python",
   "pygments_lexer": "ipython3",
   "version": "3.7.2"
  },
  "toc": {
   "base_numbering": 1,
   "nav_menu": {},
   "number_sections": true,
   "sideBar": true,
   "skip_h1_title": false,
   "title_cell": "Table of Contents",
   "title_sidebar": "Contents",
   "toc_cell": false,
   "toc_position": {},
   "toc_section_display": true,
   "toc_window_display": false
  }
 },
 "nbformat": 4,
 "nbformat_minor": 2
}
