{
 "cells": [
  {
   "cell_type": "markdown",
   "metadata": {},
   "source": [
    "Given a binary search tree and a range [k1, k2], return node values within a given range in ascending order.\n",
    "\n",
    "Example\n",
    "Example 1:\n",
    "\n",
    "    Input:\n",
    "\n",
    "        tree = {5}\n",
    "        k1 = 6\n",
    "        k2 = 10\n",
    "\n",
    "    Output:\n",
    "\n",
    "        []\n",
    "\n",
    "Explanation:\n",
    "\n",
    "    No number between 6 and 10\n",
    "\n",
    "Example 2:\n",
    "\n",
    "    Input:\n",
    "\n",
    "        tree = {20,8,22,4,12}\n",
    "        k1 = 10\n",
    "        k2 = 22\n",
    "\n",
    "Output:\n",
    "\n",
    "    [12,20,22]\n",
    "\n",
    "Explanation:\n",
    "\n",
    "    [12,20,22] between 10 and 22\n",
    "\n",
    "https://www.lintcode.com/problem/search-range-in-binary-search-tree/\n",
    "\n",
    "https://photos.app.goo.gl/y54pdCF4cabShoU1A"
   ]
  },
  {
   "cell_type": "markdown",
   "metadata": {},
   "source": [
    "# Solution"
   ]
  },
  {
   "cell_type": "markdown",
   "metadata": {},
   "source": [
    "## Recursion"
   ]
  },
  {
   "cell_type": "code",
   "execution_count": 4,
   "metadata": {},
   "outputs": [],
   "source": [
    "\"\"\"\n",
    "Definition of TreeNode:\n",
    "class TreeNode:\n",
    "    def __init__(self, val):\n",
    "        self.val = val\n",
    "        self.left, self.right = None, None\n",
    "\"\"\"\n",
    "\n",
    "class Solution:\n",
    "    \"\"\"\n",
    "    @param root: param root: The root of the binary search tree\n",
    "    @param k1: An integer\n",
    "    @param k2: An integer\n",
    "    @return: return: Return all keys that k1<=key<=k2 in ascending order\n",
    "    \"\"\"\n",
    "    def searchRange(self, root, k1, k2):\n",
    "        # write your code here\n",
    "        result = []\n",
    "        self.dfs(root, k1, k2, result)\n",
    "        return result\n",
    "    \n",
    "    def dfs(self, root, k1, k2, result):\n",
    "        if root == None:\n",
    "            return\n",
    "        \n",
    "        if root.val >= k1:\n",
    "            self.dfs(root.left, k1, k2, result)\n",
    "        \n",
    "        if root.val >= k1 and root.val <= k2:\n",
    "            result.append(root.val)\n",
    "            \n",
    "        if root.val <= k2:\n",
    "            self.dfs(root.right, k1, k2, result)"
   ]
  },
  {
   "cell_type": "markdown",
   "metadata": {},
   "source": [
    "## Iteration"
   ]
  },
  {
   "cell_type": "code",
   "execution_count": null,
   "metadata": {},
   "outputs": [],
   "source": []
  },
  {
   "cell_type": "markdown",
   "metadata": {},
   "source": [
    "# Test"
   ]
  },
  {
   "cell_type": "markdown",
   "metadata": {},
   "source": [
    "## class TreeNode"
   ]
  },
  {
   "cell_type": "code",
   "execution_count": 2,
   "metadata": {},
   "outputs": [],
   "source": [
    "class TreeNode:\n",
    "    def __init__(self, val):\n",
    "        self.val = val\n",
    "        self.left, self.right = None, None "
   ]
  },
  {
   "cell_type": "markdown",
   "metadata": {},
   "source": [
    "## Testing"
   ]
  },
  {
   "cell_type": "code",
   "execution_count": 5,
   "metadata": {},
   "outputs": [
    {
     "data": {
      "text/plain": [
       "[12, 20, 22]"
      ]
     },
     "execution_count": 5,
     "metadata": {},
     "output_type": "execute_result"
    }
   ],
   "source": [
    "node1 = TreeNode(20)\n",
    "node2 = TreeNode(8)\n",
    "node3 = TreeNode(22)\n",
    "node4 = TreeNode(4)\n",
    "node5 = TreeNode(12)\n",
    "\n",
    "root = node1\n",
    "root.left = node2\n",
    "root.right = node3\n",
    "node2.left = node4\n",
    "node2.right = node5\n",
    "\n",
    "a = Solution()\n",
    "k1, k2 = 10, 22\n",
    "a.searchRange(root, k1, k2)"
   ]
  },
  {
   "cell_type": "code",
   "execution_count": null,
   "metadata": {},
   "outputs": [],
   "source": []
  }
 ],
 "metadata": {
  "kernelspec": {
   "display_name": "Python 3",
   "language": "python",
   "name": "python3"
  },
  "language_info": {
   "codemirror_mode": {
    "name": "ipython",
    "version": 3
   },
   "file_extension": ".py",
   "mimetype": "text/x-python",
   "name": "python",
   "nbconvert_exporter": "python",
   "pygments_lexer": "ipython3",
   "version": "3.7.2"
  },
  "toc": {
   "base_numbering": 1,
   "nav_menu": {},
   "number_sections": true,
   "sideBar": true,
   "skip_h1_title": false,
   "title_cell": "Table of Contents",
   "title_sidebar": "Contents",
   "toc_cell": false,
   "toc_position": {},
   "toc_section_display": true,
   "toc_window_display": false
  }
 },
 "nbformat": 4,
 "nbformat_minor": 2
}
