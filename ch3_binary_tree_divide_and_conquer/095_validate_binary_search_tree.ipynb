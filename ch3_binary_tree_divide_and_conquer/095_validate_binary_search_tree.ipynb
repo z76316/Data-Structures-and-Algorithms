{
 "cells": [
  {
   "cell_type": "markdown",
   "metadata": {},
   "source": [
    "Given a binary tree, determine if it is a valid binary search tree (BST).\n",
    "\n",
    "Assume a BST is defined as follows:\n",
    "\n",
    "    The left subtree of a node contains only nodes with keys less than the node's key.\n",
    "    The right subtree of a node contains only nodes with keys greater than the node's key.\n",
    "    Both the left and right subtrees must also be binary search trees.\n",
    "    A single node tree is a BST\n",
    "\n",
    "Example\n",
    "Example 1:\n",
    "\n",
    "    Input:  {-1}\n",
    "    Output：true\n",
    "    Explanation：\n",
    "    For the following binary tree（only one node）:\n",
    "              -1\n",
    "    This is a binary search tree.\n",
    "\n",
    "Example 2:\n",
    "\n",
    "    Input:  {2,1,4,#,#,3,5}\n",
    "    Output: true\n",
    "    For the following binary tree:\n",
    "          2\n",
    "         / \\\n",
    "        1   4\n",
    "           / \\\n",
    "          3   5\n",
    "    This is a binary search tree.\n",
    "\n",
    "\n",
    "https://www.lintcode.com/problem/95/"
   ]
  },
  {
   "cell_type": "markdown",
   "metadata": {},
   "source": [
    "# Solutions"
   ]
  },
  {
   "cell_type": "markdown",
   "metadata": {},
   "source": [
    "## Traverse"
   ]
  },
  {
   "cell_type": "code",
   "execution_count": 17,
   "metadata": {},
   "outputs": [],
   "source": [
    "import sys\n",
    "\n",
    "class Solution:\n",
    "    \"\"\"\n",
    "    @param root: The root of binary tree.\n",
    "    @return: True if the binary tree is BST, or false\n",
    "    \"\"\"\n",
    "    def __init__(self):\n",
    "        self.pre_val = -sys.maxsize ##########\n",
    "        \n",
    "    def isValidBST(self, root):\n",
    "        # write your code here\n",
    "        if root == None:\n",
    "            return True\n",
    "        if not self.isValidBST(root.left) or root.val <= self.pre_val: ##########\n",
    "            return False\n",
    "        \n",
    "        self.pre_val = root.val ##########\n",
    "        return self.isValidBST(root.right)\n",
    "        "
   ]
  },
  {
   "cell_type": "markdown",
   "metadata": {},
   "source": [
    "## Divide and conquer"
   ]
  },
  {
   "cell_type": "code",
   "execution_count": null,
   "metadata": {},
   "outputs": [],
   "source": []
  },
  {
   "cell_type": "markdown",
   "metadata": {},
   "source": [
    "# Test"
   ]
  },
  {
   "cell_type": "markdown",
   "metadata": {},
   "source": [
    "## Class TreeNode"
   ]
  },
  {
   "cell_type": "code",
   "execution_count": 1,
   "metadata": {},
   "outputs": [],
   "source": [
    "class TreeNode:\n",
    "    def __init__(self, val):\n",
    "        self.val = val\n",
    "        self.left, self.right = None, None"
   ]
  },
  {
   "cell_type": "markdown",
   "metadata": {},
   "source": [
    "## Testing"
   ]
  },
  {
   "cell_type": "code",
   "execution_count": 19,
   "metadata": {},
   "outputs": [
    {
     "data": {
      "text/plain": [
       "True"
      ]
     },
     "execution_count": 19,
     "metadata": {},
     "output_type": "execute_result"
    }
   ],
   "source": [
    "node1 = TreeNode(1)\n",
    "node2 = TreeNode(2)\n",
    "node3 = TreeNode(3)\n",
    "node4 = TreeNode(4)\n",
    "node5 = TreeNode(5)\n",
    "\n",
    "root = node2\n",
    "root.left = node1\n",
    "root.right = node4\n",
    "node4.left = node3\n",
    "node4.right = node5\n",
    "\n",
    "a = Solution()\n",
    "a.isValidBST(root)"
   ]
  },
  {
   "cell_type": "code",
   "execution_count": null,
   "metadata": {},
   "outputs": [],
   "source": []
  }
 ],
 "metadata": {
  "kernelspec": {
   "display_name": "Python 3",
   "language": "python",
   "name": "python3"
  },
  "language_info": {
   "codemirror_mode": {
    "name": "ipython",
    "version": 3
   },
   "file_extension": ".py",
   "mimetype": "text/x-python",
   "name": "python",
   "nbconvert_exporter": "python",
   "pygments_lexer": "ipython3",
   "version": "3.7.2"
  },
  "toc": {
   "base_numbering": 1,
   "nav_menu": {},
   "number_sections": true,
   "sideBar": true,
   "skip_h1_title": false,
   "title_cell": "Table of Contents",
   "title_sidebar": "Contents",
   "toc_cell": false,
   "toc_position": {},
   "toc_section_display": true,
   "toc_window_display": false
  }
 },
 "nbformat": 4,
 "nbformat_minor": 2
}
