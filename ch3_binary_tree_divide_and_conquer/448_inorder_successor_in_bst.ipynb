{
 "cells": [
  {
   "cell_type": "markdown",
   "metadata": {},
   "source": [
    "Given a binary search tree [See Definition](http://www.lintcode.com/problem/validate-binary-search-tree/) and a node in it, find the in-order successor of that node in the BST.\n",
    "\n",
    "If the given node has no in-order successor in the tree, return null.\n",
    "\n",
    "Example\n",
    "\n",
    "Example 1:\n",
    "\n",
    "    Input: {1,#,2}, node with value 1\n",
    "    Output: 2\n",
    "    Explanation:\n",
    "      1\n",
    "       \\\n",
    "        2\n",
    "        \n",
    "Example 2:\n",
    "\n",
    "    Input: {2,1,3}, node with value 1\n",
    "    Output: 2\n",
    "    Explanation: \n",
    "        2\n",
    "       / \\\n",
    "      1   3\n",
    "[Binary Tree Representation](https://www.lintcode.com/help/binary-tree-representation/)\n",
    "\n",
    "Challenge\n",
    "\n",
    "    O(h), where h is the height of the BST.\n",
    "\n",
    "Notice\n",
    "\n",
    "    It's guaranteed p is one node in the given tree. (You can directly compare the memory address to find p)\n",
    "    \n",
    "https://www.lintcode.com/problem/inorder-successor-in-bst/\n",
    "\n",
    "https://photos.app.goo.gl/jqrcq9f2b5F2a57V8"
   ]
  },
  {
   "cell_type": "markdown",
   "metadata": {},
   "source": [
    "# Solution"
   ]
  },
  {
   "cell_type": "markdown",
   "metadata": {},
   "source": [
    "## Iteration"
   ]
  },
  {
   "cell_type": "code",
   "execution_count": 21,
   "metadata": {},
   "outputs": [],
   "source": [
    "class Solution:\n",
    "    \"\"\"\n",
    "    @param: root: The root of the BST.\n",
    "    @param: p: You need find the successor node of p.\n",
    "    @return: Successor of p.\n",
    "    \"\"\"\n",
    "    def inorderSuccessor(self, root, p):\n",
    "        # write your code here\n",
    "        succ = None\n",
    "        while root:\n",
    "            if root.val <= p.val: ########## if current node.val <= target.val -> target is in the right subtree\n",
    "                root = root.right\n",
    "            else:                 ########## only if current node.val > target.val -> save it as succ and go left\n",
    "                succ = root\n",
    "                root = root.left\n",
    "                \n",
    "        return succ"
   ]
  },
  {
   "cell_type": "markdown",
   "metadata": {},
   "source": [
    "## Recursion"
   ]
  },
  {
   "cell_type": "code",
   "execution_count": 41,
   "metadata": {},
   "outputs": [],
   "source": [
    "class Solution:\n",
    "    \"\"\"\n",
    "    @param: root: The root of the BST.\n",
    "    @param: p: You need find the successor node of p.\n",
    "    @return: Successor of p.\n",
    "    \"\"\"\n",
    "    def inorderSuccessor(self, root, p):\n",
    "        # write your code here\n",
    "        if root == None:\n",
    "            return root\n",
    "        \n",
    "        if root.val <= p.val:\n",
    "            return self.inorderSuccessor(root.right, p)\n",
    "        \n",
    "        left_res = self.inorderSuccessor(root.left, p) ########## go left only if current node.val is bigger than target.val\n",
    "        if left_res == None: ########## if the result of left subtree is None -> return current node\n",
    "            return root\n",
    "        return left_res"
   ]
  },
  {
   "cell_type": "markdown",
   "metadata": {},
   "source": [
    "# Test"
   ]
  },
  {
   "cell_type": "markdown",
   "metadata": {},
   "source": [
    "## class TreeNode"
   ]
  },
  {
   "cell_type": "code",
   "execution_count": 14,
   "metadata": {},
   "outputs": [],
   "source": [
    "class TreeNode:\n",
    "    def __init__(self, val):\n",
    "        self.val = val\n",
    "        self.left, self.right = None, None "
   ]
  },
  {
   "cell_type": "markdown",
   "metadata": {},
   "source": [
    "## Testing"
   ]
  },
  {
   "cell_type": "code",
   "execution_count": 42,
   "metadata": {},
   "outputs": [
    {
     "data": {
      "text/plain": [
       "4"
      ]
     },
     "execution_count": 42,
     "metadata": {},
     "output_type": "execute_result"
    }
   ],
   "source": [
    "node1 = TreeNode(1)\n",
    "node2 = TreeNode(2)\n",
    "node3 = TreeNode(3)\n",
    "node4 = TreeNode(4)\n",
    "node5 = TreeNode(5)\n",
    "\n",
    "root = node4\n",
    "root.left = node2\n",
    "root.right = node5\n",
    "node2.left = node1\n",
    "node2.right = node3\n",
    "\n",
    "a = Solution()\n",
    "a.inorderSuccessor(root, node3).val"
   ]
  },
  {
   "cell_type": "code",
   "execution_count": 33,
   "metadata": {},
   "outputs": [
    {
     "data": {
      "text/plain": [
       "4"
      ]
     },
     "execution_count": 33,
     "metadata": {},
     "output_type": "execute_result"
    }
   ],
   "source": [
    "node1 = TreeNode(1)\n",
    "node2 = TreeNode(2)\n",
    "node3 = TreeNode(3)\n",
    "node4 = TreeNode(4)\n",
    "node5 = TreeNode(5)\n",
    "\n",
    "root = node2\n",
    "root.left = node1\n",
    "root.right = node4\n",
    "node4.left = node3\n",
    "node4.right = node5\n",
    "\n",
    "a = Solution()\n",
    "a.inorderSuccessor(root, node3).val"
   ]
  },
  {
   "cell_type": "code",
   "execution_count": null,
   "metadata": {},
   "outputs": [],
   "source": []
  }
 ],
 "metadata": {
  "kernelspec": {
   "display_name": "Python 3",
   "language": "python",
   "name": "python3"
  },
  "language_info": {
   "codemirror_mode": {
    "name": "ipython",
    "version": 3
   },
   "file_extension": ".py",
   "mimetype": "text/x-python",
   "name": "python",
   "nbconvert_exporter": "python",
   "pygments_lexer": "ipython3",
   "version": "3.7.2"
  },
  "toc": {
   "base_numbering": 1,
   "nav_menu": {},
   "number_sections": true,
   "sideBar": true,
   "skip_h1_title": false,
   "title_cell": "Table of Contents",
   "title_sidebar": "Contents",
   "toc_cell": false,
   "toc_position": {},
   "toc_section_display": true,
   "toc_window_display": false
  }
 },
 "nbformat": 4,
 "nbformat_minor": 2
}
