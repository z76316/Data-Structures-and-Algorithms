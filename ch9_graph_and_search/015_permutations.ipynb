{
 "cells": [
  {
   "cell_type": "markdown",
   "metadata": {},
   "source": [
    "Given a list of numbers, return all possible permutations.\n",
    "\n",
    "Example 1:\n",
    "\n",
    "    Input: [1]\n",
    "    \n",
    "    Output:\n",
    "        [\n",
    "          [1]\n",
    "        ]\n",
    "        \n",
    "Example 2:\n",
    "\n",
    "    Input: [1,2,3]\n",
    "    \n",
    "    Output:\n",
    "        [\n",
    "          [1,2,3],\n",
    "          [1,3,2],\n",
    "          [2,1,3],\n",
    "          [2,3,1],\n",
    "          [3,1,2],\n",
    "          [3,2,1]\n",
    "        ]\n",
    "    \n",
    "Challenge\n",
    "\n",
    "    Do it without recursion.\n",
    "\n",
    "https://www.lintcode.com/problem/permutations/description\n",
    "\n",
    "https://leetcode.com/problems/permutations/discuss/?currentPage=1&orderBy=most_votes&query=&tag=python"
   ]
  },
  {
   "cell_type": "markdown",
   "metadata": {},
   "source": [
    "# Solution"
   ]
  },
  {
   "cell_type": "code",
   "execution_count": null,
   "metadata": {},
   "outputs": [],
   "source": [
    "# similar to the solution of permutations II\n",
    "class Solution:\n",
    "    def permute(self, nums: List[int]) -> List[List[int]]:\n",
    "        if not nums or len(nums) == 0:\n",
    "            return 0\n",
    "        \n",
    "        perms, perm = [], []\n",
    "        self.dfs(perms, perm, nums)\n",
    "        return perms\n",
    "    \n",
    "    \n",
    "    def dfs(self, perms, perm, nums):\n",
    "        if len(nums) == 0:   ### b/c this solution uses new_nums for next level dfs\n",
    "            perms.append(list(perm))\n",
    "            return\n",
    "        \n",
    "        for i, n in enumerate(nums):\n",
    "            perm.append(n)\n",
    "            new_nums = nums[:i] + nums[i+1:]\n",
    "            self.dfs(perms, perm, new_nums)\n",
    "            del perm[-1]"
   ]
  },
  {
   "cell_type": "code",
   "execution_count": 6,
   "metadata": {},
   "outputs": [],
   "source": [
    "class Solution:\n",
    "    \"\"\"\n",
    "    @param: nums: A list of integers.\n",
    "    @return: A list of permutations.\n",
    "    \"\"\"\n",
    "    def permute(self, nums):\n",
    "        # write your code here\n",
    "        if not nums or len(nums) == 0:\n",
    "            return []\n",
    "        \n",
    "        perms, perm = [], []\n",
    "        self.dfs(perms, perm, nums)\n",
    "        return perms\n",
    "    \n",
    "    \n",
    "    def dfs(self, perms, perm, nums):\n",
    "        if len(perm) == len(nums):\n",
    "            perms.append(list(perm))   ### must append with a new instance\n",
    "            return\n",
    "        \n",
    "        for n in nums:\n",
    "            if n in perm:\n",
    "                continue\n",
    "            \n",
    "            perm.append(n)\n",
    "            self.dfs(perms, perm, nums)\n",
    "            del perm[-1]\n"
   ]
  },
  {
   "cell_type": "markdown",
   "metadata": {},
   "source": [
    "# Test"
   ]
  },
  {
   "cell_type": "code",
   "execution_count": 7,
   "metadata": {},
   "outputs": [
    {
     "data": {
      "text/plain": [
       "[[1, 2, 3], [1, 3, 2], [2, 1, 3], [2, 3, 1], [3, 1, 2], [3, 2, 1]]"
      ]
     },
     "execution_count": 7,
     "metadata": {},
     "output_type": "execute_result"
    }
   ],
   "source": [
    "nums = [1, 2, 3]\n",
    "s = Solution()\n",
    "s.permute(nums)"
   ]
  },
  {
   "cell_type": "markdown",
   "metadata": {},
   "source": [
    "# History"
   ]
  },
  {
   "cell_type": "code",
   "execution_count": 38,
   "metadata": {},
   "outputs": [],
   "source": [
    "class Solution:\n",
    "    \"\"\"\n",
    "    @param: nums: A list of integers.\n",
    "    @return: A list of permutations.\n",
    "    \"\"\"\n",
    "    def permute(self, nums):\n",
    "        # write your code here\n",
    "        permutations_list = []\n",
    "        stack = []\n",
    "        self.dfs(nums, stack, permutations_list)\n",
    "        \n",
    "        return permutations_list\n",
    "\n",
    "    def dfs(self, nums, stack, permutations_list):\n",
    "        # base case\n",
    "        if not nums:\n",
    "            permutations_list.append(list(stack)) ### pass by address with list(stack)\n",
    "#             print('appended stack:', stack)\n",
    "#             print('permutations_list:', permutations_list)\n",
    "            \n",
    "        for i, num in enumerate(nums):\n",
    "            stack.append(num)\n",
    "            new_nums = nums[:i] + nums[i+1:] ### exclude num\n",
    "#             print(num, nums)\n",
    "            self.dfs(new_nums, stack, permutations_list)\n",
    "            stack.pop()\n"
   ]
  },
  {
   "cell_type": "markdown",
   "metadata": {},
   "source": [
    "## Test"
   ]
  },
  {
   "cell_type": "code",
   "execution_count": 39,
   "metadata": {},
   "outputs": [
    {
     "name": "stdout",
     "output_type": "stream",
     "text": [
      "1 [1, 2, 3]\n",
      "2 [2, 3]\n",
      "3 [3]\n",
      "appended stack: [1, 2, 3]\n",
      "permutations_list: [[1, 2, 3]]\n",
      "3 [2, 3]\n",
      "2 [2]\n",
      "appended stack: [1, 3, 2]\n",
      "permutations_list: [[1, 2, 3], [1, 3, 2]]\n",
      "2 [1, 2, 3]\n",
      "1 [1, 3]\n",
      "3 [3]\n",
      "appended stack: [2, 1, 3]\n",
      "permutations_list: [[1, 2, 3], [1, 3, 2], [2, 1, 3]]\n",
      "3 [1, 3]\n",
      "1 [1]\n",
      "appended stack: [2, 3, 1]\n",
      "permutations_list: [[1, 2, 3], [1, 3, 2], [2, 1, 3], [2, 3, 1]]\n",
      "3 [1, 2, 3]\n",
      "1 [1, 2]\n",
      "2 [2]\n",
      "appended stack: [3, 1, 2]\n",
      "permutations_list: [[1, 2, 3], [1, 3, 2], [2, 1, 3], [2, 3, 1], [3, 1, 2]]\n",
      "2 [1, 2]\n",
      "1 [1]\n",
      "appended stack: [3, 2, 1]\n",
      "permutations_list: [[1, 2, 3], [1, 3, 2], [2, 1, 3], [2, 3, 1], [3, 1, 2], [3, 2, 1]]\n"
     ]
    },
    {
     "data": {
      "text/plain": [
       "[[1, 2, 3], [1, 3, 2], [2, 1, 3], [2, 3, 1], [3, 1, 2], [3, 2, 1]]"
      ]
     },
     "execution_count": 39,
     "metadata": {},
     "output_type": "execute_result"
    }
   ],
   "source": [
    "nums = [1, 2, 3]\n",
    "s = Solution()\n",
    "s.permute(nums)"
   ]
  },
  {
   "cell_type": "markdown",
   "metadata": {},
   "source": [
    "# About \"pass by reference\" and \"pass by address\""
   ]
  },
  {
   "cell_type": "code",
   "execution_count": 7,
   "metadata": {},
   "outputs": [
    {
     "name": "stdout",
     "output_type": "stream",
     "text": [
      "4350043336 [[1], [1], [1]]\n",
      "4348448008 4348448008 4348448008\n",
      "4350043336 [[10], [10], [10]]\n"
     ]
    }
   ],
   "source": [
    "a = [[1]] * 3\n",
    "print(id(a), a)\n",
    "\n",
    "print(id(a[0]), id(a[1]), id(a[2]))\n",
    "\n",
    "a[0][0] = 10\n",
    "print(id(a), a)"
   ]
  },
  {
   "cell_type": "code",
   "execution_count": 4,
   "metadata": {},
   "outputs": [
    {
     "name": "stdout",
     "output_type": "stream",
     "text": [
      "4349397512 [1, 2]\n",
      "4349397512 [1, 2, 3]\n",
      "4349397064 [1, 2, 3]\n"
     ]
    }
   ],
   "source": [
    "result = [1, 2]\n",
    "print(id(result), result)\n",
    "\n",
    "result.append(3)\n",
    "print(id(result), result)\n",
    "\n",
    "result = [1, 2, 3]\n",
    "print(id(result), result)"
   ]
  },
  {
   "cell_type": "code",
   "execution_count": 16,
   "metadata": {},
   "outputs": [
    {
     "name": "stdout",
     "output_type": "stream",
     "text": [
      "4350045768 [1, 2, 3]\n",
      "4350059720 []\n",
      "4350045768 [1, 2, 3]\n",
      "4348469000 [1, 2, 3]\n"
     ]
    }
   ],
   "source": [
    "aaa = [1, 2, 3]\n",
    "print(id(aaa), aaa)\n",
    "\n",
    "bbb = []\n",
    "print(id(bbb), bbb)\n",
    "\n",
    "bbb.append(aaa)\n",
    "print(id(bbb[0]), bbb[0])\n",
    "\n",
    "bbb.append(list(aaa))\n",
    "print(id(bbb[1]), bbb[1])"
   ]
  },
  {
   "cell_type": "code",
   "execution_count": 20,
   "metadata": {},
   "outputs": [
    {
     "name": "stdout",
     "output_type": "stream",
     "text": [
      "i = 1\n",
      "[1]\n",
      "[3]\n"
     ]
    }
   ],
   "source": [
    "nums = [1, 2, 3]\n",
    "i = 1\n",
    "print('i =', i)\n",
    "print(nums[:i])\n",
    "print(nums[i+1:])"
   ]
  },
  {
   "cell_type": "code",
   "execution_count": null,
   "metadata": {},
   "outputs": [],
   "source": []
  }
 ],
 "metadata": {
  "kernelspec": {
   "display_name": "Python 3",
   "language": "python",
   "name": "python3"
  },
  "language_info": {
   "codemirror_mode": {
    "name": "ipython",
    "version": 3
   },
   "file_extension": ".py",
   "mimetype": "text/x-python",
   "name": "python",
   "nbconvert_exporter": "python",
   "pygments_lexer": "ipython3",
   "version": "3.7.2"
  },
  "toc": {
   "base_numbering": 1,
   "nav_menu": {},
   "number_sections": true,
   "sideBar": true,
   "skip_h1_title": false,
   "title_cell": "Table of Contents",
   "title_sidebar": "Contents",
   "toc_cell": false,
   "toc_position": {},
   "toc_section_display": true,
   "toc_window_display": false
  }
 },
 "nbformat": 4,
 "nbformat_minor": 2
}
