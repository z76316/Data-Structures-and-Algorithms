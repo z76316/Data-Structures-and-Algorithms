{
 "cells": [
  {
   "cell_type": "markdown",
   "metadata": {},
   "source": [
    "Given a list of numbers with duplicate number in it. Find all unique permutations.\n",
    "\n",
    "Example 1:\n",
    "\n",
    "    Input: \n",
    "        [1,1]\n",
    "        \n",
    "    Output:\n",
    "        [\n",
    "          [1,1]\n",
    "        ]\n",
    "\n",
    "Example 2:\n",
    "\n",
    "    Input: \n",
    "        [1,2,2]\n",
    "        \n",
    "    Output:\n",
    "        [\n",
    "          [1,2,2],\n",
    "          [2,1,2],\n",
    "          [2,2,1]\n",
    "        ]\n",
    "        \n",
    "Challenge\n",
    "\n",
    "    Using recursion to do it is acceptable. If you can do it without recursion, that would be great!\n",
    "\n",
    "https://www.lintcode.com/problem/permutations-ii/description\n",
    "\n",
    "https://leetcode.com/problems/permutations-ii/\n",
    "\n",
    "Explain: https://leetcode.com/problems/permutations-ii/discuss/265223/Python-backtracking"
   ]
  },
  {
   "cell_type": "markdown",
   "metadata": {},
   "source": [
    "# Solution"
   ]
  },
  {
   "cell_type": "code",
   "execution_count": 5,
   "metadata": {},
   "outputs": [],
   "source": [
    "# nums.sort(), time complexity is still O(n!)\n",
    "# b/c nums.sort() = O(nlogn) < O(n!)\n",
    "class Solution:\n",
    "    \"\"\"\n",
    "    @param: :  A list of integers\n",
    "    @return: A list of unique permutations\n",
    "    \"\"\"\n",
    "\n",
    "    def permuteUnique(self, nums):\n",
    "        if not nums:\n",
    "            return []\n",
    "        \n",
    "        nums.sort()   #####\n",
    "        perms, perm = [], []\n",
    "        self.dfs(perms, perm, nums)\n",
    "        return perms\n",
    "    \n",
    "    \n",
    "    def dfs(self, perms, perm, nums):\n",
    "        if len(nums) == 0:\n",
    "            perms.append(list(perm))\n",
    "            return\n",
    "        \n",
    "        for i, n in enumerate(nums):\n",
    "            if i != 0 and nums[i] == nums[i-1]:   ### if the n of this round and last round is the same\n",
    "                continue   ### skip this tree branch b/c it will be the same as the last branch\n",
    "            perm.append(n)\n",
    "            new_nums = nums[:i] + nums[i+1:]\n",
    "            self.dfs(perms, perm, new_nums)\n",
    "            del perm[-1]\n",
    "        "
   ]
  },
  {
   "cell_type": "code",
   "execution_count": 10,
   "metadata": {},
   "outputs": [],
   "source": [
    "# without sort but slower b/c it's basically n!\n",
    "class Solution:\n",
    "    \"\"\"\n",
    "    @param: :  A list of integers\n",
    "    @return: A list of unique permutations\n",
    "    \"\"\"\n",
    "\n",
    "    def permuteUnique(self, nums):\n",
    "        if not nums:\n",
    "            return []\n",
    "        \n",
    "        perms, perm = [], []\n",
    "        self.dfs(perms, perm, nums)\n",
    "        return perms\n",
    "    \n",
    "    \n",
    "    def dfs(self, perms, perm, nums):\n",
    "        if len(nums) == 0:   ### resursion exit\n",
    "            new_perm = list(perm)\n",
    "            if new_perm not in perms:\n",
    "                perms.append(new_perm)\n",
    "            return\n",
    "        else:\n",
    "            for i, n in enumerate(nums):\n",
    "                perm.append(n)\n",
    "                new_nums = nums[:i] + nums[i+1:]   ### new_nums = exclude the current n\n",
    "                self.dfs(perms, perm, new_nums)\n",
    "                del perm[-1]\n",
    "                "
   ]
  },
  {
   "cell_type": "markdown",
   "metadata": {},
   "source": [
    "# Test"
   ]
  },
  {
   "cell_type": "code",
   "execution_count": 6,
   "metadata": {},
   "outputs": [
    {
     "data": {
      "text/plain": [
       "[[1, 2, 2, 2], [2, 1, 2, 2], [2, 2, 1, 2], [2, 2, 2, 1]]"
      ]
     },
     "execution_count": 6,
     "metadata": {},
     "output_type": "execute_result"
    }
   ],
   "source": [
    "nums = [1, 2, 2, 2]\n",
    "dfs = Solution()\n",
    "dfs.permuteUnique(nums)"
   ]
  },
  {
   "cell_type": "markdown",
   "metadata": {},
   "source": [
    "# History"
   ]
  },
  {
   "cell_type": "markdown",
   "metadata": {},
   "source": [
    "## DFS"
   ]
  },
  {
   "cell_type": "code",
   "execution_count": 7,
   "metadata": {},
   "outputs": [],
   "source": [
    "class Solution:\n",
    "    \"\"\"\n",
    "    @param: :  A list of integers\n",
    "    @return: A list of unique permutations\n",
    "    \"\"\"\n",
    "\n",
    "    def permuteUnique(self, nums):\n",
    "        permute_unique_stack = []\n",
    "        stack = []\n",
    "        self.dfs(nums, stack, permute_unique_stack)\n",
    "        \n",
    "        return permute_unique_stack\n",
    "    \n",
    "    def dfs(self, nums, stack, permute_unique_stack):\n",
    "        if not nums:\n",
    "            new_stack = list(stack)\n",
    "            if new_stack not in permute_unique_stack:\n",
    "                permute_unique_stack.append(new_stack)\n",
    "                print(permute_unique_stack)\n",
    "        else:\n",
    "            for i,num in enumerate(nums):\n",
    "                stack.append(num)\n",
    "                print(stack)\n",
    "                new_nums = nums[:i] + nums[i+1:]\n",
    "                self.dfs(new_nums, stack, permute_unique_stack)\n",
    "                pp = stack.pop()\n",
    "                print('pop', pp)\n",
    "                print(stack)"
   ]
  },
  {
   "cell_type": "markdown",
   "metadata": {},
   "source": [
    "## Test"
   ]
  },
  {
   "cell_type": "code",
   "execution_count": 8,
   "metadata": {},
   "outputs": [
    {
     "name": "stdout",
     "output_type": "stream",
     "text": [
      "[1]\n",
      "[1, 2]\n",
      "[1, 2, 3]\n",
      "[[1, 2, 3]]\n",
      "pop 3\n",
      "[1, 2]\n",
      "pop 2\n",
      "[1]\n",
      "[1, 3]\n",
      "[1, 3, 2]\n",
      "[[1, 2, 3], [1, 3, 2]]\n",
      "pop 2\n",
      "[1, 3]\n",
      "pop 3\n",
      "[1]\n",
      "pop 1\n",
      "[]\n",
      "[2]\n",
      "[2, 1]\n",
      "[2, 1, 3]\n",
      "[[1, 2, 3], [1, 3, 2], [2, 1, 3]]\n",
      "pop 3\n",
      "[2, 1]\n",
      "pop 1\n",
      "[2]\n",
      "[2, 3]\n",
      "[2, 3, 1]\n",
      "[[1, 2, 3], [1, 3, 2], [2, 1, 3], [2, 3, 1]]\n",
      "pop 1\n",
      "[2, 3]\n",
      "pop 3\n",
      "[2]\n",
      "pop 2\n",
      "[]\n",
      "[3]\n",
      "[3, 1]\n",
      "[3, 1, 2]\n",
      "[[1, 2, 3], [1, 3, 2], [2, 1, 3], [2, 3, 1], [3, 1, 2]]\n",
      "pop 2\n",
      "[3, 1]\n",
      "pop 1\n",
      "[3]\n",
      "[3, 2]\n",
      "[3, 2, 1]\n",
      "[[1, 2, 3], [1, 3, 2], [2, 1, 3], [2, 3, 1], [3, 1, 2], [3, 2, 1]]\n",
      "pop 1\n",
      "[3, 2]\n",
      "pop 2\n",
      "[3]\n",
      "pop 3\n",
      "[]\n"
     ]
    },
    {
     "data": {
      "text/plain": [
       "[[1, 2, 3], [1, 3, 2], [2, 1, 3], [2, 3, 1], [3, 1, 2], [3, 2, 1]]"
      ]
     },
     "execution_count": 8,
     "metadata": {},
     "output_type": "execute_result"
    }
   ],
   "source": [
    "nums = [1, 2, 3]\n",
    "dfs = Solution()\n",
    "dfs.permuteUnique(nums)"
   ]
  },
  {
   "cell_type": "code",
   "execution_count": null,
   "metadata": {},
   "outputs": [],
   "source": []
  }
 ],
 "metadata": {
  "kernelspec": {
   "display_name": "Python 3",
   "language": "python",
   "name": "python3"
  },
  "language_info": {
   "codemirror_mode": {
    "name": "ipython",
    "version": 3
   },
   "file_extension": ".py",
   "mimetype": "text/x-python",
   "name": "python",
   "nbconvert_exporter": "python",
   "pygments_lexer": "ipython3",
   "version": "3.7.2"
  },
  "toc": {
   "base_numbering": 1,
   "nav_menu": {},
   "number_sections": true,
   "sideBar": true,
   "skip_h1_title": false,
   "title_cell": "Table of Contents",
   "title_sidebar": "Contents",
   "toc_cell": false,
   "toc_position": {},
   "toc_section_display": true,
   "toc_window_display": false
  }
 },
 "nbformat": 4,
 "nbformat_minor": 2
}
