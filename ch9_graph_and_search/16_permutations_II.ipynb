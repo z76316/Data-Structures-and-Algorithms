{
 "cells": [
  {
   "cell_type": "markdown",
   "metadata": {},
   "source": [
    "Given a list of numbers with duplicate number in it. Find all unique permutations.\n",
    "\n",
    "Example 1:\n",
    "\n",
    "    Input: \n",
    "        [1,1]\n",
    "        \n",
    "    Output:\n",
    "        [\n",
    "          [1,1]\n",
    "        ]\n",
    "\n",
    "Example 2:\n",
    "\n",
    "    Input: \n",
    "        [1,2,2]\n",
    "        \n",
    "    Output:\n",
    "        [\n",
    "          [1,2,2],\n",
    "          [2,1,2],\n",
    "          [2,2,1]\n",
    "        ]\n",
    "        \n",
    "Challenge\n",
    "\n",
    "    Using recursion to do it is acceptable. If you can do it without recursion, that would be great!\n",
    "\n",
    "https://www.lintcode.com/problem/permutations-ii/description"
   ]
  },
  {
   "cell_type": "markdown",
   "metadata": {},
   "source": [
    "# DFS"
   ]
  },
  {
   "cell_type": "code",
   "execution_count": 7,
   "metadata": {},
   "outputs": [],
   "source": [
    "class Solution:\n",
    "    \"\"\"\n",
    "    @param: :  A list of integers\n",
    "    @return: A list of unique permutations\n",
    "    \"\"\"\n",
    "\n",
    "    def permuteUnique(self, nums):\n",
    "        permute_unique_stack = []\n",
    "        stack = []\n",
    "        self.dfs(nums, stack, permute_unique_stack)\n",
    "        \n",
    "        return permute_unique_stack\n",
    "    \n",
    "    def dfs(self, nums, stack, permute_unique_stack):\n",
    "        if not nums:\n",
    "            new_stack = list(stack)\n",
    "            if new_stack not in permute_unique_stack:\n",
    "                permute_unique_stack.append(new_stack)\n",
    "                print(permute_unique_stack)\n",
    "        else:\n",
    "            for i,num in enumerate(nums):\n",
    "                stack.append(num)\n",
    "                print(stack)\n",
    "                new_nums = nums[:i] + nums[i+1:]\n",
    "                self.dfs(new_nums, stack, permute_unique_stack)\n",
    "                pp = stack.pop()\n",
    "                print('pop', pp)\n",
    "                print(stack)"
   ]
  },
  {
   "cell_type": "markdown",
   "metadata": {},
   "source": [
    "# Test"
   ]
  },
  {
   "cell_type": "code",
   "execution_count": 8,
   "metadata": {},
   "outputs": [
    {
     "name": "stdout",
     "output_type": "stream",
     "text": [
      "[1]\n",
      "[1, 2]\n",
      "[1, 2, 3]\n",
      "[[1, 2, 3]]\n",
      "pop 3\n",
      "[1, 2]\n",
      "pop 2\n",
      "[1]\n",
      "[1, 3]\n",
      "[1, 3, 2]\n",
      "[[1, 2, 3], [1, 3, 2]]\n",
      "pop 2\n",
      "[1, 3]\n",
      "pop 3\n",
      "[1]\n",
      "pop 1\n",
      "[]\n",
      "[2]\n",
      "[2, 1]\n",
      "[2, 1, 3]\n",
      "[[1, 2, 3], [1, 3, 2], [2, 1, 3]]\n",
      "pop 3\n",
      "[2, 1]\n",
      "pop 1\n",
      "[2]\n",
      "[2, 3]\n",
      "[2, 3, 1]\n",
      "[[1, 2, 3], [1, 3, 2], [2, 1, 3], [2, 3, 1]]\n",
      "pop 1\n",
      "[2, 3]\n",
      "pop 3\n",
      "[2]\n",
      "pop 2\n",
      "[]\n",
      "[3]\n",
      "[3, 1]\n",
      "[3, 1, 2]\n",
      "[[1, 2, 3], [1, 3, 2], [2, 1, 3], [2, 3, 1], [3, 1, 2]]\n",
      "pop 2\n",
      "[3, 1]\n",
      "pop 1\n",
      "[3]\n",
      "[3, 2]\n",
      "[3, 2, 1]\n",
      "[[1, 2, 3], [1, 3, 2], [2, 1, 3], [2, 3, 1], [3, 1, 2], [3, 2, 1]]\n",
      "pop 1\n",
      "[3, 2]\n",
      "pop 2\n",
      "[3]\n",
      "pop 3\n",
      "[]\n"
     ]
    },
    {
     "data": {
      "text/plain": [
       "[[1, 2, 3], [1, 3, 2], [2, 1, 3], [2, 3, 1], [3, 1, 2], [3, 2, 1]]"
      ]
     },
     "execution_count": 8,
     "metadata": {},
     "output_type": "execute_result"
    }
   ],
   "source": [
    "nums = [1, 2, 3]\n",
    "dfs = Solution()\n",
    "dfs.permuteUnique(nums)"
   ]
  },
  {
   "cell_type": "code",
   "execution_count": null,
   "metadata": {},
   "outputs": [],
   "source": []
  }
 ],
 "metadata": {
  "kernelspec": {
   "display_name": "Python 3",
   "language": "python",
   "name": "python3"
  },
  "language_info": {
   "codemirror_mode": {
    "name": "ipython",
    "version": 3
   },
   "file_extension": ".py",
   "mimetype": "text/x-python",
   "name": "python",
   "nbconvert_exporter": "python",
   "pygments_lexer": "ipython3",
   "version": "3.7.2"
  }
 },
 "nbformat": 4,
 "nbformat_minor": 2
}
