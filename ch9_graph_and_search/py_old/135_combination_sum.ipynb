{
 "cells": [
  {
   "cell_type": "markdown",
   "metadata": {},
   "source": [
    "Given a set of candidtate numbers candidates and a target number target. Find all unique combinations in candidates where the numbers sums to target.\n",
    "\n",
    "The same repeated number may be chosen from candidates unlimited number of times.\n",
    "\n",
    "Example 1:\n",
    "    \n",
    "    Input: candidates = [2, 3, 6, 7], target = 7\n",
    "    Output: [[7], [2, 2, 3]]\n",
    "    \n",
    "Example 2:\n",
    "\n",
    "    Input: candidates = [1], target = 3\n",
    "    Output: [[1, 1, 1]]\n",
    "    \n",
    "Notice\n",
    "1. All numbers (including target) will be positive integers.\n",
    "2. Numbers in a combination a1, a2, … , ak must be in non-descending order. (ie, a1 ≤ a2 ≤ … ≤ ak)\n",
    "3. Different combinations can be in any order.\n",
    "4. The solution set must not contain duplicate combinations.\n",
    "\n",
    "https://www.lintcode.com/problem/combination-sum/description"
   ]
  },
  {
   "cell_type": "markdown",
   "metadata": {},
   "source": [
    "# DFS"
   ]
  },
  {
   "cell_type": "code",
   "execution_count": 4,
   "metadata": {},
   "outputs": [],
   "source": [
    "class Solution:\n",
    "    \"\"\"\n",
    "    @param candidates: A list of integers\n",
    "    @param target: An integer\n",
    "    @return: A list of lists of integers\n",
    "    \"\"\"\n",
    "    def combinationSum(self, candidates, target):\n",
    "        # write your code here\n",
    "        candidates = sorted(list(set(candidates))) ### ignore duplicates and sort it\n",
    "        \n",
    "        result = []\n",
    "        result_list = []\n",
    "        start_index = 0\n",
    "        \n",
    "        self.dfs(candidates, target, start_index, result, result_list)\n",
    "        \n",
    "        return result_list\n",
    "    \n",
    "    def dfs(self, candidates, target, start_index, result, result_list):\n",
    "        if target == 0:\n",
    "            result_list.append(list(result)) ### pass by address with list(result)\n",
    "            return ### it's over, mamba out\n",
    "        \n",
    "        for i in range(start_index, len(candidates)):\n",
    "            curr_num = candidates[i]\n",
    "            remain = target - curr_num\n",
    "            \n",
    "            if remain < 0:\n",
    "                return ### out\n",
    "            \n",
    "            result.append(curr_num)\n",
    "            new_start_index = i ### keep trying the current candidate\n",
    "            new_target = remain\n",
    "            \n",
    "            self.dfs(candidates, new_target, new_start_index, result, result_list)\n",
    "            \n",
    "            result.pop()"
   ]
  },
  {
   "cell_type": "markdown",
   "metadata": {},
   "source": [
    "# Test"
   ]
  },
  {
   "cell_type": "code",
   "execution_count": 6,
   "metadata": {},
   "outputs": [
    {
     "data": {
      "text/plain": [
       "[[2, 2, 3], [7]]"
      ]
     },
     "execution_count": 6,
     "metadata": {},
     "output_type": "execute_result"
    }
   ],
   "source": [
    "input = [2, 6, 2, 3, 7]\n",
    "target = 7\n",
    "dfs = Solution()\n",
    "\n",
    "dfs.combinationSum(input, target)"
   ]
  },
  {
   "cell_type": "code",
   "execution_count": null,
   "metadata": {},
   "outputs": [],
   "source": []
  }
 ],
 "metadata": {
  "kernelspec": {
   "display_name": "Python 3",
   "language": "python",
   "name": "python3"
  },
  "language_info": {
   "codemirror_mode": {
    "name": "ipython",
    "version": 3
   },
   "file_extension": ".py",
   "mimetype": "text/x-python",
   "name": "python",
   "nbconvert_exporter": "python",
   "pygments_lexer": "ipython3",
   "version": "3.7.2"
  }
 },
 "nbformat": 4,
 "nbformat_minor": 2
}
