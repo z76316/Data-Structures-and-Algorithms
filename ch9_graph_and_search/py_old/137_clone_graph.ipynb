{
 "cells": [
  {
   "cell_type": "markdown",
   "metadata": {},
   "source": [
    "Clone an undirected graph. Each node in the graph contains a label and a list of its neighbors. Nodes are labeled uniquely.\n",
    "\n",
    "You need to return a deep copied graph, which has the same structure as the original graph, and any changes to the new graph will not have any effect on the original graph.\n",
    "\n",
    "Clarification\n",
    "How we serialize an undirected graph: http://www.lintcode.com/help/graph/\n",
    "\n",
    "Notice\n",
    "You need return the node with the same label as the input node.\n",
    "\n",
    "https://www.lintcode.com/problem/clone-graph/description\n",
    "https://leetcode.com/problems/clone-graph/discuss/42314/Python-solutions-(BFS-DFS-iteratively-DFS-recursively)."
   ]
  },
  {
   "cell_type": "markdown",
   "metadata": {},
   "source": [
    "# BFS -> queue"
   ]
  },
  {
   "cell_type": "code",
   "execution_count": 17,
   "metadata": {},
   "outputs": [],
   "source": [
    "from collections import deque\n",
    "class Solution1:\n",
    "    \"\"\"\n",
    "    @param: node: A undirected graph node\n",
    "    @return: A undirected graph node\n",
    "    \"\"\"\n",
    "    def cloneGraph(self, node):\n",
    "        # write your code here\n",
    "        if node == None: return\n",
    "        \n",
    "        node_copy = UndirectedGraphNode(node.label)\n",
    "        visited_dict = {node: node_copy}\n",
    "        queue = deque([node])\n",
    "        while queue:\n",
    "            node = queue.popleft()\n",
    "            print(node.label)\n",
    "            for neighbor_node in node.neighbors:\n",
    "                if neighbor_node not in visited_dict:\n",
    "                    neighbor_node_copy = UndirectedGraphNode(neighbor_node.label)\n",
    "                    visited_dict[neighbor_node] = neighbor_node_copy\n",
    "                    visited_dict[node].neighbors.append(neighbor_node_copy)\n",
    "                    queue.append(neighbor_node)\n",
    "                else:\n",
    "                    visited_dict[node].neighbors.append(visited_dict[neighbor_node])\n",
    "        return node_copy"
   ]
  },
  {
   "cell_type": "markdown",
   "metadata": {},
   "source": [
    "# DFS -> stack"
   ]
  },
  {
   "cell_type": "code",
   "execution_count": 18,
   "metadata": {},
   "outputs": [],
   "source": [
    "class Solution2:\n",
    "    \"\"\"\n",
    "    @param: node: A undirected graph node\n",
    "    @return: A undirected graph node\n",
    "    \"\"\"\n",
    "    def cloneGraph(self, node):\n",
    "        # write your code here\n",
    "        if node == None: return\n",
    "        \n",
    "        node_copy = UndirectedGraphNode(node.label)\n",
    "        visited_dict = {node: node_copy}\n",
    "        stack = [node]\n",
    "        while stack:\n",
    "            node = stack.pop()\n",
    "            print(node.label)\n",
    "            for neighbor_node in node.neighbors:\n",
    "                if neighbor_node not in visited_dict:\n",
    "                    neighbor_node_copy = UndirectedGraphNode(neighbor_node.label)\n",
    "                    visited_dict[neighbor_node] = neighbor_node_copy\n",
    "                    visited_dict[node].neighbors.append(neighbor_node_copy)\n",
    "                    stack.append(neighbor_node)\n",
    "                else:\n",
    "                    visited_dict[node].neighbors.append(visited_dict[neighbor_node])\n",
    "        return node_copy"
   ]
  },
  {
   "cell_type": "markdown",
   "metadata": {},
   "source": [
    "# Test"
   ]
  },
  {
   "cell_type": "code",
   "execution_count": 12,
   "metadata": {},
   "outputs": [],
   "source": [
    "# Definition of Undirected Graph Node\n",
    "class UndirectedGraphNode:\n",
    "    def __init__(self, x):\n",
    "        self.label = x\n",
    "        self.neighbors = []"
   ]
  },
  {
   "cell_type": "code",
   "execution_count": 13,
   "metadata": {},
   "outputs": [],
   "source": [
    "n1 = UndirectedGraphNode(1)\n",
    "n2 = UndirectedGraphNode(2)\n",
    "n3 = UndirectedGraphNode(3)\n",
    "n4 = UndirectedGraphNode(4)\n",
    "n5 = UndirectedGraphNode(5)\n",
    "n1.neighbors = [n2,n3]\n",
    "n2.neighbors = [n1,n3,n5]\n",
    "n3.neighbors = [n1,n2,n4]\n",
    "n4.neighbors = [n3,n5]\n",
    "n5.neighbors = [n2,n4]"
   ]
  },
  {
   "cell_type": "code",
   "execution_count": 20,
   "metadata": {},
   "outputs": [
    {
     "name": "stdout",
     "output_type": "stream",
     "text": [
      "1\n",
      "2\n",
      "3\n",
      "5\n",
      "4\n"
     ]
    },
    {
     "data": {
      "text/plain": [
       "<__main__.UndirectedGraphNode at 0x10dff6c18>"
      ]
     },
     "execution_count": 20,
     "metadata": {},
     "output_type": "execute_result"
    }
   ],
   "source": [
    "BFS = Solution1()\n",
    "BFS.cloneGraph(n1)"
   ]
  },
  {
   "cell_type": "code",
   "execution_count": 21,
   "metadata": {},
   "outputs": [
    {
     "name": "stdout",
     "output_type": "stream",
     "text": [
      "1\n",
      "3\n",
      "4\n",
      "5\n",
      "2\n"
     ]
    },
    {
     "data": {
      "text/plain": [
       "<__main__.UndirectedGraphNode at 0x10dff69b0>"
      ]
     },
     "execution_count": 21,
     "metadata": {},
     "output_type": "execute_result"
    }
   ],
   "source": [
    "DFS = Solution2()\n",
    "DFS.cloneGraph(n1)"
   ]
  },
  {
   "cell_type": "code",
   "execution_count": null,
   "metadata": {},
   "outputs": [],
   "source": []
  }
 ],
 "metadata": {
  "kernelspec": {
   "display_name": "Python 3",
   "language": "python",
   "name": "python3"
  },
  "language_info": {
   "codemirror_mode": {
    "name": "ipython",
    "version": 3
   },
   "file_extension": ".py",
   "mimetype": "text/x-python",
   "name": "python",
   "nbconvert_exporter": "python",
   "pygments_lexer": "ipython3",
   "version": "3.7.2"
  }
 },
 "nbformat": 4,
 "nbformat_minor": 2
}
