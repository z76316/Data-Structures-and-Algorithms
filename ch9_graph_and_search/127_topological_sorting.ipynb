{
 "cells": [
  {
   "cell_type": "markdown",
   "metadata": {},
   "source": [
    "Given an directed graph, a topological order of the graph nodes is defined as follow:\n",
    "\n",
    "For each directed edge A -> B in graph, A must before B in the order list.\n",
    "The first node in the order can be any node in the graph with no nodes direct to it.\n",
    "Find any topological order for the given graph.\n",
    "\n",
    "Example\n",
    "For graph as follow:\n",
    "![Image of Graph](https://encrypted-tbn0.gstatic.com/images?q=tbn:ANd9GcThE9AgZZszyhwe0o9qpp3VyizdIj9kWwMY50HiQEysXvkSLsoZ)\n",
    "\n",
    "The topological order can be:\n",
    "\n",
    "    [0, 1, 2, 3, 4, 5]\n",
    "    [0, 2, 3, 1, 5, 4]\n",
    "    ...\n",
    "    \n",
    "Challenge:\n",
    "\n",
    "    Can you do it in both BFS and DFS?\n",
    "    \n",
    "https://www.lintcode.com/problem/topological-sorting/description\n"
   ]
  },
  {
   "cell_type": "markdown",
   "metadata": {},
   "source": [
    "# Solution"
   ]
  },
  {
   "cell_type": "code",
   "execution_count": 13,
   "metadata": {},
   "outputs": [],
   "source": [
    "# BFS\n",
    "# time: O(n); space: O(n)\n",
    "from collections import deque\n",
    "class Solution:\n",
    "    \"\"\"\n",
    "    @param: graph: A list of Directed graph node\n",
    "    @return: Any topological order for the given graph.\n",
    "    \"\"\"\n",
    "    def topSort(self, graph):\n",
    "        if not graph:\n",
    "            return []\n",
    "        \n",
    "        indegree = self.getIndegree(graph)\n",
    "        result = []\n",
    "        start_nodes = [n for n in graph if indegree[n] == 0]\n",
    "        queue = deque(start_nodes)\n",
    "        while queue:\n",
    "            node = queue.popleft()\n",
    "            result.append(node)\n",
    "            for neighbor in node.neighbors:\n",
    "                indegree[neighbor] -= 1\n",
    "                if indegree[neighbor] == 0:\n",
    "                    queue.append(neighbor)\n",
    "        return result\n",
    "    \n",
    "    \n",
    "    def getIndegree(self, graph):\n",
    "        indegree = {n:0 for n in graph}\n",
    "        for node in graph:\n",
    "            for neighbor in node.neighbors:\n",
    "                indegree[neighbor] += 1\n",
    "        return indegree"
   ]
  },
  {
   "cell_type": "markdown",
   "metadata": {},
   "source": [
    "# Test"
   ]
  },
  {
   "cell_type": "markdown",
   "metadata": {},
   "source": [
    "## class DirectedGraphNode"
   ]
  },
  {
   "cell_type": "code",
   "execution_count": 14,
   "metadata": {},
   "outputs": [],
   "source": [
    "class DirectedGraphNode:\n",
    "    def __init__(self, label):\n",
    "        self.label = label\n",
    "        self.neighbors = []"
   ]
  },
  {
   "cell_type": "markdown",
   "metadata": {},
   "source": [
    "## Testing"
   ]
  },
  {
   "cell_type": "code",
   "execution_count": 15,
   "metadata": {},
   "outputs": [],
   "source": [
    "n0 = DirectedGraphNode(0)\n",
    "n1 = DirectedGraphNode(1)\n",
    "n2 = DirectedGraphNode(2)\n",
    "n3 = DirectedGraphNode(3)\n",
    "n4 = DirectedGraphNode(4)\n",
    "n5 = DirectedGraphNode(5)\n",
    "\n",
    "n0.neighbors = [n1, n2, n3]\n",
    "n1.neighbors = [n4]\n",
    "n2.neighbors = [n4, n5]\n",
    "n3.neighbors = [n4, n5]\n",
    "\n",
    "graph = [n2, n3, n1, n0, n4, n5]"
   ]
  },
  {
   "cell_type": "code",
   "execution_count": 16,
   "metadata": {},
   "outputs": [
    {
     "name": "stdout",
     "output_type": "stream",
     "text": [
      "0\n",
      "1\n",
      "2\n",
      "3\n",
      "4\n",
      "5\n"
     ]
    }
   ],
   "source": [
    "a = Solution()\n",
    "result = a.topSort(graph)\n",
    "\n",
    "for node in result:\n",
    "    print(node.label)"
   ]
  },
  {
   "cell_type": "code",
   "execution_count": null,
   "metadata": {},
   "outputs": [],
   "source": []
  },
  {
   "cell_type": "markdown",
   "metadata": {},
   "source": [
    "# History"
   ]
  },
  {
   "cell_type": "markdown",
   "metadata": {},
   "source": [
    "## BFS"
   ]
  },
  {
   "cell_type": "code",
   "execution_count": 28,
   "metadata": {},
   "outputs": [],
   "source": [
    "from collections import deque\n",
    "class Solution1:\n",
    "    \"\"\"\n",
    "    @param: graph: A list of Directed graph node\n",
    "    @return: Any topological order for the given graph.\n",
    "    \"\"\"\n",
    "    def topSort(self, graph):\n",
    "        # write your code here\n",
    "        indegree = self.getIndegree(graph)\n",
    "        result = []\n",
    "        start_nodes = [n for n in graph if indegree[n] == 0]\n",
    "        queue = deque(start_nodes)\n",
    "        while queue:\n",
    "            node = queue.popleft()\n",
    "            print(node.label)\n",
    "            result.append(node)\n",
    "            for neighbor in node.neighbors:\n",
    "                indegree[neighbor] -= 1\n",
    "                if indegree[neighbor] == 0: queue.append(neighbor)\n",
    "        return result\n",
    "    \n",
    "    def getIndegree(self, graph):\n",
    "        indegree = {n: 0 for n in graph}\n",
    "        \n",
    "        for node in graph:\n",
    "            for neighbor in node.neighbors:\n",
    "                indegree[neighbor] += 1\n",
    "        return indegree"
   ]
  },
  {
   "cell_type": "markdown",
   "metadata": {},
   "source": [
    "## DFS (waive it)"
   ]
  },
  {
   "cell_type": "code",
   "execution_count": 32,
   "metadata": {},
   "outputs": [],
   "source": [
    "class Solution2:\n",
    "    \"\"\"\n",
    "    @param: graph: A list of Directed graph node\n",
    "    @return: Any topological order for the given graph.\n",
    "    \"\"\"\n",
    "    def topSort(self, graph):\n",
    "        # write your code here\n",
    "        indegree = self.getIndegree(graph)\n",
    "        result = []\n",
    "        stack = [n for n in graph if indegree[n] == 0] ### start nodes\n",
    "        while stack:\n",
    "            node = stack.pop()\n",
    "            print(node.label)\n",
    "            result.append(node)\n",
    "            for neighbor in node.neighbors:\n",
    "                indegree[neighbor] -= 1\n",
    "                if indegree[neighbor] == 0: stack.append(neighbor)\n",
    "        return result\n",
    "    \n",
    "    def getIndegree(self, graph):\n",
    "        indegree = {n: 0 for n in graph}\n",
    "        \n",
    "        for node in graph:\n",
    "            for neighbor in node.neighbors:\n",
    "                indegree[neighbor] += 1\n",
    "        return indegree"
   ]
  },
  {
   "cell_type": "markdown",
   "metadata": {},
   "source": [
    "## Test"
   ]
  },
  {
   "cell_type": "code",
   "execution_count": 29,
   "metadata": {},
   "outputs": [],
   "source": [
    "# Definition of Undirected Graph Node\n",
    "class DirectedGraphNode:\n",
    "    def __init__(self, x):\n",
    "        self.label = x\n",
    "        self.neighbors = []"
   ]
  },
  {
   "cell_type": "code",
   "execution_count": 30,
   "metadata": {},
   "outputs": [],
   "source": [
    "n0 = DirectedGraphNode(0)\n",
    "n1 = DirectedGraphNode(1)\n",
    "n2 = DirectedGraphNode(2)\n",
    "n3 = DirectedGraphNode(3)\n",
    "n4 = DirectedGraphNode(4)\n",
    "n5 = DirectedGraphNode(5)\n",
    "\n",
    "n0.neighbors = [n1, n2, n3]\n",
    "n1.neighbors = [n4]\n",
    "n2.neighbors = [n4, n5]\n",
    "n3.neighbors = [n4, n5]\n",
    "\n",
    "graph = [n2, n3, n1, n0, n4, n5]"
   ]
  },
  {
   "cell_type": "code",
   "execution_count": 31,
   "metadata": {},
   "outputs": [
    {
     "name": "stdout",
     "output_type": "stream",
     "text": [
      "0\n",
      "1\n",
      "2\n",
      "3\n",
      "4\n",
      "5\n"
     ]
    },
    {
     "data": {
      "text/plain": [
       "[<__main__.DirectedGraphNode at 0x110282dd8>,\n",
       " <__main__.DirectedGraphNode at 0x110282fd0>,\n",
       " <__main__.DirectedGraphNode at 0x110282eb8>,\n",
       " <__main__.DirectedGraphNode at 0x110282e10>,\n",
       " <__main__.DirectedGraphNode at 0x110282e80>,\n",
       " <__main__.DirectedGraphNode at 0x110282b38>]"
      ]
     },
     "execution_count": 31,
     "metadata": {},
     "output_type": "execute_result"
    }
   ],
   "source": [
    "BFS = Solution1()\n",
    "BFS.topSort(graph)"
   ]
  },
  {
   "cell_type": "code",
   "execution_count": 33,
   "metadata": {},
   "outputs": [
    {
     "name": "stdout",
     "output_type": "stream",
     "text": [
      "0\n",
      "3\n",
      "2\n",
      "5\n",
      "1\n",
      "4\n"
     ]
    },
    {
     "data": {
      "text/plain": [
       "[<__main__.DirectedGraphNode at 0x110282dd8>,\n",
       " <__main__.DirectedGraphNode at 0x110282e10>,\n",
       " <__main__.DirectedGraphNode at 0x110282eb8>,\n",
       " <__main__.DirectedGraphNode at 0x110282b38>,\n",
       " <__main__.DirectedGraphNode at 0x110282fd0>,\n",
       " <__main__.DirectedGraphNode at 0x110282e80>]"
      ]
     },
     "execution_count": 33,
     "metadata": {},
     "output_type": "execute_result"
    }
   ],
   "source": [
    "DFS = Solution2()\n",
    "DFS.topSort(graph)"
   ]
  },
  {
   "cell_type": "code",
   "execution_count": null,
   "metadata": {},
   "outputs": [],
   "source": []
  }
 ],
 "metadata": {
  "kernelspec": {
   "display_name": "Python 3",
   "language": "python",
   "name": "python3"
  },
  "language_info": {
   "codemirror_mode": {
    "name": "ipython",
    "version": 3
   },
   "file_extension": ".py",
   "mimetype": "text/x-python",
   "name": "python",
   "nbconvert_exporter": "python",
   "pygments_lexer": "ipython3",
   "version": "3.7.2"
  },
  "toc": {
   "base_numbering": 1,
   "nav_menu": {},
   "number_sections": true,
   "sideBar": true,
   "skip_h1_title": false,
   "title_cell": "Table of Contents",
   "title_sidebar": "Contents",
   "toc_cell": false,
   "toc_position": {},
   "toc_section_display": true,
   "toc_window_display": false
  }
 },
 "nbformat": 4,
 "nbformat_minor": 2
}
