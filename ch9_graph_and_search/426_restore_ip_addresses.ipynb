{
 "cells": [
  {
   "cell_type": "markdown",
   "metadata": {},
   "source": [
    "Given a string containing only digits, restore it by returning all possible valid IP address combinations.\n",
    "\n",
    "(Your task is to add three dots to this string to make it a valid IP address. Return all possible IP address.)\n",
    "\n",
    "Example 1:\n",
    "\n",
    "    Input: \"25525511135\"\n",
    "    Output: [\"255.255.11.135\", \"255.255.111.35\"]\n",
    "\n",
    "Explanation: [\"255.255.111.35\", \"255.255.11.135\"] will be accepted as well.\n",
    "\n",
    "Example 2:\n",
    "\n",
    "    Input: \"1116512311\"\n",
    "    Output: [\"11.165.123.11\",\"111.65.123.11\"]\n",
    "\n",
    "Notice\n",
    "\n",
    "    You can return all valid IP address in any order.\n",
    "    \n",
    "https://www.lintcode.com/problem/restore-ip-addresses/description\n",
    "\n",
    "https://photos.app.goo.gl/Y1GLzF9irDjBYv6L8"
   ]
  },
  {
   "cell_type": "markdown",
   "metadata": {},
   "source": [
    "# Solution"
   ]
  },
  {
   "cell_type": "code",
   "execution_count": 10,
   "metadata": {},
   "outputs": [],
   "source": [
    "class Solution:\n",
    "    \"\"\"\n",
    "    @param s: the IP string\n",
    "    @return: All possible valid IP addresses\n",
    "    \"\"\"\n",
    "    def restoreIpAddresses(self, s):\n",
    "        # write your code here\n",
    "        result, result_list = [], []\n",
    "        self.dfs(s, result, result_list)\n",
    "        return result_list\n",
    "    \n",
    "    \n",
    "    def dfs(self, s, result, result_list):\n",
    "        if len(result) == 4:\n",
    "            if len(s) == 0:\n",
    "                result_list.append(self.getIp(result))\n",
    "            return\n",
    "        \n",
    "        for end in range(len(s)):\n",
    "            curr_s = s[:end+1]\n",
    "            if self.isValidIp(curr_s):\n",
    "                result.append(curr_s)\n",
    "                self.dfs(s[end+1:], result, result_list)\n",
    "                del result[-1]\n",
    "    \n",
    "    \n",
    "    def getIp(self, result):\n",
    "        return '.'.join(result)\n",
    "    \n",
    "    \n",
    "    def isValidIp(self, s):\n",
    "        if len(s) > 1 and s[0] == '0':\n",
    "            return False\n",
    "        if int(s) > 255:\n",
    "            return False\n",
    "        return True\n",
    "            \n",
    "        "
   ]
  },
  {
   "cell_type": "markdown",
   "metadata": {},
   "source": [
    "# Test"
   ]
  },
  {
   "cell_type": "code",
   "execution_count": 12,
   "metadata": {},
   "outputs": [
    {
     "data": {
      "text/plain": [
       "['0.10.0.10', '0.100.1.0']"
      ]
     },
     "execution_count": 12,
     "metadata": {},
     "output_type": "execute_result"
    }
   ],
   "source": [
    "a = Solution()\n",
    "# s = \"25525511135\"\n",
    "s = \"010010\"\n",
    "\n",
    "a.restoreIpAddresses(s)"
   ]
  },
  {
   "cell_type": "markdown",
   "metadata": {},
   "source": [
    "# History"
   ]
  },
  {
   "cell_type": "markdown",
   "metadata": {},
   "source": [
    "## DFS"
   ]
  },
  {
   "cell_type": "code",
   "execution_count": 2,
   "metadata": {},
   "outputs": [],
   "source": [
    "class Solution:\n",
    "    \"\"\"\n",
    "    @param s: the IP string\n",
    "    @return: All possible valid IP addresses\n",
    "    \"\"\"\n",
    "    def restoreIpAddresses(self, s):\n",
    "        # write your code here\n",
    "        result = []\n",
    "        result_list = []\n",
    "        self.dfs(s, result, result_list)\n",
    "        return result_list\n",
    "    \n",
    "    def dfs(self, s, result, result_list):\n",
    "        \n",
    "        if len(result) == 4:\n",
    "            if s == '':\n",
    "                result = self.get_ip(result)\n",
    "                result_list.append(result)\n",
    "            else:\n",
    "                return\n",
    "            \n",
    "        for end in range(len(s)):\n",
    "            \n",
    "            current_value = s[:end+1]\n",
    "            \n",
    "            if self.is_vaild_ip(current_value):\n",
    "                \n",
    "                result.append(current_value)\n",
    "                remaining_s = s[end+1:]\n",
    "                \n",
    "                self.dfs(remaining_s, result, result_list)\n",
    "                \n",
    "                result.pop()\n",
    "                \n",
    "    def is_vaild_ip(self, current_value):\n",
    "        if int(current_value) > 255:\n",
    "            return False\n",
    "        if len(current_value) > 1 and current_value[0] == '0': ########## like 01, 023...\n",
    "            return False\n",
    "        return True\n",
    "    \n",
    "    def get_ip(self, result):\n",
    "        return '.'.join(result)"
   ]
  },
  {
   "cell_type": "markdown",
   "metadata": {},
   "source": [
    "## Test"
   ]
  },
  {
   "cell_type": "code",
   "execution_count": 11,
   "metadata": {},
   "outputs": [
    {
     "data": {
      "text/plain": [
       "['0.10.0.10', '0.100.1.0']"
      ]
     },
     "execution_count": 11,
     "metadata": {},
     "output_type": "execute_result"
    }
   ],
   "source": [
    "# s = '1116512311'\n",
    "s = '010010'\n",
    "dfs = Solution()\n",
    "\n",
    "dfs.restoreIpAddresses(s)"
   ]
  },
  {
   "cell_type": "code",
   "execution_count": null,
   "metadata": {},
   "outputs": [],
   "source": []
  }
 ],
 "metadata": {
  "kernelspec": {
   "display_name": "Python 3",
   "language": "python",
   "name": "python3"
  },
  "language_info": {
   "codemirror_mode": {
    "name": "ipython",
    "version": 3
   },
   "file_extension": ".py",
   "mimetype": "text/x-python",
   "name": "python",
   "nbconvert_exporter": "python",
   "pygments_lexer": "ipython3",
   "version": "3.7.2"
  },
  "toc": {
   "base_numbering": 1,
   "nav_menu": {},
   "number_sections": true,
   "sideBar": true,
   "skip_h1_title": false,
   "title_cell": "Table of Contents",
   "title_sidebar": "Contents",
   "toc_cell": false,
   "toc_position": {},
   "toc_section_display": true,
   "toc_window_display": false
  }
 },
 "nbformat": 4,
 "nbformat_minor": 2
}
