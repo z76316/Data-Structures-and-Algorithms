{
 "cells": [
  {
   "cell_type": "markdown",
   "metadata": {},
   "source": [
    "Given a set of distinct integers, return all possible subsets.\n",
    "\n",
    "Example 1:\n",
    "\n",
    "    Input: [0]\n",
    "    Output:\n",
    "    [\n",
    "      [],\n",
    "      [0]\n",
    "    ]\n",
    "    \n",
    "Example 2:\n",
    "\n",
    "    Input: [1,2,3]\n",
    "    Output:\n",
    "    [\n",
    "      [3],\n",
    "      [1],\n",
    "      [2],\n",
    "      [1,2,3],\n",
    "      [1,3],\n",
    "      [2,3],\n",
    "      [1,2],\n",
    "      []\n",
    "    ]\n",
    "    \n",
    "Challenge\n",
    "\n",
    "    Can you do it in both recursively and iteratively?\n",
    "\n",
    "Notice\n",
    "\n",
    "    Elements in a subset must be in non-descending order.\n",
    "    The solution set must not contain duplicate subsets.\n",
    "\n",
    "https://www.lintcode.com/problem/subsets/description\n",
    "\n",
    "https://leetcode.com/problems/subsets/discuss/27301/Python-easy-to-understand-solutions-(DFS-recursively-Bit-Manipulation-Iteratively)."
   ]
  },
  {
   "cell_type": "markdown",
   "metadata": {},
   "source": [
    "# Solution"
   ]
  },
  {
   "cell_type": "markdown",
   "metadata": {},
   "source": [
    "## DFS\n",
    "https://photos.app.goo.gl/5jRyyj6p4ggoaTMW9"
   ]
  },
  {
   "cell_type": "code",
   "execution_count": 2,
   "metadata": {},
   "outputs": [],
   "source": [
    "class Solution:\n",
    "    \"\"\"\n",
    "    @param nums: A set of numbers\n",
    "    @return: A list of lists\n",
    "    \"\"\"\n",
    "    def subsets(self, nums):\n",
    "        # write your code here\n",
    "        if not nums:\n",
    "            return nums\n",
    "        \n",
    "        nums = sorted(nums)\n",
    "        start_index = 0\n",
    "        result, result_list = [], []\n",
    "        self.dfs(nums, start_index, result, result_list)\n",
    "        return result_list\n",
    "    \n",
    "    \n",
    "    def dfs(self, nums, start_index, result, result_list):\n",
    "        result_list.append(list(result))\n",
    "        for i in range(start_index, len(nums)):\n",
    "            curr_n = nums[i]\n",
    "            result.append(curr_n)\n",
    "            start_index += 1\n",
    "            self.dfs(nums, start_index, result, result_list)\n",
    "            result.pop()"
   ]
  },
  {
   "cell_type": "markdown",
   "metadata": {},
   "source": [
    "## Iteration (cascading)\n",
    "https://leetcode.com/problems/subsets/solution/"
   ]
  },
  {
   "cell_type": "code",
   "execution_count": 7,
   "metadata": {},
   "outputs": [],
   "source": [
    "class Solution:\n",
    "    def subsets(self, nums):\n",
    "        result = [[]]\n",
    "        for n in nums:\n",
    "            result += [curr_n + [n] for curr_n in result]\n",
    "        return result"
   ]
  },
  {
   "cell_type": "markdown",
   "metadata": {},
   "source": [
    "# Test"
   ]
  },
  {
   "cell_type": "code",
   "execution_count": 8,
   "metadata": {},
   "outputs": [
    {
     "data": {
      "text/plain": [
       "[[], [1], [2], [1, 2], [3], [1, 3], [2, 3], [1, 2, 3]]"
      ]
     },
     "execution_count": 8,
     "metadata": {},
     "output_type": "execute_result"
    }
   ],
   "source": [
    "a = Solution()\n",
    "nums = [1, 2, 3]\n",
    "\n",
    "a.subsets(nums)"
   ]
  },
  {
   "cell_type": "code",
   "execution_count": null,
   "metadata": {},
   "outputs": [],
   "source": []
  },
  {
   "cell_type": "markdown",
   "metadata": {},
   "source": [
    "# History"
   ]
  },
  {
   "cell_type": "code",
   "execution_count": 14,
   "metadata": {},
   "outputs": [
    {
     "data": {
      "text/plain": [
       "[[], [0]]"
      ]
     },
     "execution_count": 14,
     "metadata": {},
     "output_type": "execute_result"
    }
   ],
   "source": [
    "rrr = [[]]\n",
    "aaa = [[0]]\n",
    "\n",
    "ra = rrr + aaa\n",
    "ra"
   ]
  },
  {
   "cell_type": "markdown",
   "metadata": {},
   "source": [
    "## DFS, recursively"
   ]
  },
  {
   "cell_type": "code",
   "execution_count": 27,
   "metadata": {},
   "outputs": [],
   "source": [
    "class Solution:\n",
    "    \"\"\"\n",
    "    @param nums: A set of numbers\n",
    "    @return: A list of lists\n",
    "    \"\"\"\n",
    "    def subsets(self, nums):\n",
    "        # write your code here\n",
    "        stack_list = []\n",
    "        stack = []\n",
    "        nums = sorted(nums)\n",
    "        start_index = 0\n",
    "        self.dfs(nums, start_index, stack, stack_list)\n",
    "        return stack_list\n",
    "    \n",
    "    def dfs(self, nums, start_index, stack, stack_list):\n",
    "        stack_list.append(list(stack)) ### pass by address with list(stack)\n",
    "        for i in range(start_index, len(nums)):\n",
    "            stack.append(nums[i])\n",
    "            self.dfs(nums, i+1, stack, stack_list)\n",
    "            print('stack before pop():', stack)\n",
    "            stack.pop()\n",
    "        return stack_list"
   ]
  },
  {
   "cell_type": "markdown",
   "metadata": {},
   "source": [
    "## Test"
   ]
  },
  {
   "cell_type": "code",
   "execution_count": 29,
   "metadata": {},
   "outputs": [
    {
     "name": "stdout",
     "output_type": "stream",
     "text": [
      "stack before pop(): [0, 1, 2]\n",
      "stack before pop(): [0, 1]\n",
      "stack before pop(): [0, 2]\n",
      "stack before pop(): [0]\n",
      "stack before pop(): [1, 2]\n",
      "stack before pop(): [1]\n",
      "stack before pop(): [2]\n"
     ]
    },
    {
     "data": {
      "text/plain": [
       "[[], [0], [0, 1], [0, 1, 2], [0, 2], [1], [1, 2], [2]]"
      ]
     },
     "execution_count": 29,
     "metadata": {},
     "output_type": "execute_result"
    }
   ],
   "source": [
    "nums = [0, 1, 2]\n",
    "dfs = Solution()\n",
    "dfs.subsets(nums)"
   ]
  },
  {
   "cell_type": "markdown",
   "metadata": {},
   "source": [
    "## Iteratively"
   ]
  },
  {
   "cell_type": "code",
   "execution_count": 25,
   "metadata": {},
   "outputs": [],
   "source": [
    "class Solution2:\n",
    "    \"\"\"\n",
    "    @param nums: A set of numbers\n",
    "    @return: A list of lists\n",
    "    \"\"\"\n",
    "    def subsets(self, nums):\n",
    "        res = [[]]\n",
    "        for num in sorted(nums):\n",
    "            new_res_item = []\n",
    "            for item in res:\n",
    "                new_item = item + [num]\n",
    "                new_res_item.append(new_item)\n",
    "                print('new_res_item:', new_res_item)\n",
    "            res += new_res_item\n",
    "            print('res:', res)\n",
    "        return res"
   ]
  },
  {
   "cell_type": "markdown",
   "metadata": {},
   "source": [
    "## Test 2"
   ]
  },
  {
   "cell_type": "code",
   "execution_count": 30,
   "metadata": {},
   "outputs": [
    {
     "name": "stdout",
     "output_type": "stream",
     "text": [
      "new_res_item: [[0]]\n",
      "res: [[], [0]]\n",
      "new_res_item: [[1]]\n",
      "new_res_item: [[1], [0, 1]]\n",
      "res: [[], [0], [1], [0, 1]]\n",
      "new_res_item: [[2]]\n",
      "new_res_item: [[2], [0, 2]]\n",
      "new_res_item: [[2], [0, 2], [1, 2]]\n",
      "new_res_item: [[2], [0, 2], [1, 2], [0, 1, 2]]\n",
      "res: [[], [0], [1], [0, 1], [2], [0, 2], [1, 2], [0, 1, 2]]\n"
     ]
    },
    {
     "data": {
      "text/plain": [
       "[[], [0], [1], [0, 1], [2], [0, 2], [1, 2], [0, 1, 2]]"
      ]
     },
     "execution_count": 30,
     "metadata": {},
     "output_type": "execute_result"
    }
   ],
   "source": [
    "nums = [0, 1, 2]\n",
    "iterate = Solution2()\n",
    "\n",
    "iterate.subsets(nums)"
   ]
  },
  {
   "cell_type": "code",
   "execution_count": null,
   "metadata": {},
   "outputs": [],
   "source": []
  }
 ],
 "metadata": {
  "kernelspec": {
   "display_name": "Python 3",
   "language": "python",
   "name": "python3"
  },
  "language_info": {
   "codemirror_mode": {
    "name": "ipython",
    "version": 3
   },
   "file_extension": ".py",
   "mimetype": "text/x-python",
   "name": "python",
   "nbconvert_exporter": "python",
   "pygments_lexer": "ipython3",
   "version": "3.7.2"
  },
  "toc": {
   "base_numbering": 1,
   "nav_menu": {},
   "number_sections": true,
   "sideBar": true,
   "skip_h1_title": false,
   "title_cell": "Table of Contents",
   "title_sidebar": "Contents",
   "toc_cell": false,
   "toc_position": {},
   "toc_section_display": true,
   "toc_window_display": false
  }
 },
 "nbformat": 4,
 "nbformat_minor": 2
}
