{
 "cells": [
  {
   "cell_type": "markdown",
   "metadata": {},
   "source": [
    "Given an array num and a number target. Find all unique combinations in num where the numbers sum to target.\n",
    "\n",
    "Example 1:\n",
    "\n",
    "    Input: num = [7,1,2,5,1,6,10], target = 8\n",
    "    Output: [[1,1,6],[1,2,5],[1,7],[2,6]]\n",
    "    \n",
    "Example 2:\n",
    "\n",
    "    Input: num = [1,1,1], target = 2\n",
    "    Output: [[1,1]]\n",
    "\n",
    "Explanation: The solution set must not contain duplicate combinations.\n",
    "\n",
    "Notice\n",
    "1. Each number in num can only be used once in one combination.\n",
    "2. All numbers (including target) will be positive integers.\n",
    "3. Numbers in a combination a1, a2, … , ak must be in non-descending order. (ie, a1 ≤ a2 ≤ … ≤ ak)\n",
    "4. Different combinations can be in any order.\n",
    "5. The solution set must not contain duplicate combinations.\n",
    "\n",
    "https://www.lintcode.com/problem/combination-sum-ii/description\n",
    "\n",
    "https://photos.app.goo.gl/TAgdmUAYSQrygjbw6"
   ]
  },
  {
   "cell_type": "markdown",
   "metadata": {},
   "source": [
    "# DFS"
   ]
  },
  {
   "cell_type": "code",
   "execution_count": 10,
   "metadata": {},
   "outputs": [],
   "source": [
    "class Solution:\n",
    "    \"\"\"\n",
    "    @param num: Given the candidate numbers\n",
    "    @param target: Given the target number\n",
    "    @return: All the combinations that sum to target\n",
    "    \"\"\"\n",
    "    def combinationSum2(self, candidates, target):\n",
    "        # write your code here\n",
    "        candidates = sorted(candidates) #####\n",
    "        \n",
    "        result = []\n",
    "        result_list = []\n",
    "        start_index = 0\n",
    "        \n",
    "        self.dfs(candidates, target, start_index, result, result_list)\n",
    "        \n",
    "        return result_list\n",
    "    \n",
    "    \n",
    "    def dfs(self, candidates, target, start_index, result, result_list):\n",
    "        \n",
    "        if target == 0:\n",
    "            if result not in result_list:\n",
    "                result_list.append(list(result)) #####\n",
    "            return\n",
    "\n",
    "        for i in range(start_index, len(candidates)):\n",
    "            \n",
    "            curr_num = candidates[i]\n",
    "            remain = target - curr_num\n",
    "\n",
    "            if remain < 0: return\n",
    "            \n",
    "            result.append(curr_num)\n",
    "\n",
    "            next_start_index = i+1 #####\n",
    "            next_target = remain\n",
    "\n",
    "            self.dfs(candidates, next_target, next_start_index, result, result_list)\n",
    "\n",
    "            result.pop()"
   ]
  },
  {
   "cell_type": "markdown",
   "metadata": {},
   "source": [
    "# Test"
   ]
  },
  {
   "cell_type": "code",
   "execution_count": 11,
   "metadata": {},
   "outputs": [
    {
     "data": {
      "text/plain": [
       "[[1, 1, 6], [1, 2, 5], [1, 7], [2, 6]]"
      ]
     },
     "execution_count": 11,
     "metadata": {},
     "output_type": "execute_result"
    }
   ],
   "source": [
    "input = [7, 1, 2, 5, 1, 6, 10]\n",
    "target = 8\n",
    "\n",
    "dfs = Solution()\n",
    "dfs.combinationSum2(input, target)"
   ]
  },
  {
   "cell_type": "code",
   "execution_count": null,
   "metadata": {},
   "outputs": [],
   "source": []
  }
 ],
 "metadata": {
  "kernelspec": {
   "display_name": "Python 3",
   "language": "python",
   "name": "python3"
  },
  "language_info": {
   "codemirror_mode": {
    "name": "ipython",
    "version": 3
   },
   "file_extension": ".py",
   "mimetype": "text/x-python",
   "name": "python",
   "nbconvert_exporter": "python",
   "pygments_lexer": "ipython3",
   "version": "3.7.2"
  }
 },
 "nbformat": 4,
 "nbformat_minor": 2
}
