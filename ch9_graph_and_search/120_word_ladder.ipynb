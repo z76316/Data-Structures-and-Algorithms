{
 "cells": [
  {
   "cell_type": "markdown",
   "metadata": {},
   "source": [
    "Given two words (start and end), and a dictionary, find the shortest transformation sequence from start to end, output the length of the sequence.\n",
    "Transformation rule such that:\n",
    "\n",
    "    1. Only one letter can be changed at a time\n",
    "    2. Each intermediate word must exist in the dictionary. (Start and end words do not need to appear in the dictionary )\n",
    "    \n",
    "Example 1:\n",
    "\n",
    "    Input：start = \"a\"，end = \"c\"，dict =[\"a\",\"b\",\"c\"]\n",
    "    Output：2\n",
    "\n",
    "    Explanation：\n",
    "        \"a\"->\"c\"\n",
    "\n",
    "Example 2:\n",
    "\n",
    "    Input：start =\"hit\"，end = \"cog\"，dict =[\"hot\",\"dot\",\"dog\",\"lot\",\"log\"]\n",
    "    Output：5\n",
    "\n",
    "    Explanation：\n",
    "        \"hit\"->\"hot\"->\"dot\"->\"dog\"->\"cog\"\n",
    "        \n",
    "https://www.lintcode.com/problem/word-ladder/description\n",
    "\n",
    "https://leetcode.com/problems/word-ladder/\n",
    "\n",
    "https://photos.app.goo.gl/v6tr7rWSNYasH7zQA"
   ]
  },
  {
   "cell_type": "markdown",
   "metadata": {},
   "source": [
    "# Solution"
   ]
  },
  {
   "cell_type": "markdown",
   "metadata": {
    "heading_collapsed": true
   },
   "source": [
    "## LintCode"
   ]
  },
  {
   "cell_type": "code",
   "execution_count": 6,
   "metadata": {
    "hidden": true
   },
   "outputs": [],
   "source": [
    "from collections import deque\n",
    "class Solution:\n",
    "    \"\"\"\n",
    "    @param: start: a string\n",
    "    @param: end: a string\n",
    "    @param: dict: a set of string\n",
    "    @return: An integer\n",
    "    \"\"\"\n",
    "    def ladderLength(self, start, end, dict):\n",
    "        # write your code here\n",
    "        dict.add(end)\n",
    "        visited_set = set([start])\n",
    "        queue = deque([start])\n",
    "        distance = 0\n",
    "        \n",
    "        while queue:\n",
    "            distance += 1\n",
    "            for i in range(len(queue)):\n",
    "                curr_w = queue.popleft()\n",
    "                if curr_w == end:\n",
    "                    return distance\n",
    "                \n",
    "                next_word_list = self.getNextWordList(curr_w)\n",
    "                for next_w in next_word_list:\n",
    "                    if self.isValid(next_w, dict, visited_set):\n",
    "                        queue.append(next_w)\n",
    "                        visited_set.add(next_w)  \n",
    "        return 0\n",
    "    \n",
    "    \n",
    "    def getNextWordList(self, word):\n",
    "        next_word_list = []\n",
    "        for i in range(len(word)):\n",
    "            left = word[:i]\n",
    "            right = word[i+1:]\n",
    "            for c in 'abcdefghijklmnopqrstuvwxyz':\n",
    "                if c == word[i]:\n",
    "                    continue\n",
    "                next_word = left + c + right\n",
    "                next_word_list.append(next_word)\n",
    "        return next_word_list\n",
    "    \n",
    "    \n",
    "    def isValid(self, word, dict, visited_set):\n",
    "        return (word in dict) and (word not in visited_set)\n",
    "    "
   ]
  },
  {
   "cell_type": "markdown",
   "metadata": {},
   "source": [
    "## LeetCode ver. (endWord should be include in the given wordList)"
   ]
  },
  {
   "cell_type": "code",
   "execution_count": 11,
   "metadata": {},
   "outputs": [],
   "source": [
    "from collections import deque\n",
    "class Solution:\n",
    "    def ladderLength(self, beginWord, endWord, wordList) -> int:\n",
    "        wordList = set(wordList)\n",
    "        queue = deque([beginWord])\n",
    "        visited_set = set([beginWord])\n",
    "        distance = 0\n",
    "        \n",
    "        while queue:\n",
    "            distance += 1\n",
    "            for i in range(len(queue)):\n",
    "                curr_w = queue.popleft()\n",
    "                if curr_w == endWord:\n",
    "                    return distance\n",
    "                \n",
    "                next_word_list = self.getNextWordList(curr_w)\n",
    "                for next_w in next_word_list:\n",
    "                    if self.isValid(next_w, wordList, visited_set):\n",
    "                        queue.append(next_w)\n",
    "                        visited_set.add(next_w)\n",
    "        return 0\n",
    "    \n",
    "    \n",
    "    def getNextWordList(self, word):\n",
    "        next_word_list = []\n",
    "        for i in range(len(word)):\n",
    "            left = word[:i]\n",
    "            right = word[i+1:]\n",
    "            for c in 'abcdefghijklmnopqrstuvwxyz':\n",
    "                if c == word[i]:\n",
    "                    continue\n",
    "                next_word = left + c + right\n",
    "                next_word_list.append(next_word)\n",
    "        return next_word_list\n",
    "    \n",
    "    \n",
    "    def isValid(self, word, wordList, visited_set):\n",
    "        return (word in wordList) and (word not in visited_set)\n",
    "    "
   ]
  },
  {
   "cell_type": "markdown",
   "metadata": {},
   "source": [
    "# Test"
   ]
  },
  {
   "cell_type": "code",
   "execution_count": 12,
   "metadata": {},
   "outputs": [
    {
     "data": {
      "text/plain": [
       "0"
      ]
     },
     "execution_count": 12,
     "metadata": {},
     "output_type": "execute_result"
    }
   ],
   "source": [
    "a = Solution()\n",
    "start = \"hit\"\n",
    "end = \"cog\"\n",
    "dict = {\"hot\",\"dot\",\"dog\",\"lot\",\"log\"}\n",
    "\n",
    "a.ladderLength(start, end, dict)"
   ]
  },
  {
   "cell_type": "markdown",
   "metadata": {},
   "source": [
    "# BFS, iteration"
   ]
  },
  {
   "cell_type": "code",
   "execution_count": 7,
   "metadata": {},
   "outputs": [],
   "source": [
    "class Solution:\n",
    "    \"\"\"\n",
    "    @param: start: a string\n",
    "    @param: end: a string\n",
    "    @param: dict: a set of string\n",
    "    @return: An integer\n",
    "    \"\"\"\n",
    "    def ladderLength(self, start, end, dict):\n",
    "        # write your code here\n",
    "        \n",
    "        dict.add(end) ############\n",
    "        \n",
    "        distance = 0\n",
    "        visited_word_list = set([start]) #############\n",
    "        queue = [start]\n",
    "        \n",
    "        while True:\n",
    "            \n",
    "            if len(queue) == 0:\n",
    "                return 0\n",
    "            \n",
    "            distance += 1\n",
    "            for i in range(len(queue)):\n",
    "                \n",
    "                current_word = queue.pop(0)\n",
    "                \n",
    "                if current_word == end:\n",
    "                    return distance\n",
    "                \n",
    "                next_word_list = self.get_next_word_list(current_word)\n",
    "                for next_word in next_word_list:\n",
    "                    if self.is_valid(next_word, dict, visited_word_list):\n",
    "                        queue.append(next_word)\n",
    "                        if next_word not in visited_word_list:\n",
    "                            visited_word_list.add(next_word) #############\n",
    "                            \n",
    "    def get_next_word_list(self, current_word):\n",
    "        \n",
    "        next_word_list = []\n",
    "        \n",
    "        for i, old_char in enumerate(current_word):\n",
    "            left = current_word[:i]\n",
    "            right = current_word[i+1:]\n",
    "            for new_char in 'abcdefghijklmnopqrstuvwxyz':\n",
    "                if new_char != old_char:\n",
    "                    next_word = left + new_char + right\n",
    "                    next_word_list.append(next_word)\n",
    "                \n",
    "        return next_word_list\n",
    "    \n",
    "    def is_valid(self, next_word, dict, visited_word_list):\n",
    "        \n",
    "        if (next_word not in dict) or (next_word in visited_word_list):\n",
    "            return False\n",
    "        \n",
    "        return True"
   ]
  },
  {
   "cell_type": "markdown",
   "metadata": {},
   "source": [
    "# Test"
   ]
  },
  {
   "cell_type": "code",
   "execution_count": 8,
   "metadata": {},
   "outputs": [
    {
     "data": {
      "text/plain": [
       "5"
      ]
     },
     "execution_count": 8,
     "metadata": {},
     "output_type": "execute_result"
    }
   ],
   "source": [
    "start = 'hit'\n",
    "end = 'cog'\n",
    "dict = set(['hot', 'dot', 'dog', 'lot', 'log'])\n",
    "\n",
    "BFS = Solution()\n",
    "BFS.ladderLength(start, end, dict)"
   ]
  },
  {
   "cell_type": "code",
   "execution_count": null,
   "metadata": {},
   "outputs": [],
   "source": []
  }
 ],
 "metadata": {
  "kernelspec": {
   "display_name": "Python 3",
   "language": "python",
   "name": "python3"
  },
  "language_info": {
   "codemirror_mode": {
    "name": "ipython",
    "version": 3
   },
   "file_extension": ".py",
   "mimetype": "text/x-python",
   "name": "python",
   "nbconvert_exporter": "python",
   "pygments_lexer": "ipython3",
   "version": "3.7.2"
  },
  "toc": {
   "base_numbering": 1,
   "nav_menu": {},
   "number_sections": true,
   "sideBar": true,
   "skip_h1_title": false,
   "title_cell": "Table of Contents",
   "title_sidebar": "Contents",
   "toc_cell": false,
   "toc_position": {},
   "toc_section_display": true,
   "toc_window_display": false
  }
 },
 "nbformat": 4,
 "nbformat_minor": 2
}
