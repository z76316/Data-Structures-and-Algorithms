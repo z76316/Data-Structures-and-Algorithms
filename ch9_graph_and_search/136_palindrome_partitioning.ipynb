{
 "cells": [
  {
   "cell_type": "markdown",
   "metadata": {},
   "source": [
    "Given a string s. Partition s such that every substring in the partition is a palindrome.\n",
    "Return all possible palindrome partitioning of s.\n",
    "\n",
    "Example 1:\n",
    "\n",
    "    Input: \"a\"\n",
    "    Output: [[\"a\"]]\n",
    "    \n",
    "    Explanation: Only 1 char in the string, only 1 way to split it (itself).\n",
    "    \n",
    "Example 2:\n",
    "\n",
    "    Input: \"aab\"\n",
    "    Output: [[\"aa\", \"b\"], [\"a\", \"a\", \"b\"]]\n",
    "    \n",
    "    Explanation: There are 2 ways to split \"aab\".\n",
    "        1. Split \"aab\" into \"aa\" and \"b\", both palindrome.\n",
    "        2. Split \"aab\" into \"a\", \"a\", and \"b\", all palindrome.\n",
    "        \n",
    "Notice\n",
    "\n",
    "    Different partitionings can be in any order.\n",
    "    Each substring must be a continuous segment of s.\n",
    "    \n",
    "https://www.lintcode.com/problem/palindrome-partitioning/description\n",
    "\n",
    "https://leetcode.com/problems/palindrome-partitioning/"
   ]
  },
  {
   "cell_type": "markdown",
   "metadata": {},
   "source": [
    "# Solution"
   ]
  },
  {
   "cell_type": "code",
   "execution_count": 3,
   "metadata": {},
   "outputs": [],
   "source": [
    "class Solution:\n",
    "    \"\"\"\n",
    "    @param: s: A string\n",
    "    @return: A list of lists of string\n",
    "    \"\"\"\n",
    "    def partition(self, s):\n",
    "        # write your code here\n",
    "        if not s or len(s) == 0:\n",
    "            return []\n",
    "        \n",
    "        palin_list, result = [], []\n",
    "        self.dfs(palin_list, result, s)\n",
    "        return result\n",
    "    \n",
    "    \n",
    "    def dfs(self, palin_list, result, s):\n",
    "        n = len(s)\n",
    "        if n == 0:\n",
    "            result.append(list(palin_list))     #####\n",
    "            return\n",
    "        \n",
    "        for end in range(n):     ##### try every end to seperate substrings\n",
    "            curr_s = s[:end+1]\n",
    "            if self.isPalin(curr_s):\n",
    "                palin_list.append(curr_s)\n",
    "                self.dfs(palin_list, result, s[end+1:])\n",
    "                del palin_list[-1]\n",
    "        \n",
    "        \n",
    "    def isPalin(self, s):\n",
    "        if s == s[::-1]:\n",
    "            return True\n",
    "        return False\n",
    "        "
   ]
  },
  {
   "cell_type": "markdown",
   "metadata": {},
   "source": [
    "# Test"
   ]
  },
  {
   "cell_type": "code",
   "execution_count": 4,
   "metadata": {},
   "outputs": [
    {
     "data": {
      "text/plain": [
       "[['a', 'a', 'b'], ['aa', 'b']]"
      ]
     },
     "execution_count": 4,
     "metadata": {},
     "output_type": "execute_result"
    }
   ],
   "source": [
    "a = Solution()\n",
    "s = \"aab\"\n",
    "\n",
    "a.partition(s)"
   ]
  },
  {
   "cell_type": "code",
   "execution_count": null,
   "metadata": {},
   "outputs": [],
   "source": []
  },
  {
   "cell_type": "markdown",
   "metadata": {},
   "source": [
    "# History"
   ]
  },
  {
   "cell_type": "markdown",
   "metadata": {},
   "source": [
    "## DFS"
   ]
  },
  {
   "cell_type": "code",
   "execution_count": 24,
   "metadata": {},
   "outputs": [],
   "source": [
    "class Solution:\n",
    "    \"\"\"\n",
    "    @param: s: A string\n",
    "    @return: A list of lists of string\n",
    "    \"\"\"\n",
    "    def partition(self, s):\n",
    "        # write your code here\n",
    "        \n",
    "        str_list = []\n",
    "        result_list = []\n",
    "        self.dfs(s, str_list, result_list)\n",
    "        \n",
    "        return result_list\n",
    "        \n",
    "        \n",
    "    def dfs(self, s, str_list, result_list):\n",
    "        \n",
    "        n = len(s)\n",
    "        \n",
    "        if n == 0:\n",
    "            result_list.append(list(str_list)) ### create a new memory address\n",
    "            return\n",
    "        \n",
    "        for end in range(n):\n",
    "            \n",
    "            curr_str = s[:end+1]\n",
    "            \n",
    "            if self.isPalindrome(curr_str):\n",
    "                \n",
    "                str_list.append(curr_str)\n",
    "                \n",
    "                self.dfs(s[end+1:], str_list, result_list)\n",
    "                \n",
    "                str_list.pop()\n",
    "        \n",
    "        \n",
    "    def isPalindrome(self, s):\n",
    "        if s == s[::-1]: ### palindrome\n",
    "            return True\n",
    "        return False"
   ]
  },
  {
   "cell_type": "markdown",
   "metadata": {},
   "source": [
    "## Test"
   ]
  },
  {
   "cell_type": "code",
   "execution_count": 25,
   "metadata": {},
   "outputs": [
    {
     "data": {
      "text/plain": [
       "[['a', 'a', 'b', 'b', 'a', 'b', 'c'],\n",
       " ['a', 'a', 'b', 'bab', 'c'],\n",
       " ['a', 'a', 'bb', 'a', 'b', 'c'],\n",
       " ['a', 'abba', 'b', 'c'],\n",
       " ['aa', 'b', 'b', 'a', 'b', 'c'],\n",
       " ['aa', 'b', 'bab', 'c'],\n",
       " ['aa', 'bb', 'a', 'b', 'c']]"
      ]
     },
     "execution_count": 25,
     "metadata": {},
     "output_type": "execute_result"
    }
   ],
   "source": [
    "input = 'aabbabc'\n",
    "dfs = Solution()\n",
    "dfs.partition(input)"
   ]
  },
  {
   "cell_type": "code",
   "execution_count": null,
   "metadata": {},
   "outputs": [],
   "source": []
  }
 ],
 "metadata": {
  "kernelspec": {
   "display_name": "Python 3",
   "language": "python",
   "name": "python3"
  },
  "language_info": {
   "codemirror_mode": {
    "name": "ipython",
    "version": 3
   },
   "file_extension": ".py",
   "mimetype": "text/x-python",
   "name": "python",
   "nbconvert_exporter": "python",
   "pygments_lexer": "ipython3",
   "version": "3.7.2"
  },
  "toc": {
   "base_numbering": 1,
   "nav_menu": {},
   "number_sections": true,
   "sideBar": true,
   "skip_h1_title": false,
   "title_cell": "Table of Contents",
   "title_sidebar": "Contents",
   "toc_cell": false,
   "toc_position": {},
   "toc_section_display": true,
   "toc_window_display": false
  }
 },
 "nbformat": 4,
 "nbformat_minor": 2
}
