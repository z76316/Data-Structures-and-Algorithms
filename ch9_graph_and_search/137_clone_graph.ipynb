{
 "cells": [
  {
   "cell_type": "markdown",
   "metadata": {},
   "source": [
    "Clone an undirected graph. Each node in the graph contains a label and a list of its neighbors. Nodes are labeled uniquely.\n",
    "\n",
    "You need to return a deep copied graph, which has the same structure as the original graph, and any changes to the new graph will not have any effect on the original graph.\n",
    "\n",
    "Clarification\n",
    "How we serialize an undirected graph: http://www.lintcode.com/help/graph/\n",
    "\n",
    "Notice\n",
    "You need return the node with the same label as the input node.\n",
    "\n",
    "https://leetcode.com/problems/clone-graph/\n",
    "\n",
    "https://leetcode.com/problems/clone-graph/discuss/42314/Python-solutions-(BFS-DFS-iteratively-DFS-recursively)."
   ]
  },
  {
   "cell_type": "markdown",
   "metadata": {},
   "source": [
    "# Solution"
   ]
  },
  {
   "cell_type": "markdown",
   "metadata": {},
   "source": [
    "## BFS"
   ]
  },
  {
   "cell_type": "code",
   "execution_count": 14,
   "metadata": {},
   "outputs": [],
   "source": [
    "from collections import deque\n",
    "class Solution:\n",
    "    def cloneGraph(self, node: 'Node') -> 'Node':\n",
    "        if not node:\n",
    "            return node\n",
    "        \n",
    "        visited_dict = {node: Node(node.val)}\n",
    "        queue = deque([node])\n",
    "        while queue:\n",
    "            curr_node = queue.popleft()\n",
    "            for neighbor in curr_node.neighbors:\n",
    "                if neighbor not in visited_dict:\n",
    "                    queue.append(neighbor)\n",
    "                    visited_dict[neighbor] = Node(neighbor.val)\n",
    "                visited_dict[curr_node].neighbors.append(visited_dict[neighbor])\n",
    "        return visited_dict[node]"
   ]
  },
  {
   "cell_type": "markdown",
   "metadata": {},
   "source": [
    "## DFS (iterative)"
   ]
  },
  {
   "cell_type": "code",
   "execution_count": 24,
   "metadata": {},
   "outputs": [],
   "source": [
    "class Solution:\n",
    "    def cloneGraph(self, node: 'Node') -> 'Node':\n",
    "        if not node:\n",
    "            return node\n",
    "        \n",
    "        visited_dict = {node: Node(node.val)}\n",
    "        stack = [node]\n",
    "        while stack:\n",
    "            curr_node = stack.pop()\n",
    "            for neighbor in curr_node.neighbors:\n",
    "                if neighbor not in visited_dict:\n",
    "                    stack.append(neighbor)\n",
    "                    visited_dict[neighbor] = Node(neighbor.val)\n",
    "                visited_dict[curr_node].neighbors.append(visited_dict[neighbor])\n",
    "        return visited_dict[node]"
   ]
  },
  {
   "cell_type": "markdown",
   "metadata": {},
   "source": [
    "## DFS (recursive)"
   ]
  },
  {
   "cell_type": "code",
   "execution_count": 25,
   "metadata": {},
   "outputs": [],
   "source": [
    "class Solution:\n",
    "    def cloneGraph(self, node: 'Node') -> 'Node':\n",
    "        if not node:\n",
    "            return node\n",
    "        \n",
    "        visited_dict = {node: Node(node.val)}\n",
    "        self.dfs(node, visited_dict)\n",
    "        return visited_dict[node]\n",
    "    \n",
    "    \n",
    "    def dfs(self, node, visited_dict):\n",
    "        for neighbor in node.neighbors:\n",
    "            if neighbor not in visited_dict:\n",
    "                visited_dict[neighbor] = Node(neighbor.val)\n",
    "                self.dfs(neighbor, visited_dict)\n",
    "            visited_dict[node].neighbors.append(visited_dict[neighbor])\n"
   ]
  },
  {
   "cell_type": "markdown",
   "metadata": {},
   "source": [
    "# Test"
   ]
  },
  {
   "cell_type": "markdown",
   "metadata": {},
   "source": [
    "## class undirected graph node"
   ]
  },
  {
   "cell_type": "code",
   "execution_count": 12,
   "metadata": {},
   "outputs": [],
   "source": [
    "class Node:\n",
    "    def __init__(self, val, neighbors=[]):\n",
    "        self.val = val\n",
    "        self.neighbors = neighbors"
   ]
  },
  {
   "cell_type": "markdown",
   "metadata": {},
   "source": [
    "## Testing"
   ]
  },
  {
   "cell_type": "code",
   "execution_count": 26,
   "metadata": {},
   "outputs": [],
   "source": [
    "n1 = Node(1)\n",
    "n2 = Node(2)\n",
    "n3 = Node(3)\n",
    "n4 = Node(4)\n",
    "n1.neighbors = [n2, n4]\n",
    "n2.neighbors = [n1, n3]\n",
    "n3.neighbors = [n2, n4]\n",
    "n4.neighbors = [n1, n3]\n",
    "\n",
    "a = Solution()\n",
    "clone_graph = a.cloneGraph(n1)"
   ]
  },
  {
   "cell_type": "markdown",
   "metadata": {},
   "source": [
    "# History"
   ]
  },
  {
   "cell_type": "markdown",
   "metadata": {},
   "source": [
    "## BFS -> queue"
   ]
  },
  {
   "cell_type": "code",
   "execution_count": 17,
   "metadata": {},
   "outputs": [],
   "source": [
    "from collections import deque\n",
    "class Solution1:\n",
    "    \"\"\"\n",
    "    @param: node: A undirected graph node\n",
    "    @return: A undirected graph node\n",
    "    \"\"\"\n",
    "    def cloneGraph(self, node):\n",
    "        # write your code here\n",
    "        if node == None: return\n",
    "        \n",
    "        node_copy = UndirectedGraphNode(node.label)\n",
    "        visited_dict = {node: node_copy}\n",
    "        queue = deque([node])\n",
    "        while queue:\n",
    "            node = queue.popleft()\n",
    "            print(node.label)\n",
    "            for neighbor_node in node.neighbors:\n",
    "                if neighbor_node not in visited_dict:\n",
    "                    neighbor_node_copy = UndirectedGraphNode(neighbor_node.label)\n",
    "                    visited_dict[neighbor_node] = neighbor_node_copy\n",
    "                    visited_dict[node].neighbors.append(neighbor_node_copy)\n",
    "                    queue.append(neighbor_node)\n",
    "                else:\n",
    "                    visited_dict[node].neighbors.append(visited_dict[neighbor_node])\n",
    "        return node_copy"
   ]
  },
  {
   "cell_type": "markdown",
   "metadata": {},
   "source": [
    "## DFS -> stack"
   ]
  },
  {
   "cell_type": "code",
   "execution_count": 18,
   "metadata": {},
   "outputs": [],
   "source": [
    "class Solution2:\n",
    "    \"\"\"\n",
    "    @param: node: A undirected graph node\n",
    "    @return: A undirected graph node\n",
    "    \"\"\"\n",
    "    def cloneGraph(self, node):\n",
    "        # write your code here\n",
    "        if node == None: return\n",
    "        \n",
    "        node_copy = UndirectedGraphNode(node.label)\n",
    "        visited_dict = {node: node_copy}\n",
    "        stack = [node]\n",
    "        while stack:\n",
    "            node = stack.pop()\n",
    "            print(node.label)\n",
    "            for neighbor_node in node.neighbors:\n",
    "                if neighbor_node not in visited_dict:\n",
    "                    neighbor_node_copy = UndirectedGraphNode(neighbor_node.label)\n",
    "                    visited_dict[neighbor_node] = neighbor_node_copy\n",
    "                    visited_dict[node].neighbors.append(neighbor_node_copy)\n",
    "                    stack.append(neighbor_node)\n",
    "                else:\n",
    "                    visited_dict[node].neighbors.append(visited_dict[neighbor_node])\n",
    "        return node_copy"
   ]
  },
  {
   "cell_type": "markdown",
   "metadata": {},
   "source": [
    "## Test"
   ]
  },
  {
   "cell_type": "code",
   "execution_count": 12,
   "metadata": {},
   "outputs": [],
   "source": [
    "# Definition of Undirected Graph Node\n",
    "class UndirectedGraphNode:\n",
    "    def __init__(self, x):\n",
    "        self.label = x\n",
    "        self.neighbors = []"
   ]
  },
  {
   "cell_type": "code",
   "execution_count": 13,
   "metadata": {},
   "outputs": [],
   "source": [
    "n1 = UndirectedGraphNode(1)\n",
    "n2 = UndirectedGraphNode(2)\n",
    "n3 = UndirectedGraphNode(3)\n",
    "n4 = UndirectedGraphNode(4)\n",
    "n5 = UndirectedGraphNode(5)\n",
    "n1.neighbors = [n2,n3]\n",
    "n2.neighbors = [n1,n3,n5]\n",
    "n3.neighbors = [n1,n2,n4]\n",
    "n4.neighbors = [n3,n5]\n",
    "n5.neighbors = [n2,n4]"
   ]
  },
  {
   "cell_type": "code",
   "execution_count": 20,
   "metadata": {},
   "outputs": [
    {
     "name": "stdout",
     "output_type": "stream",
     "text": [
      "1\n",
      "2\n",
      "3\n",
      "5\n",
      "4\n"
     ]
    },
    {
     "data": {
      "text/plain": [
       "<__main__.UndirectedGraphNode at 0x10dff6c18>"
      ]
     },
     "execution_count": 20,
     "metadata": {},
     "output_type": "execute_result"
    }
   ],
   "source": [
    "BFS = Solution1()\n",
    "BFS.cloneGraph(n1)"
   ]
  },
  {
   "cell_type": "code",
   "execution_count": 21,
   "metadata": {},
   "outputs": [
    {
     "name": "stdout",
     "output_type": "stream",
     "text": [
      "1\n",
      "3\n",
      "4\n",
      "5\n",
      "2\n"
     ]
    },
    {
     "data": {
      "text/plain": [
       "<__main__.UndirectedGraphNode at 0x10dff69b0>"
      ]
     },
     "execution_count": 21,
     "metadata": {},
     "output_type": "execute_result"
    }
   ],
   "source": [
    "DFS = Solution2()\n",
    "DFS.cloneGraph(n1)"
   ]
  },
  {
   "cell_type": "code",
   "execution_count": null,
   "metadata": {},
   "outputs": [],
   "source": []
  }
 ],
 "metadata": {
  "kernelspec": {
   "display_name": "Python 3",
   "language": "python",
   "name": "python3"
  },
  "language_info": {
   "codemirror_mode": {
    "name": "ipython",
    "version": 3
   },
   "file_extension": ".py",
   "mimetype": "text/x-python",
   "name": "python",
   "nbconvert_exporter": "python",
   "pygments_lexer": "ipython3",
   "version": "3.7.2"
  },
  "toc": {
   "base_numbering": 1,
   "nav_menu": {},
   "number_sections": true,
   "sideBar": true,
   "skip_h1_title": false,
   "title_cell": "Table of Contents",
   "title_sidebar": "Contents",
   "toc_cell": false,
   "toc_position": {},
   "toc_section_display": true,
   "toc_window_display": false
  }
 },
 "nbformat": 4,
 "nbformat_minor": 2
}
