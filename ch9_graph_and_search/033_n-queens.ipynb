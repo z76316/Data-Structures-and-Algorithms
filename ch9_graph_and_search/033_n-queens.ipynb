{
 "cells": [
  {
   "cell_type": "markdown",
   "metadata": {},
   "source": [
    "The n-queens puzzle is the problem of placing n queens on an n×n chessboard such that no two queens attack each other.\n",
    "\n",
    "Given an integer n, return all distinct solutions to the n-queens puzzle.\n",
    "\n",
    "Each solution contains a distinct board configuration of the n-queens' placement, where 'Q' and '.' both indicate a queen and an empty space respectively.\n",
    "\n",
    "Example 1:\n",
    "\n",
    "    Input:1\n",
    "    Output:\n",
    "       [[\"Q\"]]\n",
    "\n",
    "\n",
    "Example 2:\n",
    "\n",
    "    Input:4\n",
    "    Output:\n",
    "    [\n",
    "      // Solution 1\n",
    "      [\".Q..\",\n",
    "       \"...Q\",\n",
    "       \"Q...\",\n",
    "       \"..Q.\"\n",
    "      ],\n",
    "      // Solution 2\n",
    "      [\"..Q.\",\n",
    "       \"Q...\",\n",
    "       \"...Q\",\n",
    "       \".Q..\"\n",
    "      ]\n",
    "    ]\n",
    "\n",
    "Challenge\n",
    "\n",
    "Can you do it without recursion?\n",
    "\n",
    "https://www.lintcode.com/problem/n-queens/description"
   ]
  },
  {
   "cell_type": "markdown",
   "metadata": {},
   "source": [
    "# Solution"
   ]
  },
  {
   "cell_type": "code",
   "execution_count": 18,
   "metadata": {},
   "outputs": [],
   "source": [
    "class Solution:\n",
    "    \"\"\"\n",
    "    @param: n: The number of queens\n",
    "    @return: All distinct solutions\n",
    "    \"\"\"\n",
    "    def solveNQueens(self, n):\n",
    "        # write your code here\n",
    "        if n == 0:\n",
    "            return []\n",
    "        \n",
    "        result, q_position_list = [], []\n",
    "        self.dfs(n, q_position_list, result)\n",
    "        return result\n",
    "    \n",
    "    \n",
    "    def dfs(self, n, q_position_list, result):\n",
    "        if len(q_position_list) == n:\n",
    "            result.append(self.draw(q_position_list))\n",
    "            return\n",
    "        \n",
    "        for col in range(n):\n",
    "            row = len(q_position_list)   ##### when it contains 2 positions, the current row index would be 2 \n",
    "            q_position = (row, col)\n",
    "            \n",
    "            if not self.is_valid_q(q_position, q_position_list):\n",
    "                continue\n",
    "            \n",
    "            q_position_list.append(q_position)\n",
    "            self.dfs(n, q_position_list, result)\n",
    "            q_position_list.pop()\n",
    "            \n",
    "        \n",
    "    def is_valid_q(self, q_position, q_position_list):\n",
    "        for existing_q_position in q_position_list:\n",
    "            x1, y1 = existing_q_position\n",
    "            x2, y2 = q_position\n",
    "            \n",
    "            condition_1 = (x1 + y1) == (x2 + y2)\n",
    "            condition_2 = (x1 - y1) == (x2 - y2)\n",
    "            \n",
    "            if x1 == x2 or y1 == y2:\n",
    "                return False\n",
    "            if condition_1 or condition_2:\n",
    "                return False\n",
    "        \n",
    "        return True\n",
    "        \n",
    "        \n",
    "    def draw(self, q_position_list):\n",
    "        result = []\n",
    "        n = len(q_position_list)\n",
    "        for q_position in q_position_list:\n",
    "            row, col = q_position\n",
    "            row_content = ''.join(['Q' if x == col else '.' for x in range(n)])   #####\n",
    "            result.append(row_content)\n",
    "        return result\n",
    "            "
   ]
  },
  {
   "cell_type": "markdown",
   "metadata": {},
   "source": [
    "# Test"
   ]
  },
  {
   "cell_type": "code",
   "execution_count": 19,
   "metadata": {},
   "outputs": [
    {
     "data": {
      "text/plain": [
       "[['.Q..', '...Q', 'Q...', '..Q.'], ['..Q.', 'Q...', '...Q', '.Q..']]"
      ]
     },
     "execution_count": 19,
     "metadata": {},
     "output_type": "execute_result"
    }
   ],
   "source": [
    "a = Solution()\n",
    "n = 4\n",
    "\n",
    "a.solveNQueens(n)"
   ]
  },
  {
   "cell_type": "code",
   "execution_count": null,
   "metadata": {},
   "outputs": [],
   "source": []
  },
  {
   "cell_type": "markdown",
   "metadata": {},
   "source": [
    "# History"
   ]
  },
  {
   "cell_type": "markdown",
   "metadata": {},
   "source": [
    "## DFS"
   ]
  },
  {
   "cell_type": "markdown",
   "metadata": {},
   "source": [
    "1. Find a result then draw it.\n",
    "2. It'll exceed time limit if we draw all the results after got them all."
   ]
  },
  {
   "cell_type": "code",
   "execution_count": 19,
   "metadata": {},
   "outputs": [],
   "source": [
    "class Solution:\n",
    "    \"\"\"\n",
    "    @param: n: The number of queens\n",
    "    @return: All distinct solutions\n",
    "    \"\"\"\n",
    "    def solveNQueens(self, n):\n",
    "        # write your code here\n",
    "        q_position_list = []\n",
    "        result_list = []\n",
    "        self.dfs(n, q_position_list, result_list)\n",
    "        \n",
    "        return result_list\n",
    "    \n",
    "    def dfs(self, n, q_position_list, result_list):\n",
    "        if len(q_position_list) == n:\n",
    "            result = self.draw(n, q_position_list)\n",
    "            result_list.append(result)\n",
    "            return\n",
    "        \n",
    "        for col in range(n):\n",
    "            row = len(q_position_list)\n",
    "            q_position = (row, col)\n",
    "            \n",
    "            if self.is_valid_q_position(q_position, q_position_list) == False:\n",
    "                continue\n",
    "                \n",
    "            q_position_list.append(q_position)\n",
    "            self.dfs(n, q_position_list, result_list)\n",
    "            \n",
    "            q_position_list.pop()\n",
    "            \n",
    "    def is_valid_q_position(self, q_position, q_position_list):\n",
    "        for existing_q_position in q_position_list:\n",
    "            x1, y1 = existing_q_position\n",
    "            x2, y2 = q_position\n",
    "            condition1 = (x1-y1) == (x2-y2)\n",
    "            condition2 = (x1+y1) == (x2+y2)\n",
    "            if x1 == x2 or y1 == y2:\n",
    "                return False\n",
    "            if condition1 or condition2:\n",
    "                return False\n",
    "            \n",
    "        return True\n",
    "        \n",
    "    def draw(self, n, q_position_list):\n",
    "        result = []\n",
    "        for q_position in q_position_list:\n",
    "            row, col = q_position\n",
    "            output_row = '.'*col + 'Q'*1 + '.'*(n-1-col)\n",
    "            result.append(output_row)\n",
    "            \n",
    "        return result"
   ]
  },
  {
   "cell_type": "markdown",
   "metadata": {},
   "source": [
    "## Test"
   ]
  },
  {
   "cell_type": "code",
   "execution_count": 24,
   "metadata": {},
   "outputs": [
    {
     "data": {
      "text/plain": [
       "[['.Q..', '...Q', 'Q...', '..Q.'], ['..Q.', 'Q...', '...Q', '.Q..']]"
      ]
     },
     "execution_count": 24,
     "metadata": {},
     "output_type": "execute_result"
    }
   ],
   "source": [
    "n = 4\n",
    "dfs = Solution()\n",
    "\n",
    "# q_position = (1,0)\n",
    "# q_position_list = [(0,1),]\n",
    "# dfs.is_valid_q_position(q_position, q_position_list)\n",
    "\n",
    "dfs.solveNQueens(n)"
   ]
  },
  {
   "cell_type": "code",
   "execution_count": null,
   "metadata": {},
   "outputs": [],
   "source": []
  }
 ],
 "metadata": {
  "kernelspec": {
   "display_name": "Python 3",
   "language": "python",
   "name": "python3"
  },
  "language_info": {
   "codemirror_mode": {
    "name": "ipython",
    "version": 3
   },
   "file_extension": ".py",
   "mimetype": "text/x-python",
   "name": "python",
   "nbconvert_exporter": "python",
   "pygments_lexer": "ipython3",
   "version": "3.7.2"
  },
  "toc": {
   "base_numbering": 1,
   "nav_menu": {},
   "number_sections": true,
   "sideBar": true,
   "skip_h1_title": false,
   "title_cell": "Table of Contents",
   "title_sidebar": "Contents",
   "toc_cell": false,
   "toc_position": {},
   "toc_section_display": true,
   "toc_window_display": false
  }
 },
 "nbformat": 4,
 "nbformat_minor": 2
}
