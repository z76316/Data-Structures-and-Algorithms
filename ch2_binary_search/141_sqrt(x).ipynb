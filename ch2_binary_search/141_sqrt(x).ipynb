{
 "cells": [
  {
   "cell_type": "markdown",
   "metadata": {},
   "source": [
    "Implement int sqrt(int x).\n",
    "\n",
    "Compute and return the square root of x.\n",
    "\n",
    "Example 1:\n",
    "\t\n",
    "    Input:  0\n",
    "\tOutput: 0\n",
    "\n",
    "\n",
    "Example 2:\n",
    "\t\n",
    "    Input:  3\n",
    "\tOutput: 1\n",
    "\t\n",
    "\tExplanation:\n",
    "\treturn the largest integer y that y*y <= x. \n",
    "\t\n",
    "Example 3:\n",
    "\t\n",
    "    Input:  4\n",
    "\tOutput: 2\n",
    "\t\n",
    "\n",
    "Challenge\n",
    "\n",
    "    O(log(x))\n",
    "\n",
    "https://www.lintcode.com/problem/sqrtx/description"
   ]
  },
  {
   "cell_type": "code",
   "execution_count": 8,
   "metadata": {},
   "outputs": [],
   "source": [
    "class Solution:\n",
    "    \"\"\"\n",
    "    @param x: An integer\n",
    "    @return: The sqrt of x\n",
    "    \"\"\"\n",
    "    def sqrt(self, x):\n",
    "        # write your code here\n",
    "        if x == None:\n",
    "            return -1\n",
    "        \n",
    "        start, end = 0, x\n",
    "        while start + 1 < end:\n",
    "            mid = start + (end - start) // 2\n",
    "            if mid**2 > x:\n",
    "                end = mid\n",
    "            else:\n",
    "                start = mid\n",
    "                \n",
    "        if end ** 2 <= x:\n",
    "            return end\n",
    "        return start"
   ]
  },
  {
   "cell_type": "markdown",
   "metadata": {},
   "source": [
    "# Test"
   ]
  },
  {
   "cell_type": "code",
   "execution_count": 9,
   "metadata": {},
   "outputs": [
    {
     "data": {
      "text/plain": [
       "3"
      ]
     },
     "execution_count": 9,
     "metadata": {},
     "output_type": "execute_result"
    }
   ],
   "source": [
    "x = 10\n",
    "\n",
    "a = Solution()\n",
    "a.sqrt(x)"
   ]
  },
  {
   "cell_type": "code",
   "execution_count": null,
   "metadata": {},
   "outputs": [],
   "source": []
  },
  {
   "cell_type": "code",
   "execution_count": null,
   "metadata": {},
   "outputs": [],
   "source": [
    "class Solution:\n",
    "    \"\"\"\n",
    "    @param x: An integer\n",
    "    @return: The sqrt of x\n",
    "    \"\"\"\n",
    "    def sqrt(self, x):\n",
    "        # write your code here\n",
    "        start, end = 0, x\n",
    "        while start + 1 < end:\n",
    "            mid = (start + end) // 2\n",
    "            if mid**2 > x:\n",
    "                end = mid\n",
    "            else:\n",
    "                start = mid\n",
    "                \n",
    "        if end**2 <= x:\n",
    "            return end\n",
    "        return start"
   ]
  }
 ],
 "metadata": {
  "kernelspec": {
   "display_name": "Python 3",
   "language": "python",
   "name": "python3"
  },
  "language_info": {
   "codemirror_mode": {
    "name": "ipython",
    "version": 3
   },
   "file_extension": ".py",
   "mimetype": "text/x-python",
   "name": "python",
   "nbconvert_exporter": "python",
   "pygments_lexer": "ipython3",
   "version": "3.7.2"
  },
  "toc": {
   "base_numbering": 1,
   "nav_menu": {},
   "number_sections": true,
   "sideBar": true,
   "skip_h1_title": false,
   "title_cell": "Table of Contents",
   "title_sidebar": "Contents",
   "toc_cell": false,
   "toc_position": {},
   "toc_section_display": true,
   "toc_window_display": false
  }
 },
 "nbformat": 4,
 "nbformat_minor": 2
}
