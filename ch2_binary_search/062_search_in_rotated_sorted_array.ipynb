{
 "cells": [
  {
   "cell_type": "markdown",
   "metadata": {},
   "source": [
    "Suppose a sorted array is rotated at some pivot unknown to you beforehand.\n",
    "\n",
    "(i.e., 0 1 2 4 5 6 7 might become 4 5 6 7 0 1 2).\n",
    "\n",
    "You are given a target value to search. If found in the array return its index, otherwise return -1.\n",
    "\n",
    "You may assume no duplicate exists in the array.\n",
    "\n",
    "Example 1:\n",
    "\n",
    "    Input: [4, 5, 1, 2, 3] and target=1, \n",
    "    Output: 2.\n",
    "\n",
    "Example 2:\n",
    "\n",
    "    Input: [4, 5, 1, 2, 3] and target=0, \n",
    "    Output: -1.\n",
    "\n",
    "Challenge\n",
    "\n",
    "    O(logN) time\n",
    "    \n",
    "https://www.lintcode.com/problem/search-in-rotated-sorted-array/description\n",
    "\n",
    "https://photos.app.goo.gl/PFV6rQt1kWnQovQ1A"
   ]
  },
  {
   "cell_type": "code",
   "execution_count": 17,
   "metadata": {},
   "outputs": [],
   "source": [
    "class Solution:\n",
    "    \"\"\"\n",
    "    @param A: an integer rotated sorted array\n",
    "    @param target: an integer to be searched\n",
    "    @return: an integer\n",
    "    \"\"\"\n",
    "    def search(self, A, target):\n",
    "        # write your code here\n",
    "        if A == None or len(A) == 0:\n",
    "            return -1\n",
    "        \n",
    "        start, end = 0, len(A) - 1\n",
    "        while start + 1 < end:\n",
    "            mid = start + (end - start) // 2\n",
    "            if A[mid] == target:\n",
    "                return mid\n",
    "            \n",
    "            if A[start] < A[mid]:\n",
    "                if A[start] <= target < A[mid]:\n",
    "                    end = mid\n",
    "                else:\n",
    "                    start = mid\n",
    "            else:\n",
    "                if A[mid] < target <= A[end]:\n",
    "                    start = mid\n",
    "                else:\n",
    "                    end = mid\n",
    "        \n",
    "        if A[end] == target:\n",
    "            return end\n",
    "        if A[start] == target:\n",
    "            return start\n",
    "        return -1\n",
    "        "
   ]
  },
  {
   "cell_type": "markdown",
   "metadata": {},
   "source": [
    "# Test"
   ]
  },
  {
   "cell_type": "code",
   "execution_count": 16,
   "metadata": {},
   "outputs": [
    {
     "data": {
      "text/plain": [
       "3"
      ]
     },
     "execution_count": 16,
     "metadata": {},
     "output_type": "execute_result"
    }
   ],
   "source": [
    "nums = [4, 5, 1, 2, 3]\n",
    "target = 2\n",
    "# target = 0\n",
    "\n",
    "a = Solution()\n",
    "a.search(nums, target)"
   ]
  },
  {
   "cell_type": "code",
   "execution_count": null,
   "metadata": {},
   "outputs": [],
   "source": []
  },
  {
   "cell_type": "code",
   "execution_count": null,
   "metadata": {},
   "outputs": [],
   "source": [
    "class Solution:\n",
    "    \"\"\"\n",
    "    @param A: an integer rotated sorted array\n",
    "    @param target: an integer to be searched\n",
    "    @return: an integer\n",
    "    \"\"\"\n",
    "    def search(self, A, target):\n",
    "        # write your code here\n",
    "        if A == None or len(A) == 0:\n",
    "            return -1\n",
    "        \n",
    "        start, end = 0, len(A) - 1\n",
    "        while start + 1 < end:\n",
    "            mid = (start + end) // 2\n",
    "            if A[start] <= A[mid]:\n",
    "                if A[start] <= target <= A[mid]: ##############\n",
    "                    end = mid\n",
    "                else:\n",
    "                    start = mid\n",
    "            \n",
    "            else:\n",
    "                if A[mid] <= target <= A[end]: ##############\n",
    "                    start = mid\n",
    "                else:\n",
    "                    end = mid\n",
    "        \n",
    "        if A[end] == target:\n",
    "            return end\n",
    "        if A[start] == target:\n",
    "            return start\n",
    "        return -1\n",
    "                    "
   ]
  }
 ],
 "metadata": {
  "kernelspec": {
   "display_name": "Python 3",
   "language": "python",
   "name": "python3"
  },
  "language_info": {
   "codemirror_mode": {
    "name": "ipython",
    "version": 3
   },
   "file_extension": ".py",
   "mimetype": "text/x-python",
   "name": "python",
   "nbconvert_exporter": "python",
   "pygments_lexer": "ipython3",
   "version": "3.7.2"
  },
  "toc": {
   "base_numbering": 1,
   "nav_menu": {},
   "number_sections": true,
   "sideBar": true,
   "skip_h1_title": false,
   "title_cell": "Table of Contents",
   "title_sidebar": "Contents",
   "toc_cell": false,
   "toc_position": {},
   "toc_section_display": true,
   "toc_window_display": false
  }
 },
 "nbformat": 4,
 "nbformat_minor": 2
}
