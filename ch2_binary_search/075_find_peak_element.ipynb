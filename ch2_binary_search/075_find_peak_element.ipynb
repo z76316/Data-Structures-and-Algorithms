{
 "cells": [
  {
   "cell_type": "markdown",
   "metadata": {},
   "source": [
    "There is an integer array which has the following features:\n",
    "\n",
    "The numbers in adjacent positions are different.\n",
    "A[0] < A[1] && A[A.length - 2] > A[A.length - 1].\n",
    "We define a position P is a peak if:\n",
    "\n",
    "A[P] > A[P-1] && A[P] > A[P+1]\n",
    "Find a peak element in this array. Return the index of the peak.\n",
    "\n",
    "Example 1:\n",
    "\t\n",
    "    Input:  [1, 2, 1, 3, 4, 5, 7, 6]\n",
    "\tOutput:  1 or 6\n",
    "\tExplanation:\n",
    "\treturn the index of peek.\n",
    "\n",
    "\n",
    "Example 2:\n",
    "\t\n",
    "    Input: [1,2,3,4,1]\n",
    "\tOutput:  3\n",
    "\n",
    "Challenge\n",
    "\n",
    "    Time complexity O(logN)\n",
    "\n",
    "Notice\n",
    "\n",
    "    It's guaranteed the array has at least one peak.\n",
    "    The array may contain multiple peeks, find any of them.\n",
    "    The array has at least 3 numbers in it.\n",
    "\n",
    "https://www.lintcode.com/problem/find-peak-element/description\n",
    "\n",
    "https://photos.app.goo.gl/BUFTWiaqWcpieUy28"
   ]
  },
  {
   "cell_type": "code",
   "execution_count": 9,
   "metadata": {},
   "outputs": [],
   "source": [
    "class Solution:\n",
    "    \"\"\"\n",
    "    @param A: An integers array.\n",
    "    @return: return any of peek positions.\n",
    "    \"\"\"\n",
    "    def findPeak(self, A):\n",
    "        # write your code here\n",
    "        if A == None or len(A) == 0:\n",
    "            return -1\n",
    "        \n",
    "        start, end = 0, len(A) - 1\n",
    "        while start + 1 < end:\n",
    "            mid = start + (end - start) // 2\n",
    "            \n",
    "            if A[mid] > A[mid - 1] and A[mid] > A[mid + 1]:\n",
    "                return mid\n",
    "            elif A[mid] < A[mid - 1] and A[mid] > A[mid + 1]:\n",
    "                end = mid\n",
    "            else:\n",
    "                start = mid\n",
    "        \n",
    "        return -1"
   ]
  },
  {
   "cell_type": "markdown",
   "metadata": {},
   "source": [
    "# Test"
   ]
  },
  {
   "cell_type": "code",
   "execution_count": 10,
   "metadata": {},
   "outputs": [
    {
     "data": {
      "text/plain": [
       "6"
      ]
     },
     "execution_count": 10,
     "metadata": {},
     "output_type": "execute_result"
    }
   ],
   "source": [
    "A = [1, 2, 1, 3, 4, 5, 7, 6]\n",
    "\n",
    "a = Solution()\n",
    "a.findPeak(A)"
   ]
  },
  {
   "cell_type": "code",
   "execution_count": null,
   "metadata": {},
   "outputs": [],
   "source": []
  },
  {
   "cell_type": "code",
   "execution_count": null,
   "metadata": {},
   "outputs": [],
   "source": [
    "class Solution:\n",
    "    \"\"\"\n",
    "    @param A: An integers array.\n",
    "    @return: return any of peek positions.\n",
    "    \"\"\"\n",
    "    def findPeak(self, A):\n",
    "        # write your code here\n",
    "        \n",
    "        start, end = 0, len(A)-1\n",
    "        while start + 1 < end:\n",
    "            mid = (start + end) // 2\n",
    "            if A[mid] > A[mid-1] and A[mid] > A[mid+1]:\n",
    "                return mid\n",
    "            elif A[mid-1] > A[mid] > A[mid+1]:\n",
    "                end = mid\n",
    "            elif A[mid-1] < A[mid] < A[mid+1]:\n",
    "                start = mid\n",
    "            else:\n",
    "                start = mid\n",
    "            \n",
    "        return -1"
   ]
  }
 ],
 "metadata": {
  "kernelspec": {
   "display_name": "Python 3",
   "language": "python",
   "name": "python3"
  },
  "language_info": {
   "codemirror_mode": {
    "name": "ipython",
    "version": 3
   },
   "file_extension": ".py",
   "mimetype": "text/x-python",
   "name": "python",
   "nbconvert_exporter": "python",
   "pygments_lexer": "ipython3",
   "version": "3.7.2"
  },
  "toc": {
   "base_numbering": 1,
   "nav_menu": {},
   "number_sections": true,
   "sideBar": true,
   "skip_h1_title": false,
   "title_cell": "Table of Contents",
   "title_sidebar": "Contents",
   "toc_cell": false,
   "toc_position": {},
   "toc_section_display": true,
   "toc_window_display": false
  }
 },
 "nbformat": 4,
 "nbformat_minor": 2
}
