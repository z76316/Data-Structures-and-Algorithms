{
 "cells": [
  {
   "cell_type": "markdown",
   "metadata": {},
   "source": [
    "Suppose a sorted array is rotated at some pivot unknown to you beforehand.\n",
    "\n",
    "(i.e., 0 1 2 4 5 6 7 might become 4 5 6 7 0 1 2).\n",
    "\n",
    "Find the minimum element.\n",
    "\n",
    "Example 1:\n",
    "\n",
    "    Input：[4, 5, 6, 7, 0, 1, 2]\n",
    "    Output：0\n",
    "\n",
    "Example 2:\n",
    "\n",
    "    Input：[2,1]\n",
    "    Output：1\n",
    "\n",
    "Notice\n",
    "\n",
    "    You can assume no duplicate exists in the array.\n",
    "\n",
    "https://www.lintcode.com/problem/find-minimum-in-rotated-sorted-array/description\n",
    "\n",
    "https://photos.app.goo.gl/fCQULoZKa15YCjPr6"
   ]
  },
  {
   "cell_type": "code",
   "execution_count": 22,
   "metadata": {},
   "outputs": [],
   "source": [
    "# Ver. 1\n",
    "class Solution:\n",
    "    \"\"\"\n",
    "    @param nums: a rotated sorted array\n",
    "    @return: the minimum number in the array\n",
    "    \"\"\"\n",
    "    def findMin(self, nums):\n",
    "        # write your code here\n",
    "        if nums == None or len(nums) == 0:\n",
    "            return -1\n",
    "        \n",
    "        start, end = 0, len(nums) - 1\n",
    "        pivot = nums[-1]\n",
    "        while start + 1 < end:\n",
    "            mid = start + (end - start) // 2\n",
    "            if nums[mid] < pivot:\n",
    "                end = mid\n",
    "            else:\n",
    "                start = mid\n",
    "        \n",
    "        return min(nums[start], nums[end])"
   ]
  },
  {
   "cell_type": "code",
   "execution_count": 24,
   "metadata": {},
   "outputs": [],
   "source": [
    "# Ver. 2\n",
    "class Solution:\n",
    "    \"\"\"\n",
    "    @param nums: a rotated sorted array\n",
    "    @return: the minimum number in the array\n",
    "    \"\"\"\n",
    "    def findMin(self, nums):\n",
    "        # write your code here\n",
    "        if nums == None or len(nums) == 0:\n",
    "            return -1\n",
    "        \n",
    "        pivot = nums[-1]\n",
    "        start, end = self.binarySearch(nums, pivot)\n",
    "        \n",
    "        return min(nums[start], nums[end])\n",
    "    \n",
    "    def binarySearch(self, nums, target):\n",
    "        start, end = 0, len(nums) - 1\n",
    "        while start + 1 < end:\n",
    "            mid = start + (end - start) // 2\n",
    "            if nums[mid] < target:\n",
    "                end = mid\n",
    "            else:\n",
    "                start = mid\n",
    "        \n",
    "        return (start, end)"
   ]
  },
  {
   "cell_type": "markdown",
   "metadata": {},
   "source": [
    "# Test"
   ]
  },
  {
   "cell_type": "code",
   "execution_count": 25,
   "metadata": {},
   "outputs": [
    {
     "data": {
      "text/plain": [
       "1"
      ]
     },
     "execution_count": 25,
     "metadata": {},
     "output_type": "execute_result"
    }
   ],
   "source": [
    "# nums = [4,5,6,0,1,2]\n",
    "nums = [2,1]\n",
    "\n",
    "a = Solution()\n",
    "a.findMin(nums)"
   ]
  },
  {
   "cell_type": "code",
   "execution_count": null,
   "metadata": {},
   "outputs": [],
   "source": []
  },
  {
   "cell_type": "code",
   "execution_count": 12,
   "metadata": {},
   "outputs": [],
   "source": [
    "class Solution:\n",
    "    \"\"\"\n",
    "    @param nums: a rotated sorted array\n",
    "    @return: the minimum number in the array\n",
    "    \"\"\"\n",
    "    def findMin(self, nums):\n",
    "        # write your code here\n",
    "        if nums == None or len(nums) == 0:\n",
    "            return -1\n",
    "        \n",
    "        target = nums[-1]\n",
    "        result = self.binarySearch(nums, target)\n",
    "        return min(nums[result[0]], nums[result[1]])\n",
    "    \n",
    "    def binarySearch(self, nums, target):\n",
    "        start, end = 0, len(nums) - 1\n",
    "        while start + 1 < end:\n",
    "            mid = (start + end) // 2\n",
    "            if nums[mid] < target:\n",
    "                end = mid\n",
    "            else:\n",
    "                start = mid\n",
    "        \n",
    "        return (start, end)"
   ]
  }
 ],
 "metadata": {
  "kernelspec": {
   "display_name": "Python 3",
   "language": "python",
   "name": "python3"
  },
  "language_info": {
   "codemirror_mode": {
    "name": "ipython",
    "version": 3
   },
   "file_extension": ".py",
   "mimetype": "text/x-python",
   "name": "python",
   "nbconvert_exporter": "python",
   "pygments_lexer": "ipython3",
   "version": "3.7.2"
  },
  "toc": {
   "base_numbering": 1,
   "nav_menu": {},
   "number_sections": true,
   "sideBar": true,
   "skip_h1_title": false,
   "title_cell": "Table of Contents",
   "title_sidebar": "Contents",
   "toc_cell": false,
   "toc_position": {},
   "toc_section_display": true,
   "toc_window_display": false
  }
 },
 "nbformat": 4,
 "nbformat_minor": 2
}
