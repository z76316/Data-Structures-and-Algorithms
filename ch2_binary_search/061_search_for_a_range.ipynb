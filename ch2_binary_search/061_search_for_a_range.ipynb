{
 "cells": [
  {
   "cell_type": "markdown",
   "metadata": {},
   "source": [
    "Given a sorted array of n integers, find the starting and ending position of a given target value.\n",
    "\n",
    "If the target is not found in the array, return [-1, -1].\n",
    "\n",
    "Example\n",
    "\n",
    "    Example 1:\n",
    "\n",
    "    Input:\n",
    "    []\n",
    "    9\n",
    "    Output:\n",
    "    [-1,-1]\n",
    "\n",
    "Example 2:\n",
    "\n",
    "    Input:\n",
    "    [5, 7, 7, 8, 8, 10]\n",
    "    8\n",
    "    Output:\n",
    "    [3, 4]\n",
    "\n",
    "Challenge\n",
    "\n",
    "    O(log n) time.\n",
    "    \n",
    "https://www.lintcode.com/problem/search-for-a-range/"
   ]
  },
  {
   "cell_type": "markdown",
   "metadata": {},
   "source": [
    "# Solution"
   ]
  },
  {
   "cell_type": "code",
   "execution_count": 12,
   "metadata": {},
   "outputs": [],
   "source": [
    "class Solution:\n",
    "    \"\"\"\n",
    "    @param A: an integer sorted array\n",
    "    @param target: an integer to be inserted\n",
    "    @return: a list of length 2, [index1, index2]\n",
    "    \"\"\"\n",
    "    def searchRange(self, A, target):\n",
    "        # write your code here\n",
    "        if A == None or len(A) == 0:\n",
    "            return [-1, -1]\n",
    "        \n",
    "        first, last = self.findFirst(A, target), self.findLast(A, target)\n",
    "        return [first, last]\n",
    "        \n",
    "    def findFirst(self, A, target):\n",
    "        start, end = 0, len(A)-1\n",
    "        while start+1 < end:\n",
    "            mid = start + (end - start)//2\n",
    "            if A[mid] < target:\n",
    "                start = mid\n",
    "            else:\n",
    "                end = mid\n",
    "        if A[start] == target:\n",
    "            return start\n",
    "        if A[end] == target:\n",
    "            return end\n",
    "        return -1\n",
    "    \n",
    "    def findLast(self, A, target):\n",
    "        start, end = 0, len(A)-1\n",
    "        while start+1 < end:\n",
    "            mid = start + (end - start)//2\n",
    "            if A[mid] <= target:\n",
    "                start = mid\n",
    "            else:\n",
    "                end = mid\n",
    "        if A[end] == target:\n",
    "            return end\n",
    "        if A[start] == target:\n",
    "            return start\n",
    "        return -1\n",
    "        "
   ]
  },
  {
   "cell_type": "markdown",
   "metadata": {},
   "source": [
    "# Test"
   ]
  },
  {
   "cell_type": "code",
   "execution_count": 17,
   "metadata": {},
   "outputs": [
    {
     "name": "stdout",
     "output_type": "stream",
     "text": [
      "[3, 4]\n"
     ]
    }
   ],
   "source": [
    "A = [5, 7, 7, 8, 8, 10]\n",
    "target = 8\n",
    "\n",
    "a = Solution()\n",
    "print(a.searchRange(A, target))"
   ]
  },
  {
   "cell_type": "code",
   "execution_count": null,
   "metadata": {},
   "outputs": [],
   "source": []
  }
 ],
 "metadata": {
  "kernelspec": {
   "display_name": "Python 3",
   "language": "python",
   "name": "python3"
  },
  "language_info": {
   "codemirror_mode": {
    "name": "ipython",
    "version": 3
   },
   "file_extension": ".py",
   "mimetype": "text/x-python",
   "name": "python",
   "nbconvert_exporter": "python",
   "pygments_lexer": "ipython3",
   "version": "3.7.2"
  },
  "toc": {
   "base_numbering": 1,
   "nav_menu": {},
   "number_sections": true,
   "sideBar": true,
   "skip_h1_title": false,
   "title_cell": "Table of Contents",
   "title_sidebar": "Contents",
   "toc_cell": false,
   "toc_position": {},
   "toc_section_display": true,
   "toc_window_display": false
  }
 },
 "nbformat": 4,
 "nbformat_minor": 2
}
