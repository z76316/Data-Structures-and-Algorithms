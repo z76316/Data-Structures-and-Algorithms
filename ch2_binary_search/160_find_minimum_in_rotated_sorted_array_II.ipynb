{
 "cells": [
  {
   "cell_type": "markdown",
   "metadata": {},
   "source": [
    "Suppose a sorted array is rotated at some pivot unknown to you beforehand.\n",
    "\n",
    "(i.e., 0 1 2 4 5 6 7 might become 4 5 6 7 0 1 2).\n",
    "\n",
    "Find the minimum element.\n",
    "\n",
    "Example 1:\n",
    "\n",
    "    Input :[2,1]\n",
    "    Output : 1.\n",
    "\n",
    "Example 2:\n",
    "\n",
    "    Input :[4,4,5,6,7,0,1,2]\n",
    "    Output : 0.\n",
    "\n",
    "Notice\n",
    "\n",
    "    The array may contain duplicates.\n",
    "    \n",
    "https://www.lintcode.com/problem/find-minimum-in-rotated-sorted-array-ii/description"
   ]
  },
  {
   "cell_type": "code",
   "execution_count": 5,
   "metadata": {},
   "outputs": [],
   "source": [
    "class Solution:\n",
    "    \"\"\"\n",
    "    @param nums: a rotated sorted array\n",
    "    @return: the minimum number in the array\n",
    "    \"\"\"\n",
    "    def findMin(self, nums):\n",
    "        # write your code here\n",
    "        if nums == None or len(nums) == 0:\n",
    "            return -1\n",
    "        \n",
    "        for i,num in enumerate(nums):\n",
    "            if i == 0:\n",
    "                result = nums[0]\n",
    "            result = min(num, result)\n",
    "            \n",
    "        return result"
   ]
  },
  {
   "cell_type": "markdown",
   "metadata": {},
   "source": [
    "# Test"
   ]
  },
  {
   "cell_type": "code",
   "execution_count": 6,
   "metadata": {},
   "outputs": [
    {
     "data": {
      "text/plain": [
       "0"
      ]
     },
     "execution_count": 6,
     "metadata": {},
     "output_type": "execute_result"
    }
   ],
   "source": [
    "nums = [4,4,5,6,7,0,1,2]\n",
    "\n",
    "a = Solution()\n",
    "a.findMin(nums)"
   ]
  },
  {
   "cell_type": "code",
   "execution_count": null,
   "metadata": {},
   "outputs": [],
   "source": []
  }
 ],
 "metadata": {
  "kernelspec": {
   "display_name": "Python 3",
   "language": "python",
   "name": "python3"
  },
  "language_info": {
   "codemirror_mode": {
    "name": "ipython",
    "version": 3
   },
   "file_extension": ".py",
   "mimetype": "text/x-python",
   "name": "python",
   "nbconvert_exporter": "python",
   "pygments_lexer": "ipython3",
   "version": "3.7.2"
  }
 },
 "nbformat": 4,
 "nbformat_minor": 2
}
