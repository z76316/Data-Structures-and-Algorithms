{
 "cells": [
  {
   "cell_type": "markdown",
   "metadata": {},
   "source": [
    "For a given sorted array (ascending order) and a target number, find the first index of this number in O(log n) time complexity.\n",
    "\n",
    "If the target number does not exist in the array, return -1.\n",
    "\n",
    "Example 1:\n",
    "\t\n",
    "    Input:  [1,4,4,5,7,7,8,9,9,10]，1\n",
    "\tOutput: 0\n",
    "\n",
    "Example 2:\n",
    "\t\n",
    "    Input: [1, 2, 3, 3, 4, 5, 10]，3\n",
    "\tOutput: 2\n",
    "\n",
    "Example 3:\n",
    "\t\n",
    "    Input: [1, 2, 3, 3, 4, 5, 10]，6\n",
    "\tOutput: -1\n",
    "\n",
    "Challenge\n",
    "\n",
    "    If the count of numbers is bigger than 2^32, can your code work properly?\n",
    "\n",
    "https://www.lintcode.com/problem/first-position-of-target/description"
   ]
  },
  {
   "cell_type": "code",
   "execution_count": 1,
   "metadata": {},
   "outputs": [],
   "source": [
    "class Solution:\n",
    "    \"\"\"\n",
    "    @param nums: The integer array.\n",
    "    @param target: Target to find.\n",
    "    @return: The first position of target. Position starts from 0.\n",
    "    \"\"\"\n",
    "    def binarySearch(self, nums, target):\n",
    "        # write your code here\n",
    "        if nums == None or len(nums) == 0:\n",
    "            return -1\n",
    "        \n",
    "        start, end = 0, len(nums) - 1\n",
    "        while start + 1 < end:\n",
    "            mid = (start + end) // 2\n",
    "            if nums[mid] >= target:\n",
    "                end = mid\n",
    "            else:\n",
    "                start = mid\n",
    "                \n",
    "        if nums[start] == target:\n",
    "            return start\n",
    "        if nums[end] == target:\n",
    "            return end\n",
    "        return -1"
   ]
  },
  {
   "cell_type": "markdown",
   "metadata": {},
   "source": [
    "# Test"
   ]
  },
  {
   "cell_type": "code",
   "execution_count": 2,
   "metadata": {},
   "outputs": [
    {
     "data": {
      "text/plain": [
       "2"
      ]
     },
     "execution_count": 2,
     "metadata": {},
     "output_type": "execute_result"
    }
   ],
   "source": [
    "nums = [1, 2, 3, 3, 4, 5, 10]\n",
    "target = 3\n",
    "\n",
    "a = Solution()\n",
    "a.binarySearch(nums, target)"
   ]
  },
  {
   "cell_type": "code",
   "execution_count": null,
   "metadata": {},
   "outputs": [],
   "source": []
  }
 ],
 "metadata": {
  "kernelspec": {
   "display_name": "Python 3",
   "language": "python",
   "name": "python3"
  },
  "language_info": {
   "codemirror_mode": {
    "name": "ipython",
    "version": 3
   },
   "file_extension": ".py",
   "mimetype": "text/x-python",
   "name": "python",
   "nbconvert_exporter": "python",
   "pygments_lexer": "ipython3",
   "version": "3.7.2"
  }
 },
 "nbformat": 4,
 "nbformat_minor": 2
}
