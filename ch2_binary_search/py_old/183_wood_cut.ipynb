{
 "cells": [
  {
   "cell_type": "markdown",
   "metadata": {},
   "source": [
    "Given n pieces of wood with length L[i] (integer array). Cut them into small pieces to guarantee you could have equal or more than k pieces with the same length. What is the longest length you can get from the n pieces of wood? Given L & k, return the maximum length of the small pieces.\n",
    "\n",
    "Example 1\n",
    "\n",
    "Input:\n",
    "\n",
    "    L = [232, 124, 456]\n",
    "    k = 7\n",
    "    Output: 114\n",
    "    Explanation: We can cut it into 7 pieces if any piece is 114cm long, however we can't cut it into 7 pieces if any piece is 115cm long.\n",
    "\n",
    "Example 2\n",
    "\n",
    "Input:\n",
    "\n",
    "    L = [1, 2, 3]\n",
    "    k = 7\n",
    "    Output: 0\n",
    "    Explanation: It is obvious we can't make it.\n",
    "\n",
    "Challenge\n",
    "\n",
    "    O(n log Len), where Len is the longest length of the wood.\n",
    "\n",
    "Notice\n",
    "\n",
    "    You couldn't cut wood into float length.\n",
    "\n",
    "If you couldn't get >= k pieces, return 0.\n",
    "\n",
    "https://www.lintcode.com/problem/wood-cut/description\n",
    "\n",
    "https://photos.app.goo.gl/oSk1NJa3NSsfLJ1J8"
   ]
  },
  {
   "cell_type": "code",
   "execution_count": 10,
   "metadata": {},
   "outputs": [],
   "source": [
    "class Solution:\n",
    "    \"\"\"\n",
    "    @param L: Given n pieces of wood with length L[i]\n",
    "    @param k: An integer\n",
    "    @return: The maximum length of the small pieces\n",
    "    \"\"\"\n",
    "    def woodCut(self, L, k):\n",
    "        # write your code here\n",
    "        if len(L) == 0: #############\n",
    "            return 0\n",
    "        \n",
    "        start, end = 1, max(L)\n",
    "        while start + 1 < end:\n",
    "            mid = (start + end) // 2\n",
    "            n = self.getNumberOfPieces(L, mid)\n",
    "            if n < k:\n",
    "                end = mid\n",
    "            else:\n",
    "                start = mid\n",
    "                \n",
    "        n_start = self.getNumberOfPieces(L, start)\n",
    "        n_end = self.getNumberOfPieces(L, end)\n",
    "        if n_end >= k:\n",
    "            return end\n",
    "        if n_start >= k:\n",
    "            return start\n",
    "        return 0 ############## if sum of total wood's length // 1 < k\n",
    "    \n",
    "    def getNumberOfPieces(self, L, length):\n",
    "        n = 0\n",
    "        for wood_len in L:\n",
    "            n += wood_len // length\n",
    "            \n",
    "        return n"
   ]
  },
  {
   "cell_type": "markdown",
   "metadata": {},
   "source": [
    "# Test"
   ]
  },
  {
   "cell_type": "code",
   "execution_count": 11,
   "metadata": {},
   "outputs": [
    {
     "data": {
      "text/plain": [
       "0"
      ]
     },
     "execution_count": 11,
     "metadata": {},
     "output_type": "execute_result"
    }
   ],
   "source": [
    "L = [1,2,3]\n",
    "k = 7\n",
    "\n",
    "a = Solution()\n",
    "a.woodCut(L, k)"
   ]
  },
  {
   "cell_type": "code",
   "execution_count": null,
   "metadata": {},
   "outputs": [],
   "source": []
  }
 ],
 "metadata": {
  "kernelspec": {
   "display_name": "Python 3",
   "language": "python",
   "name": "python3"
  },
  "language_info": {
   "codemirror_mode": {
    "name": "ipython",
    "version": 3
   },
   "file_extension": ".py",
   "mimetype": "text/x-python",
   "name": "python",
   "nbconvert_exporter": "python",
   "pygments_lexer": "ipython3",
   "version": "3.7.2"
  }
 },
 "nbformat": 4,
 "nbformat_minor": 2
}
