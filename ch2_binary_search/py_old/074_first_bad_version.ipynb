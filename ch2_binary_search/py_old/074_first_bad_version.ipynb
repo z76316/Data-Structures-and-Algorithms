{
 "cells": [
  {
   "cell_type": "markdown",
   "metadata": {},
   "source": [
    "The code base version is an integer start from 1 to n. One day, someone committed a bad version in the code case, so it caused this version and the following versions are all failed in the unit tests. Find the first bad version.\n",
    "\n",
    "You can call isBadVersion to help you determine which version is the first bad one. The details interface can be found in the code's annotation part.\n",
    "\n",
    "Example\n",
    "\n",
    "    Given n = 5:\n",
    "    isBadVersion(3) -> false\n",
    "    isBadVersion(5) -> true\n",
    "    isBadVersion(4) -> true\n",
    "\n",
    "\n",
    "Here we are 100% sure that the 4th version is the first bad version.\n",
    "\n",
    "Challenge\n",
    "\n",
    "    You should call isBadVersion as few as possible.\n",
    "    \n",
    "https://www.lintcode.com/problem/first-bad-version/description"
   ]
  },
  {
   "cell_type": "code",
   "execution_count": 1,
   "metadata": {},
   "outputs": [],
   "source": [
    "#class SVNRepo:\n",
    "#    @classmethod\n",
    "#    def isBadVersion(cls, id)\n",
    "#        # Run unit tests to check whether verison `id` is a bad version\n",
    "#        # return true if unit tests passed else false.\n",
    "# You can use \bSVNRepo.isBadVersion(10) to check whether version 10 is a \n",
    "# bad version.\n",
    "class Solution:\n",
    "    \"\"\"\n",
    "    @param n: An integer\n",
    "    @return: An integer which is the first bad version.\n",
    "    \"\"\"\n",
    "    def findFirstBadVersion(self, n):\n",
    "        # write your code here\n",
    "        if n == None or n < 1:\n",
    "            return -1\n",
    "        if n == 1: ################\n",
    "            return 1\n",
    "            \n",
    "        start, end = 1, n\n",
    "        while start + 1 < end:\n",
    "            mid = (start + end) // 2\n",
    "            if SVNRepo.isBadVersion(mid):\n",
    "                end = mid\n",
    "            else:\n",
    "                start = mid\n",
    "        \n",
    "        if SVNRepo.isBadVersion(start):\n",
    "            return start\n",
    "        return end"
   ]
  }
 ],
 "metadata": {
  "kernelspec": {
   "display_name": "Python 3",
   "language": "python",
   "name": "python3"
  },
  "language_info": {
   "codemirror_mode": {
    "name": "ipython",
    "version": 3
   },
   "file_extension": ".py",
   "mimetype": "text/x-python",
   "name": "python",
   "nbconvert_exporter": "python",
   "pygments_lexer": "ipython3",
   "version": "3.7.2"
  }
 },
 "nbformat": 4,
 "nbformat_minor": 2
}
