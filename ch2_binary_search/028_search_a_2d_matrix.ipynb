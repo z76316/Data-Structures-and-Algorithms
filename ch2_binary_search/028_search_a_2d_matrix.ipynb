{
 "cells": [
  {
   "cell_type": "markdown",
   "metadata": {},
   "source": [
    "Write an efficient algorithm that searches for a value in an m x n matrix.\n",
    "\n",
    "This matrix has the following properties:\n",
    "\n",
    "Integers in each row are sorted from left to right.\n",
    "The first integer of each row is greater than the last integer of the previous row.\n",
    "\n",
    "Example 1:\n",
    "\t\n",
    "    Input:  [[5]],2\n",
    "\tOutput: false\n",
    "\t\n",
    "Example 2:\n",
    "\t\n",
    "    Input:  [\n",
    "    [1, 3, 5, 7],\n",
    "    [10, 11, 16, 20],\n",
    "    [23, 30, 34, 50]\n",
    "    ],3\n",
    "\tOutput: true\n",
    "\n",
    "Challenge\n",
    "\n",
    "    O(log(n) + log(m)) time\n",
    "    \n",
    "https://www.lintcode.com/problem/search-a-2d-matrix/description"
   ]
  },
  {
   "cell_type": "code",
   "execution_count": 19,
   "metadata": {},
   "outputs": [],
   "source": [
    "class Solution:\n",
    "    \"\"\"\n",
    "    @param matrix: matrix, a list of lists of integers\n",
    "    @param target: An integer\n",
    "    @return: a boolean, indicate whether matrix contains target\n",
    "    \"\"\"\n",
    "    def searchMatrix(self, matrix, target):\n",
    "        # write your code here\n",
    "        if matrix == None or len(matrix) == 0:\n",
    "            return False\n",
    "        \n",
    "        len_row, len_col = len(matrix), len(matrix[0])\n",
    "        start, end = 0, len_row * len_col - 1\n",
    "        while start + 1 < end:\n",
    "            mid = start + (end - start) // 2\n",
    "            if matrix[mid // len_col][mid % len_col] > target:\n",
    "                end = mid\n",
    "            else:\n",
    "                start = mid\n",
    "                \n",
    "        if matrix[end // len_col][end % len_col] == target:\n",
    "            return True\n",
    "        if matrix[start // len_col][start % len_col] == target:\n",
    "            return True\n",
    "        return False\n",
    "    "
   ]
  },
  {
   "cell_type": "markdown",
   "metadata": {},
   "source": [
    "# Test"
   ]
  },
  {
   "cell_type": "code",
   "execution_count": 26,
   "metadata": {},
   "outputs": [
    {
     "data": {
      "text/plain": [
       "True"
      ]
     },
     "execution_count": 26,
     "metadata": {},
     "output_type": "execute_result"
    }
   ],
   "source": [
    "matrix = [\n",
    "    [1, 3, 5, 7],\n",
    "    [10, 11, 16, 20],\n",
    "    [23, 30, 34, 50]\n",
    "]\n",
    "target = 10\n",
    "\n",
    "# matrix = [\n",
    "#     [1,4,5],\n",
    "#     [6,7,8]\n",
    "# ]\n",
    "# target = 8\n",
    "\n",
    "\n",
    "a = Solution()\n",
    "a.searchMatrix(matrix, target)"
   ]
  },
  {
   "cell_type": "code",
   "execution_count": null,
   "metadata": {},
   "outputs": [],
   "source": []
  }
 ],
 "metadata": {
  "kernelspec": {
   "display_name": "Python 3",
   "language": "python",
   "name": "python3"
  },
  "language_info": {
   "codemirror_mode": {
    "name": "ipython",
    "version": 3
   },
   "file_extension": ".py",
   "mimetype": "text/x-python",
   "name": "python",
   "nbconvert_exporter": "python",
   "pygments_lexer": "ipython3",
   "version": "3.7.2"
  },
  "toc": {
   "base_numbering": 1,
   "nav_menu": {},
   "number_sections": true,
   "sideBar": true,
   "skip_h1_title": false,
   "title_cell": "Table of Contents",
   "title_sidebar": "Contents",
   "toc_cell": false,
   "toc_position": {},
   "toc_section_display": true,
   "toc_window_display": false
  }
 },
 "nbformat": 4,
 "nbformat_minor": 2
}
