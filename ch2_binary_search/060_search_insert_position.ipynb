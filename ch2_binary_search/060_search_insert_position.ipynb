{
 "cells": [
  {
   "cell_type": "markdown",
   "metadata": {},
   "source": [
    "Given a sorted array and a target value, return the index if the target is found. If not, return the index where it would be if it were inserted in order.\n",
    "\n",
    "You may assume NO duplicates in the array.\n",
    "\n",
    "Example\n",
    "    \n",
    "    [1,3,5,6], 5 → 2\n",
    "\n",
    "    [1,3,5,6], 2 → 1\n",
    "\n",
    "    [1,3,5,6], 7 → 4\n",
    "\n",
    "    [1,3,5,6], 0 → 0\n",
    "\n",
    "Challenge\n",
    "\n",
    "    O(log(n)) time\n",
    "    \n",
    "https://www.lintcode.com/problem/search-insert-position/description"
   ]
  },
  {
   "cell_type": "code",
   "execution_count": 21,
   "metadata": {},
   "outputs": [],
   "source": [
    "class Solution:\n",
    "    \"\"\"\n",
    "    @param A: an integer sorted array\n",
    "    @param target: an integer to be inserted\n",
    "    @return: An integer\n",
    "    \"\"\"\n",
    "    def searchInsert(self, A, target):\n",
    "        # write your code here\n",
    "        if A == None or len(A) == 0:\n",
    "            return 0\n",
    "        \n",
    "        start, end = 0, len(A) - 1\n",
    "        while start + 1 < end:\n",
    "            mid = (start + end) // 2\n",
    "            if A[mid] < target:\n",
    "                start = mid\n",
    "            else:\n",
    "                end = mid\n",
    "            \n",
    "        if A[start] >= target:\n",
    "            return start\n",
    "        elif A[end] >= target:\n",
    "            return end\n",
    "        return end + 1"
   ]
  },
  {
   "cell_type": "markdown",
   "metadata": {},
   "source": [
    "# Test"
   ]
  },
  {
   "cell_type": "code",
   "execution_count": 22,
   "metadata": {},
   "outputs": [
    {
     "data": {
      "text/plain": [
       "4"
      ]
     },
     "execution_count": 22,
     "metadata": {},
     "output_type": "execute_result"
    }
   ],
   "source": [
    "A = [1,3,5,6]\n",
    "target = 7\n",
    "\n",
    "a = Solution()\n",
    "a.searchInsert(A, target)"
   ]
  },
  {
   "cell_type": "code",
   "execution_count": null,
   "metadata": {},
   "outputs": [],
   "source": []
  }
 ],
 "metadata": {
  "kernelspec": {
   "display_name": "Python 3",
   "language": "python",
   "name": "python3"
  },
  "language_info": {
   "codemirror_mode": {
    "name": "ipython",
    "version": 3
   },
   "file_extension": ".py",
   "mimetype": "text/x-python",
   "name": "python",
   "nbconvert_exporter": "python",
   "pygments_lexer": "ipython3",
   "version": "3.7.2"
  }
 },
 "nbformat": 4,
 "nbformat_minor": 2
}
