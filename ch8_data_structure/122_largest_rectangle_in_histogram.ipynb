{
 "cells": [
  {
   "cell_type": "markdown",
   "metadata": {},
   "source": [
    "Given n non-negative integers representing the histogram's bar height where the width of each bar is 1, find the area of largest rectangle in the histogram.\n",
    "\n",
    "Example 1:\n",
    "\n",
    "    Input：[2,1,5,6,2,3]\n",
    "    \n",
    "    Output：10\n",
    "    \n",
    "Explanation：\n",
    "\n",
    "    The third and fourth rectangular truncated rectangle has an area of 2*5=10.\n",
    "\n",
    "Example 2:\n",
    "\n",
    "    Input：[1,1]\n",
    "    Output：2\n",
    "    \n",
    "\n",
    "Explanation：\n",
    "\n",
    "    The first and second rectangular truncated rectangle has an area of 2*1=2.\n",
    "    \n",
    "https://www.lintcode.com/problem/largest-rectangle-in-histogram/description\n",
    "\n",
    "https://leetcode.com/problems/largest-rectangle-in-histogram/"
   ]
  },
  {
   "cell_type": "markdown",
   "metadata": {},
   "source": [
    "# Solution"
   ]
  },
  {
   "cell_type": "code",
   "execution_count": 17,
   "metadata": {},
   "outputs": [],
   "source": [
    "class Solution:\n",
    "    def largestRectangleArea(self, heights):\n",
    "        ans = 0\n",
    "        heights.append(-1)   ### it makes sure we can always find a lower height in the left side\n",
    "        stack = [-1]   ### store index\n",
    "        for i in range(len(heights)):\n",
    "            while heights[i] < heights[stack[-1]]:\n",
    "                h = heights[stack.pop()]\n",
    "                w = i - stack[-1] - 1\n",
    "                ans = max(ans, h*w)\n",
    "            stack.append(i)\n",
    "        return ans"
   ]
  },
  {
   "cell_type": "markdown",
   "metadata": {},
   "source": [
    "# Test"
   ]
  },
  {
   "cell_type": "code",
   "execution_count": 18,
   "metadata": {},
   "outputs": [
    {
     "data": {
      "text/plain": [
       "10"
      ]
     },
     "execution_count": 18,
     "metadata": {},
     "output_type": "execute_result"
    }
   ],
   "source": [
    "s = Solution()\n",
    "A = [2,1,5,6,2,3]\n",
    "t = 0\n",
    "\n",
    "input = [A]\n",
    "s.largestRectangleArea(*input)"
   ]
  },
  {
   "cell_type": "markdown",
   "metadata": {},
   "source": [
    "# History"
   ]
  },
  {
   "cell_type": "code",
   "execution_count": 12,
   "metadata": {},
   "outputs": [],
   "source": [
    "class Solution:\n",
    "    \"\"\"\n",
    "    @param height: A list of integer\n",
    "    @return: The area of largest rectangle in the histogram\n",
    "    \"\"\"\n",
    "    def largestRectangleArea(self, height):\n",
    "        height = [-1] + height + [-1]\n",
    "        stack = [0]\n",
    "        max_area = 0\n",
    "        n = len(height)\n",
    "        for i in range(n):\n",
    "            while height[i] < height[stack[-1]]:\n",
    "                h = height[stack.pop()]\n",
    "                w = i - stack[-1] - 1\n",
    "                max_area = max(max_area, h*w)\n",
    "            stack.append(i)\n",
    "        return max_area\n",
    "    "
   ]
  },
  {
   "cell_type": "code",
   "execution_count": 13,
   "metadata": {},
   "outputs": [
    {
     "data": {
      "text/plain": [
       "10"
      ]
     },
     "execution_count": 13,
     "metadata": {},
     "output_type": "execute_result"
    }
   ],
   "source": [
    "s = Solution()\n",
    "A = [2,1,5,6,2,3]\n",
    "t = 0\n",
    "\n",
    "input = [A]\n",
    "s.largestRectangleArea(*input)"
   ]
  },
  {
   "cell_type": "markdown",
   "metadata": {},
   "source": [
    "# Key Thought: \n",
    "Calculate backward with while loop once meet peak-like shape\n",
    "\n",
    "\n",
    "## Details\n",
    "\n",
    "**stack[-1]** is the left boundary index, the index of the first bar in the left not higher than current bar\n",
    "\n",
    "**i** is the right boundary index, the index of the first bar in the right lower than current bar\n",
    "\n",
    "**stack** is an increasing stack which can keep track of the first smaller index on the left side\n",
    "\n",
    "\n",
    "https://stackoverflow.com/questions/4311694/maximize-the-rectangular-area-under-histogram/4311885"
   ]
  },
  {
   "cell_type": "code",
   "execution_count": 53,
   "metadata": {},
   "outputs": [],
   "source": [
    "class Solution_details:\n",
    "    \"\"\"\n",
    "    @param height: A list of integer\n",
    "    @return: The area of largest rectangle in the histogram\n",
    "    \"\"\"\n",
    "    def largestRectangleArea(self, height):\n",
    "        height = [-1] + height + [-1]\n",
    "        stack = [0]\n",
    "        max_area = 0\n",
    "        print('height =',height)\n",
    "        print('stack =',stack)\n",
    "        print('\\n')\n",
    "        n = len(height)\n",
    "        for i in range(n):\n",
    "            print('i =',i)\n",
    "            while height[i] < height[stack[-1]]:\n",
    "                h = height[stack.pop()]\n",
    "                w = i - stack[-1] - 1\n",
    "                max_area = max(max_area, h*w)\n",
    "                print('h =',h)\n",
    "                print('stack after pop() =',stack)\n",
    "                print('w =',w)\n",
    "                print('area =', h*w)\n",
    "                print('max_area =', max_area)\n",
    "                print('-----while loop-----')\n",
    "            stack.append(i)\n",
    "            print('stack after append(i) =',stack)\n",
    "            print('=======================================================')\n",
    "        return max_area\n",
    "    "
   ]
  },
  {
   "cell_type": "code",
   "execution_count": 54,
   "metadata": {},
   "outputs": [
    {
     "name": "stdout",
     "output_type": "stream",
     "text": [
      "height = [-1, 2, 1, 5, 6, 2, 3, -1]\n",
      "stack = [0]\n",
      "\n",
      "\n",
      "i = 0\n",
      "stack after append(i) = [0, 0]\n",
      "=======================================================\n",
      "i = 1\n",
      "stack after append(i) = [0, 0, 1]\n",
      "=======================================================\n",
      "i = 2\n",
      "h = 2\n",
      "stack after pop() = [0, 0]\n",
      "w = 1\n",
      "area = 2\n",
      "max_area = 2\n",
      "-----while loop-----\n",
      "stack after append(i) = [0, 0, 2]\n",
      "=======================================================\n",
      "i = 3\n",
      "stack after append(i) = [0, 0, 2, 3]\n",
      "=======================================================\n",
      "i = 4\n",
      "stack after append(i) = [0, 0, 2, 3, 4]\n",
      "=======================================================\n",
      "i = 5\n",
      "h = 6\n",
      "stack after pop() = [0, 0, 2, 3]\n",
      "w = 1\n",
      "area = 6\n",
      "max_area = 6\n",
      "-----while loop-----\n",
      "h = 5\n",
      "stack after pop() = [0, 0, 2]\n",
      "w = 2\n",
      "area = 10\n",
      "max_area = 10\n",
      "-----while loop-----\n",
      "stack after append(i) = [0, 0, 2, 5]\n",
      "=======================================================\n",
      "i = 6\n",
      "stack after append(i) = [0, 0, 2, 5, 6]\n",
      "=======================================================\n",
      "i = 7\n",
      "h = 3\n",
      "stack after pop() = [0, 0, 2, 5]\n",
      "w = 1\n",
      "area = 3\n",
      "max_area = 10\n",
      "-----while loop-----\n",
      "h = 2\n",
      "stack after pop() = [0, 0, 2]\n",
      "w = 4\n",
      "area = 8\n",
      "max_area = 10\n",
      "-----while loop-----\n",
      "h = 1\n",
      "stack after pop() = [0, 0]\n",
      "w = 6\n",
      "area = 6\n",
      "max_area = 10\n",
      "-----while loop-----\n",
      "stack after append(i) = [0, 0, 7]\n",
      "=======================================================\n"
     ]
    },
    {
     "data": {
      "text/plain": [
       "10"
      ]
     },
     "execution_count": 54,
     "metadata": {},
     "output_type": "execute_result"
    }
   ],
   "source": [
    "s = Solution_details()\n",
    "A = [2,1,5,6,2,3]\n",
    "t = 0\n",
    "\n",
    "input = [A]\n",
    "s.largestRectangleArea(*input)"
   ]
  },
  {
   "cell_type": "code",
   "execution_count": null,
   "metadata": {},
   "outputs": [],
   "source": []
  }
 ],
 "metadata": {
  "kernelspec": {
   "display_name": "Python 3",
   "language": "python",
   "name": "python3"
  },
  "language_info": {
   "codemirror_mode": {
    "name": "ipython",
    "version": 3
   },
   "file_extension": ".py",
   "mimetype": "text/x-python",
   "name": "python",
   "nbconvert_exporter": "python",
   "pygments_lexer": "ipython3",
   "version": "3.7.2"
  },
  "toc": {
   "base_numbering": 1,
   "nav_menu": {},
   "number_sections": true,
   "sideBar": true,
   "skip_h1_title": false,
   "title_cell": "Table of Contents",
   "title_sidebar": "Contents",
   "toc_cell": false,
   "toc_position": {},
   "toc_section_display": true,
   "toc_window_display": false
  }
 },
 "nbformat": 4,
 "nbformat_minor": 2
}
