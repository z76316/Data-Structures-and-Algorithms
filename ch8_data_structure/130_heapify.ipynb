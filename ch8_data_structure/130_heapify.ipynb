{
 "cells": [
  {
   "cell_type": "markdown",
   "metadata": {},
   "source": [
    "Given an integer array, heapify it into a min-heap array.\n",
    "\n",
    "For a heap array A, A[0] is the root of heap, and for each A[i], A[i * 2 + 1] is the left child of A[i] and A[i * 2 + 2] is the right child of A[i].\n",
    "\n",
    "Example\n",
    "    \n",
    "    Given [3,2,1,4,5], return [1,2,3,4,5] or any legal heap array.\n",
    "\n",
    "Challenge\n",
    "\n",
    "    O(n) time complexity\n",
    "    \n",
    "https://www.lintcode.com/problem/130/"
   ]
  },
  {
   "cell_type": "markdown",
   "metadata": {},
   "source": [
    "# Solution"
   ]
  },
  {
   "cell_type": "code",
   "execution_count": 2,
   "metadata": {},
   "outputs": [],
   "source": [
    "# sift up, time complexity = O(nlogn)\n",
    "class Solution:\n",
    "    \"\"\"\n",
    "    @param: A: Given an integer array\n",
    "    @return: nothing\n",
    "    \"\"\"\n",
    "    def heapify(self, A):\n",
    "        # write your code here\n",
    "        for i in range(1, len(A)):\n",
    "            self.siftUp(A, i)\n",
    "            \n",
    "    def siftUp(self, A, i):\n",
    "        while (i-1)//2 >= 0 and A[(i-1)//2] > A[i]:\n",
    "            A[(i-1)//2], A[i] = A[i], A[(i-1)//2]\n",
    "            i = (i-1)//2"
   ]
  },
  {
   "cell_type": "code",
   "execution_count": 14,
   "metadata": {},
   "outputs": [],
   "source": [
    "# sift down, time complexity = O(n)\n",
    "class Solution:\n",
    "    \"\"\"\n",
    "    @param: A: Given an integer array\n",
    "    @return: nothing\n",
    "    \"\"\"\n",
    "    def heapify(self, A):\n",
    "        # write your code here\n",
    "        for i in range(len(A)//2 - 1, -1, -1):   ### from the last sub tree's root\n",
    "            self.siftDown(A, i)\n",
    "        \n",
    "    def siftDown(self, A, i):\n",
    "        n = len(A)\n",
    "        while i*2 + 1 < n:\n",
    "            child_i = i*2 + 1   ### left child\n",
    "            if child_i + 1 < n and A[child_i] > A[child_i + 1]:   ### if left child is greater than right child\n",
    "                child_i += 1\n",
    "            if A[child_i] > A[i]:   ### if child is greater than root\n",
    "                break\n",
    "            \n",
    "            A[i], A[child_i] = A[child_i], A[i]\n",
    "            i = child_i"
   ]
  },
  {
   "cell_type": "code",
   "execution_count": 13,
   "metadata": {},
   "outputs": [
    {
     "data": {
      "text/plain": [
       "[1, 2, 3, 4, 5]"
      ]
     },
     "execution_count": 13,
     "metadata": {},
     "output_type": "execute_result"
    }
   ],
   "source": [
    "a = Solution()\n",
    "A = [3, 2, 1, 4, 5]\n",
    "\n",
    "a.heapify(A)\n",
    "A"
   ]
  },
  {
   "cell_type": "markdown",
   "metadata": {},
   "source": [
    "# History"
   ]
  },
  {
   "cell_type": "markdown",
   "metadata": {},
   "source": [
    "## Sift up O(nlogn)"
   ]
  },
  {
   "cell_type": "code",
   "execution_count": 31,
   "metadata": {},
   "outputs": [],
   "source": [
    "class Solution_sift_up:\n",
    "    \"\"\"\n",
    "    @param: A: Given an integer array\n",
    "    @return: nothing\n",
    "    \"\"\"\n",
    "    def heapify(self, A):\n",
    "        for i in range(1, len(A)):\n",
    "            self.siftUp(A, i)\n",
    "            \n",
    "    def siftUp(self, A, i):\n",
    "        while (i-1)//2 >= 0 and A[i] < A[(i-1)//2]:\n",
    "            A[i], A[(i-1)//2] = A[(i-1)//2], A[i]\n",
    "            i = (i-1)//2"
   ]
  },
  {
   "cell_type": "code",
   "execution_count": 32,
   "metadata": {},
   "outputs": [
    {
     "data": {
      "text/plain": [
       "[1, 3, 2, 4, 5]"
      ]
     },
     "execution_count": 32,
     "metadata": {},
     "output_type": "execute_result"
    }
   ],
   "source": [
    "sift_up = Solution_sift_up()\n",
    "A = [3, 2, 1, 4, 5]\n",
    "t = 2\n",
    "\n",
    "input = [A]\n",
    "sift_up.heapify(*input)\n",
    "A"
   ]
  },
  {
   "cell_type": "markdown",
   "metadata": {},
   "source": [
    "## Sift down O(n)"
   ]
  },
  {
   "cell_type": "code",
   "execution_count": 39,
   "metadata": {},
   "outputs": [],
   "source": [
    "class Solution_sift_dwon:\n",
    "    \"\"\"\n",
    "    @param: A: Given an integer array\n",
    "    @return: nothing\n",
    "    \"\"\"\n",
    "    def heapify(self, A):\n",
    "        for i in range(len(A)//2 - 1, -1, -1): ### From the last node which has child node\n",
    "            self.siftDown(A, i)\n",
    "            \n",
    "    def siftDown(self, A, i):\n",
    "        n = len(A)\n",
    "        while i * 2 + 1 < n:\n",
    "            child_index = i * 2 + 1\n",
    "            if child_index + 1 < n and A[child_index] > A[child_index + 1]:\n",
    "                child_index = child_index + 1\n",
    "            if A[child_index] >= A[i]:\n",
    "                break\n",
    "            \n",
    "            A[i], A[child_index] = A[child_index], A[i]\n",
    "            i = child_index"
   ]
  },
  {
   "cell_type": "code",
   "execution_count": 40,
   "metadata": {},
   "outputs": [
    {
     "data": {
      "text/plain": [
       "[1, 2, 3, 4, 5]"
      ]
     },
     "execution_count": 40,
     "metadata": {},
     "output_type": "execute_result"
    }
   ],
   "source": [
    "sift_down = Solution_sift_dwon()\n",
    "A = [3, 2, 1, 4, 5]\n",
    "t = 2\n",
    "\n",
    "input = [A]\n",
    "sift_down.heapify(*input)\n",
    "A"
   ]
  },
  {
   "cell_type": "code",
   "execution_count": null,
   "metadata": {},
   "outputs": [],
   "source": []
  }
 ],
 "metadata": {
  "kernelspec": {
   "display_name": "Python 3",
   "language": "python",
   "name": "python3"
  },
  "language_info": {
   "codemirror_mode": {
    "name": "ipython",
    "version": 3
   },
   "file_extension": ".py",
   "mimetype": "text/x-python",
   "name": "python",
   "nbconvert_exporter": "python",
   "pygments_lexer": "ipython3",
   "version": "3.7.2"
  },
  "toc": {
   "base_numbering": 1,
   "nav_menu": {},
   "number_sections": true,
   "sideBar": true,
   "skip_h1_title": false,
   "title_cell": "Table of Contents",
   "title_sidebar": "Contents",
   "toc_cell": false,
   "toc_position": {},
   "toc_section_display": true,
   "toc_window_display": false
  }
 },
 "nbformat": 4,
 "nbformat_minor": 2
}
