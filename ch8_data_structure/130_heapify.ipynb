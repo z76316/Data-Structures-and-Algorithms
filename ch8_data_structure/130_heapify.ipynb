{
 "cells": [
  {
   "cell_type": "markdown",
   "metadata": {},
   "source": [
    "Given an integer array, heapify it into a min-heap array.\n",
    "\n",
    "For a heap array A, A[0] is the root of heap, and for each A[i], A[i * 2 + 1] is the left child of A[i] and A[i * 2 + 2] is the right child of A[i].\n",
    "\n",
    "Example\n",
    "    \n",
    "    Given [3,2,1,4,5], return [1,2,3,4,5] or any legal heap array.\n",
    "\n",
    "Challenge\n",
    "\n",
    "    O(n) time complexity"
   ]
  },
  {
   "cell_type": "markdown",
   "metadata": {},
   "source": [
    "# Sift up O(nlogn)"
   ]
  },
  {
   "cell_type": "code",
   "execution_count": 31,
   "metadata": {},
   "outputs": [],
   "source": [
    "class Solution_sift_up:\n",
    "    \"\"\"\n",
    "    @param: A: Given an integer array\n",
    "    @return: nothing\n",
    "    \"\"\"\n",
    "    def heapify(self, A):\n",
    "        for i in range(1, len(A)):\n",
    "            self.siftUp(A, i)\n",
    "            \n",
    "    def siftUp(self, A, i):\n",
    "        while (i-1)//2 >= 0 and A[i] < A[(i-1)//2]:\n",
    "            A[i], A[(i-1)//2] = A[(i-1)//2], A[i]\n",
    "            i = (i-1)//2"
   ]
  },
  {
   "cell_type": "code",
   "execution_count": 32,
   "metadata": {},
   "outputs": [
    {
     "data": {
      "text/plain": [
       "[1, 3, 2, 4, 5]"
      ]
     },
     "execution_count": 32,
     "metadata": {},
     "output_type": "execute_result"
    }
   ],
   "source": [
    "sift_up = Solution_sift_up()\n",
    "A = [3, 2, 1, 4, 5]\n",
    "t = 2\n",
    "\n",
    "input = [A]\n",
    "sift_up.heapify(*input)\n",
    "A"
   ]
  },
  {
   "cell_type": "markdown",
   "metadata": {},
   "source": [
    "# Sift down O(n)"
   ]
  },
  {
   "cell_type": "code",
   "execution_count": 39,
   "metadata": {},
   "outputs": [],
   "source": [
    "class Solution_sift_dwon:\n",
    "    \"\"\"\n",
    "    @param: A: Given an integer array\n",
    "    @return: nothing\n",
    "    \"\"\"\n",
    "    def heapify(self, A):\n",
    "        for i in range(len(A)//2 - 1, -1, -1): ### From the last node which has child node\n",
    "            self.siftDown(A, i)\n",
    "            \n",
    "    def siftDown(self, A, i):\n",
    "        n = len(A)\n",
    "        while i * 2 + 1 < n:\n",
    "            child_index = i * 2 + 1\n",
    "            if child_index + 1 < n and A[child_index] > A[child_index + 1]:\n",
    "                child_index = child_index + 1\n",
    "            if A[child_index] >= A[i]:\n",
    "                break\n",
    "            \n",
    "            A[i], A[child_index] = A[child_index], A[i]\n",
    "            i = child_index"
   ]
  },
  {
   "cell_type": "code",
   "execution_count": 40,
   "metadata": {},
   "outputs": [
    {
     "data": {
      "text/plain": [
       "[1, 2, 3, 4, 5]"
      ]
     },
     "execution_count": 40,
     "metadata": {},
     "output_type": "execute_result"
    }
   ],
   "source": [
    "sift_down = Solution_sift_dwon()\n",
    "A = [3, 2, 1, 4, 5]\n",
    "t = 2\n",
    "\n",
    "input = [A]\n",
    "sift_down.heapify(*input)\n",
    "A"
   ]
  },
  {
   "cell_type": "code",
   "execution_count": null,
   "metadata": {},
   "outputs": [],
   "source": []
  }
 ],
 "metadata": {
  "kernelspec": {
   "display_name": "Python 3",
   "language": "python",
   "name": "python3"
  },
  "language_info": {
   "codemirror_mode": {
    "name": "ipython",
    "version": 3
   },
   "file_extension": ".py",
   "mimetype": "text/x-python",
   "name": "python",
   "nbconvert_exporter": "python",
   "pygments_lexer": "ipython3",
   "version": "3.7.2"
  }
 },
 "nbformat": 4,
 "nbformat_minor": 2
}
