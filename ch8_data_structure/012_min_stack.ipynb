{
 "cells": [
  {
   "cell_type": "markdown",
   "metadata": {},
   "source": [
    "Implement a stack with following functions:\n",
    "\n",
    "    push(val) push val into the stack\n",
    "    pop() pop the top element and return it\n",
    "    min() return the smallest number in the stack\n",
    "\n",
    "All above should be in O(1) cost.\n",
    "\n",
    "https://www.lintcode.com/problem/min-stack/description"
   ]
  },
  {
   "cell_type": "markdown",
   "metadata": {},
   "source": [
    "# Solution"
   ]
  },
  {
   "cell_type": "code",
   "execution_count": 2,
   "metadata": {},
   "outputs": [],
   "source": [
    "class MinStack:\n",
    "    \n",
    "    def __init__(self):\n",
    "        # do intialization if necessary\n",
    "        self.stack = []\n",
    "        self.min_stack = []\n",
    "\n",
    "    \"\"\"\n",
    "    @param: number: An integer\n",
    "    @return: nothing\n",
    "    \"\"\"\n",
    "    def push(self, number):\n",
    "        # write your code here\n",
    "        self.stack.append(number)\n",
    "        if len(self.min_stack) == 0:\n",
    "            self.min_stack.append(number)\n",
    "        else:\n",
    "            self.min_stack.append(min(number, self.min_stack[-1]))\n",
    "            \n",
    "    \"\"\"\n",
    "    @return: An integer\n",
    "    \"\"\"\n",
    "    def pop(self):\n",
    "        # write your code here\n",
    "        pop_n = self.stack[-1]\n",
    "        del(self.stack[-1], self.min_stack[-1])\n",
    "        return pop_n\n",
    "\n",
    "    \"\"\"\n",
    "    @return: An integer\n",
    "    \"\"\"\n",
    "    def min(self):\n",
    "        # write your code here\n",
    "        return self.min_stack[-1]\n"
   ]
  },
  {
   "cell_type": "markdown",
   "metadata": {},
   "source": [
    "# Test"
   ]
  },
  {
   "cell_type": "code",
   "execution_count": 8,
   "metadata": {},
   "outputs": [
    {
     "name": "stdout",
     "output_type": "stream",
     "text": [
      "min_stack.stack = [1]\n",
      "min_stack.min_stack = [1]\n",
      "min_stack.stack = []\n",
      "min_stack.min_stack = []\n",
      "min_stack.stack = [2, 3, 1]\n",
      "min_stack.min_stack = [2, 2, 1]\n"
     ]
    },
    {
     "data": {
      "text/plain": [
       "1"
      ]
     },
     "execution_count": 8,
     "metadata": {},
     "output_type": "execute_result"
    }
   ],
   "source": [
    "min_stack = MinStack()\n",
    "\n",
    "min_stack.push(1)\n",
    "print(f\"min_stack.stack = {min_stack.stack}\")\n",
    "print(f\"min_stack.min_stack = {min_stack.min_stack}\")\n",
    "\n",
    "min_stack.pop()\n",
    "print(f\"min_stack.stack = {min_stack.stack}\")\n",
    "print(f\"min_stack.min_stack = {min_stack.min_stack}\")\n",
    "\n",
    "min_stack.push(2)\n",
    "min_stack.push(3)\n",
    "min_stack.push(1)\n",
    "print(f\"min_stack.stack = {min_stack.stack}\")\n",
    "print(f\"min_stack.min_stack = {min_stack.min_stack}\")\n",
    "\n",
    "min_stack.min()"
   ]
  },
  {
   "cell_type": "markdown",
   "metadata": {},
   "source": [
    "# History"
   ]
  },
  {
   "cell_type": "code",
   "execution_count": 4,
   "metadata": {},
   "outputs": [],
   "source": [
    "# Use two stacks to implement it\n",
    "class MinStack:\n",
    "    \n",
    "    def __init__(self):\n",
    "        self.stack = []\n",
    "        self.minstack = []\n",
    "\n",
    "    \"\"\"\n",
    "    @param: number: An integer\n",
    "    @return: nothing\n",
    "    \"\"\"\n",
    "    def push(self, number):\n",
    "        self.stack.append(number)\n",
    "        if len(self.minstack) == 0:\n",
    "            self.minstack.append(number)\n",
    "        else:\n",
    "            self.minstack.append(min(number, self.minstack[-1]))\n",
    "\n",
    "    \"\"\"\n",
    "    @return: An integer\n",
    "    \"\"\"\n",
    "    def pop(self):\n",
    "        out = self.stack[-1]\n",
    "        del(self.stack[-1], self.minstack[-1])\n",
    "        return out\n",
    "\n",
    "    \"\"\"\n",
    "    @return: An integer\n",
    "    \"\"\"\n",
    "    def min(self):\n",
    "        return self.minstack[-1]\n"
   ]
  },
  {
   "cell_type": "code",
   "execution_count": 10,
   "metadata": {},
   "outputs": [
    {
     "data": {
      "text/plain": [
       "1"
      ]
     },
     "execution_count": 10,
     "metadata": {},
     "output_type": "execute_result"
    }
   ],
   "source": [
    "min_stack = MinStack()\n",
    "min_stack.push(1)\n",
    "min_stack.pop()\n",
    "min_stack.push(2)\n",
    "min_stack.push(3)\n",
    "min_stack.push(1)\n",
    "min_stack.min()"
   ]
  },
  {
   "cell_type": "code",
   "execution_count": null,
   "metadata": {},
   "outputs": [],
   "source": []
  }
 ],
 "metadata": {
  "kernelspec": {
   "display_name": "Python 3",
   "language": "python",
   "name": "python3"
  },
  "language_info": {
   "codemirror_mode": {
    "name": "ipython",
    "version": 3
   },
   "file_extension": ".py",
   "mimetype": "text/x-python",
   "name": "python",
   "nbconvert_exporter": "python",
   "pygments_lexer": "ipython3",
   "version": "3.7.2"
  },
  "toc": {
   "base_numbering": 1,
   "nav_menu": {},
   "number_sections": true,
   "sideBar": true,
   "skip_h1_title": false,
   "title_cell": "Table of Contents",
   "title_sidebar": "Contents",
   "toc_cell": false,
   "toc_position": {},
   "toc_section_display": true,
   "toc_window_display": false
  }
 },
 "nbformat": 4,
 "nbformat_minor": 2
}
