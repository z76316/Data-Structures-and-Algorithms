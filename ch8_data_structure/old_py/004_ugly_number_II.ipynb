{
 "cells": [
  {
   "cell_type": "markdown",
   "metadata": {},
   "source": [
    "Ugly number is a number that only have factors 2, 3 and 5.\n",
    "\n",
    "Design an algorithm to find the nth ugly number. The first 10 ugly numbers are 1, 2, 3, 4, 5, 6, 8, 9, 10, 12...\n",
    "\n",
    "Example 1:\n",
    "```\n",
    "Input: 9\n",
    "Output: 10\n",
    "```\n",
    "Example 2:\n",
    "```\n",
    "Input: 1\n",
    "Output: 1\n",
    "```\n",
    "**Challenge**: O(n log n) or O(n) time.\n",
    "\n",
    "**Notice**: Note that 1 is typically treated as an ugly number.\n",
    "\n",
    "https://www.lintcode.com/problem/ugly-number-ii/description\n",
    "\n",
    "https://leetcode.com/problems/ugly-number-ii/discuss/69384/My-expressive-Python-solution"
   ]
  },
  {
   "cell_type": "code",
   "execution_count": 41,
   "metadata": {},
   "outputs": [],
   "source": [
    "# O(n), three pointer\n",
    "class Solution_1:\n",
    "    \"\"\"\n",
    "    @param n: An integer\n",
    "    @return: return a  integer as description.\n",
    "    \"\"\"\n",
    "    def nthUglyNumber(self, n):\n",
    "        ugly_list = [1]\n",
    "        i2, i3, i5 = 0, 0, 0\n",
    "        \n",
    "        while n > 1: ### because the smallest is 1 and it is already in ugly_list\n",
    "            u2, u3, u5 = 2*ugly_list[i2], 3*ugly_list[i3], 5*ugly_list[i5]\n",
    "            umin = min(u2, u3, u5)\n",
    "            if umin == u2: i2 += 1\n",
    "            if umin == u3: i3 += 1\n",
    "            if umin == u5: i5 += 1\n",
    "            ugly_list.append(umin)\n",
    "            n -= 1\n",
    "        \n",
    "        return ugly_list[-1]\n",
    "            "
   ]
  },
  {
   "cell_type": "markdown",
   "metadata": {},
   "source": [
    "# Test 1"
   ]
  },
  {
   "cell_type": "code",
   "execution_count": 42,
   "metadata": {},
   "outputs": [
    {
     "data": {
      "text/plain": [
       "10"
      ]
     },
     "execution_count": 42,
     "metadata": {},
     "output_type": "execute_result"
    }
   ],
   "source": [
    "s = Solution_1()\n",
    "n = 9\n",
    "\n",
    "input = [n]\n",
    "s.nthUglyNumber(*input)"
   ]
  },
  {
   "cell_type": "code",
   "execution_count": 33,
   "metadata": {},
   "outputs": [],
   "source": [
    "# O(nlogn), heap queue\n",
    "import heapq\n",
    "class Solution_2:\n",
    "    \"\"\"\n",
    "    @param n: An integer\n",
    "    @return: return a  integer as description.\n",
    "    \"\"\"\n",
    "    def nthUglyNumber(self, n):\n",
    "        heap = [1]\n",
    "        visited = set([1])\n",
    "        \n",
    "        val = None\n",
    "        for i in range(n):\n",
    "            val = heapq.heappop(heap)\n",
    "            print('n(i+1):', i)\n",
    "            print('val:', val)\n",
    "            for multi in [2, 3, 5]:\n",
    "                newVal = val * multi\n",
    "                if newVal not in visited:\n",
    "                    heapq.heappush(heap, newVal)\n",
    "                    visited.add(newVal)\n",
    "                print('heap:', heap)\n",
    "                print('visited:', visited)\n",
    "        \n",
    "        return val"
   ]
  },
  {
   "cell_type": "markdown",
   "metadata": {},
   "source": [
    "# Test 2"
   ]
  },
  {
   "cell_type": "code",
   "execution_count": 34,
   "metadata": {},
   "outputs": [
    {
     "name": "stdout",
     "output_type": "stream",
     "text": [
      "n(i+1): 0\n",
      "val: 1\n",
      "heap: [2]\n",
      "visited: {1, 2}\n",
      "heap: [2, 3]\n",
      "visited: {1, 2, 3}\n",
      "heap: [2, 3, 5]\n",
      "visited: {1, 2, 3, 5}\n",
      "n(i+1): 1\n",
      "val: 2\n",
      "heap: [3, 5, 4]\n",
      "visited: {1, 2, 3, 4, 5}\n",
      "heap: [3, 5, 4, 6]\n",
      "visited: {1, 2, 3, 4, 5, 6}\n",
      "heap: [3, 5, 4, 6, 10]\n",
      "visited: {1, 2, 3, 4, 5, 6, 10}\n",
      "n(i+1): 2\n",
      "val: 3\n",
      "heap: [4, 5, 10, 6]\n",
      "visited: {1, 2, 3, 4, 5, 6, 10}\n",
      "heap: [4, 5, 10, 6, 9]\n",
      "visited: {1, 2, 3, 4, 5, 6, 9, 10}\n",
      "heap: [4, 5, 10, 6, 9, 15]\n",
      "visited: {1, 2, 3, 4, 5, 6, 9, 10, 15}\n",
      "n(i+1): 3\n",
      "val: 4\n",
      "heap: [5, 6, 8, 15, 9, 10]\n",
      "visited: {1, 2, 3, 4, 5, 6, 8, 9, 10, 15}\n",
      "heap: [5, 6, 8, 15, 9, 10, 12]\n",
      "visited: {1, 2, 3, 4, 5, 6, 8, 9, 10, 12, 15}\n",
      "heap: [5, 6, 8, 15, 9, 10, 12, 20]\n",
      "visited: {1, 2, 3, 4, 5, 6, 8, 9, 10, 12, 15, 20}\n",
      "n(i+1): 4\n",
      "val: 5\n",
      "heap: [6, 9, 8, 15, 20, 10, 12]\n",
      "visited: {1, 2, 3, 4, 5, 6, 8, 9, 10, 12, 15, 20}\n",
      "heap: [6, 9, 8, 15, 20, 10, 12]\n",
      "visited: {1, 2, 3, 4, 5, 6, 8, 9, 10, 12, 15, 20}\n",
      "heap: [6, 9, 8, 15, 20, 10, 12, 25]\n",
      "visited: {1, 2, 3, 4, 5, 6, 8, 9, 10, 12, 15, 20, 25}\n",
      "n(i+1): 5\n",
      "val: 6\n",
      "heap: [8, 9, 10, 15, 20, 25, 12]\n",
      "visited: {1, 2, 3, 4, 5, 6, 8, 9, 10, 12, 15, 20, 25}\n",
      "heap: [8, 9, 10, 15, 20, 25, 12, 18]\n",
      "visited: {1, 2, 3, 4, 5, 6, 8, 9, 10, 12, 15, 18, 20, 25}\n",
      "heap: [8, 9, 10, 15, 20, 25, 12, 18, 30]\n",
      "visited: {1, 2, 3, 4, 5, 6, 8, 9, 10, 12, 15, 18, 20, 25, 30}\n",
      "n(i+1): 6\n",
      "val: 8\n",
      "heap: [9, 15, 10, 16, 20, 25, 12, 30, 18]\n",
      "visited: {1, 2, 3, 4, 5, 6, 8, 9, 10, 12, 15, 16, 18, 20, 25, 30}\n",
      "heap: [9, 15, 10, 16, 20, 25, 12, 30, 18, 24]\n",
      "visited: {1, 2, 3, 4, 5, 6, 8, 9, 10, 12, 15, 16, 18, 20, 24, 25, 30}\n",
      "heap: [9, 15, 10, 16, 20, 25, 12, 30, 18, 24, 40]\n",
      "visited: {1, 2, 3, 4, 5, 6, 8, 9, 10, 40, 12, 15, 16, 18, 20, 24, 25, 30}\n",
      "n(i+1): 7\n",
      "val: 9\n",
      "heap: [10, 15, 12, 16, 20, 25, 40, 30, 18, 24]\n",
      "visited: {1, 2, 3, 4, 5, 6, 8, 9, 10, 40, 12, 15, 16, 18, 20, 24, 25, 30}\n",
      "heap: [10, 15, 12, 16, 20, 25, 40, 30, 18, 24, 27]\n",
      "visited: {1, 2, 3, 4, 5, 6, 8, 9, 10, 12, 15, 16, 18, 20, 24, 25, 27, 30, 40}\n",
      "heap: [10, 15, 12, 16, 20, 25, 40, 30, 18, 24, 27, 45]\n",
      "visited: {1, 2, 3, 4, 5, 6, 8, 9, 10, 12, 15, 16, 18, 20, 24, 25, 27, 30, 40, 45}\n",
      "n(i+1): 8\n",
      "val: 10\n",
      "heap: [12, 15, 25, 16, 20, 45, 40, 30, 18, 24, 27]\n",
      "visited: {1, 2, 3, 4, 5, 6, 8, 9, 10, 12, 15, 16, 18, 20, 24, 25, 27, 30, 40, 45}\n",
      "heap: [12, 15, 25, 16, 20, 45, 40, 30, 18, 24, 27]\n",
      "visited: {1, 2, 3, 4, 5, 6, 8, 9, 10, 12, 15, 16, 18, 20, 24, 25, 27, 30, 40, 45}\n",
      "heap: [12, 15, 25, 16, 20, 45, 40, 30, 18, 24, 27, 50]\n",
      "visited: {1, 2, 3, 4, 5, 6, 8, 9, 10, 12, 15, 16, 18, 20, 24, 25, 27, 30, 40, 45, 50}\n"
     ]
    },
    {
     "data": {
      "text/plain": [
       "10"
      ]
     },
     "execution_count": 34,
     "metadata": {},
     "output_type": "execute_result"
    }
   ],
   "source": [
    "s = Solution_2()\n",
    "n = 9\n",
    "\n",
    "input = [n]\n",
    "s.nthUglyNumber(*input)\n"
   ]
  },
  {
   "cell_type": "code",
   "execution_count": null,
   "metadata": {},
   "outputs": [],
   "source": []
  }
 ],
 "metadata": {
  "kernelspec": {
   "display_name": "Python 3",
   "language": "python",
   "name": "python3"
  },
  "language_info": {
   "codemirror_mode": {
    "name": "ipython",
    "version": 3
   },
   "file_extension": ".py",
   "mimetype": "text/x-python",
   "name": "python",
   "nbconvert_exporter": "python",
   "pygments_lexer": "ipython3",
   "version": "3.7.2"
  }
 },
 "nbformat": 4,
 "nbformat_minor": 2
}
