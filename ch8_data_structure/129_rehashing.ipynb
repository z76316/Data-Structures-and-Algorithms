{
 "cells": [
  {
   "cell_type": "markdown",
   "metadata": {},
   "source": [
    "Given the original hash table, return the new hash table after rehashing.\n",
    "\n",
    "Rehashing this hash table, double the capacity.\n",
    "\n",
    "Example\n",
    "\n",
    "    Given [null, 21->9->null, 14->null, null],\n",
    "\n",
    "    return [null, 9->null, null, null, null, 21->null, 14->null, null]\n",
    "\n",
    "https://www.lintcode.com/problem/rehashing/description"
   ]
  },
  {
   "cell_type": "markdown",
   "metadata": {},
   "source": [
    "# Solution"
   ]
  },
  {
   "cell_type": "code",
   "execution_count": 19,
   "metadata": {},
   "outputs": [],
   "source": [
    "\"\"\"\n",
    "Definition of ListNode\n",
    "class ListNode(object):\n",
    "\n",
    "    def __init__(self, val, next=None):\n",
    "        self.val = val\n",
    "        self.next = next\n",
    "\"\"\"\n",
    "class Solution:\n",
    "    \"\"\"\n",
    "    @param hashTable: A list of The first node of linked list\n",
    "    @return: A list of The first node of linked list which have twice size\n",
    "    \"\"\"\n",
    "    def rehashing(self, hashTable):\n",
    "        # write your code here\n",
    "        newSize = len(hashTable) * 2\n",
    "        newHashTable = [None for n in range(newSize)]\n",
    "        for node in hashTable:\n",
    "            while node:\n",
    "                pos = node.val % newSize\n",
    "                if not newHashTable[pos]:\n",
    "                    newHashTable[pos] = ListNode(node.val)\n",
    "                else:\n",
    "                    self.addListNode(newHashTable[pos], node.val)\n",
    "                node = node.next   ##### don't forget to go to the next node\n",
    "        return newHashTable\n",
    "    \n",
    "    # it'll be missed without passing val when it go to the else case\n",
    "    def addListNode(self, node, val):\n",
    "        if not node.next:\n",
    "            node.next = ListNode(val)\n",
    "        else:\n",
    "            self.addListNode(node.next, val)"
   ]
  },
  {
   "cell_type": "markdown",
   "metadata": {},
   "source": [
    "# Test"
   ]
  },
  {
   "cell_type": "markdown",
   "metadata": {},
   "source": [
    "## class ListNode"
   ]
  },
  {
   "cell_type": "code",
   "execution_count": 2,
   "metadata": {},
   "outputs": [],
   "source": [
    "# Definition of ListNode\n",
    "class ListNode(object):\n",
    "    def __init__(self, val, next=None):\n",
    "        self.val = val\n",
    "        self.next = next"
   ]
  },
  {
   "cell_type": "markdown",
   "metadata": {},
   "source": [
    "## Testing"
   ]
  },
  {
   "cell_type": "code",
   "execution_count": 18,
   "metadata": {},
   "outputs": [
    {
     "name": "stdout",
     "output_type": "stream",
     "text": [
      "[None, None, None, None, None, <__main__.ListNode object at 0x1067fd668>]\n"
     ]
    }
   ],
   "source": [
    "s = Solution()\n",
    "node1 = ListNode(29)\n",
    "node2 = ListNode(5)\n",
    "node1.next = node2\n",
    "A = [None, None, node1]\n",
    "\n",
    "ans = s.rehashing(A)\n",
    "print(ans)"
   ]
  },
  {
   "cell_type": "markdown",
   "metadata": {},
   "source": [
    "# History"
   ]
  },
  {
   "cell_type": "code",
   "execution_count": 8,
   "metadata": {},
   "outputs": [],
   "source": [
    "class Solution:\n",
    "    \"\"\"\n",
    "    @param hashTable: A list of The first node of linked list\n",
    "    @return: A list of The first node of linked list which have twice size\n",
    "    \"\"\"\n",
    "    def rehashing(self, hashTable):\n",
    "        newSize = 2 * len(hashTable)\n",
    "        newHashTable = [None for i in range(newSize)]\n",
    "        for node in hashTable:\n",
    "            while node != None:\n",
    "                pos = node.val % newSize\n",
    "                if newHashTable[pos] == None:\n",
    "                    newHashTable[pos] = ListNode(node.val)\n",
    "                else:\n",
    "                    self.addListNode(newHashTable[pos], node.val)\n",
    "                # Don't forget to go to the next node\n",
    "                node = node.next\n",
    "                    \n",
    "        return newHashTable\n",
    "    \n",
    "    def addListNode(self, node, val):\n",
    "        if node.next == None:\n",
    "            node.next = ListNode(val)\n",
    "        else:\n",
    "            self.addListNode(node.next, val)"
   ]
  },
  {
   "cell_type": "code",
   "execution_count": 17,
   "metadata": {},
   "outputs": [],
   "source": [
    "s = Solution()\n",
    "node1 = ListNode(29)\n",
    "node2 = ListNode(5)\n",
    "node1.next = node2\n",
    "A = [None, None, node1]\n",
    "\n",
    "ans = s.rehashing(A)"
   ]
  },
  {
   "cell_type": "code",
   "execution_count": null,
   "metadata": {},
   "outputs": [],
   "source": []
  }
 ],
 "metadata": {
  "kernelspec": {
   "display_name": "Python 3",
   "language": "python",
   "name": "python3"
  },
  "language_info": {
   "codemirror_mode": {
    "name": "ipython",
    "version": 3
   },
   "file_extension": ".py",
   "mimetype": "text/x-python",
   "name": "python",
   "nbconvert_exporter": "python",
   "pygments_lexer": "ipython3",
   "version": "3.7.2"
  },
  "toc": {
   "base_numbering": 1,
   "nav_menu": {},
   "number_sections": true,
   "sideBar": true,
   "skip_h1_title": false,
   "title_cell": "Table of Contents",
   "title_sidebar": "Contents",
   "toc_cell": false,
   "toc_position": {},
   "toc_section_display": true,
   "toc_window_display": false
  }
 },
 "nbformat": 4,
 "nbformat_minor": 2
}
