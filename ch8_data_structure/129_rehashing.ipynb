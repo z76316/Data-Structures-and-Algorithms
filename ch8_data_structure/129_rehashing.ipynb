{
 "cells": [
  {
   "cell_type": "markdown",
   "metadata": {},
   "source": [
    "Given the original hash table, return the new hash table after rehashing.\n",
    "\n",
    "Rehashing this hash table, double the capacity.\n",
    "\n",
    "Example\n",
    "\n",
    "    Given [null, 21->9->null, 14->null, null],\n",
    "\n",
    "    return [null, 9->null, null, null, null, 21->null, 14->null, null]\n",
    "\n",
    "https://www.lintcode.com/problem/rehashing/description"
   ]
  },
  {
   "cell_type": "code",
   "execution_count": 1,
   "metadata": {},
   "outputs": [],
   "source": [
    "# Definition of ListNode\n",
    "class ListNode(object):\n",
    "    def __init__(self, val, next=None):\n",
    "        self.val = val\n",
    "        self.next = next"
   ]
  },
  {
   "cell_type": "code",
   "execution_count": 7,
   "metadata": {},
   "outputs": [],
   "source": [
    "class Solution:\n",
    "    \"\"\"\n",
    "    @param hashTable: A list of The first node of linked list\n",
    "    @return: A list of The first node of linked list which have twice size\n",
    "    \"\"\"\n",
    "    def rehashing(self, hashTable):\n",
    "        newSize = 2 * len(hashTable)\n",
    "        newHashTable = [None for i in range(newSize)]\n",
    "        for node in hashTable:\n",
    "            while node != None:\n",
    "                pos = node.val % newSize\n",
    "                if newHashTable[pos] == None:\n",
    "                    newHashTable[pos] = ListNode(node.val)\n",
    "                else:\n",
    "                    self.addListNode(newHashTable[pos], node.val)\n",
    "                # Don't forget to go to the next node\n",
    "                node = node.next\n",
    "                    \n",
    "        return newHashTable\n",
    "    \n",
    "    def addListNode(self, node, val):\n",
    "        if node.next == None:\n",
    "            node.next = ListNode(val)\n",
    "        else:\n",
    "            self.addListNode(node.next, val)"
   ]
  },
  {
   "cell_type": "code",
   "execution_count": 8,
   "metadata": {},
   "outputs": [],
   "source": [
    "s = Solution()\n",
    "node1 = ListNode(29)\n",
    "node2 = ListNode(5)\n",
    "node1.next = node2\n",
    "A = [None, None, node1]\n",
    "\n",
    "ans = s.rehashing(A)"
   ]
  },
  {
   "cell_type": "code",
   "execution_count": null,
   "metadata": {},
   "outputs": [],
   "source": []
  }
 ],
 "metadata": {
  "kernelspec": {
   "display_name": "Python 3",
   "language": "python",
   "name": "python3"
  },
  "language_info": {
   "codemirror_mode": {
    "name": "ipython",
    "version": 3
   },
   "file_extension": ".py",
   "mimetype": "text/x-python",
   "name": "python",
   "nbconvert_exporter": "python",
   "pygments_lexer": "ipython3",
   "version": "3.7.2"
  }
 },
 "nbformat": 4,
 "nbformat_minor": 2
}
