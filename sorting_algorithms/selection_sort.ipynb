{
 "cells": [
  {
   "cell_type": "markdown",
   "metadata": {},
   "source": [
    "The selection sort algorithm sorts an array by repeatedly finding the minimum element (considering ascending order) from unsorted part and putting it at the beginning. The algorithm maintains two subarrays in a given array.\n",
    "\n",
    "1. The subarray which is already sorted.\n",
    "2. Remaining subarray which is unsorted.\n",
    "\n",
    "In every iteration of selection sort, the minimum element (considering ascending order) from the unsorted subarray is picked and moved to the sorted subarray."
   ]
  },
  {
   "cell_type": "code",
   "execution_count": 14,
   "metadata": {},
   "outputs": [],
   "source": [
    "class Sorting:\n",
    "    def selectionSort(self, A) -> list:\n",
    "        if A == None or len(A) <= 1:\n",
    "            return A\n",
    "        \n",
    "        for i in range(len(A)):\n",
    "            min_index = i\n",
    "            for j in range(i+1, len(A)):\n",
    "                if A[j] < A[min_index]:\n",
    "                    min_index = j\n",
    "            A[i], A[min_index] = A[min_index], A[i]\n",
    "            print(A)\n",
    "            print('Round', i)\n",
    "        return A\n",
    "            "
   ]
  },
  {
   "cell_type": "code",
   "execution_count": 15,
   "metadata": {},
   "outputs": [
    {
     "name": "stdout",
     "output_type": "stream",
     "text": [
      "[2, 3, 7, 19, 11, 3, 9, 21]\n",
      "Round 0\n",
      "[2, 3, 7, 19, 11, 3, 9, 21]\n",
      "Round 1\n",
      "[2, 3, 3, 19, 11, 7, 9, 21]\n",
      "Round 2\n",
      "[2, 3, 3, 7, 11, 19, 9, 21]\n",
      "Round 3\n",
      "[2, 3, 3, 7, 9, 19, 11, 21]\n",
      "Round 4\n",
      "[2, 3, 3, 7, 9, 11, 19, 21]\n",
      "Round 5\n",
      "[2, 3, 3, 7, 9, 11, 19, 21]\n",
      "Round 6\n",
      "[2, 3, 3, 7, 9, 11, 19, 21]\n",
      "Round 7\n",
      "[2, 3, 3, 7, 9, 11, 19, 21]\n"
     ]
    }
   ],
   "source": [
    "A = [3,2,7,19,11,3,9,21]\n",
    "\n",
    "s = Sorting()\n",
    "print(s.selectionSort(A))"
   ]
  },
  {
   "cell_type": "code",
   "execution_count": null,
   "metadata": {},
   "outputs": [],
   "source": []
  }
 ],
 "metadata": {
  "kernelspec": {
   "display_name": "Python 3",
   "language": "python",
   "name": "python3"
  },
  "language_info": {
   "codemirror_mode": {
    "name": "ipython",
    "version": 3
   },
   "file_extension": ".py",
   "mimetype": "text/x-python",
   "name": "python",
   "nbconvert_exporter": "python",
   "pygments_lexer": "ipython3",
   "version": "3.7.2"
  }
 },
 "nbformat": 4,
 "nbformat_minor": 2
}
