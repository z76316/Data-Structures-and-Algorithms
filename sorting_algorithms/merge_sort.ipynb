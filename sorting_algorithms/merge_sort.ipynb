{
 "cells": [
  {
   "cell_type": "markdown",
   "metadata": {},
   "source": [
    "Like QuickSort, Merge Sort is a Divide and Conquer algorithm. It divides input array in two halves, calls itself for the two halves and then merges the two sorted halves. The merge() function is used for merging two halves. The merge(arr, l, m, r) is key process that assumes that arr[l..m] and arr[m+1..r] are sorted and merges the two sorted sub-arrays into one.\n",
    "\n",
    "Time complexity of Merge Sort is O(nLogn) in all 3 cases (worst, average and best) as merge sort always divides the array in two halves and take linear time to merge two halves.\n",
    "\n",
    "Auxiliary Space: O(n)"
   ]
  },
  {
   "cell_type": "code",
   "execution_count": 23,
   "metadata": {},
   "outputs": [],
   "source": [
    "class Sorting:\n",
    "    def mergeSort(self, A):\n",
    "        if A == None or len(A) < 1:\n",
    "            return None\n",
    "        if len(A) == 1:\n",
    "            return A\n",
    "        \n",
    "        mid = len(A) // 2\n",
    "        left_A = self.mergeSort(A[:mid])\n",
    "        right_A = self.mergeSort(A[mid:])\n",
    "        print('left_A =', left_A)\n",
    "        print('right_A =', right_A)\n",
    "        \n",
    "        return self.merge(left_A, right_A)\n",
    "    \n",
    "    def merge(self, left_A, right_A):\n",
    "        new_A = []\n",
    "        while len(left_A) > 0 and len(right_A) > 0:\n",
    "            if left_A[0] < right_A[0]:\n",
    "                new_A.append(left_A.pop(0))\n",
    "                print(new_A)\n",
    "            else:\n",
    "                new_A.append(right_A.pop(0))\n",
    "                print(new_A)\n",
    "        \n",
    "        while len(left_A) > 0:\n",
    "            new_A.append(left_A.pop(0))\n",
    "            print(new_A)\n",
    "        while len(right_A) > 0:\n",
    "            new_A.append(right_A.pop(0))\n",
    "            print(new_A)\n",
    "            \n",
    "        print('Final new_A = ', new_A)\n",
    "        \n",
    "        return new_A"
   ]
  },
  {
   "cell_type": "code",
   "execution_count": 24,
   "metadata": {},
   "outputs": [
    {
     "name": "stdout",
     "output_type": "stream",
     "text": [
      "left_A = [3]\n",
      "right_A = [2]\n",
      "[2]\n",
      "[2, 3]\n",
      "Final new_A =  [2, 3]\n",
      "left_A = [7]\n",
      "right_A = [19]\n",
      "[7]\n",
      "[7, 19]\n",
      "Final new_A =  [7, 19]\n",
      "left_A = [2, 3]\n",
      "right_A = [7, 19]\n",
      "[2]\n",
      "[2, 3]\n",
      "[2, 3, 7]\n",
      "[2, 3, 7, 19]\n",
      "Final new_A =  [2, 3, 7, 19]\n",
      "left_A = [11]\n",
      "right_A = [3]\n",
      "[3]\n",
      "[3, 11]\n",
      "Final new_A =  [3, 11]\n",
      "left_A = [9]\n",
      "right_A = [21]\n",
      "[9]\n",
      "[9, 21]\n",
      "Final new_A =  [9, 21]\n",
      "left_A = [3, 11]\n",
      "right_A = [9, 21]\n",
      "[3]\n",
      "[3, 9]\n",
      "[3, 9, 11]\n",
      "[3, 9, 11, 21]\n",
      "Final new_A =  [3, 9, 11, 21]\n",
      "left_A = [2, 3, 7, 19]\n",
      "right_A = [3, 9, 11, 21]\n",
      "[2]\n",
      "[2, 3]\n",
      "[2, 3, 3]\n",
      "[2, 3, 3, 7]\n",
      "[2, 3, 3, 7, 9]\n",
      "[2, 3, 3, 7, 9, 11]\n",
      "[2, 3, 3, 7, 9, 11, 19]\n",
      "[2, 3, 3, 7, 9, 11, 19, 21]\n",
      "Final new_A =  [2, 3, 3, 7, 9, 11, 19, 21]\n",
      "[2, 3, 3, 7, 9, 11, 19, 21]\n"
     ]
    }
   ],
   "source": [
    "A = [3,2,7,19,11,3,9,21]\n",
    "\n",
    "s = Sorting()\n",
    "print(s.mergeSort(A))"
   ]
  },
  {
   "cell_type": "code",
   "execution_count": null,
   "metadata": {},
   "outputs": [],
   "source": []
  }
 ],
 "metadata": {
  "kernelspec": {
   "display_name": "Python 3",
   "language": "python",
   "name": "python3"
  },
  "language_info": {
   "codemirror_mode": {
    "name": "ipython",
    "version": 3
   },
   "file_extension": ".py",
   "mimetype": "text/x-python",
   "name": "python",
   "nbconvert_exporter": "python",
   "pygments_lexer": "ipython3",
   "version": "3.7.2"
  }
 },
 "nbformat": 4,
 "nbformat_minor": 2
}
