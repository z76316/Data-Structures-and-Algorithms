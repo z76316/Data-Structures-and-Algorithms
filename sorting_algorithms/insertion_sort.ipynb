{
 "cells": [
  {
   "cell_type": "markdown",
   "metadata": {},
   "source": [
    "Insertion sort is a simple sorting algorithm that works the way we sort playing cards in our hands.\n",
    "\n",
    "Algorithm: \n",
    "1. Loop from i = 1 (second element of the array) to n-1.\n",
    "2. Pick element arr[i] and insert it into sorted sequence arr[0…i-1]"
   ]
  },
  {
   "cell_type": "code",
   "execution_count": 7,
   "metadata": {},
   "outputs": [],
   "source": [
    "class Sorting:\n",
    "    def insertionSort(self, A) -> list:\n",
    "        if A == None or len(A) <= 1:\n",
    "            return A\n",
    "        \n",
    "        for i in range(1, len(A)):\n",
    "            temp = A[i]\n",
    "            j = i-1\n",
    "            while j >= 0 and temp < A[j]:\n",
    "                A[j+1] = A[j]\n",
    "                j -= 1\n",
    "                print(A)\n",
    "            A[j+1] = temp\n",
    "            print(A)\n",
    "            print('Round', i)\n",
    "        return A\n",
    "    "
   ]
  },
  {
   "cell_type": "code",
   "execution_count": 8,
   "metadata": {},
   "outputs": [
    {
     "name": "stdout",
     "output_type": "stream",
     "text": [
      "[3, 3, 7, 19, 11, 3, 9, 21]\n",
      "[2, 3, 7, 19, 11, 3, 9, 21]\n",
      "Round 1\n",
      "[2, 3, 7, 19, 11, 3, 9, 21]\n",
      "Round 2\n",
      "[2, 3, 7, 19, 11, 3, 9, 21]\n",
      "Round 3\n",
      "[2, 3, 7, 19, 19, 3, 9, 21]\n",
      "[2, 3, 7, 11, 19, 3, 9, 21]\n",
      "Round 4\n",
      "[2, 3, 7, 11, 19, 19, 9, 21]\n",
      "[2, 3, 7, 11, 11, 19, 9, 21]\n",
      "[2, 3, 7, 7, 11, 19, 9, 21]\n",
      "[2, 3, 3, 7, 11, 19, 9, 21]\n",
      "Round 5\n",
      "[2, 3, 3, 7, 11, 19, 19, 21]\n",
      "[2, 3, 3, 7, 11, 11, 19, 21]\n",
      "[2, 3, 3, 7, 9, 11, 19, 21]\n",
      "Round 6\n",
      "[2, 3, 3, 7, 9, 11, 19, 21]\n",
      "Round 7\n",
      "[2, 3, 3, 7, 9, 11, 19, 21]\n"
     ]
    }
   ],
   "source": [
    "A = [3,2,7,19,11,3,9,21]\n",
    "\n",
    "s = Sorting()\n",
    "print(s.insertionSort(A))"
   ]
  },
  {
   "cell_type": "code",
   "execution_count": null,
   "metadata": {},
   "outputs": [],
   "source": []
  }
 ],
 "metadata": {
  "kernelspec": {
   "display_name": "Python 3",
   "language": "python",
   "name": "python3"
  },
  "language_info": {
   "codemirror_mode": {
    "name": "ipython",
    "version": 3
   },
   "file_extension": ".py",
   "mimetype": "text/x-python",
   "name": "python",
   "nbconvert_exporter": "python",
   "pygments_lexer": "ipython3",
   "version": "3.7.2"
  }
 },
 "nbformat": 4,
 "nbformat_minor": 2
}
