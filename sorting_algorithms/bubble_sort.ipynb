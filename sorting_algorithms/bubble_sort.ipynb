{
 "cells": [
  {
   "cell_type": "markdown",
   "metadata": {},
   "source": [
    "Bubble Sort is the simplest sorting algorithm that works by repeatedly swapping the adjacent elements if they are in wrong order.\n",
    "\n",
    "###### Tips: Using a noSwapped tag to check if any element swapped in one round. If not, it's sorted."
   ]
  },
  {
   "cell_type": "code",
   "execution_count": 18,
   "metadata": {},
   "outputs": [],
   "source": [
    "class Sorting:\n",
    "    def bubbleSort(self, A) -> list:\n",
    "        if A == None or len(A) <= 1:\n",
    "            return A\n",
    "        \n",
    "        for i in range(len(A)):\n",
    "            noSwapped = True\n",
    "            for j in range(0, len(A)-1):\n",
    "                if A[j] > A[j+1]:\n",
    "                    A[j], A[j+1] = A[j+1], A[j]\n",
    "                    noSwapped = False\n",
    "                print(A)\n",
    "            if noSwapped:\n",
    "                return A\n",
    "            print('Round', i)\n",
    "        return A"
   ]
  },
  {
   "cell_type": "code",
   "execution_count": 19,
   "metadata": {},
   "outputs": [
    {
     "name": "stdout",
     "output_type": "stream",
     "text": [
      "[3, 23, 2, 7, 19, 11, 3, 9, 21]\n",
      "[3, 2, 23, 7, 19, 11, 3, 9, 21]\n",
      "[3, 2, 7, 23, 19, 11, 3, 9, 21]\n",
      "[3, 2, 7, 19, 23, 11, 3, 9, 21]\n",
      "[3, 2, 7, 19, 11, 23, 3, 9, 21]\n",
      "[3, 2, 7, 19, 11, 3, 23, 9, 21]\n",
      "[3, 2, 7, 19, 11, 3, 9, 23, 21]\n",
      "[3, 2, 7, 19, 11, 3, 9, 21, 23]\n",
      "Round 0\n",
      "[2, 3, 7, 19, 11, 3, 9, 21, 23]\n",
      "[2, 3, 7, 19, 11, 3, 9, 21, 23]\n",
      "[2, 3, 7, 19, 11, 3, 9, 21, 23]\n",
      "[2, 3, 7, 11, 19, 3, 9, 21, 23]\n",
      "[2, 3, 7, 11, 3, 19, 9, 21, 23]\n",
      "[2, 3, 7, 11, 3, 9, 19, 21, 23]\n",
      "[2, 3, 7, 11, 3, 9, 19, 21, 23]\n",
      "[2, 3, 7, 11, 3, 9, 19, 21, 23]\n",
      "Round 1\n",
      "[2, 3, 7, 11, 3, 9, 19, 21, 23]\n",
      "[2, 3, 7, 11, 3, 9, 19, 21, 23]\n",
      "[2, 3, 7, 11, 3, 9, 19, 21, 23]\n",
      "[2, 3, 7, 3, 11, 9, 19, 21, 23]\n",
      "[2, 3, 7, 3, 9, 11, 19, 21, 23]\n",
      "[2, 3, 7, 3, 9, 11, 19, 21, 23]\n",
      "[2, 3, 7, 3, 9, 11, 19, 21, 23]\n",
      "[2, 3, 7, 3, 9, 11, 19, 21, 23]\n",
      "Round 2\n",
      "[2, 3, 7, 3, 9, 11, 19, 21, 23]\n",
      "[2, 3, 7, 3, 9, 11, 19, 21, 23]\n",
      "[2, 3, 3, 7, 9, 11, 19, 21, 23]\n",
      "[2, 3, 3, 7, 9, 11, 19, 21, 23]\n",
      "[2, 3, 3, 7, 9, 11, 19, 21, 23]\n",
      "[2, 3, 3, 7, 9, 11, 19, 21, 23]\n",
      "[2, 3, 3, 7, 9, 11, 19, 21, 23]\n",
      "[2, 3, 3, 7, 9, 11, 19, 21, 23]\n",
      "Round 3\n",
      "[2, 3, 3, 7, 9, 11, 19, 21, 23]\n",
      "[2, 3, 3, 7, 9, 11, 19, 21, 23]\n",
      "[2, 3, 3, 7, 9, 11, 19, 21, 23]\n",
      "[2, 3, 3, 7, 9, 11, 19, 21, 23]\n",
      "[2, 3, 3, 7, 9, 11, 19, 21, 23]\n",
      "[2, 3, 3, 7, 9, 11, 19, 21, 23]\n",
      "[2, 3, 3, 7, 9, 11, 19, 21, 23]\n",
      "[2, 3, 3, 7, 9, 11, 19, 21, 23]\n",
      "[2, 3, 3, 7, 9, 11, 19, 21, 23]\n"
     ]
    }
   ],
   "source": [
    "A = [23,3,2,7,19,11,3,9,21]\n",
    "\n",
    "s = Sorting()\n",
    "print(s.bubbleSort(A))"
   ]
  },
  {
   "cell_type": "code",
   "execution_count": null,
   "metadata": {},
   "outputs": [],
   "source": []
  }
 ],
 "metadata": {
  "kernelspec": {
   "display_name": "Python 3",
   "language": "python",
   "name": "python3"
  },
  "language_info": {
   "codemirror_mode": {
    "name": "ipython",
    "version": 3
   },
   "file_extension": ".py",
   "mimetype": "text/x-python",
   "name": "python",
   "nbconvert_exporter": "python",
   "pygments_lexer": "ipython3",
   "version": "3.7.2"
  }
 },
 "nbformat": 4,
 "nbformat_minor": 2
}
