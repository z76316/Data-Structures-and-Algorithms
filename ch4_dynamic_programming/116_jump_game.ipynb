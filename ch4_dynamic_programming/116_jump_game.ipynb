{
 "cells": [
  {
   "cell_type": "markdown",
   "metadata": {},
   "source": [
    "Given an array of non-negative integers, you are initially positioned at the first index of the array.\n",
    "\n",
    "Each element in the array represents your maximum jump length at that position.\n",
    "\n",
    "Determine if you are able to reach the last index.\n",
    "\n",
    "Example 1:\n",
    "\n",
    "    Input:\n",
    "        A = [2,3,1,1,4]\n",
    "\n",
    "    Output: true\n",
    "\n",
    "    Explanation:\n",
    "        0 -> 1 -> 4 (the number here is subscript) is a reasonable scheme.\n",
    "        \n",
    "Example 2:\n",
    "\n",
    "    Input:\n",
    "        A = [3,2,1,0,4]\n",
    "\n",
    "    Output: false\n",
    "\n",
    "    Explanation:\n",
    "        There is no solution that can reach the end.\n",
    "        \n",
    "https://www.lintcode.com/problem/116/"
   ]
  },
  {
   "cell_type": "markdown",
   "metadata": {},
   "source": [
    "# Solution"
   ]
  },
  {
   "cell_type": "code",
   "execution_count": 1,
   "metadata": {},
   "outputs": [],
   "source": [
    "class Solution:\n",
    "    \"\"\"\n",
    "    @param A: A list of integers\n",
    "    @return: A boolean\n",
    "    \"\"\"\n",
    "    def canJump(self, A):\n",
    "        # write your code here\n",
    "        if not A or len(A) == 0:\n",
    "            return False\n",
    "        \n",
    "        n = len(A)\n",
    "        \n",
    "        # state\n",
    "        dp = [False] * n\n",
    "        \n",
    "        # initialize\n",
    "        dp[0] = True\n",
    "        \n",
    "        # function\n",
    "        for i in range(1, n):\n",
    "            for j in range(0, i):\n",
    "                if dp[j] and A[j] + j >= i:\n",
    "                    dp[i] = True\n",
    "                    break\n",
    "        \n",
    "        # answer\n",
    "        return dp[-1]"
   ]
  },
  {
   "cell_type": "markdown",
   "metadata": {},
   "source": [
    "# Test"
   ]
  },
  {
   "cell_type": "code",
   "execution_count": 3,
   "metadata": {},
   "outputs": [
    {
     "data": {
      "text/plain": [
       "False"
      ]
     },
     "execution_count": 3,
     "metadata": {},
     "output_type": "execute_result"
    }
   ],
   "source": [
    "a = Solution()\n",
    "# A = [2,3,1,1,4]\n",
    "A = [3,2,1,0,4]\n",
    "\n",
    "a.canJump(A)"
   ]
  }
 ],
 "metadata": {
  "kernelspec": {
   "display_name": "Python 3",
   "language": "python",
   "name": "python3"
  },
  "language_info": {
   "codemirror_mode": {
    "name": "ipython",
    "version": 3
   },
   "file_extension": ".py",
   "mimetype": "text/x-python",
   "name": "python",
   "nbconvert_exporter": "python",
   "pygments_lexer": "ipython3",
   "version": "3.7.2"
  },
  "toc": {
   "base_numbering": 1,
   "nav_menu": {},
   "number_sections": true,
   "sideBar": true,
   "skip_h1_title": false,
   "title_cell": "Table of Contents",
   "title_sidebar": "Contents",
   "toc_cell": false,
   "toc_position": {},
   "toc_section_display": true,
   "toc_window_display": false
  }
 },
 "nbformat": 4,
 "nbformat_minor": 2
}
