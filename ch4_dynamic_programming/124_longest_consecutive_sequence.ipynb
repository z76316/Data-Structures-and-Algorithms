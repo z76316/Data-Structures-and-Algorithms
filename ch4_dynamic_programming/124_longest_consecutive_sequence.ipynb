{
 "cells": [
  {
   "cell_type": "markdown",
   "metadata": {},
   "source": [
    "Given an unsorted array num of integers, find the length of the longest consecutive elements sequence.\n",
    "\n",
    "- Your algorithm should run in O(n) complexity.\n",
    "- len(num) <= 10000\n",
    "\n",
    "Example 1:\n",
    "\n",
    "    Input:\n",
    "        num = [100, 4, 200, 1, 3, 2]\n",
    "\n",
    "    Output: 4\n",
    "\n",
    "    Explanation:\n",
    "        The longest consecutive elements sequence is [1, 2, 3, 4]. Return its length:4\n",
    "\n",
    "\n",
    "https://www.lintcode.com/problem/124/"
   ]
  },
  {
   "cell_type": "markdown",
   "metadata": {},
   "source": [
    "# Solution"
   ]
  },
  {
   "cell_type": "code",
   "execution_count": 9,
   "metadata": {},
   "outputs": [],
   "source": [
    "class Solution:\n",
    "    \"\"\"\n",
    "    @param num: A list of integers\n",
    "    @return: An integer\n",
    "    \"\"\"\n",
    "    def longestConsecutive(self, nums):\n",
    "        # write your code here\n",
    "        if not nums or len(nums) == 0:\n",
    "            return 0\n",
    "        \n",
    "        max_len = 1\n",
    "        nums = set(nums)\n",
    "        while nums:\n",
    "            n = nums.pop()\n",
    "            left, right = 0, 0\n",
    "            i = n+1\n",
    "            while i in nums:\n",
    "                nums.remove(i)\n",
    "                right += 1\n",
    "                i += 1\n",
    "            i = n-1\n",
    "            while i in nums:\n",
    "                nums.remove(i)\n",
    "                left += 1\n",
    "                i -= 1\n",
    "            max_len = max(left + right + 1, max_len)\n",
    "            \n",
    "        return max_len\n",
    "    "
   ]
  },
  {
   "cell_type": "markdown",
   "metadata": {},
   "source": [
    "# Test"
   ]
  },
  {
   "cell_type": "code",
   "execution_count": 10,
   "metadata": {},
   "outputs": [
    {
     "data": {
      "text/plain": [
       "9"
      ]
     },
     "execution_count": 10,
     "metadata": {},
     "output_type": "execute_result"
    }
   ],
   "source": [
    "a = Solution()\n",
    "nums = [0,3,7,2,5,8,4,6,0,1]\n",
    "\n",
    "a.longestConsecutive(nums)"
   ]
  },
  {
   "cell_type": "code",
   "execution_count": null,
   "metadata": {},
   "outputs": [],
   "source": []
  }
 ],
 "metadata": {
  "kernelspec": {
   "display_name": "Python 3",
   "language": "python",
   "name": "python3"
  },
  "language_info": {
   "codemirror_mode": {
    "name": "ipython",
    "version": 3
   },
   "file_extension": ".py",
   "mimetype": "text/x-python",
   "name": "python",
   "nbconvert_exporter": "python",
   "pygments_lexer": "ipython3",
   "version": "3.7.2"
  },
  "toc": {
   "base_numbering": 1,
   "nav_menu": {},
   "number_sections": true,
   "sideBar": true,
   "skip_h1_title": false,
   "title_cell": "Table of Contents",
   "title_sidebar": "Contents",
   "toc_cell": false,
   "toc_position": {},
   "toc_section_display": true,
   "toc_window_display": false
  }
 },
 "nbformat": 4,
 "nbformat_minor": 2
}
