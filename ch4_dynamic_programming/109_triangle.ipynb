{
 "cells": [
  {
   "cell_type": "markdown",
   "metadata": {},
   "source": [
    "Given a triangle, find the minimum path sum from top to bottom. Each step you may move to adjacent numbers on the row below.\n",
    "\n",
    "Example 1:\n",
    "\n",
    "    Input:\n",
    "    triangle = [\n",
    "         [2],\n",
    "        [3,4],\n",
    "       [6,5,7],\n",
    "      [4,1,8,3]\n",
    "    ]\n",
    "\n",
    "    Output: 11\n",
    "\n",
    "    Explanation:\n",
    "        The minimum path sum from top to bottom is 11 (2 + 3 + 5 + 1 = 11).\n",
    "    \n",
    "Example 2:\n",
    "\n",
    "    Input:\n",
    "        triangle = [\n",
    "             [2],\n",
    "            [3,2],\n",
    "           [6,5,7],\n",
    "          [4,4,8,1]\n",
    "        ]\n",
    "    \n",
    "    Output: 12\n",
    "    \n",
    "    Explanation:\n",
    "        The minimum path sum from top to bottom is 12 (2 + 2 + 7 + 1 = 12).\n",
    "\n",
    "https://www.lintcode.com/problem/109/"
   ]
  },
  {
   "cell_type": "markdown",
   "metadata": {},
   "source": [
    "# Solution"
   ]
  },
  {
   "cell_type": "code",
   "execution_count": 15,
   "metadata": {},
   "outputs": [],
   "source": [
    "class Solution:\n",
    "    \"\"\"\n",
    "    @param triangle: a list of lists of integers\n",
    "    @return: An integer, minimum path sum\n",
    "    \"\"\"\n",
    "    def minimumTotal(self, triangle):\n",
    "        # write your code here\n",
    "        \n",
    "        # state\n",
    "        n = len(triangle)\n",
    "        dp = [[-float('inf')] * len(triangle[i]) for i in range(n)]\n",
    "        \n",
    "        # initialize\n",
    "        dp[0][0] = triangle[0][0]\n",
    "        for i in range(1, len(triangle)):\n",
    "            dp[i][0] = dp[i-1][0] + triangle[i][0]\n",
    "            dp[i][i] = dp[i-1][i-1] + triangle[i][i]\n",
    "        \n",
    "        # function\n",
    "        for i in range(1, n):\n",
    "            for j in range(1, len(triangle[i]) - 1):\n",
    "                dp[i][j] = min(dp[i-1][j], dp[i-1][j-1]) + triangle[i][j]\n",
    "        \n",
    "        # answer\n",
    "        return min(dp[-1])"
   ]
  },
  {
   "cell_type": "markdown",
   "metadata": {},
   "source": [
    "# Test"
   ]
  },
  {
   "cell_type": "code",
   "execution_count": 16,
   "metadata": {},
   "outputs": [
    {
     "data": {
      "text/plain": [
       "12"
      ]
     },
     "execution_count": 16,
     "metadata": {},
     "output_type": "execute_result"
    }
   ],
   "source": [
    "a = Solution()\n",
    "# triangle = [\n",
    "#      [2],\n",
    "#     [3,4],\n",
    "#    [6,5,7],\n",
    "#   [4,1,8,3]\n",
    "# ]\n",
    "triangle = [\n",
    "     [2],\n",
    "    [3,2],\n",
    "   [6,5,7],\n",
    "  [4,4,8,1]\n",
    "]\n",
    "\n",
    "a.minimumTotal(triangle)"
   ]
  },
  {
   "cell_type": "code",
   "execution_count": null,
   "metadata": {},
   "outputs": [],
   "source": []
  }
 ],
 "metadata": {
  "kernelspec": {
   "display_name": "Python 3",
   "language": "python",
   "name": "python3"
  },
  "language_info": {
   "codemirror_mode": {
    "name": "ipython",
    "version": 3
   },
   "file_extension": ".py",
   "mimetype": "text/x-python",
   "name": "python",
   "nbconvert_exporter": "python",
   "pygments_lexer": "ipython3",
   "version": "3.7.2"
  },
  "toc": {
   "base_numbering": 1,
   "nav_menu": {},
   "number_sections": true,
   "sideBar": true,
   "skip_h1_title": false,
   "title_cell": "Table of Contents",
   "title_sidebar": "Contents",
   "toc_cell": false,
   "toc_position": {},
   "toc_section_display": true,
   "toc_window_display": false
  }
 },
 "nbformat": 4,
 "nbformat_minor": 2
}
