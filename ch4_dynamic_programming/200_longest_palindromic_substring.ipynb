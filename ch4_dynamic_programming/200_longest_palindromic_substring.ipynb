{
 "cells": [
  {
   "cell_type": "markdown",
   "metadata": {},
   "source": [
    "Given a string S, find the longest palindromic substring in S. You may assume that the maximum length of S is 1000, and there exists one unique longest palindromic substring.\n",
    "\n",
    "    Example 1:\n",
    "\n",
    "        Input:\"abcdzdcab\"\n",
    "        Output:\"cdzdc\"\n",
    "\n",
    "    Example 2:\n",
    "\n",
    "        Input:\"aba\"\n",
    "        Output:\"aba\"\n",
    "\n",
    "https://www.lintcode.com/problem/200/\n",
    "\n",
    "https://leetcode.com/problems/longest-palindromic-substring/\n",
    "\n",
    "https://leetcode.com/problems/longest-palindromic-substring/discuss/474664/Commented-clean-Python-DP-solution"
   ]
  },
  {
   "cell_type": "markdown",
   "metadata": {},
   "source": [
    "# Solution"
   ]
  },
  {
   "cell_type": "code",
   "execution_count": 1,
   "metadata": {},
   "outputs": [],
   "source": [
    "class Solution:\n",
    "    \"\"\"\n",
    "    @param s: input string\n",
    "    @return: a string as the longest palindromic substring\n",
    "    \"\"\"\n",
    "    def longestPalindrome(self, s):\n",
    "        # write your code here\n",
    "        if not s:\n",
    "            return s\n",
    "\n",
    "        n = len(s)\n",
    "\n",
    "        # state (is s[i:j+1] palindrome)\n",
    "        dp = [[False]*n for i in range(n)]\n",
    "\n",
    "        # initialize\n",
    "        for i in range(n):\n",
    "            dp[i][i] = True    ### one word is palindrome\n",
    "            ans = s[i]     ##### initial ans is the last word\n",
    "\n",
    "        # function (buttom-up, b/c of we need dp[start+1][end-1])\n",
    "        for start in range(n-1, -1, -1):\n",
    "            for end in range(start+1, n):\n",
    "                if s[start] == s[end]:\n",
    "                    if end - start == 1 or dp[start+1][end-1]:   ### first term for two-words\n",
    "                        dp[start][end] = True\n",
    "                        if len(s[start:end+1]) > len(ans):\n",
    "                            ans = s[start:end+1]\n",
    "\n",
    "        # answer\n",
    "        return ans"
   ]
  },
  {
   "cell_type": "markdown",
   "metadata": {},
   "source": [
    "# Test"
   ]
  },
  {
   "cell_type": "code",
   "execution_count": 2,
   "metadata": {},
   "outputs": [
    {
     "data": {
      "text/plain": [
       "'aba'"
      ]
     },
     "execution_count": 2,
     "metadata": {},
     "output_type": "execute_result"
    }
   ],
   "source": [
    "a = Solution()\n",
    "s = \"babad\"\n",
    "\n",
    "a.longestPalindrome(s)"
   ]
  },
  {
   "cell_type": "code",
   "execution_count": null,
   "metadata": {},
   "outputs": [],
   "source": []
  }
 ],
 "metadata": {
  "kernelspec": {
   "display_name": "Python 3",
   "language": "python",
   "name": "python3"
  },
  "language_info": {
   "codemirror_mode": {
    "name": "ipython",
    "version": 3
   },
   "file_extension": ".py",
   "mimetype": "text/x-python",
   "name": "python",
   "nbconvert_exporter": "python",
   "pygments_lexer": "ipython3",
   "version": "3.7.2"
  },
  "toc": {
   "base_numbering": 1,
   "nav_menu": {},
   "number_sections": true,
   "sideBar": true,
   "skip_h1_title": false,
   "title_cell": "Table of Contents",
   "title_sidebar": "Contents",
   "toc_cell": false,
   "toc_position": {},
   "toc_section_display": true,
   "toc_window_display": false
  }
 },
 "nbformat": 4,
 "nbformat_minor": 2
}
