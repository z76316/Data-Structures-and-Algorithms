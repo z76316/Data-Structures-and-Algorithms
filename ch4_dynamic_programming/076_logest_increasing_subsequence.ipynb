{
 "cells": [
  {
   "cell_type": "markdown",
   "metadata": {},
   "source": [
    "Given a sequence of integers, find the longest increasing subsequence (LIS).\n",
    "\n",
    "You code should return the length of the LIS.\n",
    "\n",
    "- What's the definition of longest increasing subsequence?\n",
    "\n",
    "    The longest increasing subsequence problem is to find a subsequence of a given sequence in which the subsequence's elements are in sorted order, lowest to highest, and in which the subsequence is as long as possible. This subsequence is not necessarily contiguous, or unique.\n",
    "\n",
    "    https://en.wikipedia.org/wiki/Longest_increasing_subsequence\n",
    "    \n",
    "Example 1:\n",
    "    \n",
    "    Input:\n",
    "        nums = [5,4,1,2,3]\n",
    "\n",
    "    Output: 3\n",
    "\n",
    "    Explanation:\n",
    "        LIS is [1,2,3]\n",
    "\n",
    "Example 2:\n",
    "\n",
    "    Input:\n",
    "        nums = [4,2,4,5,3,7]\n",
    "\n",
    "    Output: 4\n",
    "\n",
    "    Explanation:\n",
    "        LIS is [2,4,5,7]\n",
    "\n",
    "Challenge\n",
    "\n",
    "    Time complexity O(n^2) or O(nlogn)\n",
    "    \n",
    "https://www.lintcode.com/problem/76/"
   ]
  },
  {
   "cell_type": "markdown",
   "metadata": {},
   "source": [
    "# Solution"
   ]
  },
  {
   "cell_type": "code",
   "execution_count": 5,
   "metadata": {},
   "outputs": [],
   "source": [
    "class Solution:\n",
    "    \"\"\"\n",
    "    @param nums: An integer array\n",
    "    @return: The length of LIS (longest increasing subsequence)\n",
    "    \"\"\"\n",
    "    def longestIncreasingSubsequence(self, nums):\n",
    "        # write your code here\n",
    "        if not nums or len(nums) == 0:\n",
    "            return 0\n",
    "        n = len(nums)\n",
    "        \n",
    "        # state & initialize\n",
    "        dp = [1] * n\n",
    "        \n",
    "        # function\n",
    "        for i in range(1, n):\n",
    "            for j in range(0, i):\n",
    "                if nums[j] < nums[i]:\n",
    "                    dp[i] = max(dp[j] + 1, dp[i])   ##### b/c if nums[j] < nums[j-1], dp[i] won't be updated\n",
    "                    \n",
    "        # answer\n",
    "        return max(dp)\n",
    "    "
   ]
  },
  {
   "cell_type": "markdown",
   "metadata": {},
   "source": [
    "# Test"
   ]
  },
  {
   "cell_type": "code",
   "execution_count": 6,
   "metadata": {},
   "outputs": [
    {
     "data": {
      "text/plain": [
       "4"
      ]
     },
     "execution_count": 6,
     "metadata": {},
     "output_type": "execute_result"
    }
   ],
   "source": [
    "a = Solution()\n",
    "nums = [4,2,4,5,3,7]\n",
    "\n",
    "a.longestIncreasingSubsequence(nums)"
   ]
  },
  {
   "cell_type": "code",
   "execution_count": null,
   "metadata": {},
   "outputs": [],
   "source": []
  }
 ],
 "metadata": {
  "kernelspec": {
   "display_name": "Python 3",
   "language": "python",
   "name": "python3"
  },
  "language_info": {
   "codemirror_mode": {
    "name": "ipython",
    "version": 3
   },
   "file_extension": ".py",
   "mimetype": "text/x-python",
   "name": "python",
   "nbconvert_exporter": "python",
   "pygments_lexer": "ipython3",
   "version": "3.7.2"
  },
  "toc": {
   "base_numbering": 1,
   "nav_menu": {},
   "number_sections": true,
   "sideBar": true,
   "skip_h1_title": false,
   "title_cell": "Table of Contents",
   "title_sidebar": "Contents",
   "toc_cell": false,
   "toc_position": {},
   "toc_section_display": true,
   "toc_window_display": false
  }
 },
 "nbformat": 4,
 "nbformat_minor": 2
}
