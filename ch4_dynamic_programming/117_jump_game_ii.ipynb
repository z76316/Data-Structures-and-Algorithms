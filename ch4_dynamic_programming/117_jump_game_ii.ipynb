{
 "cells": [
  {
   "cell_type": "markdown",
   "metadata": {},
   "source": [
    "Given an array of non-negative integers, you are initially positioned at the first index of the array.\n",
    "\n",
    "Each element in the array represents your maximum jump length at that position.\n",
    "\n",
    "Your goal is to reach the last index in the minimum number of jumps.\n",
    "\n",
    "\n",
    "Example 1:\n",
    "\n",
    "    Input:\n",
    "        A = [2,3,1,1,4]\n",
    "    \n",
    "    Output: 2\n",
    "\n",
    "    Explanation:\n",
    "        The minimum number of jumps to reach the last index is 2. (Jump 1 step from index 0 to 1, then 3 steps to the last index.)\n",
    "\n",
    "\n",
    "https://www.lintcode.com/problem/117/"
   ]
  },
  {
   "cell_type": "markdown",
   "metadata": {},
   "source": [
    "# Solution"
   ]
  },
  {
   "cell_type": "code",
   "execution_count": 9,
   "metadata": {},
   "outputs": [],
   "source": [
    "# dp, but time limit exceeded\n",
    "# time = O(n^2)\n",
    "# space = O(n)\n",
    "class Solution:\n",
    "    \"\"\"\n",
    "    @param A: A list of integers\n",
    "    @return: An integer\n",
    "    \"\"\"\n",
    "    def jump(self, A):\n",
    "        # write your code here\n",
    "        n = len(A)\n",
    "        \n",
    "        # state\n",
    "        dp = [float('inf')] * n\n",
    "        \n",
    "        # initialize\n",
    "        dp[0] = 0\n",
    "        \n",
    "        # function\n",
    "        for i in range(1, n):\n",
    "            for j in range(0, i):\n",
    "                if A[j] + j >= i:\n",
    "                    dp[i] = min(dp[j] + 1, dp[i])\n",
    "        \n",
    "        # answer\n",
    "        return dp[-1]\n",
    "    "
   ]
  },
  {
   "cell_type": "markdown",
   "metadata": {},
   "source": [
    "# Test"
   ]
  },
  {
   "cell_type": "code",
   "execution_count": 8,
   "metadata": {},
   "outputs": [
    {
     "data": {
      "text/plain": [
       "2"
      ]
     },
     "execution_count": 8,
     "metadata": {},
     "output_type": "execute_result"
    }
   ],
   "source": [
    "a = Solution()\n",
    "A = [2,3,1,1,4]\n",
    "\n",
    "a.jump(A)"
   ]
  },
  {
   "cell_type": "code",
   "execution_count": null,
   "metadata": {},
   "outputs": [],
   "source": []
  }
 ],
 "metadata": {
  "kernelspec": {
   "display_name": "Python 3",
   "language": "python",
   "name": "python3"
  },
  "language_info": {
   "codemirror_mode": {
    "name": "ipython",
    "version": 3
   },
   "file_extension": ".py",
   "mimetype": "text/x-python",
   "name": "python",
   "nbconvert_exporter": "python",
   "pygments_lexer": "ipython3",
   "version": "3.7.2"
  },
  "toc": {
   "base_numbering": 1,
   "nav_menu": {},
   "number_sections": true,
   "sideBar": true,
   "skip_h1_title": false,
   "title_cell": "Table of Contents",
   "title_sidebar": "Contents",
   "toc_cell": false,
   "toc_position": {},
   "toc_section_display": true,
   "toc_window_display": false
  }
 },
 "nbformat": 4,
 "nbformat_minor": 2
}
