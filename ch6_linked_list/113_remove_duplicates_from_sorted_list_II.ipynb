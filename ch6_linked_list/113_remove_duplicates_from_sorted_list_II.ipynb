{
 "cells": [
  {
   "cell_type": "markdown",
   "metadata": {},
   "source": [
    "Given a sorted linked list, delete all nodes that have duplicate numbers, leaving only distinct numbers from the original list.\n",
    "\n",
    "Example\n",
    "Given 1->2->3->3->4->4->5, return 1->2->5.\n",
    "Given 1->1->1->2->3, return 2->3."
   ]
  },
  {
   "cell_type": "code",
   "execution_count": 5,
   "metadata": {},
   "outputs": [],
   "source": [
    "# Definition of ListNode\n",
    "class ListNode(object):\n",
    "    def __init__(self, val, next=None):\n",
    "        self.val = val\n",
    "        self.next = next"
   ]
  },
  {
   "cell_type": "code",
   "execution_count": 28,
   "metadata": {},
   "outputs": [],
   "source": [
    "class Solution:\n",
    "    \"\"\"\n",
    "    @param head: head is the head of the linked list\n",
    "    @return: head of the linked list\n",
    "    \"\"\"\n",
    "    def deleteDuplicates(self, head):\n",
    "        dummy = ListNode(0, head)\n",
    "        prev = dummy\n",
    "        curt = head\n",
    "        \n",
    "        while(curt != None and curt.next != None):\n",
    "            if(curt.val == curt.next.val):\n",
    "                curt_val = curt.val\n",
    "                while(curt != None and curt.val == curt_val):\n",
    "                    prev.next = curt.next\n",
    "                    curt = curt.next\n",
    "            else:\n",
    "                prev = curt\n",
    "                curt = curt.next\n",
    "        \n",
    "        return dummy.next"
   ]
  },
  {
   "cell_type": "code",
   "execution_count": 29,
   "metadata": {},
   "outputs": [
    {
     "data": {
      "text/plain": [
       "<__main__.ListNode at 0x1070c15f8>"
      ]
     },
     "execution_count": 29,
     "metadata": {},
     "output_type": "execute_result"
    }
   ],
   "source": [
    "node5 = ListNode(4)\n",
    "node4 = ListNode(3, node5)\n",
    "node3 = ListNode(2, node4)\n",
    "node2 = ListNode(2, node3)\n",
    "node1 = ListNode(2, node2)\n",
    "head = ListNode(1, node1)\n",
    "\n",
    "result = Solution()\n",
    "result.deleteDuplicates(head)"
   ]
  },
  {
   "cell_type": "code",
   "execution_count": null,
   "metadata": {},
   "outputs": [],
   "source": []
  }
 ],
 "metadata": {
  "kernelspec": {
   "display_name": "Python 3",
   "language": "python",
   "name": "python3"
  },
  "language_info": {
   "codemirror_mode": {
    "name": "ipython",
    "version": 3
   },
   "file_extension": ".py",
   "mimetype": "text/x-python",
   "name": "python",
   "nbconvert_exporter": "python",
   "pygments_lexer": "ipython3",
   "version": "3.7.2"
  }
 },
 "nbformat": 4,
 "nbformat_minor": 2
}
