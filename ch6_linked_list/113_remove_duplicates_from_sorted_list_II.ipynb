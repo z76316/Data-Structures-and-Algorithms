{
 "cells": [
  {
   "cell_type": "markdown",
   "metadata": {},
   "source": [
    "Given a sorted linked list, delete all nodes that have duplicate numbers, leaving only distinct numbers from the original list.\n",
    "\n",
    "Example\n",
    "\n",
    "    Example 1\n",
    "\n",
    "    Input : 1->2->3->3->4->4->5->null\n",
    "    Output : 1->2->5->null\n",
    "\n",
    "Example 2\n",
    "\n",
    "    Input : 1->1->1->2->3->null\n",
    "    Output : 2->3->null\n",
    "    \n",
    "https://www.lintcode.com/problem/remove-duplicates-from-sorted-list-ii/"
   ]
  },
  {
   "cell_type": "markdown",
   "metadata": {},
   "source": [
    "# Solution"
   ]
  },
  {
   "cell_type": "code",
   "execution_count": 10,
   "metadata": {},
   "outputs": [],
   "source": [
    "class Solution:\n",
    "    \"\"\"\n",
    "    @param head: head is the head of the linked list\n",
    "    @return: head of the linked list\n",
    "    \"\"\"\n",
    "    def deleteDuplicates(self, head):\n",
    "        dummy = ListNode(None, head)\n",
    "        prev, curr = dummy, head\n",
    "        \n",
    "        while curr and curr.next:\n",
    "            if curr.val == curr.next.val:\n",
    "                dupli_val = curr.val\n",
    "                while curr and (curr.val == dupli_val):    ########## must check if curr is exist during its moving\n",
    "                    prev.next = curr.next\n",
    "                    curr = curr.next\n",
    "            else:    ########## if curr.val != curr.next.val -> move on\n",
    "                prev = curr\n",
    "                curr = curr.next\n",
    "        return dummy.next"
   ]
  },
  {
   "cell_type": "markdown",
   "metadata": {},
   "source": [
    "# Test"
   ]
  },
  {
   "cell_type": "markdown",
   "metadata": {},
   "source": [
    "## class ListNode"
   ]
  },
  {
   "cell_type": "code",
   "execution_count": 1,
   "metadata": {},
   "outputs": [],
   "source": [
    "# Definition of ListNode\n",
    "class ListNode(object):\n",
    "    def __init__(self, val, next=None):\n",
    "        self.val = val\n",
    "        self.next = next"
   ]
  },
  {
   "cell_type": "markdown",
   "metadata": {},
   "source": [
    "## print linked list tool"
   ]
  },
  {
   "cell_type": "code",
   "execution_count": 3,
   "metadata": {},
   "outputs": [],
   "source": [
    "# Print linked list tool\n",
    "class Tool:\n",
    "    def printLinkedList(self, head):\n",
    "        while head:\n",
    "            print(head.val,end='')\n",
    "            head = head.next\n",
    "            if head != None:\n",
    "                print('->',end='')\n",
    "        print()"
   ]
  },
  {
   "cell_type": "markdown",
   "metadata": {},
   "source": [
    "## Testing"
   ]
  },
  {
   "cell_type": "code",
   "execution_count": 8,
   "metadata": {},
   "outputs": [
    {
     "name": "stdout",
     "output_type": "stream",
     "text": [
      "1->3->4->4->9->2\n",
      "1->3->4->9->2\n"
     ]
    }
   ],
   "source": [
    "node5 = ListNode(2)\n",
    "node4 = ListNode(9, node5)\n",
    "node3 = ListNode(4, node4)\n",
    "node2 = ListNode(4, node3)\n",
    "node1 = ListNode(3, node2)\n",
    "head = ListNode(1, node1)\n",
    "\n",
    "t = Tool()\n",
    "result = Solution()\n",
    "t.printLinkedList(head)\n",
    "newhead = result.deleteDuplicates(head)\n",
    "\n",
    "t.printLinkedList(newhead)"
   ]
  },
  {
   "cell_type": "code",
   "execution_count": null,
   "metadata": {},
   "outputs": [],
   "source": []
  },
  {
   "cell_type": "markdown",
   "metadata": {},
   "source": [
    "# History"
   ]
  },
  {
   "cell_type": "code",
   "execution_count": null,
   "metadata": {},
   "outputs": [],
   "source": [
    "class Solution:\n",
    "    \"\"\"\n",
    "    @param head: head is the head of the linked list\n",
    "    @return: head of the linked list\n",
    "    \"\"\"\n",
    "    def deleteDuplicates(self, head):\n",
    "        dummy = ListNode(0, head)\n",
    "        prev = dummy\n",
    "        curt = head\n",
    "        \n",
    "        while(curt != None and curt.next != None):\n",
    "            if(curt.val == curt.next.val):\n",
    "                curt_val = curt.val\n",
    "                while(curt != None and curt.val == curt_val):\n",
    "                    prev.next = curt.next\n",
    "                    curt = curt.next\n",
    "            else:\n",
    "                prev = curt\n",
    "                curt = curt.next\n",
    "        \n",
    "        return dummy.next"
   ]
  }
 ],
 "metadata": {
  "kernelspec": {
   "display_name": "Python 3",
   "language": "python",
   "name": "python3"
  },
  "language_info": {
   "codemirror_mode": {
    "name": "ipython",
    "version": 3
   },
   "file_extension": ".py",
   "mimetype": "text/x-python",
   "name": "python",
   "nbconvert_exporter": "python",
   "pygments_lexer": "ipython3",
   "version": "3.7.2"
  },
  "toc": {
   "base_numbering": 1,
   "nav_menu": {},
   "number_sections": true,
   "sideBar": true,
   "skip_h1_title": false,
   "title_cell": "Table of Contents",
   "title_sidebar": "Contents",
   "toc_cell": false,
   "toc_position": {},
   "toc_section_display": true,
   "toc_window_display": false
  }
 },
 "nbformat": 4,
 "nbformat_minor": 2
}
