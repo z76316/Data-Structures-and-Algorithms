{
 "cells": [
  {
   "cell_type": "markdown",
   "metadata": {},
   "source": [
    "Reverse a linked list from position m to n.\n",
    "\n",
    "Example\n",
    "Example 1:\n",
    "\n",
    "    Input: 1->2->3->4->5->NULL, m = 2 and n = 4, \n",
    "    Output: 1->4->3->2->5->NULL.\n",
    "\n",
    "Example 2:\n",
    "\n",
    "    Input: 1->2->3->4->NULL, m = 2 and n = 3, \n",
    "    Output: 1->3->2->4->NULL.\n",
    "\n",
    "Challenge\n",
    "\n",
    "    Reverse it in-place and in one-pass\n",
    "\n",
    "Notice\n",
    "\n",
    "    Given m, n satisfy the following condition: 1 ≤ m ≤ n ≤ length of list.\n",
    "    \n",
    "https://www.lintcode.com/problem/reverse-linked-list-ii/\n",
    "\n",
    "https://photos.app.goo.gl/8FZGVY5kcuZRh1NU8"
   ]
  },
  {
   "cell_type": "markdown",
   "metadata": {},
   "source": [
    "# Solution"
   ]
  },
  {
   "cell_type": "code",
   "execution_count": 31,
   "metadata": {},
   "outputs": [],
   "source": [
    "class Solution:\n",
    "    \"\"\"\n",
    "    @param head: ListNode head is the head of the linked list \n",
    "    @param m: An integer\n",
    "    @param n: An integer\n",
    "    @return: The head of the reversed ListNode\n",
    "    \"\"\"    \n",
    "    def reverseBetween(self, head, m, n):\n",
    "        # write your code here\n",
    "        dummy = ListNode(None, head)\n",
    "        \n",
    "        first_tail_head = self.getKthNode(dummy, m-1)    ##### use dummy node to fit the kth index\n",
    "        start_head = first_tail_head.next\n",
    "        end_head = self.getKthNode(dummy, n)\n",
    "        last_head = end_head.next\n",
    "        end_head.next = None    ##### must modify its pointer, or there will be a circle\n",
    "        \n",
    "        self.revLinkedList(start_head)    ##### just modified pointers\n",
    "        first_tail_head.next = end_head\n",
    "        start_head.next = last_head\n",
    "        return dummy.next\n",
    "    \n",
    "    \n",
    "    def getKthNode(self, head, k):\n",
    "        for i in range(k):\n",
    "            if head == None:\n",
    "                return None\n",
    "            head = head.next\n",
    "        return head\n",
    "        \n",
    "        \n",
    "    def revLinkedList(self, head):\n",
    "        dummy = None\n",
    "        prev, curr = dummy, head\n",
    "        while curr:\n",
    "            tmp = curr.next\n",
    "            curr.next = prev\n",
    "            prev = curr\n",
    "            curr = tmp\n",
    "        return prev\n",
    "        "
   ]
  },
  {
   "cell_type": "markdown",
   "metadata": {},
   "source": [
    "# Testing"
   ]
  },
  {
   "cell_type": "markdown",
   "metadata": {},
   "source": [
    "## class ListNode"
   ]
  },
  {
   "cell_type": "code",
   "execution_count": 17,
   "metadata": {},
   "outputs": [],
   "source": [
    "class ListNode(object):\n",
    "    def __init__(self, val, next=None):\n",
    "        self.val = val\n",
    "        self.next = next"
   ]
  },
  {
   "cell_type": "markdown",
   "metadata": {},
   "source": [
    "## print linked list tool"
   ]
  },
  {
   "cell_type": "code",
   "execution_count": 18,
   "metadata": {},
   "outputs": [],
   "source": [
    "class Tool:\n",
    "    def printLinkedList(self, head):\n",
    "        while head:\n",
    "            print(head.val, end='')\n",
    "            head = head.next\n",
    "            if head:\n",
    "                print('->', end='')\n",
    "        print()"
   ]
  },
  {
   "cell_type": "markdown",
   "metadata": {},
   "source": [
    "## Testing"
   ]
  },
  {
   "cell_type": "code",
   "execution_count": 32,
   "metadata": {},
   "outputs": [
    {
     "name": "stdout",
     "output_type": "stream",
     "text": [
      "1->3->4->6->9->2\n",
      "1->6->4->3->9->2\n"
     ]
    }
   ],
   "source": [
    "node5 = ListNode(2)\n",
    "node4 = ListNode(9, node5)\n",
    "node3 = ListNode(6, node4)\n",
    "node2 = ListNode(4, node3)\n",
    "node1 = ListNode(3, node2)\n",
    "head = ListNode(1, node1)\n",
    "\n",
    "t = Tool()\n",
    "result = Solution()\n",
    "t.printLinkedList(head)\n",
    "newhead = result.reverseBetween(head, 2, 4)\n",
    "\n",
    "t.printLinkedList(newhead)"
   ]
  },
  {
   "cell_type": "code",
   "execution_count": null,
   "metadata": {},
   "outputs": [],
   "source": []
  },
  {
   "cell_type": "markdown",
   "metadata": {},
   "source": [
    "# History"
   ]
  },
  {
   "cell_type": "code",
   "execution_count": 27,
   "metadata": {},
   "outputs": [],
   "source": [
    "class Solution:\n",
    "    \"\"\"\n",
    "    @param head: ListNode head is the head of the linked list \n",
    "    @param m: An integer\n",
    "    @param n: An integer\n",
    "    @return: The head of the reversed ListNode\n",
    "    \"\"\"\n",
    "    def reverse(self, head):\n",
    "        prev = None\n",
    "        while(head != None):\n",
    "            temp = head.next\n",
    "            head.next = prev\n",
    "            prev = head\n",
    "            head = temp\n",
    "        return prev\n",
    "    \n",
    "    def findkth(self, head, k):\n",
    "        for i in range(k):\n",
    "            if head is None:\n",
    "                return None\n",
    "            head = head.next\n",
    "        return head\n",
    "    \n",
    "    def reverseBetween(self, head, m, n):\n",
    "        dummy = ListNode(0, head)\n",
    "        mth_prev = self.findkth(dummy, m - 1)\n",
    "        mth = mth_prev.next\n",
    "        nth = self.findkth(dummy, n)\n",
    "        nth_next = nth.next\n",
    "        nth.next = None\n",
    "        \n",
    "        self.reverse(mth)\n",
    "        mth_prev.next = nth\n",
    "        mth.next = nth_next\n",
    "        return dummy.next"
   ]
  },
  {
   "cell_type": "code",
   "execution_count": null,
   "metadata": {},
   "outputs": [],
   "source": []
  }
 ],
 "metadata": {
  "kernelspec": {
   "display_name": "Python 3",
   "language": "python",
   "name": "python3"
  },
  "language_info": {
   "codemirror_mode": {
    "name": "ipython",
    "version": 3
   },
   "file_extension": ".py",
   "mimetype": "text/x-python",
   "name": "python",
   "nbconvert_exporter": "python",
   "pygments_lexer": "ipython3",
   "version": "3.7.2"
  },
  "toc": {
   "base_numbering": 1,
   "nav_menu": {},
   "number_sections": true,
   "sideBar": true,
   "skip_h1_title": false,
   "title_cell": "Table of Contents",
   "title_sidebar": "Contents",
   "toc_cell": false,
   "toc_position": {},
   "toc_section_display": true,
   "toc_window_display": false
  }
 },
 "nbformat": 4,
 "nbformat_minor": 2
}
