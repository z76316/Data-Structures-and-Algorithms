{
 "cells": [
  {
   "cell_type": "markdown",
   "metadata": {},
   "source": [
    "Given a linked list, return the node where the cycle begins.\n",
    "\n",
    "If there is no cycle, return null.\n",
    "\n",
    "Example\n",
    "Example 1:\n",
    "\n",
    "    Input：null, no cycle\n",
    "    Output：no cycle\n",
    "    Explanation：\n",
    "    List is null, so no cycle.\n",
    "\n",
    "Example 2:\n",
    "\n",
    "    Input：-21->10->4->5, tail connects to node index 1\n",
    "    Output：10\n",
    "    Explanation：\n",
    "    The last node 5 points to the node whose index is 1, which is 10, so the entrance of the ring is 10\n",
    "\n",
    "Challenge\n",
    "\n",
    "    Can you solve it without using extra space?\n",
    "    \n",
    "https://www.lintcode.com/problem/103/"
   ]
  },
  {
   "cell_type": "markdown",
   "metadata": {},
   "source": [
    "# Solution"
   ]
  },
  {
   "cell_type": "code",
   "execution_count": 12,
   "metadata": {},
   "outputs": [],
   "source": [
    "\"\"\"\n",
    "Definition of ListNode\n",
    "class ListNode(object):\n",
    "    def __init__(self, val, next=None):\n",
    "        self.val = val\n",
    "        self.next = next\n",
    "\"\"\"\n",
    "\n",
    "class Solution:\n",
    "    \"\"\"\n",
    "    @param head: The first node of linked list.\n",
    "    @return: The node where the cycle begins. if there is no cycle, return null\n",
    "    \"\"\"\n",
    "    def detectCycle(self, head):\n",
    "        if head == None or head.next == None:\n",
    "            return None\n",
    "        \n",
    "        slow, fast = head, head.next\n",
    "        while slow != fast:\n",
    "            if fast.next == None or fast.next.next == None:\n",
    "                return None\n",
    "            fast = fast.next.next\n",
    "            slow = slow.next\n",
    "            \n",
    "        while slow.next != head:\n",
    "            head = head.next\n",
    "            slow = slow.next\n",
    "        \n",
    "        return head"
   ]
  },
  {
   "cell_type": "markdown",
   "metadata": {},
   "source": [
    "# Test"
   ]
  },
  {
   "cell_type": "markdown",
   "metadata": {},
   "source": [
    "## class ListNode"
   ]
  },
  {
   "cell_type": "code",
   "execution_count": 5,
   "metadata": {},
   "outputs": [],
   "source": [
    "# Definition of ListNode\n",
    "class ListNode(object):\n",
    "    def __init__(self, val, next=None):\n",
    "        self.val = val\n",
    "        self.next = next"
   ]
  },
  {
   "cell_type": "markdown",
   "metadata": {},
   "source": [
    "## print linked list tool"
   ]
  },
  {
   "cell_type": "code",
   "execution_count": 6,
   "metadata": {},
   "outputs": [],
   "source": [
    "class Tool:\n",
    "    def printLinkedList(self, head):\n",
    "        while head:\n",
    "            print(head.val, end='')\n",
    "            head = head.next\n",
    "            if head:\n",
    "                print('->', end='')\n",
    "        print()"
   ]
  },
  {
   "cell_type": "markdown",
   "metadata": {},
   "source": [
    "## Testing"
   ]
  },
  {
   "cell_type": "code",
   "execution_count": 13,
   "metadata": {},
   "outputs": [
    {
     "name": "stdout",
     "output_type": "stream",
     "text": [
      "3\n"
     ]
    }
   ],
   "source": [
    "node5 = ListNode(5)\n",
    "node4 = ListNode(4, node5)\n",
    "node3 = ListNode(3, node4)\n",
    "node2 = ListNode(2, node3)\n",
    "node1 = ListNode(1, node2)\n",
    "\n",
    "node5.next = node3\n",
    "head = node1\n",
    "\n",
    "a = Solution()\n",
    "t = Tool()\n",
    "# t.printLinkedList(head)     # if there is a cycle, it'll be a infinite loop\n",
    "\n",
    "result = a.detectCycle(head)\n",
    "print(result.val)"
   ]
  },
  {
   "cell_type": "markdown",
   "metadata": {},
   "source": [
    "# History"
   ]
  },
  {
   "cell_type": "code",
   "execution_count": 3,
   "metadata": {},
   "outputs": [],
   "source": [
    "class Solution:\n",
    "    \"\"\"\n",
    "    @param head: The first node of linked list.\n",
    "    @return: The node where the cycle begins. if there is no cycle, return null\n",
    "    \"\"\"\n",
    "    def detectCycle(self, head):\n",
    "        if(head == None or head.next == None):\n",
    "            return None\n",
    "        \n",
    "        slow = head\n",
    "        fast = head.next\n",
    "        while(fast != slow):\n",
    "            if(fast == None or fast.next == None):\n",
    "                return None\n",
    "            slow = slow.next\n",
    "            fast = fast.next.next\n",
    "        \n",
    "        while(head != slow.next):\n",
    "            head = head.next\n",
    "            slow = slow.next\n",
    "        \n",
    "        return head"
   ]
  },
  {
   "cell_type": "code",
   "execution_count": null,
   "metadata": {},
   "outputs": [],
   "source": []
  }
 ],
 "metadata": {
  "kernelspec": {
   "display_name": "Python 3",
   "language": "python",
   "name": "python3"
  },
  "language_info": {
   "codemirror_mode": {
    "name": "ipython",
    "version": 3
   },
   "file_extension": ".py",
   "mimetype": "text/x-python",
   "name": "python",
   "nbconvert_exporter": "python",
   "pygments_lexer": "ipython3",
   "version": "3.7.2"
  },
  "toc": {
   "base_numbering": 1,
   "nav_menu": {},
   "number_sections": true,
   "sideBar": true,
   "skip_h1_title": false,
   "title_cell": "Table of Contents",
   "title_sidebar": "Contents",
   "toc_cell": false,
   "toc_position": {},
   "toc_section_display": true,
   "toc_window_display": false
  }
 },
 "nbformat": 4,
 "nbformat_minor": 2
}
