{
 "cells": [
  {
   "cell_type": "markdown",
   "metadata": {},
   "source": [
    "Given a linked list, remove the nth node from the end of list and return its head.\n",
    "\n",
    "The minimum number of nodes in list is n.\n",
    "\n",
    "Example\n",
    "Example 1:\n",
    "\t\n",
    "    Input: list = 1->2->3->4->5->null， n = 2\n",
    "\tOutput: 1->2->3->5->null\n",
    "\n",
    "Example 2:\n",
    "\t\n",
    "    Input:  list = 5->4->3->2->1->null, n = 2\n",
    "\tOutput: 5->4->3->1->null\n",
    "\n",
    "Challenge\n",
    "\n",
    "    Can you do it without getting the length of the linked list?\n",
    "    \n",
    "https://www.lintcode.com/problem/remove-nth-node-from-end-of-list/"
   ]
  },
  {
   "cell_type": "markdown",
   "metadata": {},
   "source": [
    "# Solution"
   ]
  },
  {
   "cell_type": "code",
   "execution_count": 29,
   "metadata": {},
   "outputs": [],
   "source": [
    "\"\"\"\n",
    "Definition of ListNode\n",
    "class ListNode(object):\n",
    "    def __init__(self, val, next=None):\n",
    "        self.val = val\n",
    "        self.next = next\n",
    "\"\"\"\n",
    "\n",
    "class Solution:\n",
    "    \"\"\"\n",
    "    @param head: The first node of linked list.\n",
    "    @param n: An integer\n",
    "    @return: The head of linked list.\n",
    "    \"\"\"\n",
    "    def removeNthFromEnd(self, head, n):\n",
    "        # write your code here\n",
    "        if head == None:\n",
    "            return head\n",
    "        \n",
    "        dummy = ListNode(0)\n",
    "        dummy.next = head\n",
    "        \n",
    "        slow, fast = dummy, head\n",
    "        for i in range(n):\n",
    "            if fast == None:\n",
    "                return dummy.next\n",
    "            fast = fast.next\n",
    "            \n",
    "        while fast:\n",
    "            fast = fast.next\n",
    "            slow = slow.next\n",
    "        \n",
    "        slow.next = slow.next.next\n",
    "        return dummy.next\n",
    "        "
   ]
  },
  {
   "cell_type": "markdown",
   "metadata": {},
   "source": [
    "# Test"
   ]
  },
  {
   "cell_type": "markdown",
   "metadata": {},
   "source": [
    "## class ListNode"
   ]
  },
  {
   "cell_type": "code",
   "execution_count": 2,
   "metadata": {},
   "outputs": [],
   "source": [
    "class ListNode(object):\n",
    "    def __init__(self, val, next=None):\n",
    "        self.val = val\n",
    "        self.next = next"
   ]
  },
  {
   "cell_type": "markdown",
   "metadata": {},
   "source": [
    "## print linked list tool"
   ]
  },
  {
   "cell_type": "code",
   "execution_count": 3,
   "metadata": {},
   "outputs": [],
   "source": [
    "class Tool:\n",
    "    def printLinkedList(self, head):\n",
    "        while head:\n",
    "            print(head.val,end='')\n",
    "            head = head.next\n",
    "            if head != None:\n",
    "                print('->',end='')\n",
    "        print()"
   ]
  },
  {
   "cell_type": "markdown",
   "metadata": {},
   "source": [
    "## Testing"
   ]
  },
  {
   "cell_type": "code",
   "execution_count": 32,
   "metadata": {},
   "outputs": [
    {
     "name": "stdout",
     "output_type": "stream",
     "text": [
      "1->2->3->4->5->6\n",
      "2->3->4->5->6\n"
     ]
    }
   ],
   "source": [
    "node6 = ListNode(6)\n",
    "node5 = ListNode(5, node6)\n",
    "node4 = ListNode(4, node5)\n",
    "node3 = ListNode(3, node4)\n",
    "node2 = ListNode(2, node3)\n",
    "node1 = ListNode(1, node2)\n",
    "head = node1\n",
    "\n",
    "t = Tool()\n",
    "a = Solution()\n",
    "t.printLinkedList(head)\n",
    "n = 6\n",
    "newhead = a.removeNthFromEnd(head, n)\n",
    "\n",
    "t.printLinkedList(newhead)"
   ]
  },
  {
   "cell_type": "code",
   "execution_count": null,
   "metadata": {},
   "outputs": [],
   "source": []
  },
  {
   "cell_type": "markdown",
   "metadata": {},
   "source": [
    "# History"
   ]
  },
  {
   "cell_type": "code",
   "execution_count": null,
   "metadata": {},
   "outputs": [],
   "source": []
  }
 ],
 "metadata": {
  "kernelspec": {
   "display_name": "Python 3",
   "language": "python",
   "name": "python3"
  },
  "language_info": {
   "codemirror_mode": {
    "name": "ipython",
    "version": 3
   },
   "file_extension": ".py",
   "mimetype": "text/x-python",
   "name": "python",
   "nbconvert_exporter": "python",
   "pygments_lexer": "ipython3",
   "version": "3.7.2"
  },
  "toc": {
   "base_numbering": 1,
   "nav_menu": {},
   "number_sections": true,
   "sideBar": true,
   "skip_h1_title": false,
   "title_cell": "Table of Contents",
   "title_sidebar": "Contents",
   "toc_cell": false,
   "toc_position": {},
   "toc_section_display": true,
   "toc_window_display": false
  }
 },
 "nbformat": 4,
 "nbformat_minor": 2
}
