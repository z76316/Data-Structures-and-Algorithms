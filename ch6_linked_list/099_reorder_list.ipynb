{
 "cells": [
  {
   "cell_type": "markdown",
   "metadata": {},
   "source": [
    "Given a singly linked list L: L0 → L1 → … → Ln-1 → Ln\n",
    "\n",
    "reorder it to: L0 → Ln → L1 → Ln-1 → L2 → Ln-2 → …\n",
    "\n",
    "Example\n",
    "Example 1:\n",
    "\t\n",
    "    Input:  1->2->3->4->null\n",
    "\tOutput: 1->4->2->3->null\n",
    "\n",
    "Example 2:\n",
    "\t\n",
    "    Input: 1->2->3->4->5->null\n",
    "\tOutput: 1->5->2->4->3->null\n",
    "\t\n",
    "Challenge\n",
    "\n",
    "    Can you do this in-place without altering the nodes' values?\n",
    "    \n",
    "https://www.lintcode.com/problem/99/\n",
    "\n",
    "https://photos.app.goo.gl/oomxkQJdLBY3vDfX7"
   ]
  },
  {
   "cell_type": "markdown",
   "metadata": {},
   "source": [
    "# Solution"
   ]
  },
  {
   "cell_type": "code",
   "execution_count": 25,
   "metadata": {},
   "outputs": [],
   "source": [
    "\"\"\"\n",
    "Definition of ListNode\n",
    "class ListNode(object):\n",
    "    def __init__(self, val, next=None):\n",
    "        self.val = val\n",
    "        self.next = next\n",
    "\"\"\"\n",
    "\n",
    "class Solution:\n",
    "    \"\"\"\n",
    "    @param head: The head of linked list.\n",
    "    @return: nothing\n",
    "    \"\"\"\n",
    "    def reorderList(self, head):\n",
    "        # write your code here\n",
    "        if head == None or head.next == None:\n",
    "            return head\n",
    "        \n",
    "        pre_mid_p = self.findPreMid(head)\n",
    "        mid_p = pre_mid_p.next\n",
    "        pre_mid_p.next = None\n",
    "        mid_p = self.reverse(mid_p)\n",
    "        \n",
    "        self.mergeLists(head, mid_p)\n",
    "        \n",
    "    ##### be careful the implementation\n",
    "    def findPreMid(self, head):\n",
    "        slow, fast = head, head.next\n",
    "        while fast.next and fast.next.next:\n",
    "            for i in range(2):\n",
    "                fast = fast.next\n",
    "            slow = slow.next\n",
    "        return slow\n",
    "    \n",
    "    def reverse(self, head):\n",
    "        prev, curr = None, head\n",
    "        while curr:\n",
    "            tmp = curr.next\n",
    "            curr.next = prev\n",
    "            prev = curr\n",
    "            curr = tmp\n",
    "        return prev\n",
    "    \n",
    "    def mergeLists(self, l1, l2):\n",
    "        head = l1\n",
    "        l1 = l1.next\n",
    "        count = 1\n",
    "        while l1 and l2:\n",
    "            count += 1\n",
    "            if count % 2 == 0:\n",
    "                head.next = l2\n",
    "                l2 = l2.next\n",
    "            else:\n",
    "                head.next = l1\n",
    "                l1 = l1.next\n",
    "            head = head.next\n",
    "        if l1:\n",
    "            head.next = l1\n",
    "        elif l2:\n",
    "            head.next = l2\n",
    "                "
   ]
  },
  {
   "cell_type": "markdown",
   "metadata": {},
   "source": [
    "# Test"
   ]
  },
  {
   "cell_type": "markdown",
   "metadata": {},
   "source": [
    "## class ListNode"
   ]
  },
  {
   "cell_type": "code",
   "execution_count": 1,
   "metadata": {},
   "outputs": [],
   "source": [
    "class ListNode(object):\n",
    "    def __init__(self, val, next=None):\n",
    "        self.val = val\n",
    "        self.next = next"
   ]
  },
  {
   "cell_type": "markdown",
   "metadata": {},
   "source": [
    "## print linked list tool"
   ]
  },
  {
   "cell_type": "code",
   "execution_count": 2,
   "metadata": {},
   "outputs": [],
   "source": [
    "class Tool:\n",
    "    def printLinkedList(self, head):\n",
    "        while head:\n",
    "            print(head.val, end='')\n",
    "            head = head.next\n",
    "            if head:\n",
    "                print('->', end='')\n",
    "        print()"
   ]
  },
  {
   "cell_type": "markdown",
   "metadata": {},
   "source": [
    "## Testing"
   ]
  },
  {
   "cell_type": "code",
   "execution_count": 26,
   "metadata": {},
   "outputs": [
    {
     "name": "stdout",
     "output_type": "stream",
     "text": [
      "1->2->3->4->5\n",
      "1->5->2->4->3\n"
     ]
    }
   ],
   "source": [
    "node5 = ListNode(5)\n",
    "node4 = ListNode(4, node5)\n",
    "node3 = ListNode(3, node4)\n",
    "node2 = ListNode(2, node3)\n",
    "node1 = ListNode(1, node2)\n",
    "head = node1\n",
    "\n",
    "t = Tool()\n",
    "result = Solution()\n",
    "t.printLinkedList(head)\n",
    "result.reorderList(head)\n",
    "\n",
    "t.printLinkedList(head)"
   ]
  },
  {
   "cell_type": "code",
   "execution_count": null,
   "metadata": {},
   "outputs": [],
   "source": []
  },
  {
   "cell_type": "markdown",
   "metadata": {},
   "source": [
    "# History"
   ]
  },
  {
   "cell_type": "code",
   "execution_count": 3,
   "metadata": {},
   "outputs": [],
   "source": [
    "class Solution:\n",
    "    \"\"\"\n",
    "    @param head: The head of linked list.\n",
    "    @return: nothing\n",
    "    \"\"\"\n",
    "    def findMid(self, head):\n",
    "        if(head == None or head.next == None):\n",
    "            return head\n",
    "        \n",
    "        slow = head\n",
    "        fast = head.next\n",
    "        while(fast.next != None):\n",
    "            fast = fast.next\n",
    "            if(fast.next == None):\n",
    "                return slow.next\n",
    "            slow = slow.next\n",
    "            fast = fast.next\n",
    "        \n",
    "        return slow\n",
    "    \n",
    "    def reverse(self, head):\n",
    "        prev = None\n",
    "        curt = head\n",
    "        while(curt):\n",
    "            temp = curt.next\n",
    "            curt.next = prev\n",
    "            prev = curt\n",
    "            curt = temp\n",
    "            \n",
    "        return prev\n",
    "        \n",
    "        \n",
    "    def merge(self, head1, head2):\n",
    "        if(head1 == None):\n",
    "            return head2\n",
    "        elif(head2 == None):\n",
    "            return head1\n",
    "        \n",
    "        dummy = ListNode(0)\n",
    "        pointer = dummy\n",
    "        count = 0\n",
    "        while(head1 and head2):\n",
    "            if(count % 2 == 0):\n",
    "                pointer.next = head1\n",
    "                head1 = head1.next\n",
    "            else:\n",
    "                pointer.next = head2\n",
    "                head2 = head2.next\n",
    "            \n",
    "            pointer = pointer.next\n",
    "            count += 1\n",
    "        \n",
    "        if(head1):\n",
    "            pointer.next = head1\n",
    "        else:\n",
    "            pointer.next = head2\n",
    "            \n",
    "        return dummy.next\n",
    "    \n",
    "    def reorderList(self, head):\n",
    "        if(head.next == None or head.next.next == None):\n",
    "            return head\n",
    "        \n",
    "        mid = self.findMid(head)\n",
    "        right = self.reverse(mid.next)\n",
    "        mid.next = None\n",
    "        \n",
    "        return self.merge(head, right)\n",
    "                "
   ]
  },
  {
   "cell_type": "code",
   "execution_count": null,
   "metadata": {},
   "outputs": [],
   "source": []
  }
 ],
 "metadata": {
  "kernelspec": {
   "display_name": "Python 3",
   "language": "python",
   "name": "python3"
  },
  "language_info": {
   "codemirror_mode": {
    "name": "ipython",
    "version": 3
   },
   "file_extension": ".py",
   "mimetype": "text/x-python",
   "name": "python",
   "nbconvert_exporter": "python",
   "pygments_lexer": "ipython3",
   "version": "3.7.2"
  },
  "toc": {
   "base_numbering": 1,
   "nav_menu": {},
   "number_sections": true,
   "sideBar": true,
   "skip_h1_title": false,
   "title_cell": "Table of Contents",
   "title_sidebar": "Contents",
   "toc_cell": false,
   "toc_position": {},
   "toc_section_display": true,
   "toc_window_display": false
  }
 },
 "nbformat": 4,
 "nbformat_minor": 2
}
