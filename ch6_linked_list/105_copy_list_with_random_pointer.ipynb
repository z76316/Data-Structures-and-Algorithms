{
 "cells": [
  {
   "cell_type": "markdown",
   "metadata": {},
   "source": [
    "A linked list is given such that each node contains an additional random pointer which could point to any node in the list or null.\n",
    "\n",
    "Return a deep copy of the list.\n",
    "\n",
    "Challenge\n",
    "Could you solve it with O(1) space?"
   ]
  },
  {
   "cell_type": "code",
   "execution_count": 3,
   "metadata": {},
   "outputs": [],
   "source": [
    "# Definition for singly-linked list with a random pointer.\n",
    "class RandomListNode:\n",
    "    def __init__(self, x):\n",
    "        self.label = x\n",
    "        self.next = None\n",
    "        self.random = None"
   ]
  },
  {
   "cell_type": "code",
   "execution_count": 9,
   "metadata": {},
   "outputs": [],
   "source": [
    "class Solution:\n",
    "    # @param head: A RandomListNode\n",
    "    # @return: A RandomListNode\n",
    "    def copyRandomList(self, head):\n",
    "        if head == None:\n",
    "            return None\n",
    "        \n",
    "        newNodeDict = dict()\n",
    "        pointer = head\n",
    "        while pointer:\n",
    "            newNodeDict[pointer] = RandomListNode(pointer.label)\n",
    "            pointer = pointer.next\n",
    "        \n",
    "        for node in newNodeDict:\n",
    "            if node.next:\n",
    "                newNodeDict[node].next = newNodeDict[node.next]\n",
    "            if node.random:\n",
    "                newNodeDict[node].random = newNodeDict[node.random]\n",
    "        return newNodeDict[head]"
   ]
  },
  {
   "cell_type": "code",
   "execution_count": null,
   "metadata": {},
   "outputs": [],
   "source": []
  }
 ],
 "metadata": {
  "kernelspec": {
   "display_name": "Python 3",
   "language": "python",
   "name": "python3"
  },
  "language_info": {
   "codemirror_mode": {
    "name": "ipython",
    "version": 3
   },
   "file_extension": ".py",
   "mimetype": "text/x-python",
   "name": "python",
   "nbconvert_exporter": "python",
   "pygments_lexer": "ipython3",
   "version": "3.7.2"
  }
 },
 "nbformat": 4,
 "nbformat_minor": 2
}
