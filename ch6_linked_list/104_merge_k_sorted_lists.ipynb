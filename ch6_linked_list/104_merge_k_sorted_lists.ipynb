{
 "cells": [
  {
   "cell_type": "markdown",
   "metadata": {},
   "source": [
    "Merge k sorted linked lists and return it as one sorted list.\n",
    "\n",
    "Analyze and describe its complexity.\n",
    "\n",
    "Example 1:\n",
    "\tInput:   [2->4->null,null,-1->null]\n",
    "\tOutput:  -1->2->4->null\n",
    "\n",
    "Example 2:\n",
    "\tInput: [2->6->null,5->null,7->null]\n",
    "\tOutput:  2->5->6->7->null\n",
    "\t"
   ]
  },
  {
   "cell_type": "code",
   "execution_count": 5,
   "metadata": {},
   "outputs": [],
   "source": [
    "# Definition of ListNode\n",
    "class ListNode(object):\n",
    "    def __init__(self, val, next=None):\n",
    "        self.val = val\n",
    "        self.next = next"
   ]
  },
  {
   "cell_type": "code",
   "execution_count": 6,
   "metadata": {},
   "outputs": [],
   "source": [
    "# Merge sort (divide and conquer)\n",
    "# Time complexity: O(nlogk)\n",
    "# Space complexity: O(1)\n",
    "class Solution_1:\n",
    "    \"\"\"\n",
    "    @param lists: a list of ListNode\n",
    "    @return: The head of one sorted list.\n",
    "    \"\"\"\n",
    "    def mergeKLists(self, lists):\n",
    "        if lists == None or len(lists) < 1:\n",
    "            return None\n",
    "        if len(lists) == 1:\n",
    "            return lists[0]\n",
    "        \n",
    "        mid = len(lists) // 2\n",
    "        left = self.mergeKLists(lists[:mid])\n",
    "        right = self.mergeKLists(lists[mid:])\n",
    "        \n",
    "        return self.merge(left, right)\n",
    "    \n",
    "    def merge(self, head1, head2):\n",
    "        dummy = ListNode(None)\n",
    "        pointer = dummy\n",
    "        while(head1 and head2):\n",
    "            if(head1.val < head2.val):\n",
    "                pointer.next = head1\n",
    "                head1 = head1.next\n",
    "            else:\n",
    "                pointer.next = head2\n",
    "                head2 = head2.next\n",
    "            pointer = pointer.next\n",
    "            \n",
    "        if(head1):\n",
    "            pointer.next = head1\n",
    "        else:\n",
    "            pointer.next = head2\n",
    "            \n",
    "        return dummy.next"
   ]
  },
  {
   "cell_type": "code",
   "execution_count": 7,
   "metadata": {},
   "outputs": [],
   "source": [
    "# Heap\n",
    "# Time complexity: O(nlogk)\n",
    "# Space complexity: O(n)\n",
    "from heapq import heappush, heappop\n",
    "class Solution_2:\n",
    "    \"\"\"\n",
    "    @param lists: a list of ListNode\n",
    "    @return: The head of one sorted list.\n",
    "    \"\"\"\n",
    "    def mergeKLists(self, lists):\n",
    "        if lists == None or len(lists) < 1:\n",
    "            return None\n",
    "        if len(lists) == 1:\n",
    "            return lists[0]\n",
    "        \n",
    "        dummy = ListNode(None)\n",
    "        pointer = dummy\n",
    "        \n",
    "        heap = []\n",
    "        for i in range(len(lists)):\n",
    "            if lists[i]:\n",
    "                heappush(heap, (lists[i].val, i, lists[i]))\n",
    "                \n",
    "        while(heap):\n",
    "            val, i, node = heappop(heap)\n",
    "            pointer.next = node\n",
    "            pointer = pointer.next\n",
    "            node = node.next\n",
    "            if node:\n",
    "                heappush(heap, (node.val, i, node))\n",
    "            \n",
    "        return dummy.next"
   ]
  },
  {
   "cell_type": "code",
   "execution_count": null,
   "metadata": {},
   "outputs": [],
   "source": []
  }
 ],
 "metadata": {
  "kernelspec": {
   "display_name": "Python 3",
   "language": "python",
   "name": "python3"
  },
  "language_info": {
   "codemirror_mode": {
    "name": "ipython",
    "version": 3
   },
   "file_extension": ".py",
   "mimetype": "text/x-python",
   "name": "python",
   "nbconvert_exporter": "python",
   "pygments_lexer": "ipython3",
   "version": "3.7.2"
  }
 },
 "nbformat": 4,
 "nbformat_minor": 2
}
