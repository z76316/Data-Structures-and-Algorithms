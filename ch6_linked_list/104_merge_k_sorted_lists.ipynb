{
 "cells": [
  {
   "cell_type": "markdown",
   "metadata": {},
   "source": [
    "Merge k sorted linked lists and return it as one sorted list.\n",
    "\n",
    "Analyze and describe its complexity.\n",
    "\n",
    "Example 1:\n",
    "\tInput:   [2->4->null,null,-1->null]\n",
    "\tOutput:  -1->2->4->null\n",
    "\n",
    "Example 2:\n",
    "\tInput: [2->6->null,5->null,7->null]\n",
    "\tOutput:  2->5->6->7->null\n",
    "\t\n",
    "https://leetcode.com/problems/merge-k-sorted-lists/"
   ]
  },
  {
   "cell_type": "markdown",
   "metadata": {},
   "source": [
    "# Solution"
   ]
  },
  {
   "cell_type": "markdown",
   "metadata": {},
   "source": [
    "## Solution 1"
   ]
  },
  {
   "cell_type": "code",
   "execution_count": 4,
   "metadata": {},
   "outputs": [],
   "source": [
    "# heap\n",
    "from heapq import heappush, heappop\n",
    "\n",
    "class Solution:\n",
    "    def mergeKLists(self, lists):\n",
    "        heap, listLen = [], len(lists)\n",
    "        for i in range(listLen):\n",
    "            if lists[i]:\n",
    "                heappush(heap, (lists[i].val, i, lists[i]))\n",
    "        \n",
    "        dummy = curr = ListNode(0)\n",
    "        while heap:\n",
    "            val, i, node = heappop(heap)\n",
    "            curr.next = node\n",
    "            curr = curr.next\n",
    "            node = node.next\n",
    "            if node:\n",
    "                heappush(heap, (node.val, i, node))\n",
    "        \n",
    "        return dummy.next"
   ]
  },
  {
   "cell_type": "markdown",
   "metadata": {},
   "source": [
    "## Solution 2"
   ]
  },
  {
   "cell_type": "code",
   "execution_count": 15,
   "metadata": {},
   "outputs": [],
   "source": [
    "# merge sort\n",
    "class Solution:\n",
    "    def mergeKLists(self, lists):\n",
    "        if not lists or len(lists) < 1:\n",
    "            return None\n",
    "        \n",
    "        if len(lists) == 1:\n",
    "            return lists[0]\n",
    "        \n",
    "        mid = len(lists) // 2\n",
    "        left = self.mergeKLists(lists[:mid])\n",
    "        right = self.mergeKLists(lists[mid:])\n",
    "        return self.merge(left, right)\n",
    "    \n",
    "    \n",
    "    def merge(self, list1, list2):\n",
    "        if not list1:\n",
    "            return list2\n",
    "        if not list2:\n",
    "            return list1\n",
    "        \n",
    "        dummy = curr = ListNode(0)\n",
    "        while list1 and list2:\n",
    "            if list1.val < list2.val:\n",
    "                curr.next = list1\n",
    "                list1 = list1.next\n",
    "            else:\n",
    "                curr.next = list2\n",
    "                list2 = list2.next\n",
    "            curr = curr.next\n",
    "        \n",
    "        if list1:\n",
    "            curr.next = list1\n",
    "        if list2:\n",
    "            curr.next = list2\n",
    "        return dummy.next"
   ]
  },
  {
   "cell_type": "markdown",
   "metadata": {},
   "source": [
    "# Test"
   ]
  },
  {
   "cell_type": "code",
   "execution_count": 8,
   "metadata": {},
   "outputs": [],
   "source": [
    "class ListNode(object):\n",
    "    def __init__(self, val, next=None):\n",
    "        self.val = val\n",
    "        self.next = next"
   ]
  },
  {
   "cell_type": "code",
   "execution_count": 13,
   "metadata": {},
   "outputs": [],
   "source": [
    "def printList(head):\n",
    "    while head:\n",
    "        if head.next:\n",
    "            print(f\"{head.val} -> \", end=\"\")\n",
    "        else:\n",
    "            print(f\"{head.val}\", end=\"\")\n",
    "        head = head.next"
   ]
  },
  {
   "cell_type": "code",
   "execution_count": 16,
   "metadata": {},
   "outputs": [
    {
     "name": "stdout",
     "output_type": "stream",
     "text": [
      "0 -> 1 -> 2 -> 3 -> 4 -> 5 -> 6 -> 7 -> 8 -> 9"
     ]
    }
   ],
   "source": [
    "n = 10\n",
    "nodes, lists = [], []\n",
    "\n",
    "for i in range(n):\n",
    "    nodes.append(ListNode(i))\n",
    "    \n",
    "# list 1: 1 -> 3 -> 4 -> 8\n",
    "nodes[1].next = nodes[3]\n",
    "nodes[3].next = nodes[4]\n",
    "nodes[4].next = nodes[8]\n",
    "\n",
    "# list 2: 2 -> 7 -> 9\n",
    "nodes[2].next = nodes[7]\n",
    "nodes[7].next = nodes[9]\n",
    "\n",
    "# list 3: 0 -> 5 -> 6\n",
    "nodes[0].next = nodes[5]\n",
    "nodes[5].next = nodes[6]\n",
    "\n",
    "lists.append(nodes[1])\n",
    "lists.append(nodes[2])\n",
    "lists.append(nodes[0])\n",
    "\n",
    "a = Solution()\n",
    "result = a.mergeKLists(lists)\n",
    "printList(result)"
   ]
  },
  {
   "cell_type": "markdown",
   "metadata": {},
   "source": [
    "# History"
   ]
  },
  {
   "cell_type": "code",
   "execution_count": 5,
   "metadata": {},
   "outputs": [],
   "source": [
    "# Definition of ListNode\n",
    "class ListNode(object):\n",
    "    def __init__(self, val, next=None):\n",
    "        self.val = val\n",
    "        self.next = next"
   ]
  },
  {
   "cell_type": "code",
   "execution_count": 6,
   "metadata": {},
   "outputs": [],
   "source": [
    "# Merge sort (divide and conquer)\n",
    "# Time complexity: O(nlogk)\n",
    "# Space complexity: O(1)\n",
    "class Solution_1:\n",
    "    \"\"\"\n",
    "    @param lists: a list of ListNode\n",
    "    @return: The head of one sorted list.\n",
    "    \"\"\"\n",
    "    def mergeKLists(self, lists):\n",
    "        if lists == None or len(lists) < 1:\n",
    "            return None\n",
    "        if len(lists) == 1:\n",
    "            return lists[0]\n",
    "        \n",
    "        mid = len(lists) // 2\n",
    "        left = self.mergeKLists(lists[:mid])\n",
    "        right = self.mergeKLists(lists[mid:])\n",
    "        \n",
    "        return self.merge(left, right)\n",
    "    \n",
    "    def merge(self, head1, head2):\n",
    "        dummy = ListNode(None)\n",
    "        pointer = dummy\n",
    "        while(head1 and head2):\n",
    "            if(head1.val < head2.val):\n",
    "                pointer.next = head1\n",
    "                head1 = head1.next\n",
    "            else:\n",
    "                pointer.next = head2\n",
    "                head2 = head2.next\n",
    "            pointer = pointer.next\n",
    "            \n",
    "        if(head1):\n",
    "            pointer.next = head1\n",
    "        else:\n",
    "            pointer.next = head2\n",
    "            \n",
    "        return dummy.next"
   ]
  },
  {
   "cell_type": "code",
   "execution_count": 7,
   "metadata": {},
   "outputs": [],
   "source": [
    "# Heap\n",
    "# Time complexity: O(nlogk)\n",
    "# Space complexity: O(n)\n",
    "from heapq import heappush, heappop\n",
    "class Solution_2:\n",
    "    \"\"\"\n",
    "    @param lists: a list of ListNode\n",
    "    @return: The head of one sorted list.\n",
    "    \"\"\"\n",
    "    def mergeKLists(self, lists):\n",
    "        if lists == None or len(lists) < 1:\n",
    "            return None\n",
    "        if len(lists) == 1:\n",
    "            return lists[0]\n",
    "        \n",
    "        dummy = ListNode(None)\n",
    "        pointer = dummy\n",
    "        \n",
    "        heap = []\n",
    "        for i in range(len(lists)):\n",
    "            if lists[i]:\n",
    "                heappush(heap, (lists[i].val, i, lists[i]))\n",
    "                \n",
    "        while(heap):\n",
    "            val, i, node = heappop(heap)\n",
    "            pointer.next = node\n",
    "            pointer = pointer.next\n",
    "            node = node.next\n",
    "            if node:\n",
    "                heappush(heap, (node.val, i, node))\n",
    "            \n",
    "        return dummy.next"
   ]
  },
  {
   "cell_type": "code",
   "execution_count": 4,
   "metadata": {},
   "outputs": [],
   "source": [
    "# Merge two by two\n",
    "# Time complexity: O(nlogk)\n",
    "# Space complexity: O(1)\n",
    "class Solution_3:\n",
    "    \"\"\"\n",
    "    @param lists: a list of ListNode\n",
    "    @return: The head of one sorted list.\n",
    "    \"\"\"\n",
    "    def mergeKLists(self, lists):\n",
    "        if lists == None or len(lists) == 0:\n",
    "            return None\n",
    "        if len(lists) == 1:\n",
    "            return  lists[0]\n",
    "        \n",
    "        while len(lists) > 1:\n",
    "            \n",
    "            temp_lists = []\n",
    "            \n",
    "            for i in range(0, len(lists), 2):\n",
    "                if i+1 >= len(lists):\n",
    "                    break\n",
    "                new_list = self.merge(lists[i], lists[i+1])\n",
    "                temp_lists.append(new_list)\n",
    "            \n",
    "            if len(lists) % 2 == 1:\n",
    "                new_list = lists[-1]\n",
    "                temp_lists.append(new_list)\n",
    "            lists = temp_lists\n",
    "        return lists[0]\n",
    "    \n",
    "    def merge(self, head1, head2):\n",
    "        dummy = ListNode(None)\n",
    "        pointer = dummy\n",
    "        while head1 and head2:\n",
    "            if head1.val < head2.val:\n",
    "                pointer.next = head1\n",
    "                head1 = head1.next\n",
    "            else:\n",
    "                pointer.next = head2\n",
    "                head2 = head2.next\n",
    "            pointer = pointer.next\n",
    "            \n",
    "        if head1:\n",
    "            pointer.next = head1\n",
    "        else:\n",
    "            pointer.next = head2\n",
    "            \n",
    "        return dummy.next"
   ]
  },
  {
   "cell_type": "code",
   "execution_count": null,
   "metadata": {},
   "outputs": [],
   "source": []
  }
 ],
 "metadata": {
  "kernelspec": {
   "display_name": "Python 3",
   "language": "python",
   "name": "python3"
  },
  "language_info": {
   "codemirror_mode": {
    "name": "ipython",
    "version": 3
   },
   "file_extension": ".py",
   "mimetype": "text/x-python",
   "name": "python",
   "nbconvert_exporter": "python",
   "pygments_lexer": "ipython3",
   "version": "3.7.2"
  },
  "toc": {
   "base_numbering": 1,
   "nav_menu": {},
   "number_sections": true,
   "sideBar": true,
   "skip_h1_title": false,
   "title_cell": "Table of Contents",
   "title_sidebar": "Contents",
   "toc_cell": false,
   "toc_position": {},
   "toc_section_display": true,
   "toc_window_display": false
  }
 },
 "nbformat": 4,
 "nbformat_minor": 2
}
