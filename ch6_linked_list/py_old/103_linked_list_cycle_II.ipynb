{
 "cells": [
  {
   "cell_type": "markdown",
   "metadata": {},
   "source": [
    "Given a linked list, return the node where the cycle begins.\n",
    "\n",
    "If there is no cycle, return null.\n",
    "\n",
    "Example\n",
    "Given -21->10->4->5, tail connects to node index 1，return 10\n",
    "Explanation：\n",
    "The last node 5 points to the node whose index is 1, which is 10, so the entrance of the ring is 10\n",
    "\n",
    "Challenge\n",
    "Follow up:\n",
    "\n",
    "Can you solve it without using extra space?"
   ]
  },
  {
   "cell_type": "code",
   "execution_count": 1,
   "metadata": {},
   "outputs": [],
   "source": [
    "# Definition of ListNode\n",
    "class ListNode(object):\n",
    "    def __init__(self, val, next=None):\n",
    "        self.val = val\n",
    "        self.next = next"
   ]
  },
  {
   "cell_type": "code",
   "execution_count": 3,
   "metadata": {},
   "outputs": [],
   "source": [
    "class Solution:\n",
    "    \"\"\"\n",
    "    @param head: The first node of linked list.\n",
    "    @return: The node where the cycle begins. if there is no cycle, return null\n",
    "    \"\"\"\n",
    "    def detectCycle(self, head):\n",
    "        if(head == None or head.next == None):\n",
    "            return None\n",
    "        \n",
    "        slow = head\n",
    "        fast = head.next\n",
    "        while(fast != slow):\n",
    "            if(fast == None or fast.next == None):\n",
    "                return None\n",
    "            slow = slow.next\n",
    "            fast = fast.next.next\n",
    "        \n",
    "        while(head != slow.next):\n",
    "            head = head.next\n",
    "            slow = slow.next\n",
    "        \n",
    "        return head"
   ]
  },
  {
   "cell_type": "code",
   "execution_count": null,
   "metadata": {},
   "outputs": [],
   "source": []
  }
 ],
 "metadata": {
  "kernelspec": {
   "display_name": "Python 3",
   "language": "python",
   "name": "python3"
  },
  "language_info": {
   "codemirror_mode": {
    "name": "ipython",
    "version": 3
   },
   "file_extension": ".py",
   "mimetype": "text/x-python",
   "name": "python",
   "nbconvert_exporter": "python",
   "pygments_lexer": "ipython3",
   "version": "3.7.2"
  }
 },
 "nbformat": 4,
 "nbformat_minor": 2
}
