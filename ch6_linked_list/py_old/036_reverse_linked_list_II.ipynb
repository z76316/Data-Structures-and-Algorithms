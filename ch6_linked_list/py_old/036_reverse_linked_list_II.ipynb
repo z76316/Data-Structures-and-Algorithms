{
 "cells": [
  {
   "cell_type": "markdown",
   "metadata": {},
   "source": [
    "Reverse a linked list from position m to n.\n",
    "\n",
    "Example\n",
    "Example 1:\n",
    "\n",
    "Input: 1->2->3->4->5->NULL, m = 2 and n = 4, \n",
    "Output: 1->4->3->2->5->NULL.\n",
    "Example 2:\n",
    "\n",
    "Input: 1->2->3->4->NULL, m = 2 and n = 3, \n",
    "Output: 1->3->2->4->NULL.\n",
    "Challenge\n",
    "Reverse it in-place and in one-pass\n",
    "\n",
    "Notice\n",
    "Given m, n satisfy the following condition: 1 ≤ m ≤ n ≤ length of list."
   ]
  },
  {
   "cell_type": "code",
   "execution_count": 3,
   "metadata": {},
   "outputs": [],
   "source": [
    "# Definition of ListNode\n",
    "class ListNode(object):\n",
    "    def __init__(self, val, next=None):\n",
    "        self.val = val\n",
    "        self.next = next"
   ]
  },
  {
   "cell_type": "code",
   "execution_count": 4,
   "metadata": {},
   "outputs": [],
   "source": [
    "# Print linked list tool\n",
    "class Tool:\n",
    "    def printLinkedList(self, head):\n",
    "        while head:\n",
    "            print(head.val,end='')\n",
    "            head = head.next\n",
    "            if head != None:\n",
    "                print('->',end='')\n",
    "        print()"
   ]
  },
  {
   "cell_type": "code",
   "execution_count": 5,
   "metadata": {},
   "outputs": [],
   "source": [
    "class Solution:\n",
    "    \"\"\"\n",
    "    @param head: ListNode head is the head of the linked list \n",
    "    @param m: An integer\n",
    "    @param n: An integer\n",
    "    @return: The head of the reversed ListNode\n",
    "    \"\"\"\n",
    "    def reverse(self, head):\n",
    "        prev = None\n",
    "        while(head != None):\n",
    "            temp = head.next\n",
    "            head.next = prev\n",
    "            prev = head\n",
    "            head = temp\n",
    "        return prev\n",
    "    \n",
    "    def findkth(self, head, k):\n",
    "        for i in range(k):\n",
    "            if head is None:\n",
    "                return None\n",
    "            head = head.next\n",
    "        return head\n",
    "    \n",
    "    def reverseBetween(self, head, m, n):\n",
    "        dummy = ListNode(0, head)\n",
    "        mth_prev = self.findkth(dummy, m - 1)\n",
    "        mth = mth_prev.next\n",
    "        nth = self.findkth(dummy, n)\n",
    "        nth_next = nth.next\n",
    "        nth.next = None\n",
    "        \n",
    "        self.reverse(mth)\n",
    "        mth_prev.next = nth\n",
    "        mth.next = nth_next\n",
    "        return dummy.next\n",
    "    "
   ]
  },
  {
   "cell_type": "code",
   "execution_count": 6,
   "metadata": {},
   "outputs": [
    {
     "name": "stdout",
     "output_type": "stream",
     "text": [
      "1->3->4->6->9->2\n",
      "1->6->4->3->9->2\n"
     ]
    }
   ],
   "source": [
    "node5 = ListNode(2)\n",
    "node4 = ListNode(9, node5)\n",
    "node3 = ListNode(6, node4)\n",
    "node2 = ListNode(4, node3)\n",
    "node1 = ListNode(3, node2)\n",
    "head = ListNode(1, node1)\n",
    "\n",
    "t = Tool()\n",
    "result = Solution()\n",
    "t.printLinkedList(head)\n",
    "newhead = result.reverseBetween(head, 2, 4)\n",
    "\n",
    "t.printLinkedList(newhead)"
   ]
  },
  {
   "cell_type": "code",
   "execution_count": null,
   "metadata": {},
   "outputs": [],
   "source": []
  }
 ],
 "metadata": {
  "kernelspec": {
   "display_name": "Python 3",
   "language": "python",
   "name": "python3"
  },
  "language_info": {
   "codemirror_mode": {
    "name": "ipython",
    "version": 3
   },
   "file_extension": ".py",
   "mimetype": "text/x-python",
   "name": "python",
   "nbconvert_exporter": "python",
   "pygments_lexer": "ipython3",
   "version": "3.7.2"
  }
 },
 "nbformat": 4,
 "nbformat_minor": 2
}
