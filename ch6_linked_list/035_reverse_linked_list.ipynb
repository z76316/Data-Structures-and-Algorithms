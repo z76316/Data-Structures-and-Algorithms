{
 "cells": [
  {
   "cell_type": "markdown",
   "metadata": {},
   "source": [
    "Reverse a linked list.\n",
    "\n",
    "Example\n",
    "Example1:\n",
    "For linked list 1->2->3, the reversed linked list is 3->2->1\n",
    "Example2:\n",
    "For linked list 1->2->3->4, the reversed linked list is 4->3->2->1\n",
    "\n",
    "Challenge\n",
    "Reverse it in-place and in one-pass"
   ]
  },
  {
   "cell_type": "code",
   "execution_count": 1,
   "metadata": {},
   "outputs": [],
   "source": [
    "# Definition of ListNode\n",
    "class ListNode(object):\n",
    "    def __init__(self, val, next=None):\n",
    "        self.val = val\n",
    "        self.next = next"
   ]
  },
  {
   "cell_type": "code",
   "execution_count": 4,
   "metadata": {},
   "outputs": [],
   "source": [
    "class Solution:\n",
    "    \"\"\"\n",
    "    @param head: n\n",
    "    @return: The new head of reversed linked list.\n",
    "    \"\"\"\n",
    "    def reverse(self, head):\n",
    "        curt = None\n",
    "        while(head != None):\n",
    "            temp = head.next\n",
    "            head.next = curt\n",
    "            curt = head\n",
    "            head = temp\n",
    "        \n",
    "        return curt"
   ]
  },
  {
   "cell_type": "code",
   "execution_count": 5,
   "metadata": {},
   "outputs": [
    {
     "data": {
      "text/plain": [
       "<__main__.ListNode at 0x11114f518>"
      ]
     },
     "execution_count": 5,
     "metadata": {},
     "output_type": "execute_result"
    }
   ],
   "source": [
    "node5 = ListNode(4)\n",
    "node4 = ListNode(3, node5)\n",
    "node3 = ListNode(2, node4)\n",
    "node2 = ListNode(2, node3)\n",
    "node1 = ListNode(2, node2)\n",
    "head = ListNode(1, node1)\n",
    "\n",
    "result = Solution()\n",
    "result.reverse(head)"
   ]
  },
  {
   "cell_type": "code",
   "execution_count": null,
   "metadata": {},
   "outputs": [],
   "source": []
  }
 ],
 "metadata": {
  "kernelspec": {
   "display_name": "Python 3",
   "language": "python",
   "name": "python3"
  },
  "language_info": {
   "codemirror_mode": {
    "name": "ipython",
    "version": 3
   },
   "file_extension": ".py",
   "mimetype": "text/x-python",
   "name": "python",
   "nbconvert_exporter": "python",
   "pygments_lexer": "ipython3",
   "version": "3.7.2"
  }
 },
 "nbformat": 4,
 "nbformat_minor": 2
}
