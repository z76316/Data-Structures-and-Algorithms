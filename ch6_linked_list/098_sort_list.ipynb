{
 "cells": [
  {
   "cell_type": "markdown",
   "metadata": {},
   "source": [
    "Sort a linked list in O(n log n) time using constant space complexity.\n",
    "\n",
    "Example\n",
    "Example 1:\n",
    "\t\n",
    "    Input:  1->3->2->null\n",
    "\tOutput:  1->2->3->null\n",
    "\n",
    "Example 2:\n",
    "\t\n",
    "    Input: 1->7->2->6->null\n",
    "\tOutput: 1->2->6->7->null\n",
    "\t\n",
    "Challenge\n",
    "\n",
    "    Solve it by merge sort & quick sort separately.\n",
    "    \n",
    "https://www.lintcode.com/problem/98/"
   ]
  },
  {
   "cell_type": "markdown",
   "metadata": {},
   "source": [
    "# Solution"
   ]
  },
  {
   "cell_type": "code",
   "execution_count": 14,
   "metadata": {},
   "outputs": [],
   "source": [
    "\"\"\"\n",
    "Definition of ListNode\n",
    "class ListNode(object):\n",
    "    def __init__(self, val, next=None):\n",
    "        self.val = val\n",
    "        self.next = next\n",
    "\"\"\"\n",
    "\n",
    "class Solution:\n",
    "    \"\"\"\n",
    "    @param head: The head of linked list.\n",
    "    @return: You should return the head of the sorted linked list, using constant space complexity.\n",
    "    \"\"\"\n",
    "    def sortList(self, head):\n",
    "        # write your code here\n",
    "        if head == None or head.next == None:\n",
    "            return head\n",
    "        \n",
    "        mid_node = self.findMid(head)\n",
    "        head_right = mid_node.next\n",
    "        mid_node.next = None\n",
    "        \n",
    "        head_left = self.sortList(head)\n",
    "        head_right = self.sortList(head_right)\n",
    "        \n",
    "        return self.merge(head_left, head_right)\n",
    "    \n",
    "    def findMid(self, head):\n",
    "        slow, fast = head, head.next\n",
    "        while fast:\n",
    "            fast = fast.next\n",
    "            if fast:\n",
    "                fast = fast.next\n",
    "                slow = slow.next\n",
    "        return slow\n",
    "        \n",
    "    def merge(self, head_1, head_2):\n",
    "        if head_1 == None:\n",
    "            return head_2\n",
    "        if head_2 == None:\n",
    "            return head_1\n",
    "            \n",
    "        dummy = ListNode(0)\n",
    "        p = dummy\n",
    "        while head_1 and head_2:\n",
    "            if head_1.val < head_2.val:\n",
    "                p.next = head_1\n",
    "                head_1 = head_1.next\n",
    "            else:\n",
    "                p.next = head_2\n",
    "                head_2 = head_2.next\n",
    "            p = p.next    ##### don't forget to move the pointer\n",
    "        \n",
    "        if head_1:\n",
    "            p.next = head_1\n",
    "        elif head_2:\n",
    "            p.next = head_2\n",
    "        \n",
    "        return dummy.next"
   ]
  },
  {
   "cell_type": "markdown",
   "metadata": {},
   "source": [
    "# Test"
   ]
  },
  {
   "cell_type": "markdown",
   "metadata": {},
   "source": [
    "## class ListNode"
   ]
  },
  {
   "cell_type": "code",
   "execution_count": 5,
   "metadata": {},
   "outputs": [],
   "source": [
    "# Definition of ListNode\n",
    "class ListNode(object):\n",
    "    def __init__(self, val, next=None):\n",
    "        self.val = val\n",
    "        self.next = next"
   ]
  },
  {
   "cell_type": "markdown",
   "metadata": {},
   "source": [
    "## print linked list tool"
   ]
  },
  {
   "cell_type": "code",
   "execution_count": 6,
   "metadata": {},
   "outputs": [],
   "source": [
    "# Print linked list tool\n",
    "class Tool:\n",
    "    def printLinkedList(self, head):\n",
    "        while head:\n",
    "            print(head.val,end='')\n",
    "            head = head.next\n",
    "            if head != None:\n",
    "                print('->',end='')\n",
    "        print()"
   ]
  },
  {
   "cell_type": "markdown",
   "metadata": {},
   "source": [
    "## Testing"
   ]
  },
  {
   "cell_type": "code",
   "execution_count": 13,
   "metadata": {},
   "outputs": [
    {
     "name": "stdout",
     "output_type": "stream",
     "text": [
      "1->3->4->6->9->2\n",
      "1->2->3->4->6->9\n"
     ]
    }
   ],
   "source": [
    "node5 = ListNode(2)\n",
    "node4 = ListNode(9, node5)\n",
    "node3 = ListNode(6, node4)\n",
    "node2 = ListNode(4, node3)\n",
    "node1 = ListNode(3, node2)\n",
    "head = ListNode(1, node1)\n",
    "\n",
    "t = Tool()\n",
    "a = Solution()\n",
    "t.printLinkedList(head)\n",
    "newhead = a.sortList(head)\n",
    "\n",
    "t.printLinkedList(newhead)"
   ]
  },
  {
   "cell_type": "code",
   "execution_count": null,
   "metadata": {},
   "outputs": [],
   "source": []
  },
  {
   "cell_type": "markdown",
   "metadata": {},
   "source": [
    "# History"
   ]
  },
  {
   "cell_type": "code",
   "execution_count": 1,
   "metadata": {},
   "outputs": [],
   "source": [
    "class Solution:\n",
    "    \"\"\"\n",
    "    @param head: The head of linked list.\n",
    "    @return: You should return the head of the sorted linked list, using constant space complexity.\n",
    "    \"\"\"\n",
    "    def findMid(self, head):\n",
    "        if(head == None or head.next == None):\n",
    "            return head\n",
    "        \n",
    "        slow = head\n",
    "        fast = head.next\n",
    "        while(fast.next != None):\n",
    "            fast = fast.next\n",
    "            if(fast.next == None): return slow.next\n",
    "            fast = fast.next\n",
    "            slow = slow.next\n",
    "        \n",
    "        return slow\n",
    "    \n",
    "    def merge(self, head1, head2):\n",
    "        if(head1 == None):\n",
    "            return head2\n",
    "        elif(head2 == None):\n",
    "            return head1\n",
    "        \n",
    "        dummy = ListNode(0, None)\n",
    "        pointer = dummy\n",
    "        while(head1 != None and head2 != None):\n",
    "            if(head1.val < head2.val):\n",
    "                pointer.next = head1\n",
    "                head1 = head1.next\n",
    "            else:\n",
    "                pointer.next = head2\n",
    "                head2 = head2.next\n",
    "            \n",
    "            pointer = pointer.next\n",
    "        \n",
    "        \n",
    "        if(head1 != None):\n",
    "            pointer.next = head1\n",
    "        else:\n",
    "            pointer.next = head2\n",
    "            \n",
    "        return dummy.next\n",
    "    \n",
    "    def sortList(self, head):\n",
    "        if(head == None or head.next == None):\n",
    "            return head\n",
    "        \n",
    "        mid = self.findMid(head)\n",
    "        rightHead = mid.next\n",
    "        mid.next = None\n",
    "        \n",
    "        left = self.sortList(head)\n",
    "        right = self.sortList(rightHead)\n",
    "        \n",
    "        return self.merge(left, right)"
   ]
  },
  {
   "cell_type": "code",
   "execution_count": null,
   "metadata": {},
   "outputs": [],
   "source": []
  }
 ],
 "metadata": {
  "kernelspec": {
   "display_name": "Python 3",
   "language": "python",
   "name": "python3"
  },
  "language_info": {
   "codemirror_mode": {
    "name": "ipython",
    "version": 3
   },
   "file_extension": ".py",
   "mimetype": "text/x-python",
   "name": "python",
   "nbconvert_exporter": "python",
   "pygments_lexer": "ipython3",
   "version": "3.7.2"
  },
  "toc": {
   "base_numbering": 1,
   "nav_menu": {},
   "number_sections": true,
   "sideBar": true,
   "skip_h1_title": false,
   "title_cell": "Table of Contents",
   "title_sidebar": "Contents",
   "toc_cell": false,
   "toc_position": {},
   "toc_section_display": true,
   "toc_window_display": false
  }
 },
 "nbformat": 4,
 "nbformat_minor": 2
}
