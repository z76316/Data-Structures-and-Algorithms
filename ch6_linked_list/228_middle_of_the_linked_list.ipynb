{
 "cells": [
  {
   "cell_type": "markdown",
   "metadata": {},
   "source": [
    "Given a non-empty, singly linked list with head node head, return a middle node of linked list.\n",
    "If there are two middle nodes, return the second middle node.\n",
    "\n",
    "Example 1:\n",
    "\n",
    "    Input: [1,2,3,4,5]\n",
    "    Output: Node 3 from this list (Serialization: [3,4,5])\n",
    "    \n",
    "    The returned node has value 3.  (The judge's serialization of this node is [3,4,5]).\n",
    "    Note that we returned a ListNode object ans, such that:\n",
    "    ans.val = 3, ans.next.val = 4, ans.next.next.val = 5, and ans.next.next.next = NULL.\n",
    "\n",
    "Example 2:\n",
    "\n",
    "    Input: [1,2,3,4,5,6]\n",
    "    Output: Node 4 from this list (Serialization: [4,5,6])\n",
    "\n",
    "    Since the list has two middle nodes with values 3 and 4, we return the second one.\n",
    "\n",
    "Note:\n",
    "\n",
    "    The number of nodes in the given list will be between 1 and 100.\n",
    "    \n",
    "https://www.lintcode.com/problem/1609/\n",
    "\n",
    "https://photos.app.goo.gl/Mg5DrXJPB4gYXtDx7"
   ]
  },
  {
   "cell_type": "markdown",
   "metadata": {},
   "source": [
    "# Solution"
   ]
  },
  {
   "cell_type": "code",
   "execution_count": 20,
   "metadata": {},
   "outputs": [],
   "source": [
    "class Solution:\n",
    "    def middleNode(self, head: ListNode) -> ListNode:\n",
    "        # write your code here\n",
    "        if head == None:\n",
    "            return head\n",
    "        \n",
    "        slow_p = head\n",
    "        fast_p = head.next\n",
    "        while fast_p:\n",
    "            slow_p = slow_p.next\n",
    "            for i in range(2):\n",
    "                if fast_p == None:\n",
    "                    break\n",
    "                fast_p = fast_p.next\n",
    "        return slow_p\n",
    "        "
   ]
  },
  {
   "cell_type": "markdown",
   "metadata": {},
   "source": [
    "# Test"
   ]
  },
  {
   "cell_type": "markdown",
   "metadata": {},
   "source": [
    "## class ListNode"
   ]
  },
  {
   "cell_type": "code",
   "execution_count": 1,
   "metadata": {},
   "outputs": [],
   "source": [
    "class ListNode(object):\n",
    "    def __init__(self, val, next=None):\n",
    "        self.val = val\n",
    "        self.next = next"
   ]
  },
  {
   "cell_type": "markdown",
   "metadata": {},
   "source": [
    "## print linked list tool"
   ]
  },
  {
   "cell_type": "code",
   "execution_count": 2,
   "metadata": {},
   "outputs": [],
   "source": [
    "class Tool:\n",
    "    def printLinkedList(self, head):\n",
    "        while head:\n",
    "            print(head.val,end='')\n",
    "            head = head.next\n",
    "            if head != None:\n",
    "                print('->',end='')\n",
    "        print()"
   ]
  },
  {
   "cell_type": "markdown",
   "metadata": {},
   "source": [
    "## Testing"
   ]
  },
  {
   "cell_type": "code",
   "execution_count": 21,
   "metadata": {},
   "outputs": [
    {
     "name": "stdout",
     "output_type": "stream",
     "text": [
      "1->2->3->4->5->6\n",
      "4->5->6\n"
     ]
    }
   ],
   "source": [
    "node6 = ListNode(6)\n",
    "node5 = ListNode(5, node6)\n",
    "node4 = ListNode(4, node5)\n",
    "node3 = ListNode(3, node4)\n",
    "node2 = ListNode(2, node3)\n",
    "node1 = ListNode(1, node2)\n",
    "head = node1\n",
    "\n",
    "t = Tool()\n",
    "a = Solution()\n",
    "t.printLinkedList(head)\n",
    "newhead = a.middleNode(head)\n",
    "\n",
    "t.printLinkedList(newhead)"
   ]
  },
  {
   "cell_type": "code",
   "execution_count": null,
   "metadata": {},
   "outputs": [],
   "source": []
  },
  {
   "cell_type": "markdown",
   "metadata": {},
   "source": [
    "# History"
   ]
  },
  {
   "cell_type": "code",
   "execution_count": 17,
   "metadata": {},
   "outputs": [],
   "source": [
    "# This solution will return the right on when there are two middle\n",
    "class Solution_1:\n",
    "    def middleNode(self, head: ListNode) -> ListNode:\n",
    "        if(head == None or head.next == None):\n",
    "            return head\n",
    "        \n",
    "        slow = head\n",
    "        fast = head.next\n",
    "        while(fast.next):\n",
    "            fast = fast.next\n",
    "            if(fast.next == None): return slow.next\n",
    "            fast = fast.next\n",
    "            slow = slow.next\n",
    "        \n",
    "        return slow.next\n",
    "        # if there are two middle and you want get left one, here return slow"
   ]
  },
  {
   "cell_type": "code",
   "execution_count": 18,
   "metadata": {},
   "outputs": [],
   "source": [
    "# While there are two middle and this solution will return the left one\n",
    "# This situation is more common\n",
    "class Solution_2:\n",
    "    def middleNode(self, head: ListNode) -> ListNode:\n",
    "        if(head == None):\n",
    "            return head\n",
    "\n",
    "        slow = fast = head\n",
    "        while(fast.next):\n",
    "            fast = fast.next\n",
    "            if(fast.next):\n",
    "                slow = slow.next\n",
    "                fast = fast.next\n",
    "\n",
    "        return slow"
   ]
  },
  {
   "cell_type": "code",
   "execution_count": 19,
   "metadata": {},
   "outputs": [
    {
     "name": "stdout",
     "output_type": "stream",
     "text": [
      "1->3->4->6->9->2\n",
      "6->9->2\n",
      "4->6->9->2\n"
     ]
    }
   ],
   "source": [
    "node5 = ListNode(2)\n",
    "node4 = ListNode(9, node5)\n",
    "node3 = ListNode(6, node4)\n",
    "node2 = ListNode(4, node3)\n",
    "node1 = ListNode(3, node2)\n",
    "head = ListNode(1, node1)\n",
    "\n",
    "t = Tool()\n",
    "result1 = Solution_1()\n",
    "result2 = Solution_2()\n",
    "t.printLinkedList(head)\n",
    "newhead1 = result1.middleNode(head)\n",
    "newhead2 = result2.middleNode(head)\n",
    "\n",
    "t.printLinkedList(newhead1)\n",
    "t.printLinkedList(newhead2)"
   ]
  },
  {
   "cell_type": "code",
   "execution_count": null,
   "metadata": {},
   "outputs": [],
   "source": []
  }
 ],
 "metadata": {
  "kernelspec": {
   "display_name": "Python 3",
   "language": "python",
   "name": "python3"
  },
  "language_info": {
   "codemirror_mode": {
    "name": "ipython",
    "version": 3
   },
   "file_extension": ".py",
   "mimetype": "text/x-python",
   "name": "python",
   "nbconvert_exporter": "python",
   "pygments_lexer": "ipython3",
   "version": "3.7.2"
  },
  "toc": {
   "base_numbering": 1,
   "nav_menu": {},
   "number_sections": true,
   "sideBar": true,
   "skip_h1_title": false,
   "title_cell": "Table of Contents",
   "title_sidebar": "Contents",
   "toc_cell": false,
   "toc_position": {},
   "toc_section_display": true,
   "toc_window_display": false
  }
 },
 "nbformat": 4,
 "nbformat_minor": 2
}
