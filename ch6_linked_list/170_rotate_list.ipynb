{
 "cells": [
  {
   "cell_type": "markdown",
   "metadata": {},
   "source": [
    "Given a list, rotate the list to the right by k places, where k is non-negative.\n",
    "\n",
    "Example\n",
    "Example 1:\n",
    "\n",
    "Input:1->2->3->4->5  k = 2\n",
    "Output:4->5->1->2->3\n",
    "Example 2:\n",
    "\n",
    "Input:3->2->1  k = 1\n",
    "Output:1->3->2"
   ]
  },
  {
   "cell_type": "code",
   "execution_count": 1,
   "metadata": {},
   "outputs": [],
   "source": [
    "# Definition of ListNode\n",
    "class ListNode(object):\n",
    "    def __init__(self, val, next=None):\n",
    "        self.val = val\n",
    "        self.next = next"
   ]
  },
  {
   "cell_type": "code",
   "execution_count": 4,
   "metadata": {},
   "outputs": [],
   "source": [
    "class Solution:\n",
    "    \"\"\"\n",
    "    @param head: the List\n",
    "    @param k: rotate to the right k places\n",
    "    @return: the list after rotation\n",
    "    \"\"\"\n",
    "    def getLength(self, head):\n",
    "        length = 0\n",
    "        while(head != None):\n",
    "            length += 1\n",
    "            head = head.next\n",
    "        return length\n",
    "    \n",
    "    def findRightKthNode(self, head, k):\n",
    "        slow = fast = head\n",
    "        for i in range(k):\n",
    "            fast = fast.next\n",
    "        \n",
    "        while(fast):\n",
    "            slow = slow.next\n",
    "            fast = fast.next\n",
    "        return slow\n",
    "    \n",
    "    def rotateRight(self, head, k):\n",
    "        if(head == None or head.next == None):\n",
    "            return head\n",
    "        \n",
    "        length = self.getLength(head)\n",
    "        k = k % length\n",
    "        if(k == 0):\n",
    "            return head\n",
    "        \n",
    "        prev = self.findRightKthNode(head, k + 1)\n",
    "        tail = self.findRightKthNode(head, 1)\n",
    "        newhead = prev.next\n",
    "        prev.next = None\n",
    "        tail.next = head\n",
    "        return newhead\n",
    "        "
   ]
  },
  {
   "cell_type": "code",
   "execution_count": null,
   "metadata": {},
   "outputs": [],
   "source": []
  }
 ],
 "metadata": {
  "kernelspec": {
   "display_name": "Python 3",
   "language": "python",
   "name": "python3"
  },
  "language_info": {
   "codemirror_mode": {
    "name": "ipython",
    "version": 3
   },
   "file_extension": ".py",
   "mimetype": "text/x-python",
   "name": "python",
   "nbconvert_exporter": "python",
   "pygments_lexer": "ipython3",
   "version": "3.7.2"
  }
 },
 "nbformat": 4,
 "nbformat_minor": 2
}
