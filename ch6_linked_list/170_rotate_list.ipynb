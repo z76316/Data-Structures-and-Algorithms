{
 "cells": [
  {
   "cell_type": "markdown",
   "metadata": {},
   "source": [
    "Given a list, rotate the list to the right by k places, where k is non-negative.\n",
    "\n",
    "Example\n",
    "Example 1:\n",
    "\n",
    "    Input:1->2->3->4->5  k = 2\n",
    "    Output:4->5->1->2->3\n",
    "\n",
    "Example 2:\n",
    "\n",
    "    Input:3->2->1  k = 1\n",
    "    Output:1->3->2\n",
    "    \n",
    "https://www.lintcode.com/problem/170/note\n",
    "\n",
    "https://photos.app.goo.gl/vknTMuqdboreAaNM8"
   ]
  },
  {
   "cell_type": "markdown",
   "metadata": {},
   "source": [
    "# Solution"
   ]
  },
  {
   "cell_type": "code",
   "execution_count": 32,
   "metadata": {},
   "outputs": [],
   "source": [
    "\"\"\"\n",
    "Definition of ListNode\n",
    "class ListNode(object):\n",
    "    def __init__(self, val, next=None):\n",
    "        self.val = val\n",
    "        self.next = next\n",
    "\"\"\"\n",
    "\n",
    "class Solution:\n",
    "    \"\"\"\n",
    "    @param head: the List\n",
    "    @param k: rotate to the right k places\n",
    "    @return: the list after rotation\n",
    "    \"\"\"\n",
    "    def rotateRight(self, head, k):\n",
    "        # write your code here\n",
    "        n = self.getLen(head)\n",
    "        if n <= 1:\n",
    "            return head\n",
    "        \n",
    "        k = k % n    ##### it's easy to be forgot\n",
    "        if k == 0:\n",
    "            return head\n",
    "        \n",
    "        dummy = ListNode(0, head)\n",
    "        curr_tail = self.findKth(dummy, n)\n",
    "        new_tail = self.findKth(dummy, n-k)\n",
    "        new_head = new_tail.next\n",
    "        \n",
    "        curr_tail.next = head\n",
    "        new_tail.next = None\n",
    "        return new_head\n",
    "        \n",
    "    \n",
    "    def getLen(self, head):\n",
    "        count = 0\n",
    "        while head:\n",
    "            count += 1\n",
    "            head = head.next\n",
    "        return count\n",
    "        \n",
    "    def findKth(self, head, k):\n",
    "        for i in range(k):\n",
    "            head = head.next\n",
    "        return head"
   ]
  },
  {
   "cell_type": "markdown",
   "metadata": {},
   "source": [
    "# Test"
   ]
  },
  {
   "cell_type": "markdown",
   "metadata": {},
   "source": [
    "## class ListNode"
   ]
  },
  {
   "cell_type": "code",
   "execution_count": 8,
   "metadata": {},
   "outputs": [],
   "source": [
    "class ListNode(object):\n",
    "    def __init__(self, val, next=None):\n",
    "        self.val = val\n",
    "        self.next = next"
   ]
  },
  {
   "cell_type": "markdown",
   "metadata": {},
   "source": [
    "## print linked list tool"
   ]
  },
  {
   "cell_type": "code",
   "execution_count": 11,
   "metadata": {},
   "outputs": [],
   "source": [
    "class Tool:\n",
    "    def printLinkedList(self, head):\n",
    "        while head:\n",
    "            print(head.val, end='')\n",
    "            head = head.next\n",
    "            if head:\n",
    "                print('->', end='')\n",
    "        print()"
   ]
  },
  {
   "cell_type": "markdown",
   "metadata": {},
   "source": [
    "## Testing"
   ]
  },
  {
   "cell_type": "code",
   "execution_count": 33,
   "metadata": {},
   "outputs": [
    {
     "name": "stdout",
     "output_type": "stream",
     "text": [
      "1->3->4->6->9->2\n",
      "6->9->2->1->3->4\n"
     ]
    }
   ],
   "source": [
    "node5 = ListNode(2)\n",
    "node4 = ListNode(9, node5)\n",
    "node3 = ListNode(6, node4)\n",
    "node2 = ListNode(4, node3)\n",
    "node1 = ListNode(3, node2)\n",
    "head = ListNode(1, node1)\n",
    "\n",
    "t = Tool()\n",
    "result = Solution()\n",
    "t.printLinkedList(head)\n",
    "newhead = result.rotateRight(head, 3)\n",
    "\n",
    "t.printLinkedList(newhead)"
   ]
  },
  {
   "cell_type": "code",
   "execution_count": null,
   "metadata": {},
   "outputs": [],
   "source": []
  },
  {
   "cell_type": "markdown",
   "metadata": {},
   "source": [
    "# History"
   ]
  },
  {
   "cell_type": "code",
   "execution_count": 6,
   "metadata": {},
   "outputs": [],
   "source": [
    "class Solution:\n",
    "    \"\"\"\n",
    "    @param head: the List\n",
    "    @param k: rotate to the right k places\n",
    "    @return: the list after rotation\n",
    "    \"\"\"\n",
    "    def getLength(self, head):\n",
    "        length = 0\n",
    "        while(head != None):\n",
    "            length += 1\n",
    "            head = head.next\n",
    "        return length\n",
    "    \n",
    "    def findRightKthNode(self, head, k):\n",
    "        slow = fast = head\n",
    "        for i in range(k):\n",
    "            fast = fast.next\n",
    "        \n",
    "        while(fast):\n",
    "            slow = slow.next\n",
    "            fast = fast.next\n",
    "        return slow\n",
    "    \n",
    "    def rotateRight(self, head, k):\n",
    "        if(head == None or head.next == None):\n",
    "            return head\n",
    "        \n",
    "        length = self.getLength(head)\n",
    "        k = k % length\n",
    "        if(k == 0):\n",
    "            return head\n",
    "        \n",
    "        prev = self.findRightKthNode(head, k + 1)\n",
    "        tail = self.findRightKthNode(head, 1)\n",
    "        newhead = prev.next\n",
    "        prev.next = None\n",
    "        tail.next = head\n",
    "        return newhead\n",
    "        "
   ]
  },
  {
   "cell_type": "code",
   "execution_count": null,
   "metadata": {},
   "outputs": [],
   "source": []
  }
 ],
 "metadata": {
  "kernelspec": {
   "display_name": "Python 3",
   "language": "python",
   "name": "python3"
  },
  "language_info": {
   "codemirror_mode": {
    "name": "ipython",
    "version": 3
   },
   "file_extension": ".py",
   "mimetype": "text/x-python",
   "name": "python",
   "nbconvert_exporter": "python",
   "pygments_lexer": "ipython3",
   "version": "3.7.2"
  },
  "toc": {
   "base_numbering": 1,
   "nav_menu": {},
   "number_sections": true,
   "sideBar": true,
   "skip_h1_title": false,
   "title_cell": "Table of Contents",
   "title_sidebar": "Contents",
   "toc_cell": false,
   "toc_position": {},
   "toc_section_display": true,
   "toc_window_display": false
  }
 },
 "nbformat": 4,
 "nbformat_minor": 2
}
