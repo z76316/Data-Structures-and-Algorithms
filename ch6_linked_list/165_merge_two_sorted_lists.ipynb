{
 "cells": [
  {
   "cell_type": "markdown",
   "metadata": {},
   "source": [
    "Merge two sorted (ascending) linked lists and return it as a new sorted list. The new sorted list should be made by splicing together the nodes of the two lists and sorted in ascending order.\n",
    "\n",
    "Example\n",
    "Example 1:\n",
    "\n",
    "    Input: list1 = null, list2 = 0->3->3->null\n",
    "    Output: 0->3->3->null\n",
    "\n",
    "Example 2:\n",
    "\n",
    "    Input: list1 = 1->3->8->11->15->null, list2 = 2->null\n",
    "    Output: 1->2->3->8->11->15->null\n",
    "\n",
    "https://www.lintcode.com/problem/merge-two-sorted-lists/\n",
    "\n",
    "https://photos.app.goo.gl/LLRJtcPbMJS9Qhzx5"
   ]
  },
  {
   "cell_type": "markdown",
   "metadata": {},
   "source": [
    "# Solution"
   ]
  },
  {
   "cell_type": "code",
   "execution_count": 17,
   "metadata": {},
   "outputs": [],
   "source": [
    "\"\"\"\n",
    "Definition of ListNode\n",
    "class ListNode(object):\n",
    "    def __init__(self, val, next=None):\n",
    "        self.val = val\n",
    "        self.next = next\n",
    "\"\"\"\n",
    "\n",
    "class Solution:\n",
    "    \"\"\"\n",
    "    @param l1: ListNode l1 is the head of the linked list\n",
    "    @param l2: ListNode l2 is the head of the linked list\n",
    "    @return: ListNode head of linked list\n",
    "    \"\"\"\n",
    "    def mergeTwoLists(self, l1, l2):\n",
    "        # write your code here\n",
    "        if l1 == None:\n",
    "            return l2\n",
    "        if l2 == None:\n",
    "            return l1\n",
    "        \n",
    "        dummy = ListNode(0)\n",
    "        curr = dummy\n",
    "        while l1 and l2:\n",
    "            if l1.val < l2.val:\n",
    "                curr.next = l1\n",
    "                curr = curr.next\n",
    "                l1 = l1.next\n",
    "            else:\n",
    "                curr.next = l2\n",
    "                curr = curr.next\n",
    "                l2 = l2.next\n",
    "        \n",
    "        if l1:\n",
    "            curr.next = l1\n",
    "        elif l2:\n",
    "            curr.next = l2\n",
    "        return dummy.next\n",
    "                "
   ]
  },
  {
   "cell_type": "markdown",
   "metadata": {},
   "source": [
    "# Test"
   ]
  },
  {
   "cell_type": "markdown",
   "metadata": {},
   "source": [
    "## class ListNode"
   ]
  },
  {
   "cell_type": "code",
   "execution_count": 7,
   "metadata": {},
   "outputs": [],
   "source": [
    "class ListNode(object):\n",
    "    def __init__(self, val, next=None):\n",
    "        self.val = val\n",
    "        self.next = next"
   ]
  },
  {
   "cell_type": "markdown",
   "metadata": {},
   "source": [
    "## print linked list tool"
   ]
  },
  {
   "cell_type": "code",
   "execution_count": 8,
   "metadata": {},
   "outputs": [],
   "source": [
    "class Tool:\n",
    "    def printLinkedList(self, head):\n",
    "        while head:\n",
    "            print(head.val, end='')\n",
    "            head = head.next\n",
    "            if head:\n",
    "                print('->', end='')\n",
    "        print()"
   ]
  },
  {
   "cell_type": "markdown",
   "metadata": {},
   "source": [
    "## Testing"
   ]
  },
  {
   "cell_type": "code",
   "execution_count": 21,
   "metadata": {},
   "outputs": [
    {
     "name": "stdout",
     "output_type": "stream",
     "text": [
      "l1:\n",
      "1->3->5\n",
      "l2:\n",
      "2->4\n",
      "Merged:\n",
      "1->2->3->4->5\n"
     ]
    }
   ],
   "source": [
    "node5 = ListNode(5)\n",
    "node3 = ListNode(3, node5)\n",
    "node1 = ListNode(1, node3)\n",
    "\n",
    "node4 = ListNode(4)\n",
    "node2 = ListNode(2, node4)\n",
    "\n",
    "head1 = node1\n",
    "head2 = node2\n",
    "\n",
    "t = Tool()\n",
    "print('l1:')\n",
    "t.printLinkedList(head1)\n",
    "print('l2:')\n",
    "t.printLinkedList(head2)\n",
    "\n",
    "a = Solution()\n",
    "result = a.mergeTwoLists(head1, head2)\n",
    "print('Merged:')\n",
    "t.printLinkedList(result)"
   ]
  },
  {
   "cell_type": "code",
   "execution_count": null,
   "metadata": {},
   "outputs": [],
   "source": []
  }
 ],
 "metadata": {
  "kernelspec": {
   "display_name": "Python 3",
   "language": "python",
   "name": "python3"
  },
  "language_info": {
   "codemirror_mode": {
    "name": "ipython",
    "version": 3
   },
   "file_extension": ".py",
   "mimetype": "text/x-python",
   "name": "python",
   "nbconvert_exporter": "python",
   "pygments_lexer": "ipython3",
   "version": "3.7.2"
  },
  "toc": {
   "base_numbering": 1,
   "nav_menu": {},
   "number_sections": true,
   "sideBar": true,
   "skip_h1_title": false,
   "title_cell": "Table of Contents",
   "title_sidebar": "Contents",
   "toc_cell": false,
   "toc_position": {},
   "toc_section_display": true,
   "toc_window_display": false
  }
 },
 "nbformat": 4,
 "nbformat_minor": 2
}
