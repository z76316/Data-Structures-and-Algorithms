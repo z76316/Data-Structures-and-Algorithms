{
 "cells": [
  {
   "cell_type": "markdown",
   "metadata": {},
   "source": [
    "Given a linked list and a value x, partition it such that all nodes less than x come before nodes greater than or equal to x.\n",
    "\n",
    "You should preserve the original relative order of the nodes in each of the two partitions.\n",
    "\n",
    "Example 1:\n",
    "\n",
    "\tInput:  list = null, x = 0\n",
    "\tOutput: null\n",
    "\t\n",
    "\tExplanation:\n",
    "\tThe empty list Satisfy the conditions by itself.\n",
    "\n",
    "Example 2:\n",
    "\n",
    "\tInput:  list = 1->4->3->2->5->2->null, x = 3\n",
    "\tOutput: 1->2->2->4->3->5->null\n",
    "\t\n",
    "\tExplanation:  \n",
    "\tkeep the original relative order of the nodes in each of the two partitions.\n",
    "\n",
    "https://www.lintcode.com/problem/partition-list/"
   ]
  },
  {
   "cell_type": "markdown",
   "metadata": {},
   "source": [
    "# Solution"
   ]
  },
  {
   "cell_type": "code",
   "execution_count": 14,
   "metadata": {},
   "outputs": [],
   "source": [
    "\"\"\"\n",
    "Definition of ListNode\n",
    "class ListNode(object):\n",
    "    def __init__(self, val, next=None):\n",
    "        self.val = val\n",
    "        self.next = next\n",
    "\"\"\"\n",
    "\n",
    "class Solution:\n",
    "    \"\"\"\n",
    "    @param head: The first node of linked list\n",
    "    @param x: An integer\n",
    "    @return: A ListNode\n",
    "    \"\"\"\n",
    "    def partition(self, head, x):\n",
    "        # write your code here\n",
    "        lesser_head = ListNode(None)\n",
    "        greater_head = ListNode(None)\n",
    "        lesser_tail = lesser_head\n",
    "        greater_tail = greater_head\n",
    "        \n",
    "        while head:\n",
    "            if head.val < x:\n",
    "                lesser_tail.next = head\n",
    "                lesser_tail = lesser_tail.next\n",
    "            else:\n",
    "                greater_tail.next = head\n",
    "                greater_tail = greater_tail.next\n",
    "            head = head.next\n",
    "        lesser_tail.next = greater_head.next\n",
    "        greater_tail.next = None\n",
    "        return lesser_head.next\n",
    "                "
   ]
  },
  {
   "cell_type": "markdown",
   "metadata": {},
   "source": [
    "# Test"
   ]
  },
  {
   "cell_type": "markdown",
   "metadata": {},
   "source": [
    "## class ListNode"
   ]
  },
  {
   "cell_type": "code",
   "execution_count": 9,
   "metadata": {},
   "outputs": [],
   "source": [
    "class ListNode(object):\n",
    "    def __init__(self, val, next=None):\n",
    "        self.val = val\n",
    "        self.next = next"
   ]
  },
  {
   "cell_type": "markdown",
   "metadata": {},
   "source": [
    "## print linked list tool"
   ]
  },
  {
   "cell_type": "code",
   "execution_count": 10,
   "metadata": {},
   "outputs": [],
   "source": [
    "class Tool:\n",
    "    def printLinkedList(self, head):\n",
    "        while head:\n",
    "            print(head.val, end='')\n",
    "            head = head.next\n",
    "            if head:\n",
    "                print('->', end='')\n",
    "        print()"
   ]
  },
  {
   "cell_type": "markdown",
   "metadata": {},
   "source": [
    "## Testing"
   ]
  },
  {
   "cell_type": "code",
   "execution_count": 13,
   "metadata": {},
   "outputs": [
    {
     "name": "stdout",
     "output_type": "stream",
     "text": [
      "1->3->4->6->9->2\n",
      "1->2->3->4->6->9\n"
     ]
    }
   ],
   "source": [
    "node5 = ListNode(2)\n",
    "node4 = ListNode(9, node5)\n",
    "node3 = ListNode(6, node4)\n",
    "node2 = ListNode(4, node3)\n",
    "node1 = ListNode(3, node2)\n",
    "head = ListNode(1, node1)\n",
    "\n",
    "t = Tool()\n",
    "result = Solution()\n",
    "t.printLinkedList(head)\n",
    "newhead = result.partition(head, 3)\n",
    "\n",
    "t.printLinkedList(newhead)"
   ]
  },
  {
   "cell_type": "code",
   "execution_count": null,
   "metadata": {},
   "outputs": [],
   "source": []
  },
  {
   "cell_type": "markdown",
   "metadata": {},
   "source": [
    "# History"
   ]
  },
  {
   "cell_type": "code",
   "execution_count": 6,
   "metadata": {},
   "outputs": [],
   "source": [
    "class Solution:\n",
    "    \"\"\"\n",
    "    @param head: The first node of linked list\n",
    "    @param x: An integer\n",
    "    @return: A ListNode\n",
    "    \"\"\"\n",
    "    def partition(self, head, x):\n",
    "        smaller = ListNode(0)\n",
    "        greater = ListNode(0)\n",
    "        spointer = smaller\n",
    "        gpointer = greater\n",
    "        while(head != None):\n",
    "            if head.val < x:\n",
    "                spointer.next = head\n",
    "                spointer = spointer.next\n",
    "            else:\n",
    "                gpointer.next = head\n",
    "                gpointer = gpointer.next\n",
    "            head = head.next\n",
    "        \n",
    "        gpointer.next = None\n",
    "        spointer.next = greater.next\n",
    "        return smaller.next\n",
    "                "
   ]
  }
 ],
 "metadata": {
  "kernelspec": {
   "display_name": "Python 3",
   "language": "python",
   "name": "python3"
  },
  "language_info": {
   "codemirror_mode": {
    "name": "ipython",
    "version": 3
   },
   "file_extension": ".py",
   "mimetype": "text/x-python",
   "name": "python",
   "nbconvert_exporter": "python",
   "pygments_lexer": "ipython3",
   "version": "3.7.2"
  },
  "toc": {
   "base_numbering": 1,
   "nav_menu": {},
   "number_sections": true,
   "sideBar": true,
   "skip_h1_title": false,
   "title_cell": "Table of Contents",
   "title_sidebar": "Contents",
   "toc_cell": false,
   "toc_position": {},
   "toc_section_display": true,
   "toc_window_display": false
  }
 },
 "nbformat": 4,
 "nbformat_minor": 2
}
