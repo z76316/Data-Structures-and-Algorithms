{
 "cells": [
  {
   "cell_type": "markdown",
   "metadata": {},
   "source": [
    "Given a linked list and a value x, partition it such that all nodes less than x come before nodes greater than or equal to x.\n",
    "\n",
    "You should preserve the original relative order of the nodes in each of the two partitions.\n",
    "\n",
    "Example 1:\n",
    "\tInput:  list = null, x = 0\n",
    "\tOutput: null\n",
    "\t\n",
    "\tExplanation:\n",
    "\tThe empty list Satisfy the conditions by itself.\n",
    "\n",
    "Example 2:\n",
    "\tInput:  list = 1->4->3->2->5->2->null, x = 3\n",
    "\tOutput: 1->2->2->4->3->5->null\n",
    "\t\n",
    "\tExplanation:  \n",
    "\tkeep the original relative order of the nodes in each of the two partitions."
   ]
  },
  {
   "cell_type": "code",
   "execution_count": 6,
   "metadata": {},
   "outputs": [],
   "source": [
    "# Definition of ListNode\n",
    "class ListNode(object):\n",
    "    def __init__(self, val, next=None):\n",
    "        self.val = val\n",
    "        self.next = next"
   ]
  },
  {
   "cell_type": "code",
   "execution_count": 7,
   "metadata": {},
   "outputs": [],
   "source": [
    "class Solution:\n",
    "    \"\"\"\n",
    "    @param head: The first node of linked list\n",
    "    @param x: An integer\n",
    "    @return: A ListNode\n",
    "    \"\"\"\n",
    "    def partition(self, head, x):\n",
    "        smaller = ListNode(0)\n",
    "        greater = ListNode(0)\n",
    "        spointer = smaller\n",
    "        gpointer = greater\n",
    "        while(head != None):\n",
    "            if head.val < x:\n",
    "                spointer.next = head\n",
    "                spointer = spointer.next\n",
    "            else:\n",
    "                gpointer.next = head\n",
    "                gpointer = gpointer.next\n",
    "            head = head.next\n",
    "        \n",
    "        gpointer.next = None\n",
    "        spointer.next = greater.next\n",
    "        return smaller.next\n",
    "                \n",
    "        "
   ]
  },
  {
   "cell_type": "code",
   "execution_count": 8,
   "metadata": {},
   "outputs": [
    {
     "data": {
      "text/plain": [
       "<__main__.ListNode at 0x10f0b1898>"
      ]
     },
     "execution_count": 8,
     "metadata": {},
     "output_type": "execute_result"
    }
   ],
   "source": [
    "node5 = ListNode(4)\n",
    "node4 = ListNode(3, node5)\n",
    "node3 = ListNode(2, node4)\n",
    "node2 = ListNode(2, node3)\n",
    "node1 = ListNode(2, node2)\n",
    "head = ListNode(1, node1)\n",
    "\n",
    "result = Solution()\n",
    "result.partition(head, 3)"
   ]
  },
  {
   "cell_type": "code",
   "execution_count": null,
   "metadata": {},
   "outputs": [],
   "source": []
  }
 ],
 "metadata": {
  "kernelspec": {
   "display_name": "Python 3",
   "language": "python",
   "name": "python3"
  },
  "language_info": {
   "codemirror_mode": {
    "name": "ipython",
    "version": 3
   },
   "file_extension": ".py",
   "mimetype": "text/x-python",
   "name": "python",
   "nbconvert_exporter": "python",
   "pygments_lexer": "ipython3",
   "version": "3.7.2"
  }
 },
 "nbformat": 4,
 "nbformat_minor": 2
}
