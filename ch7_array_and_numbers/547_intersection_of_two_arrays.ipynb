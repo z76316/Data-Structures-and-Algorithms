{
 "cells": [
  {
   "cell_type": "markdown",
   "metadata": {},
   "source": [
    "Given two arrays, write a function to compute their intersection.\n",
    "\n",
    "Each element in the result must be unique.\n",
    "\n",
    "Example\n",
    "Example 1:\n",
    "\n",
    "    Input: nums1 = [1, 2, 2, 1], nums2 = [2, 2], \n",
    "    Output: [2].\n",
    "\n",
    "Example 2:\n",
    "\n",
    "    Input: nums1 = [1, 2], nums2 = [2], \n",
    "    Output: [2].\n",
    "\n",
    "Challenge\n",
    "\n",
    "    Can you implement it in three different algorithms?\n",
    "\n",
    "https://www.lintcode.com/problem/intersection-of-two-arrays/"
   ]
  },
  {
   "cell_type": "markdown",
   "metadata": {},
   "source": [
    "# Solution"
   ]
  },
  {
   "cell_type": "markdown",
   "metadata": {},
   "source": [
    "## Solution 1"
   ]
  },
  {
   "cell_type": "code",
   "execution_count": 7,
   "metadata": {},
   "outputs": [],
   "source": [
    "# two set\n",
    "# time complexity = O(m+n)\n",
    "# space complexity = O(max(m, n))\n",
    "class Solution:\n",
    "    \"\"\"\n",
    "    @param nums1: an integer array\n",
    "    @param nums2: an integer array\n",
    "    @return: an integer array\n",
    "    \"\"\"\n",
    "    def intersection(self, nums1, nums2):\n",
    "        # write your code here\n",
    "        if nums1 == None or nums2 == None:\n",
    "            return []\n",
    "        if len(nums1) < 1 or len(nums2) < 1:\n",
    "            return\n",
    "        \n",
    "        res = []\n",
    "        set_1 = set(nums1)\n",
    "        set_2 = set()\n",
    "        for i in nums2:\n",
    "            if i in set_1:\n",
    "                set_2.add(i)\n",
    "        \n",
    "        for j in set_2:\n",
    "            res.append(j)\n",
    "\n",
    "        return res"
   ]
  },
  {
   "cell_type": "markdown",
   "metadata": {},
   "source": [
    "## Solution 2"
   ]
  },
  {
   "cell_type": "code",
   "execution_count": 18,
   "metadata": {},
   "outputs": [],
   "source": [
    "# sort + binary search\n",
    "# time complexity = O(mlongm + nlogm)\n",
    "# space complexity = O(1)\n",
    "class Solution:\n",
    "    \"\"\"\n",
    "    @param nums1: an integer array\n",
    "    @param nums2: an integer array\n",
    "    @return: an integer array\n",
    "    \"\"\"\n",
    "    def intersection(self, nums1, nums2):\n",
    "        # write your code here\n",
    "        if nums1 == None or nums2 == None:\n",
    "            return []\n",
    "        if len(nums1) < 1 or len(nums2) < 1:\n",
    "            return []\n",
    "        \n",
    "        # Time Limit Exceeded if I use my mergeSort function\n",
    "        # self.mergeSort(nums1)\n",
    "        nums1.sort()\n",
    "        \n",
    "        res_set = set()\n",
    "        for n in nums2:\n",
    "            if n in res_set:\n",
    "                continue\n",
    "            if self.binarySearch(nums1, n):\n",
    "                res_set.add(n)\n",
    "        \n",
    "        return list(res_set)\n",
    "        \n",
    "    \n",
    "    def mergeSort(self, arr):\n",
    "        if arr == None or len(arr) < 1:\n",
    "            return \n",
    "        if len(arr) == 1:\n",
    "            return\n",
    "        \n",
    "        mid = len(arr)//2\n",
    "        list_left = arr[:mid]\n",
    "        list_right = arr[mid:]\n",
    "        \n",
    "        self.mergeSort(list_left)\n",
    "        self.mergeSort(list_right)\n",
    "        \n",
    "        i, j, k = 0, 0, 0\n",
    "        while i < len(list_left) and j < len(list_right):\n",
    "            if list_left[i] < list_right[j]:\n",
    "                arr[k] = list_left[i]\n",
    "                i+=1\n",
    "            else:\n",
    "                arr[k] = list_right[j]\n",
    "                j+=1\n",
    "            k+=1\n",
    "        \n",
    "        while i < len(list_left):\n",
    "            arr[k] = list_left[i]\n",
    "            i+=1\n",
    "            k+=1\n",
    "            \n",
    "        while j < len(list_right):\n",
    "            arr[k] = list_right[j]\n",
    "            j+=1\n",
    "            k+=1\n",
    "        \n",
    "    \n",
    "    def binarySearch(self, arr, target):\n",
    "        if arr == None or len(arr) == 0:\n",
    "            return False\n",
    "        \n",
    "        start, end = 0, len(arr)-1\n",
    "        while start + 1 < end:\n",
    "            mid = start + (end - start)//2\n",
    "            if arr[mid] <= target:\n",
    "                start = mid\n",
    "            else:\n",
    "                end = mid\n",
    "                \n",
    "        if arr[end] == target:\n",
    "            return True\n",
    "        if arr[start] == target:\n",
    "            return True\n",
    "        return False"
   ]
  },
  {
   "cell_type": "markdown",
   "metadata": {},
   "source": [
    "## Solution 3"
   ]
  },
  {
   "cell_type": "code",
   "execution_count": 8,
   "metadata": {
    "collapsed": true
   },
   "outputs": [
    {
     "ename": "SyntaxError",
     "evalue": "unexpected EOF while parsing (<ipython-input-8-632009310ebc>, line 9)",
     "output_type": "error",
     "traceback": [
      "\u001b[0;36m  File \u001b[0;32m\"<ipython-input-8-632009310ebc>\"\u001b[0;36m, line \u001b[0;32m9\u001b[0m\n\u001b[0;31m    \u001b[0m\n\u001b[0m    ^\u001b[0m\n\u001b[0;31mSyntaxError\u001b[0m\u001b[0;31m:\u001b[0m unexpected EOF while parsing\n"
     ]
    }
   ],
   "source": [
    "class Solution:\n",
    "    \"\"\"\n",
    "    @param nums1: an integer array\n",
    "    @param nums2: an integer array\n",
    "    @return: an integer array\n",
    "    \"\"\"\n",
    "    def intersection(self, nums1, nums2):\n",
    "        # write your code here\n",
    "        "
   ]
  },
  {
   "cell_type": "markdown",
   "metadata": {},
   "source": [
    "# Test"
   ]
  },
  {
   "cell_type": "code",
   "execution_count": 19,
   "metadata": {},
   "outputs": [
    {
     "name": "stdout",
     "output_type": "stream",
     "text": [
      "[2]\n"
     ]
    }
   ],
   "source": [
    "s = Solution()\n",
    "A = [1,2,2,1]\n",
    "B = [2,2]\n",
    "result = s.intersection(A, B)\n",
    "print(result)"
   ]
  },
  {
   "cell_type": "markdown",
   "metadata": {},
   "source": [
    "# History"
   ]
  },
  {
   "cell_type": "code",
   "execution_count": 2,
   "metadata": {},
   "outputs": [],
   "source": [
    "# Set\n",
    "class Solution_1:\n",
    "    \"\"\"\n",
    "    @param nums1: an integer array\n",
    "    @param nums2: an integer array\n",
    "    @return: an integer array\n",
    "    \"\"\"\n",
    "    def intersection(self, nums1, nums2):\n",
    "        if nums1 == None or nums2 == None:\n",
    "            return []\n",
    "        if len(nums1) < 1 or len(nums2) < 1:\n",
    "            return []\n",
    "        \n",
    "        nums1_set = set(nums1)\n",
    "        result = []\n",
    "        for i in nums2:\n",
    "            if i in nums1_set:\n",
    "                result.append(i)\n",
    "                nums1_set.discard(i)\n",
    "        \n",
    "        return result"
   ]
  },
  {
   "cell_type": "code",
   "execution_count": 3,
   "metadata": {},
   "outputs": [
    {
     "name": "stdout",
     "output_type": "stream",
     "text": [
      "[2]\n"
     ]
    }
   ],
   "source": [
    "s = Solution_1()\n",
    "A = [1,2,2,1]\n",
    "B = [2,2]\n",
    "result = s.intersection(A, B)\n",
    "print(result)"
   ]
  },
  {
   "cell_type": "code",
   "execution_count": 1,
   "metadata": {},
   "outputs": [],
   "source": [
    "# sort + binary search\n",
    "# Time Limit Exceeded -> unless use nums1.sort()...\n",
    "class Solution_2:\n",
    "    \"\"\"\n",
    "    @param nums1: an integer array\n",
    "    @param nums2: an integer array\n",
    "    @return: an integer array\n",
    "    \"\"\"\n",
    "    def intersection(self, nums1, nums2):\n",
    "        if nums1 == None or nums2 == None:\n",
    "            return []\n",
    "        if len(nums1) < 1 or len(nums2) < 1:\n",
    "            return []\n",
    "        \n",
    "        if len(nums1) < len(nums2):\n",
    "            small_nums = nums1\n",
    "            big_nums = nums2\n",
    "        else:\n",
    "            small_nums = nums2\n",
    "            big_nums = nums1\n",
    "        \n",
    "        self.mergeSort(small_nums)\n",
    "        \n",
    "        result = set()\n",
    "        for i in big_nums:\n",
    "            if self.binarySearch(small_nums, i):\n",
    "                result.add(i)\n",
    "        return list(result)\n",
    "\n",
    "    \n",
    "    def mergeSort(self, A):\n",
    "        if A == None or len(A) < 1:\n",
    "            return None\n",
    "        if len(A) == 1:\n",
    "            return A\n",
    "        \n",
    "        mid = len(A) // 2\n",
    "        left_A = A[:mid]\n",
    "        right_A = A[mid:]\n",
    "        \n",
    "        self.mergeSort(left_A)\n",
    "        self.mergeSort(right_A)\n",
    "        \n",
    "        i = j = k = 0\n",
    "        result = []\n",
    "        while i < len(left_A) and j < len(right_A):\n",
    "            if left_A[i] < right_A[j]:\n",
    "                A[k] = left_A[i]\n",
    "                i+=1\n",
    "            else:\n",
    "                A[k] = right_A[j]\n",
    "                j+=1\n",
    "            k+=1\n",
    "            \n",
    "        while i < len(left_A):\n",
    "            A[k] = left_A[i]\n",
    "            i+=1\n",
    "            k+=1\n",
    "        \n",
    "        while j < len(right_A):\n",
    "            A[k] = right_A[j]\n",
    "            j+=1\n",
    "            k+=1\n",
    "\n",
    "            \n",
    "    def binarySearch(self, A, target):\n",
    "        start = 0\n",
    "        end = len(A) - 1\n",
    "        while start + 1 < end:\n",
    "            mid = start + (end - start) // 2\n",
    "            if A[mid] <= target:\n",
    "                start = mid\n",
    "            else:\n",
    "                end = mid\n",
    "        \n",
    "        if A[end] == target:\n",
    "            return True\n",
    "        if A[start] == target:\n",
    "            return True\n",
    "        return False"
   ]
  },
  {
   "cell_type": "code",
   "execution_count": 2,
   "metadata": {
    "scrolled": true
   },
   "outputs": [
    {
     "name": "stdout",
     "output_type": "stream",
     "text": [
      "[2]\n"
     ]
    }
   ],
   "source": [
    "s = Solution_2()\n",
    "A = [1,2,2,1]\n",
    "B = [2,2]\n",
    "result = s.intersection(A, B)\n",
    "print(result)"
   ]
  },
  {
   "cell_type": "code",
   "execution_count": 34,
   "metadata": {},
   "outputs": [],
   "source": [
    "# sort two arrays\n",
    "# Time Limit Exceeded -> unless use nums1.sort()...\n",
    "class Solution_3:\n",
    "    \"\"\"\n",
    "    @param nums1: an integer array\n",
    "    @param nums2: an integer array\n",
    "    @return: an integer array\n",
    "    \"\"\"\n",
    "    def intersection(self, nums1, nums2):\n",
    "        if nums1 == None or nums2 == None or len(nums1) < 1 or len(nums2) < 1:\n",
    "            return []\n",
    "        \n",
    "        self.mergeSort(nums1)\n",
    "        self.mergeSort(nums2)\n",
    "        i, j = 0, 0\n",
    "        \n",
    "        result = []\n",
    "        while i < len(nums1) and j < len(nums2):\n",
    "            if nums1[i] == nums2[j]:\n",
    "                result.append(nums1[i])\n",
    "                i+=1\n",
    "                j+=1\n",
    "                while i < len(nums1) and nums1[i] == nums1[i-1]:\n",
    "                    i+=1\n",
    "                while j < len(nums2) and nums2[j] == nums2[j-1]:\n",
    "                    j+=1\n",
    "            elif nums1[i] < nums2[j]:\n",
    "                i+=1\n",
    "            else:\n",
    "                j+=1\n",
    "        \n",
    "        return result\n",
    "        \n",
    "    \n",
    "    def mergeSort(self, A):\n",
    "        if A == None or len(A) < 1:\n",
    "            return None\n",
    "        if len(A) == 1:\n",
    "            return A\n",
    "        \n",
    "        mid = len(A) // 2\n",
    "        left_A = A[:mid]\n",
    "        right_A = A[mid:]\n",
    "        \n",
    "        self.mergeSort(left_A)\n",
    "        self.mergeSort(right_A)\n",
    "        \n",
    "        i = j = k = 0\n",
    "        result = []\n",
    "        while i < len(left_A) and j < len(right_A):\n",
    "            if left_A[i] < right_A[j]:\n",
    "                A[k] = left_A[i]\n",
    "                i+=1\n",
    "            else:\n",
    "                A[k] = right_A[j]\n",
    "                j+=1\n",
    "            k+=1\n",
    "            \n",
    "        while i < len(left_A):\n",
    "            A[k] = left_A[i]\n",
    "            i+=1\n",
    "            k+=1\n",
    "        \n",
    "        while j < len(right_A):\n",
    "            A[k] = right_A[j]\n",
    "            j+=1\n",
    "            k+=1"
   ]
  },
  {
   "cell_type": "code",
   "execution_count": 35,
   "metadata": {},
   "outputs": [
    {
     "name": "stdout",
     "output_type": "stream",
     "text": [
      "[1, 3, 7]\n"
     ]
    }
   ],
   "source": [
    "s = Solution_3()\n",
    "A = [5,7,3,1]\n",
    "B = [1,3,7,9]\n",
    "result = s.intersection(A, B)\n",
    "print(result)"
   ]
  },
  {
   "cell_type": "code",
   "execution_count": 36,
   "metadata": {},
   "outputs": [],
   "source": [
    "# list(set(nums1) & set(nums2))\n",
    "class Solution_4:\n",
    "    \"\"\"\n",
    "    @param nums1: an integer array\n",
    "    @param nums2: an integer array\n",
    "    @return: an integer array\n",
    "    \"\"\"\n",
    "    def intersection(self, nums1, nums2):\n",
    "        return list(set(nums1) & set(nums2))"
   ]
  },
  {
   "cell_type": "code",
   "execution_count": 37,
   "metadata": {},
   "outputs": [
    {
     "name": "stdout",
     "output_type": "stream",
     "text": [
      "[1, 3, 7]\n"
     ]
    }
   ],
   "source": [
    "s = Solution_4()\n",
    "A = [5,7,3,1]\n",
    "B = [1,3,7,9]\n",
    "result = s.intersection(A, B)\n",
    "print(result)"
   ]
  },
  {
   "cell_type": "code",
   "execution_count": null,
   "metadata": {},
   "outputs": [],
   "source": []
  }
 ],
 "metadata": {
  "kernelspec": {
   "display_name": "Python 3",
   "language": "python",
   "name": "python3"
  },
  "language_info": {
   "codemirror_mode": {
    "name": "ipython",
    "version": 3
   },
   "file_extension": ".py",
   "mimetype": "text/x-python",
   "name": "python",
   "nbconvert_exporter": "python",
   "pygments_lexer": "ipython3",
   "version": "3.7.2"
  },
  "toc": {
   "base_numbering": 1,
   "nav_menu": {},
   "number_sections": true,
   "sideBar": true,
   "skip_h1_title": false,
   "title_cell": "Table of Contents",
   "title_sidebar": "Contents",
   "toc_cell": false,
   "toc_position": {},
   "toc_section_display": true,
   "toc_window_display": false
  }
 },
 "nbformat": 4,
 "nbformat_minor": 2
}
