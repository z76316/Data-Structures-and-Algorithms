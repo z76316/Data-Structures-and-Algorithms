{
 "cells": [
  {
   "cell_type": "markdown",
   "metadata": {},
   "source": [
    "Given an array of integers, find a contiguous subarray which has the largest sum.\n",
    "\n",
    "Example1:\n",
    "\n",
    "    Given the array [−2,2,−3,4,−1,2,1,−5,3], the contiguous subarray [4,−1,2,1] has the largest sum = 6.\n",
    "\n",
    "Example2:\n",
    "\n",
    "    Given the array [1,2,3,4], the contiguous subarray [1,2,3,4] has the largest sum = 10.\n",
    "\n",
    "Challenge\n",
    "\n",
    "    Can you do it in time complexity O(n)?\n",
    "\n",
    "Notice\n",
    "\n",
    "    The subarray should contain at least one number.\n",
    "    \n",
    "https://www.lintcode.com/problem/maximum-subarray/"
   ]
  },
  {
   "cell_type": "markdown",
   "metadata": {},
   "source": [
    "# Solution"
   ]
  },
  {
   "cell_type": "markdown",
   "metadata": {},
   "source": [
    "## Solution 1"
   ]
  },
  {
   "cell_type": "code",
   "execution_count": 47,
   "metadata": {},
   "outputs": [],
   "source": [
    "class Solution:\n",
    "    \"\"\"\n",
    "    @param nums: A list of integers\n",
    "    @return: A integer indicate the sum of max subarray\n",
    "    \"\"\"\n",
    "    def maxSubArray(self, nums):\n",
    "        # write your code here\n",
    "        if nums == None or len(nums) < 1:\n",
    "            return -1\n",
    "        \n",
    "        # b/c the first max_sum = curr_sum - min_sum = curr_sum, we initialize the min_sum as 0\n",
    "        curr_sum, max_sum, min_sum = 0, -float('inf'), 0\n",
    "        for n in nums:\n",
    "            curr_sum += n\n",
    "            max_sum = max(max_sum, curr_sum - min_sum)\n",
    "            min_sum = min(min_sum, curr_sum)\n",
    "        \n",
    "        return max_sum"
   ]
  },
  {
   "cell_type": "markdown",
   "metadata": {},
   "source": [
    "## Solution 2"
   ]
  },
  {
   "cell_type": "code",
   "execution_count": null,
   "metadata": {},
   "outputs": [],
   "source": []
  },
  {
   "cell_type": "markdown",
   "metadata": {},
   "source": [
    "# Test"
   ]
  },
  {
   "cell_type": "code",
   "execution_count": 46,
   "metadata": {},
   "outputs": [
    {
     "data": {
      "text/plain": [
       "-1"
      ]
     },
     "execution_count": 46,
     "metadata": {},
     "output_type": "execute_result"
    }
   ],
   "source": [
    "s = Solution()\n",
    "# A = [-2, 2, -3, 4, -1, 2, 1, -5, 3]\n",
    "A = [-1, -2, -3, -100, -1, -50]\n",
    "s.maxSubArray(A)"
   ]
  },
  {
   "cell_type": "markdown",
   "metadata": {},
   "source": [
    "# History"
   ]
  },
  {
   "cell_type": "code",
   "execution_count": 6,
   "metadata": {},
   "outputs": [],
   "source": [
    "# Prefix sum\n",
    "class Solution_1:\n",
    "    \"\"\"\n",
    "    @param nums: A list of integers\n",
    "    @return: A integer indicate the sum of max subarray\n",
    "    \"\"\"\n",
    "    def maxSubArray(self, nums):\n",
    "        if nums == None or len(nums) == 0:\n",
    "            return 0\n",
    "        \n",
    "        max_sum, min_sum, curr_sum = -float('inf'), 0, 0\n",
    "        # In the first place (num == nums[0]), the max_sum == curr_sum - min_sum. So the initial min_sum = 0.\n",
    "        for num in nums:\n",
    "            curr_sum += num\n",
    "            max_sum = max(max_sum, curr_sum - min_sum)\n",
    "            min_sum = min(min_sum, curr_sum)\n",
    "        \n",
    "        return max_sum"
   ]
  },
  {
   "cell_type": "code",
   "execution_count": 10,
   "metadata": {},
   "outputs": [
    {
     "data": {
      "text/plain": [
       "6"
      ]
     },
     "execution_count": 10,
     "metadata": {},
     "output_type": "execute_result"
    }
   ],
   "source": [
    "s = Solution_1()\n",
    "A = [-2,2,-3,4,-1,2,1,-5,3]\n",
    "s.maxSubArray(A)"
   ]
  },
  {
   "cell_type": "code",
   "execution_count": 11,
   "metadata": {},
   "outputs": [],
   "source": [
    "# Greedy\n",
    "class Solution_2:\n",
    "    \"\"\"\n",
    "    @param nums: A list of integers\n",
    "    @return: A integer indicate the sum of max subarray\n",
    "    \"\"\"\n",
    "    def maxSubArray(self, nums):\n",
    "        if nums == None or len(nums) == 0:\n",
    "            return 0\n",
    "        \n",
    "        curr_max_sum, global_max_sum = nums[0], nums[0]\n",
    "        for num in nums[1:]:\n",
    "            curr_max_sum = max(num, num + curr_max_sum)\n",
    "            global_max_sum = max(global_max_sum, curr_max_sum)\n",
    "        \n",
    "        return global_max_sum"
   ]
  },
  {
   "cell_type": "code",
   "execution_count": 12,
   "metadata": {},
   "outputs": [
    {
     "data": {
      "text/plain": [
       "6"
      ]
     },
     "execution_count": 12,
     "metadata": {},
     "output_type": "execute_result"
    }
   ],
   "source": [
    "s = Solution_2()\n",
    "A = [-2,2,-3,4,-1,2,1,-5,3]\n",
    "s.maxSubArray(A)"
   ]
  },
  {
   "cell_type": "code",
   "execution_count": null,
   "metadata": {},
   "outputs": [],
   "source": []
  }
 ],
 "metadata": {
  "kernelspec": {
   "display_name": "Python 3",
   "language": "python",
   "name": "python3"
  },
  "language_info": {
   "codemirror_mode": {
    "name": "ipython",
    "version": 3
   },
   "file_extension": ".py",
   "mimetype": "text/x-python",
   "name": "python",
   "nbconvert_exporter": "python",
   "pygments_lexer": "ipython3",
   "version": "3.7.2"
  },
  "toc": {
   "base_numbering": 1,
   "nav_menu": {},
   "number_sections": true,
   "sideBar": true,
   "skip_h1_title": false,
   "title_cell": "Table of Contents",
   "title_sidebar": "Contents",
   "toc_cell": false,
   "toc_position": {},
   "toc_section_display": true,
   "toc_window_display": false
  }
 },
 "nbformat": 4,
 "nbformat_minor": 2
}
