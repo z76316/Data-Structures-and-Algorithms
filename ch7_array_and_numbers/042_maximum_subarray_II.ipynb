{
 "cells": [
  {
   "cell_type": "markdown",
   "metadata": {},
   "source": [
    "Given an array of integers, find two non-overlapping subarrays which have the largest sum.\n",
    "The number in each subarray should be contiguous.\n",
    "Return the largest sum.\n",
    "\n",
    "Example:\n",
    "\n",
    "Input: [1, 3, -1, 2, -1, 2]\n",
    "\n",
    "Output: 7\n",
    "\n",
    "Explanation:\n",
    "\n",
    "the two subarrays are [1, 3] and [2, -1, 2] or [1, 3, -1, 2] and [2]."
   ]
  },
  {
   "cell_type": "code",
   "execution_count": 1,
   "metadata": {},
   "outputs": [],
   "source": [
    "# Prefix sum\n",
    "class Solution_1:\n",
    "    \"\"\"\n",
    "    @param: nums: A list of integers\n",
    "    @return: An integer denotes the sum of max two non-overlapping subarrays\n",
    "    \"\"\"\n",
    "    def maxTwoSubArrays(self, nums):\n",
    "        if nums == None or len(nums) == 0:\n",
    "            return 0\n",
    "        \n",
    "        forward_sum = [0]*len(nums)\n",
    "        max_sum, min_sum, curr_sum = -float('inf'), 0, 0\n",
    "        for i in range(0, len(nums)-1):\n",
    "            curr_sum += nums[i]\n",
    "            max_sum = max(max_sum, curr_sum - min_sum)\n",
    "            min_sum = min(min_sum, curr_sum)\n",
    "            forward_sum[i] = max_sum\n",
    "            print('forward_sum', forward_sum)\n",
    "        \n",
    "        backward_sum = [0]*len(nums)\n",
    "        max_sum, min_sum, curr_sum = -float('inf'), 0, 0\n",
    "        for j in range(len(nums)-1, 0, -1):\n",
    "            curr_sum += nums[j]\n",
    "            max_sum = max(max_sum, curr_sum - min_sum)\n",
    "            min_sum = min(min_sum, curr_sum)\n",
    "            backward_sum[j] = max_sum\n",
    "            print('backward_sum', backward_sum)\n",
    "        \n",
    "        max_sum = -float('inf')\n",
    "        for k in range(0, len(nums)-1):\n",
    "            max_sum = max(max_sum, forward_sum[k] + backward_sum[k+1])\n",
    "            print('forward_sum[k]', forward_sum[k])\n",
    "            print('backward_sum[k+1]', backward_sum[k+1])\n",
    "            print('max_sum', max_sum)\n",
    "            \n",
    "        return max_sum"
   ]
  },
  {
   "cell_type": "code",
   "execution_count": 2,
   "metadata": {},
   "outputs": [
    {
     "name": "stdout",
     "output_type": "stream",
     "text": [
      "forward_sum [1, 0, 0, 0, 0, 0]\n",
      "forward_sum [1, 4, 0, 0, 0, 0]\n",
      "forward_sum [1, 4, 4, 0, 0, 0]\n",
      "forward_sum [1, 4, 4, 5, 0, 0]\n",
      "forward_sum [1, 4, 4, 5, 5, 0]\n",
      "backward_sum [0, 0, 0, 0, 0, 2]\n",
      "backward_sum [0, 0, 0, 0, 2, 2]\n",
      "backward_sum [0, 0, 0, 3, 2, 2]\n",
      "backward_sum [0, 0, 3, 3, 2, 2]\n",
      "backward_sum [0, 5, 3, 3, 2, 2]\n",
      "forward_sum[k] 1\n",
      "backward_sum[k+1] 5\n",
      "max_sum 6\n",
      "forward_sum[k] 4\n",
      "backward_sum[k+1] 3\n",
      "max_sum 7\n",
      "forward_sum[k] 4\n",
      "backward_sum[k+1] 3\n",
      "max_sum 7\n",
      "forward_sum[k] 5\n",
      "backward_sum[k+1] 2\n",
      "max_sum 7\n",
      "forward_sum[k] 5\n",
      "backward_sum[k+1] 2\n",
      "max_sum 7\n"
     ]
    },
    {
     "data": {
      "text/plain": [
       "7"
      ]
     },
     "execution_count": 2,
     "metadata": {},
     "output_type": "execute_result"
    }
   ],
   "source": [
    "s = Solution_1()\n",
    "A = [1,3,-1,2,-1,2]\n",
    "s.maxTwoSubArrays(A)"
   ]
  },
  {
   "cell_type": "code",
   "execution_count": 3,
   "metadata": {},
   "outputs": [],
   "source": [
    "# Greedy\n",
    "class Solution_2:\n",
    "    \"\"\"\n",
    "    @param: nums: A list of integers\n",
    "    @return: An integer denotes the sum of max two non-overlapping subarrays\n",
    "    \"\"\"\n",
    "    def maxTwoSubArrays(self, nums):\n",
    "        if nums == None or len(nums) == 0:\n",
    "            return 0\n",
    "        \n",
    "        forward_max_sum, backward_max_sum = [0]*len(nums), [0]*len(nums)\n",
    "        forward_max_sum[0], backward_max_sum[-1] = nums[0], nums[-1]\n",
    "        curr_max_sum, global_max_sum = nums[0], nums[0]\n",
    "        for i in range(1, len(nums)-1):\n",
    "            curr_max_sum = max(nums[i], nums[i] + curr_max_sum)\n",
    "            global_max_sum = max(global_max_sum, curr_max_sum)\n",
    "            forward_max_sum[i] = global_max_sum\n",
    "            print('forward_max_sum', forward_max_sum)\n",
    "            \n",
    "        curr_max_sum, global_max_sum = nums[-1], nums[-1]\n",
    "        for j in range(len(nums)-2, 0, -1):\n",
    "            curr_max_sum = max(nums[j], nums[j] + curr_max_sum)\n",
    "            global_max_sum = max(global_max_sum, curr_max_sum)\n",
    "            backward_max_sum[j] = global_max_sum\n",
    "            print('backward_max_sum', backward_max_sum)\n",
    "            \n",
    "        max_sum = -float('inf')\n",
    "        for k in range(0, len(nums)-1):\n",
    "            max_sum = max(max_sum, forward_max_sum[k] + backward_max_sum[k+1])\n",
    "            print('forward_max_sum[k]', forward_max_sum[k])\n",
    "            print('backward_max_sum[k+1]', backward_max_sum[k+1])\n",
    "            print('max_sum', max_sum)\n",
    "            \n",
    "        return max_sum"
   ]
  },
  {
   "cell_type": "code",
   "execution_count": 4,
   "metadata": {},
   "outputs": [
    {
     "name": "stdout",
     "output_type": "stream",
     "text": [
      "forward_max_sum [1, 4, 0, 0, 0, 0]\n",
      "forward_max_sum [1, 4, 4, 0, 0, 0]\n",
      "forward_max_sum [1, 4, 4, 5, 0, 0]\n",
      "forward_max_sum [1, 4, 4, 5, 5, 0]\n",
      "backward_max_sum [0, 0, 0, 0, 2, 2]\n",
      "backward_max_sum [0, 0, 0, 3, 2, 2]\n",
      "backward_max_sum [0, 0, 3, 3, 2, 2]\n",
      "backward_max_sum [0, 5, 3, 3, 2, 2]\n",
      "forward_max_sum[k] 1\n",
      "backward_max_sum[k+1] 5\n",
      "max_sum 6\n",
      "forward_max_sum[k] 4\n",
      "backward_max_sum[k+1] 3\n",
      "max_sum 7\n",
      "forward_max_sum[k] 4\n",
      "backward_max_sum[k+1] 3\n",
      "max_sum 7\n",
      "forward_max_sum[k] 5\n",
      "backward_max_sum[k+1] 2\n",
      "max_sum 7\n",
      "forward_max_sum[k] 5\n",
      "backward_max_sum[k+1] 2\n",
      "max_sum 7\n"
     ]
    },
    {
     "data": {
      "text/plain": [
       "7"
      ]
     },
     "execution_count": 4,
     "metadata": {},
     "output_type": "execute_result"
    }
   ],
   "source": [
    "s = Solution_2()\n",
    "A = [1,3,-1,2,-1,2]\n",
    "s.maxTwoSubArrays(A)"
   ]
  },
  {
   "cell_type": "code",
   "execution_count": null,
   "metadata": {},
   "outputs": [],
   "source": []
  }
 ],
 "metadata": {
  "kernelspec": {
   "display_name": "Python 3",
   "language": "python",
   "name": "python3"
  },
  "language_info": {
   "codemirror_mode": {
    "name": "ipython",
    "version": 3
   },
   "file_extension": ".py",
   "mimetype": "text/x-python",
   "name": "python",
   "nbconvert_exporter": "python",
   "pygments_lexer": "ipython3",
   "version": "3.7.2"
  }
 },
 "nbformat": 4,
 "nbformat_minor": 2
}
