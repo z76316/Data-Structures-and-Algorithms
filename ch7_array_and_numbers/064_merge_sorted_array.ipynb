{
 "cells": [
  {
   "cell_type": "markdown",
   "metadata": {},
   "source": [
    "Given two sorted integer arrays A and B, merge B into A as one sorted array.\n",
    "\n",
    "Example\n",
    "\n",
    "    A = [1, 2, 3, empty, empty], B = [4, 5]\n",
    "\n",
    "    After merge, A will be filled as [1, 2, 3, 4, 5]\n",
    "\n",
    "Notice\n",
    "\n",
    "    You may assume that A has enough space (size that is greater or equal to m + n) to hold additional elements from B. The number of elements initialized in A and B are m and n respectively.\n",
    "    \n",
    "https://www.lintcode.com/problem/64/"
   ]
  },
  {
   "cell_type": "markdown",
   "metadata": {},
   "source": [
    "# Solution"
   ]
  },
  {
   "cell_type": "code",
   "execution_count": 7,
   "metadata": {},
   "outputs": [],
   "source": [
    "class Solution:\n",
    "    \"\"\"\n",
    "    @param: A: sorted integer array A which has m elements, but size of A is m+n\n",
    "    @param: m: An integer\n",
    "    @param: B: sorted integer array B which has n elements\n",
    "    @param: n: An integer\n",
    "    @return: nothing\n",
    "    \"\"\"\n",
    "    def mergeSortedArray(self, A, m, B, n):\n",
    "        # write your code here\n",
    "        i, j = m-1, n-1\n",
    "        while i >= 0 and j >= 0:\n",
    "            if A[i] > B[j]:\n",
    "                A[i+j+1] = A[i]\n",
    "                i -= 1\n",
    "            else:\n",
    "                A[i+j+1] = B[j]\n",
    "                j -= 1\n",
    "\n",
    "        while j >= 0:\n",
    "            A[i+j+1] = B[j]\n",
    "            j -= 1\n",
    "                "
   ]
  },
  {
   "cell_type": "markdown",
   "metadata": {},
   "source": [
    "# Test"
   ]
  },
  {
   "cell_type": "code",
   "execution_count": 8,
   "metadata": {},
   "outputs": [
    {
     "name": "stdout",
     "output_type": "stream",
     "text": [
      "[3, 3, 5, 6, 7]\n"
     ]
    }
   ],
   "source": [
    "result = Solution()\n",
    "A = [3,5,7,None,None]\n",
    "B = [3,6]\n",
    "result.mergeSortedArray(A, 3, B, 2)\n",
    "print(A)"
   ]
  },
  {
   "cell_type": "code",
   "execution_count": null,
   "metadata": {},
   "outputs": [],
   "source": []
  },
  {
   "cell_type": "markdown",
   "metadata": {},
   "source": [
    "# History"
   ]
  },
  {
   "cell_type": "code",
   "execution_count": 1,
   "metadata": {},
   "outputs": [],
   "source": [
    "class Solution:\n",
    "    \"\"\"\n",
    "    @param: A: sorted integer array A which has m elements, but size of A is m+n\n",
    "    @param: m: An integer\n",
    "    @param: B: sorted integer array B which has n elements\n",
    "    @param: n: An integer\n",
    "    @return: nothing\n",
    "    \"\"\"\n",
    "    def mergeSortedArray(self, A, m, B, n):\n",
    "        index = m + n - 1\n",
    "        index_A = m -1\n",
    "        index_B = n - 1\n",
    "        while index_A >= 0 and index_B >= 0:\n",
    "            if A[index_A] > B[index_B]:\n",
    "                A[index] = A[index_A]\n",
    "                index_A -= 1\n",
    "            else:\n",
    "                A[index] = B[index_B]\n",
    "                index_B -= 1\n",
    "            index -= 1\n",
    "\n",
    "        while index_B >= 0:\n",
    "            A[index] = B[index_B]\n",
    "            index -= 1\n",
    "            index_B -= 1\n",
    "        return None"
   ]
  },
  {
   "cell_type": "code",
   "execution_count": null,
   "metadata": {},
   "outputs": [],
   "source": []
  }
 ],
 "metadata": {
  "kernelspec": {
   "display_name": "Python 3",
   "language": "python",
   "name": "python3"
  },
  "language_info": {
   "codemirror_mode": {
    "name": "ipython",
    "version": 3
   },
   "file_extension": ".py",
   "mimetype": "text/x-python",
   "name": "python",
   "nbconvert_exporter": "python",
   "pygments_lexer": "ipython3",
   "version": "3.7.2"
  },
  "toc": {
   "base_numbering": 1,
   "nav_menu": {},
   "number_sections": true,
   "sideBar": true,
   "skip_h1_title": false,
   "title_cell": "Table of Contents",
   "title_sidebar": "Contents",
   "toc_cell": false,
   "toc_position": {},
   "toc_section_display": true,
   "toc_window_display": false
  }
 },
 "nbformat": 4,
 "nbformat_minor": 2
}
