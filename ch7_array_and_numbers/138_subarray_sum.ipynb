{
 "cells": [
  {
   "cell_type": "markdown",
   "metadata": {},
   "source": [
    "Given an integer array, find a subarray where the sum of numbers is zero. Your code should return the index of the first number and the index of the last number.\n",
    "\n",
    "Example:\n",
    "\tInput:  [-3, 1, 2, -3, 4]\n",
    "\tOutput: [0, 2] or [1, 3].\n",
    "\n",
    "Notice\n",
    "\n",
    "There is at least one subarray that it's sum equals to zero.\n",
    "\n",
    "https://www.lintcode.com/problem/subarray-sum/description"
   ]
  },
  {
   "cell_type": "code",
   "execution_count": 5,
   "metadata": {},
   "outputs": [],
   "source": [
    "class Solution:\n",
    "    \"\"\"\n",
    "    @param nums: A list of integers\n",
    "    @return: A list of integers includes the index of the first number and the index of the last number\n",
    "    \"\"\"\n",
    "    def subarraySum(self, nums):\n",
    "        prefix_dict = {0: -1}\n",
    "        prefix_sum = 0\n",
    "        for i, num in enumerate(nums):\n",
    "            prefix_sum += num\n",
    "            if prefix_sum in prefix_dict:\n",
    "                return prefix_dict[prefix_sum]+1, i\n",
    "            \n",
    "            prefix_dict[prefix_sum] = i\n",
    "            \n",
    "        return -1, -1\n",
    "            "
   ]
  },
  {
   "cell_type": "code",
   "execution_count": 6,
   "metadata": {},
   "outputs": [
    {
     "data": {
      "text/plain": [
       "(0, 2)"
      ]
     },
     "execution_count": 6,
     "metadata": {},
     "output_type": "execute_result"
    }
   ],
   "source": [
    "s = Solution()\n",
    "A = [-3, 1, 2, -3, 4]\n",
    "s.subarraySum(A)"
   ]
  },
  {
   "cell_type": "code",
   "execution_count": null,
   "metadata": {},
   "outputs": [],
   "source": []
  }
 ],
 "metadata": {
  "kernelspec": {
   "display_name": "Python 3",
   "language": "python",
   "name": "python3"
  },
  "language_info": {
   "codemirror_mode": {
    "name": "ipython",
    "version": 3
   },
   "file_extension": ".py",
   "mimetype": "text/x-python",
   "name": "python",
   "nbconvert_exporter": "python",
   "pygments_lexer": "ipython3",
   "version": "3.7.2"
  }
 },
 "nbformat": 4,
 "nbformat_minor": 2
}
