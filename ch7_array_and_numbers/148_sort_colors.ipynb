{
 "cells": [
  {
   "cell_type": "markdown",
   "metadata": {},
   "source": [
    "Given an array with n objects colored red, white or blue, sort them so that objects of the same color are adjacent, with the colors in the order red, white and blue.\n",
    "\n",
    "Here, we will use the integers 0, 1, and 2 to represent the color red, white, and blue respectively.\n",
    "\n",
    "Example\n",
    "    \n",
    "    Given [1, 0, 1, 2], sort it in-place to [0, 1, 1, 2]."
   ]
  },
  {
   "cell_type": "code",
   "execution_count": 8,
   "metadata": {},
   "outputs": [],
   "source": [
    "class Solution:\n",
    "    \"\"\"\n",
    "    @param nums: A list of integer which is 0, 1 or 2 \n",
    "    @return: nothing\n",
    "    \"\"\"\n",
    "    def sortColors(self, nums):\n",
    "        if nums == None or len(nums) == 0:\n",
    "            return None\n",
    "        \n",
    "        n = len(nums)\n",
    "        left, right, i = 0, n-1, 0\n",
    "        while i <= right:\n",
    "            if nums[i] == 0:\n",
    "                nums[i], nums[left] = nums[left], nums[i]\n",
    "                left += 1\n",
    "                i += 1\n",
    "            elif nums[i] == 1:\n",
    "                i += 1\n",
    "            else:\n",
    "                nums[i], nums[right] = nums[right], nums[i]\n",
    "                right -= 1\n",
    "        \n",
    "        return nums\n"
   ]
  },
  {
   "cell_type": "code",
   "execution_count": 9,
   "metadata": {},
   "outputs": [
    {
     "data": {
      "text/plain": [
       "[0, 0, 0, 0, 0, 0, 0, 1, 1, 1, 2, 2, 2, 2, 2]"
      ]
     },
     "execution_count": 9,
     "metadata": {},
     "output_type": "execute_result"
    }
   ],
   "source": [
    "s = Solution()\n",
    "A = [0,2,2,2,2,1,0,1,0,0,0,1,0,2,0]\n",
    "\n",
    "input = [A]\n",
    "s.sortColors(*input)"
   ]
  },
  {
   "cell_type": "code",
   "execution_count": null,
   "metadata": {},
   "outputs": [],
   "source": []
  }
 ],
 "metadata": {
  "kernelspec": {
   "display_name": "Python 3",
   "language": "python",
   "name": "python3"
  },
  "language_info": {
   "codemirror_mode": {
    "name": "ipython",
    "version": 3
   },
   "file_extension": ".py",
   "mimetype": "text/x-python",
   "name": "python",
   "nbconvert_exporter": "python",
   "pygments_lexer": "ipython3",
   "version": "3.7.2"
  }
 },
 "nbformat": 4,
 "nbformat_minor": 2
}
