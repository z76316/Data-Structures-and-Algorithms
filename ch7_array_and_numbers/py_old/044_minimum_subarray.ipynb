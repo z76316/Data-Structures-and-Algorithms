{
 "cells": [
  {
   "cell_type": "markdown",
   "metadata": {},
   "source": [
    "Given an array of integers, find the subarray with smallest sum.\n",
    "\n",
    "Return the sum of the subarray.\n",
    "\n",
    "Example 1\n",
    "\n",
    "Input：[1, -1, -2, 1]\n",
    "\n",
    "Output：-3\n",
    "\n",
    "Example 2\n",
    "\n",
    "Input：[1, -1, -2, 1, -4]\n",
    "\n",
    "Output：-6\n",
    "\n",
    "Notice\n",
    "\n",
    "The subarray should contain one integer at least.\n",
    "\n",
    "https://www.lintcode.com/problem/minimum-subarray/description"
   ]
  },
  {
   "cell_type": "code",
   "execution_count": 1,
   "metadata": {},
   "outputs": [],
   "source": [
    "class Solution:\n",
    "    \"\"\"\n",
    "    @param: nums: a list of integers\n",
    "    @return: A integer indicate the sum of minimum subarray\n",
    "    \"\"\"\n",
    "    def minSubArray(self, nums):\n",
    "        if nums == None or len(nums) == 0:\n",
    "            return 0\n",
    "        \n",
    "        curr_min_sum, global_min_sum = nums[0], nums[0]\n",
    "        for num in nums[1:]:\n",
    "            curr_min_sum = min(num, num + curr_min_sum)\n",
    "            global_min_sum = min(global_min_sum, curr_min_sum)\n",
    "            \n",
    "        return global_min_sum"
   ]
  },
  {
   "cell_type": "code",
   "execution_count": 4,
   "metadata": {},
   "outputs": [
    {
     "data": {
      "text/plain": [
       "-6"
      ]
     },
     "execution_count": 4,
     "metadata": {},
     "output_type": "execute_result"
    }
   ],
   "source": [
    "s = Solution()\n",
    "A = [1, -1, -2, 1, -4]\n",
    "s.minSubArray(A)"
   ]
  },
  {
   "cell_type": "code",
   "execution_count": null,
   "metadata": {},
   "outputs": [],
   "source": []
  }
 ],
 "metadata": {
  "kernelspec": {
   "display_name": "Python 3",
   "language": "python",
   "name": "python3"
  },
  "language_info": {
   "codemirror_mode": {
    "name": "ipython",
    "version": 3
   },
   "file_extension": ".py",
   "mimetype": "text/x-python",
   "name": "python",
   "nbconvert_exporter": "python",
   "pygments_lexer": "ipython3",
   "version": "3.7.2"
  }
 },
 "nbformat": 4,
 "nbformat_minor": 2
}
