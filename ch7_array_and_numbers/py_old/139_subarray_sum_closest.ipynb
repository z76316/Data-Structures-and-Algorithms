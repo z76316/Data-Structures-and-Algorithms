{
 "cells": [
  {
   "cell_type": "markdown",
   "metadata": {},
   "source": [
    "Given an integer array, find a subarray with sum closest to zero. Return the indexes of the first number and last number.\n",
    "\n",
    "Example\n",
    "\n",
    "Given [-3, 1, 1, -3, 5], return [0, 2], [1, 3], [1, 1], [2, 2] or [0, 4].\n",
    "\n",
    "Challenge\n",
    "\n",
    "O(nlogn) time"
   ]
  },
  {
   "cell_type": "code",
   "execution_count": 12,
   "metadata": {},
   "outputs": [],
   "source": [
    "class Solution:\n",
    "    \"\"\"\n",
    "    @param: nums: A list of integers\n",
    "    @return: A list of integers includes the index of the first number and the index of the last number\n",
    "    \"\"\"\n",
    "    def subarraySumClosest(self, nums):\n",
    "        prefix_sum = 0\n",
    "        prefix_sum_and_index_list = [[0, -1]]\n",
    "        for i, num in enumerate(nums):\n",
    "            prefix_sum += num\n",
    "            prefix_sum_and_index_list.append([prefix_sum, i])\n",
    "            \n",
    "        prefix_sum_and_index_list.sort()\n",
    "        \n",
    "        prefix_sum_diff_list = []\n",
    "        n = len(prefix_sum_and_index_list)\n",
    "        for i in range(n-1):\n",
    "            curr_prefix_sum = prefix_sum_and_index_list[i][0]\n",
    "            post_prefix_sum = prefix_sum_and_index_list[i+1][0]\n",
    "            diff = post_prefix_sum - curr_prefix_sum\n",
    "            \n",
    "            curr_prefix_index = prefix_sum_and_index_list[i][1]\n",
    "            post_prefix_index = prefix_sum_and_index_list[i+1][1]\n",
    "            \n",
    "            # If the current index is bigger than the post index -> switch\n",
    "            if curr_prefix_index > post_prefix_index:\n",
    "                curr_prefix_index, post_prefix_index = post_prefix_index, curr_prefix_index\n",
    "                \n",
    "            prefix_sum_diff_list.append([diff, curr_prefix_index+1, post_prefix_index])\n",
    "        \n",
    "        diff_min = min(prefix_sum_diff_list)\n",
    "        print(prefix_sum_diff_list)\n",
    "        \n",
    "        return [diff_min[1], diff_min[2]]"
   ]
  },
  {
   "cell_type": "code",
   "execution_count": 13,
   "metadata": {},
   "outputs": [
    {
     "name": "stdout",
     "output_type": "stream",
     "text": [
      "[[1, 1, 3], [1, 1, 1], [1, 2, 2], [1, 0, 2], [1, 0, 4]]\n"
     ]
    },
    {
     "data": {
      "text/plain": [
       "[0, 2]"
      ]
     },
     "execution_count": 13,
     "metadata": {},
     "output_type": "execute_result"
    }
   ],
   "source": [
    "s = Solution()\n",
    "A = [-3,1,1,-3,5]\n",
    "\n",
    "input = [A]\n",
    "s.subarraySumClosest(*input)"
   ]
  },
  {
   "cell_type": "code",
   "execution_count": null,
   "metadata": {},
   "outputs": [],
   "source": []
  }
 ],
 "metadata": {
  "kernelspec": {
   "display_name": "Python 3",
   "language": "python",
   "name": "python3"
  },
  "language_info": {
   "codemirror_mode": {
    "name": "ipython",
    "version": 3
   },
   "file_extension": ".py",
   "mimetype": "text/x-python",
   "name": "python",
   "nbconvert_exporter": "python",
   "pygments_lexer": "ipython3",
   "version": "3.7.2"
  }
 },
 "nbformat": 4,
 "nbformat_minor": 2
}
