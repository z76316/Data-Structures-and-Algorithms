{
 "cells": [
  {
   "cell_type": "markdown",
   "metadata": {},
   "source": [
    "Given an array of integers, find a contiguous subarray which has the largest sum.\n",
    "\n",
    "Example1:\n",
    "\n",
    "Given the array [−2,2,−3,4,−1,2,1,−5,3], the contiguous subarray [4,−1,2,1] has the largest sum = 6.\n",
    "\n",
    "Example2:\n",
    "\n",
    "Given the array [1,2,3,4], the contiguous subarray [1,2,3,4] has the largest sum = 10.\n",
    "\n",
    "Challenge\n",
    "\n",
    "Can you do it in time complexity O(n)?\n",
    "\n",
    "Notice\n",
    "\n",
    "The subarray should contain at least one number."
   ]
  },
  {
   "cell_type": "code",
   "execution_count": 6,
   "metadata": {},
   "outputs": [],
   "source": [
    "# Prefix sum\n",
    "class Solution_1:\n",
    "    \"\"\"\n",
    "    @param nums: A list of integers\n",
    "    @return: A integer indicate the sum of max subarray\n",
    "    \"\"\"\n",
    "    def maxSubArray(self, nums):\n",
    "        if nums == None or len(nums) == 0:\n",
    "            return 0\n",
    "        \n",
    "        max_sum, min_sum, curr_sum = -float('inf'), 0, 0\n",
    "        # In first place (num == nums[0]), the max_sum == curr_sum - min_sum. So the initial min_sum = 0.\n",
    "        for num in nums:\n",
    "            curr_sum += num\n",
    "            max_sum = max(max_sum, curr_sum - min_sum)\n",
    "            min_sum = min(min_sum, curr_sum)\n",
    "        \n",
    "        return max_sum"
   ]
  },
  {
   "cell_type": "code",
   "execution_count": 10,
   "metadata": {},
   "outputs": [
    {
     "data": {
      "text/plain": [
       "6"
      ]
     },
     "execution_count": 10,
     "metadata": {},
     "output_type": "execute_result"
    }
   ],
   "source": [
    "s = Solution_1()\n",
    "A = [-2,2,-3,4,-1,2,1,-5,3]\n",
    "s.maxSubArray(A)"
   ]
  },
  {
   "cell_type": "code",
   "execution_count": 11,
   "metadata": {},
   "outputs": [],
   "source": [
    "# Greedy\n",
    "class Solution_2:\n",
    "    \"\"\"\n",
    "    @param nums: A list of integers\n",
    "    @return: A integer indicate the sum of max subarray\n",
    "    \"\"\"\n",
    "    def maxSubArray(self, nums):\n",
    "        if nums == None or len(nums) == 0:\n",
    "            return 0\n",
    "        \n",
    "        curr_max_sum, global_max_sum = nums[0], nums[0]\n",
    "        for num in nums[1:]:\n",
    "            curr_max_sum = max(num, num + curr_max_sum)\n",
    "            global_max_sum = max(global_max_sum, curr_max_sum)\n",
    "        \n",
    "        return global_max_sum"
   ]
  },
  {
   "cell_type": "code",
   "execution_count": 12,
   "metadata": {},
   "outputs": [
    {
     "data": {
      "text/plain": [
       "6"
      ]
     },
     "execution_count": 12,
     "metadata": {},
     "output_type": "execute_result"
    }
   ],
   "source": [
    "s = Solution_2()\n",
    "A = [-2,2,-3,4,-1,2,1,-5,3]\n",
    "s.maxSubArray(A)"
   ]
  },
  {
   "cell_type": "code",
   "execution_count": null,
   "metadata": {},
   "outputs": [],
   "source": []
  }
 ],
 "metadata": {
  "kernelspec": {
   "display_name": "Python 3",
   "language": "python",
   "name": "python3"
  },
  "language_info": {
   "codemirror_mode": {
    "name": "ipython",
    "version": 3
   },
   "file_extension": ".py",
   "mimetype": "text/x-python",
   "name": "python",
   "nbconvert_exporter": "python",
   "pygments_lexer": "ipython3",
   "version": "3.7.2"
  }
 },
 "nbformat": 4,
 "nbformat_minor": 2
}
