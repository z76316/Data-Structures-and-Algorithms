{
 "cells": [
  {
   "cell_type": "markdown",
   "metadata": {},
   "source": [
    "Given an array of n objects with k different colors (numbered from 1 to k), sort them so that objects of the same color are adjacent, with the colors in the order 1, 2, ... k.\n",
    "\n",
    "Example\n",
    "\n",
    "    Given colors=[3, 2, 2, 1, 4], k=4, your code should sort colors in-place to [1, 2, 2, 3, 4].\n",
    "\n",
    "Challenge\n",
    "\n",
    "    A rather straight forward solution is a two-pass algorithm using counting sort. That will cost O(k) extra memory. Can you do it without using extra memory?\n",
    "\n",
    "Notice\n",
    "\n",
    "    k <= n"
   ]
  },
  {
   "cell_type": "code",
   "execution_count": 11,
   "metadata": {},
   "outputs": [],
   "source": [
    "class Solution:\n",
    "    \"\"\"\n",
    "    @param colors: A list of integer\n",
    "    @param k: An integer\n",
    "    @return: nothing\n",
    "    \"\"\"\n",
    "    def sortColors2(self, colors, k):\n",
    "        n = len(colors)\n",
    "        self.sort(colors, 1, k, 0, n-1)\n",
    "        \n",
    "    def sort(self, colors, color_from, color_to, index_from, index_to):\n",
    "        if color_from == color_to or index_from == index_to:\n",
    "            return\n",
    "        \n",
    "        color = (color_from + color_to) // 2\n",
    "        left, right = index_from, index_to\n",
    "        while left <= right:\n",
    "            while left <= right and colors[left] <= color:\n",
    "                left += 1\n",
    "            while left <= right and colors[right] > color:\n",
    "                right -= 1\n",
    "            if left <= right:\n",
    "                colors[left], colors[right] = colors[right], colors[left]\n",
    "                left += 1\n",
    "                right -=1\n",
    "        \n",
    "        self.sort(colors, color_from, color, index_from, right)\n",
    "        self.sort(colors, color + 1, color_to, left, index_to)"
   ]
  },
  {
   "cell_type": "code",
   "execution_count": 15,
   "metadata": {},
   "outputs": [
    {
     "data": {
      "text/plain": [
       "[1, 1, 2, 2, 2, 3, 3, 4]"
      ]
     },
     "execution_count": 15,
     "metadata": {},
     "output_type": "execute_result"
    }
   ],
   "source": [
    "s = Solution()\n",
    "A = [3, 2, 2, 1, 4, 1, 3, 2]\n",
    "k = 4\n",
    "\n",
    "input = [A, k]\n",
    "s.sortColors2(*input)\n",
    "A"
   ]
  },
  {
   "cell_type": "code",
   "execution_count": null,
   "metadata": {},
   "outputs": [],
   "source": [
    "'''\n",
    "3 2 2 1 4 1 3 2\n",
    "color = (1 + 4) // 2 = 2\n",
    "l             r\n",
    "2 2 2 1 4 1 3 3\n",
    "  l         r\n",
    "        l r\n",
    "2 2 2 1 1 4 3 3\n",
    "        r l     => l > r\n",
    "\n",
    "2 2 2 1 1\n",
    "color = (1 + 2) // 2 = 1\n",
    "l       r\n",
    "1 2 2 1 2\n",
    "  l   r\n",
    "1 1 2 2 2\n",
    "    l\n",
    "    r\n",
    "  r l\n",
    "\n",
    "          4 3 3\n",
    "          color = (3 + 4) // 2 = 3\n",
    "          l   r\n",
    "          3 3 4\n",
    "            l\n",
    "            r\n",
    "            r l\n",
    "            \n",
    "1 1 2 2 2 3 3 4 => over\n",
    "'''"
   ]
  }
 ],
 "metadata": {
  "kernelspec": {
   "display_name": "Python 3",
   "language": "python",
   "name": "python3"
  },
  "language_info": {
   "codemirror_mode": {
    "name": "ipython",
    "version": 3
   },
   "file_extension": ".py",
   "mimetype": "text/x-python",
   "name": "python",
   "nbconvert_exporter": "python",
   "pygments_lexer": "ipython3",
   "version": "3.7.2"
  }
 },
 "nbformat": 4,
 "nbformat_minor": 2
}
