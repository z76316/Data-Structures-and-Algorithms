{
 "cells": [
  {
   "cell_type": "markdown",
   "metadata": {},
   "source": [
    "Given an array with integers.\n",
    "\n",
    "Find two non-overlapping subarrays A and B, which |SUM(A) - SUM(B)| is the largest.\n",
    "\n",
    "Return the largest difference.\n",
    "\n",
    "Example 1:\n",
    "\n",
    "Input:[1, 2, -3, 1]\n",
    "\n",
    "Output:6\n",
    "\n",
    "Explanation:\n",
    "\n",
    "The subarray are [1,2] and [-3].So the answer is 6.\n",
    "\n",
    "Explanation:\n",
    "\n",
    "The subarray are [0] and [-1].So the answer is 1.\n",
    "\n",
    "Challenge\n",
    "\n",
    "O(n) time and O(n) space."
   ]
  },
  {
   "cell_type": "code",
   "execution_count": 60,
   "metadata": {},
   "outputs": [],
   "source": [
    "# Let the nums to be reversed and negative can help to easily find the backward_max_sum and both min_sum\n",
    "class Solution:\n",
    "    \"\"\"\n",
    "    @param nums: A list of integers\n",
    "    @return: An integer indicate the value of maximum difference between two substrings\n",
    "    \"\"\"\n",
    "    def maxDiffSubArrays(self, nums):\n",
    "        if nums == None or len(nums) == 0:\n",
    "            return 0\n",
    "        \n",
    "        forward_max_sum = self.maxSum(nums)\n",
    "        reverse_nums = nums[::-1]\n",
    "        backward_max_sum = self.maxSum(reverse_nums)[::-1]\n",
    "        # remember to reverse it back\n",
    "        \n",
    "        negative_nums = [-x for x in nums]\n",
    "        forward_min_sum = self.maxSum(negative_nums)\n",
    "        forward_min_sum = [-x for x in forward_min_sum]\n",
    "        backward_negative_nums = negative_nums[::-1]\n",
    "        backward_min_sum = self.maxSum(backward_negative_nums)[::-1]\n",
    "        backward_min_sum = [-x for x in backward_min_sum]\n",
    "        \n",
    "        max_diff = -float('inf')\n",
    "        for i in range(len(nums)-1):\n",
    "            f_max_b_min = abs(forward_max_sum[i] - backward_min_sum[i+1])\n",
    "            f_min_b_max = abs(forward_min_sum[i] - backward_max_sum[i+1])\n",
    "            max_diff = max(max_diff, f_max_b_min, f_min_b_max)\n",
    "        \n",
    "        return max_diff\n",
    "            \n",
    "    def maxSum(self, nums):\n",
    "        curr_max_sum, global_max_sum = nums[0], nums[0]\n",
    "        max_sum = [global_max_sum]\n",
    "        for num in nums[1:]:\n",
    "            curr_max_sum = max(num, num + curr_max_sum)\n",
    "            global_max_sum = max(curr_max_sum, global_max_sum)\n",
    "            max_sum.append(global_max_sum)\n",
    "            \n",
    "        return max_sum"
   ]
  },
  {
   "cell_type": "code",
   "execution_count": 62,
   "metadata": {},
   "outputs": [
    {
     "name": "stdout",
     "output_type": "stream",
     "text": [
      "[1, 3, 3, 3]\n",
      "[3, 2, 1, 1]\n",
      "[1, 1, -3, -3]\n",
      "[-3, -3, -3, 1]\n"
     ]
    },
    {
     "data": {
      "text/plain": [
       "6"
      ]
     },
     "execution_count": 62,
     "metadata": {},
     "output_type": "execute_result"
    }
   ],
   "source": [
    "s = Solution()\n",
    "A = [1,2,-3,1]\n",
    "s.maxDiffSubArrays(A)"
   ]
  },
  {
   "cell_type": "code",
   "execution_count": null,
   "metadata": {},
   "outputs": [],
   "source": []
  }
 ],
 "metadata": {
  "kernelspec": {
   "display_name": "Python 3",
   "language": "python",
   "name": "python3"
  },
  "language_info": {
   "codemirror_mode": {
    "name": "ipython",
    "version": 3
   },
   "file_extension": ".py",
   "mimetype": "text/x-python",
   "name": "python",
   "nbconvert_exporter": "python",
   "pygments_lexer": "ipython3",
   "version": "3.7.2"
  }
 },
 "nbformat": 4,
 "nbformat_minor": 2
}
