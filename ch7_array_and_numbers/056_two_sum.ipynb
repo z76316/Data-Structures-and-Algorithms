{
 "cells": [
  {
   "cell_type": "markdown",
   "metadata": {},
   "source": [
    "Given an array of integers, find two numbers such that they add up to a specific target number.\n",
    "\n",
    "The function twoSum should return indices of the two numbers such that they add up to the target, where index1 must be less than index2. Please note that your returned answers (both index1 and index2) are zero-based.\n",
    "\n",
    "Example:\n",
    "\n",
    "numbers=[2, 7, 11, 15], target=9\n",
    "return [0, 1]"
   ]
  },
  {
   "cell_type": "code",
   "execution_count": 8,
   "metadata": {},
   "outputs": [],
   "source": [
    "class Solution:\n",
    "    \"\"\"\n",
    "    @param numbers: An array of Integer\n",
    "    @param target: target = numbers[index1] + numbers[index2]\n",
    "    @return: [index1, index2] (index1 < index2)\n",
    "    \"\"\"\n",
    "    def twoSum(self, numbers, target):\n",
    "        if numbers == None or len(numbers) <= 1:\n",
    "            return [-1, -1]\n",
    "        \n",
    "        sum_dict = {}\n",
    "        for i, num in enumerate(numbers):\n",
    "            diff = target - num\n",
    "            if diff in sum_dict:\n",
    "                return [sum_dict[diff], i]\n",
    "            \n",
    "            sum_dict[num] = i\n",
    "        \n",
    "        return [-1, -1]"
   ]
  },
  {
   "cell_type": "code",
   "execution_count": 9,
   "metadata": {},
   "outputs": [
    {
     "data": {
      "text/plain": [
       "[0, 1]"
      ]
     },
     "execution_count": 9,
     "metadata": {},
     "output_type": "execute_result"
    }
   ],
   "source": [
    "s = Solution()\n",
    "A = [2,7,11,15]\n",
    "t = 9\n",
    "\n",
    "input = [A, t]\n",
    "s.twoSum(*input)"
   ]
  },
  {
   "cell_type": "code",
   "execution_count": null,
   "metadata": {},
   "outputs": [],
   "source": []
  }
 ],
 "metadata": {
  "kernelspec": {
   "display_name": "Python 3",
   "language": "python",
   "name": "python3"
  },
  "language_info": {
   "codemirror_mode": {
    "name": "ipython",
    "version": 3
   },
   "file_extension": ".py",
   "mimetype": "text/x-python",
   "name": "python",
   "nbconvert_exporter": "python",
   "pygments_lexer": "ipython3",
   "version": "3.7.2"
  }
 },
 "nbformat": 4,
 "nbformat_minor": 2
}
