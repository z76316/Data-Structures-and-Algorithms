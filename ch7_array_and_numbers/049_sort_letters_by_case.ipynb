{
 "cells": [
  {
   "cell_type": "markdown",
   "metadata": {},
   "source": [
    "Given a string which contains only letters. Sort it by lower case first and upper case second.\n",
    "\n",
    "Example 1:\n",
    "\n",
    "\tInput:  \"abAcD\"\n",
    "\tOutput:  \"acbAD\"\n",
    "\n",
    "Example 2:\n",
    "\n",
    "\tInput: \"ABC\"\n",
    "\tOutput:  \"ABC\"\n",
    "\t\n",
    "Challenge\n",
    "\n",
    "    Do it in one-pass and in-place.\n",
    "\n",
    "Notice\n",
    "\n",
    "    It's NOT necessary to keep the original order of lower-case letters and upper case letters.\n",
    "    \n",
    "https://www.lintcode.com/problem/sort-letters-by-case/description"
   ]
  },
  {
   "cell_type": "code",
   "execution_count": 24,
   "metadata": {},
   "outputs": [],
   "source": [
    "# The input is fxxking weird, be careful\n",
    "class Solution:\n",
    "    \"\"\"\n",
    "    @param: chars: The letter array you should sort by Case\n",
    "    @return: nothing\n",
    "    \"\"\"\n",
    "    def sortLetters(self, chars):\n",
    "        if chars == None or len(chars) == 0:\n",
    "            return None\n",
    "        \n",
    "        n = len(chars)\n",
    "        left, right = 0, n-1\n",
    "        while left < right:\n",
    "            while left < right and chars[left].islower():\n",
    "                left += 1\n",
    "            while left < right and chars[right].isupper():\n",
    "                right -= 1\n",
    "            if left < right:\n",
    "                chars[left], chars[right] = chars[right], chars[left]\n",
    "                left += 1\n",
    "                right -= 1\n",
    "        \n",
    "        return chars"
   ]
  },
  {
   "cell_type": "code",
   "execution_count": 26,
   "metadata": {},
   "outputs": [
    {
     "data": {
      "text/plain": [
       "['c', 'b', 'B', 'C', 'A', 'D']"
      ]
     },
     "execution_count": 26,
     "metadata": {},
     "output_type": "execute_result"
    }
   ],
   "source": [
    "s = Solution()\n",
    "A = ['A', 'b', 'B', 'C', 'c', 'D']\n",
    "t = 2\n",
    "\n",
    "input = [A]\n",
    "s.sortLetters(*input)"
   ]
  },
  {
   "cell_type": "code",
   "execution_count": null,
   "metadata": {},
   "outputs": [],
   "source": []
  }
 ],
 "metadata": {
  "kernelspec": {
   "display_name": "Python 3",
   "language": "python",
   "name": "python3"
  },
  "language_info": {
   "codemirror_mode": {
    "name": "ipython",
    "version": 3
   },
   "file_extension": ".py",
   "mimetype": "text/x-python",
   "name": "python",
   "nbconvert_exporter": "python",
   "pygments_lexer": "ipython3",
   "version": "3.7.2"
  }
 },
 "nbformat": 4,
 "nbformat_minor": 2
}
