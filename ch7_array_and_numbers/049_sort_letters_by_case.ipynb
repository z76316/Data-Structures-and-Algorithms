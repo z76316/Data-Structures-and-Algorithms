{
 "cells": [
  {
   "cell_type": "markdown",
   "metadata": {},
   "source": [
    "Given a string which contains only letters. Sort it by lower case first and upper case second.\n",
    "\n",
    "Example 1:\n",
    "\n",
    "\tInput:  \"abAcD\"\n",
    "\tOutput:  \"acbAD\"\n",
    "\n",
    "Example 2:\n",
    "\n",
    "\tInput: \"ABC\"\n",
    "\tOutput:  \"ABC\"\n",
    "\t\n",
    "Challenge\n",
    "\n",
    "    Do it in one-pass and in-place.\n",
    "\n",
    "Notice\n",
    "\n",
    "    It's NOT necessary to keep the original order of lower-case letters and upper case letters.\n",
    "    \n",
    "https://www.lintcode.com/problem/sort-letters-by-case/description"
   ]
  },
  {
   "cell_type": "markdown",
   "metadata": {},
   "source": [
    "# Solution"
   ]
  },
  {
   "cell_type": "code",
   "execution_count": 1,
   "metadata": {},
   "outputs": [],
   "source": [
    "class Solution:\n",
    "    \"\"\"\n",
    "    @param chars: The letter array you should sort by Case\n",
    "    @return: nothing\n",
    "    \"\"\"\n",
    "    def sortLetters(self, chars):\n",
    "        # write your code here\n",
    "        if not chars or len(chars) == 0:\n",
    "            return chars\n",
    "        \n",
    "        chars_len = len(chars)\n",
    "        left, right = 0 , chars_len-1\n",
    "        while left < right:\n",
    "            while left < right and chars[left].islower():\n",
    "                left += 1\n",
    "            while left < right and not chars[right].islower():\n",
    "                right -= 1\n",
    "            \n",
    "            if left < right:\n",
    "                chars[left], chars[right] = chars[right], chars[left]\n",
    "                left += 1\n",
    "                right -= 1\n",
    "        return chars"
   ]
  },
  {
   "cell_type": "markdown",
   "metadata": {},
   "source": [
    "# Test"
   ]
  },
  {
   "cell_type": "code",
   "execution_count": 2,
   "metadata": {},
   "outputs": [
    {
     "data": {
      "text/plain": [
       "['c', 'b', 'B', 'C', 'A', 'D']"
      ]
     },
     "execution_count": 2,
     "metadata": {},
     "output_type": "execute_result"
    }
   ],
   "source": [
    "s = Solution()\n",
    "A = ['A', 'b', 'B', 'C', 'c', 'D']\n",
    "t = 2\n",
    "\n",
    "input = [A]\n",
    "s.sortLetters(*input)"
   ]
  },
  {
   "cell_type": "code",
   "execution_count": null,
   "metadata": {},
   "outputs": [],
   "source": []
  },
  {
   "cell_type": "markdown",
   "metadata": {},
   "source": [
    "# History"
   ]
  },
  {
   "cell_type": "code",
   "execution_count": 24,
   "metadata": {},
   "outputs": [],
   "source": [
    "# The input is fxxking weird, be careful\n",
    "class Solution:\n",
    "    \"\"\"\n",
    "    @param: chars: The letter array you should sort by Case\n",
    "    @return: nothing\n",
    "    \"\"\"\n",
    "    def sortLetters(self, chars):\n",
    "        if chars == None or len(chars) == 0:\n",
    "            return None\n",
    "        \n",
    "        n = len(chars)\n",
    "        left, right = 0, n-1\n",
    "        while left < right:\n",
    "            while left < right and chars[left].islower():\n",
    "                left += 1\n",
    "            while left < right and chars[right].isupper():\n",
    "                right -= 1\n",
    "            if left < right:\n",
    "                chars[left], chars[right] = chars[right], chars[left]\n",
    "                left += 1\n",
    "                right -= 1\n",
    "        \n",
    "        return chars"
   ]
  },
  {
   "cell_type": "code",
   "execution_count": 26,
   "metadata": {},
   "outputs": [
    {
     "data": {
      "text/plain": [
       "['c', 'b', 'B', 'C', 'A', 'D']"
      ]
     },
     "execution_count": 26,
     "metadata": {},
     "output_type": "execute_result"
    }
   ],
   "source": [
    "s = Solution()\n",
    "A = ['A', 'b', 'B', 'C', 'c', 'D']\n",
    "t = 2\n",
    "\n",
    "input = [A]\n",
    "s.sortLetters(*input)"
   ]
  },
  {
   "cell_type": "code",
   "execution_count": null,
   "metadata": {},
   "outputs": [],
   "source": []
  }
 ],
 "metadata": {
  "kernelspec": {
   "display_name": "Python 3",
   "language": "python",
   "name": "python3"
  },
  "language_info": {
   "codemirror_mode": {
    "name": "ipython",
    "version": 3
   },
   "file_extension": ".py",
   "mimetype": "text/x-python",
   "name": "python",
   "nbconvert_exporter": "python",
   "pygments_lexer": "ipython3",
   "version": "3.7.2"
  },
  "toc": {
   "base_numbering": 1,
   "nav_menu": {},
   "number_sections": true,
   "sideBar": true,
   "skip_h1_title": false,
   "title_cell": "Table of Contents",
   "title_sidebar": "Contents",
   "toc_cell": false,
   "toc_position": {},
   "toc_section_display": true,
   "toc_window_display": false
  }
 },
 "nbformat": 4,
 "nbformat_minor": 2
}
