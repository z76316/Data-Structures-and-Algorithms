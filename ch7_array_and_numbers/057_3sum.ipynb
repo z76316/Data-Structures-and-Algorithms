{
 "cells": [
  {
   "cell_type": "markdown",
   "metadata": {},
   "source": [
    "Given an array S of n integers, are there elements a, b, c in S such that a + b + c = 0? Find all unique triplets in the array which gives the sum of zero.\n",
    "\n",
    "Example 1:\n",
    "\n",
    "    Input: [2,7,11,15]\n",
    "\n",
    "    Output: []\n",
    "\n",
    "Example 2:\n",
    "\n",
    "    Input: [-1,0,1,2,-1,-4]\n",
    "\n",
    "    Output: [[-1, 0, 1],[-1, -1, 2]]\n",
    "\n",
    "Notice\n",
    "\n",
    "    Elements in a triplet (a,b,c) must be in non-descending order. (ie, a ≤ b ≤ c)\n",
    "    The solution set must not contain duplicate triplets.\n",
    "    \n",
    "http://localhost:8888/tree/ch7_array_and_numbers"
   ]
  },
  {
   "cell_type": "markdown",
   "metadata": {},
   "source": [
    "# Solution"
   ]
  },
  {
   "cell_type": "code",
   "execution_count": 31,
   "metadata": {},
   "outputs": [],
   "source": [
    "class Solution:\n",
    "    \"\"\"\n",
    "    @param numbers: Give an array numbers of n integer\n",
    "    @return: Find all unique triplets in the array which gives the sum of zero.\n",
    "    \"\"\"\n",
    "    def threeSum(self, nums):\n",
    "        # write your code here\n",
    "        nums = sorted(nums)\n",
    "        results = []\n",
    "        for i, n in enumerate(nums):\n",
    "            if i > 0 and n == nums[i-1]:\n",
    "                continue\n",
    "            self.findTwoSum(nums, i+1, len(nums)-1, -n, results)\n",
    "        return results\n",
    "\n",
    "    def findTwoSum(self, nums, left, right, target, results):\n",
    "        last_pair = None\n",
    "        while left < right:\n",
    "            n_left, n_right = nums[left], nums[right]\n",
    "            if n_left + n_right == target and [n_left, n_right] != last_pair:\n",
    "                results.append([-target, n_left, n_right])\n",
    "                last_pair = [n_left, n_right]\n",
    "            elif n_left + n_right > target:\n",
    "                right -= 1\n",
    "            else:\n",
    "                left += 1"
   ]
  },
  {
   "cell_type": "markdown",
   "metadata": {},
   "source": [
    "# Test"
   ]
  },
  {
   "cell_type": "code",
   "execution_count": 32,
   "metadata": {},
   "outputs": [
    {
     "data": {
      "text/plain": [
       "[[-1, -1, 2], [-1, 0, 1]]"
      ]
     },
     "execution_count": 32,
     "metadata": {},
     "output_type": "execute_result"
    }
   ],
   "source": [
    "s = Solution()\n",
    "A = [-1,0,1,2,-1,-4]\n",
    "t = 9\n",
    "\n",
    "s.threeSum(A)"
   ]
  },
  {
   "cell_type": "code",
   "execution_count": null,
   "metadata": {},
   "outputs": [],
   "source": []
  },
  {
   "cell_type": "markdown",
   "metadata": {},
   "source": [
    "# History"
   ]
  },
  {
   "cell_type": "code",
   "execution_count": 1,
   "metadata": {},
   "outputs": [],
   "source": [
    "class Solution:\n",
    "    \"\"\"\n",
    "    @param numbers: Give an array numbers of n integer\n",
    "    @return: Find all unique triplets in the array which gives the sum of zero.\n",
    "    \"\"\"\n",
    "    def threeSum(self, nums):\n",
    "        res = []\n",
    "        nums.sort()\n",
    "        n = len(nums)\n",
    "        for i in range(n-2):\n",
    "            if i > 0 and nums[i] == nums[i-1]: # skip the same num\n",
    "                continue\n",
    "            \n",
    "            left, right = i+1, n-1\n",
    "            while left < right:\n",
    "                curr_sum = nums[i] + nums[left] + nums[right]\n",
    "                if curr_sum < 0:\n",
    "                    left += 1\n",
    "                elif curr_sum > 0:\n",
    "                    right -= 1\n",
    "                else:\n",
    "                    res.append((nums[i], nums[left], nums[right]))\n",
    "                    while left < right and nums[left] == nums[left+1]: # skip the same num from left\n",
    "                        left += 1\n",
    "                    while left < right and nums[right] == nums[right-1]: # skip the same num from right\n",
    "                        right -= 1\n",
    "                    left += 1\n",
    "                    right -= 1\n",
    "        return res"
   ]
  },
  {
   "cell_type": "code",
   "execution_count": 3,
   "metadata": {},
   "outputs": [
    {
     "data": {
      "text/plain": [
       "[(-1, -1, 2), (-1, 0, 1)]"
      ]
     },
     "execution_count": 3,
     "metadata": {},
     "output_type": "execute_result"
    }
   ],
   "source": [
    "s = Solution()\n",
    "A = [-1,0,1,2,-1,-4]\n",
    "t = 9\n",
    "\n",
    "input = [A]\n",
    "s.threeSum(*input)"
   ]
  },
  {
   "cell_type": "code",
   "execution_count": null,
   "metadata": {},
   "outputs": [],
   "source": []
  }
 ],
 "metadata": {
  "kernelspec": {
   "display_name": "Python 3",
   "language": "python",
   "name": "python3"
  },
  "language_info": {
   "codemirror_mode": {
    "name": "ipython",
    "version": 3
   },
   "file_extension": ".py",
   "mimetype": "text/x-python",
   "name": "python",
   "nbconvert_exporter": "python",
   "pygments_lexer": "ipython3",
   "version": "3.7.2"
  },
  "toc": {
   "base_numbering": 1,
   "nav_menu": {},
   "number_sections": true,
   "sideBar": true,
   "skip_h1_title": false,
   "title_cell": "Table of Contents",
   "title_sidebar": "Contents",
   "toc_cell": false,
   "toc_position": {},
   "toc_section_display": true,
   "toc_window_display": false
  }
 },
 "nbformat": 4,
 "nbformat_minor": 2
}
