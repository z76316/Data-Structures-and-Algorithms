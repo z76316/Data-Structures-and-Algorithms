{
 "cells": [
  {
   "cell_type": "markdown",
   "metadata": {},
   "source": [
    "Given an array S of n integers, are there elements a, b, c in S such that a + b + c = 0? Find all unique triplets in the array which gives the sum of zero.\n",
    "\n",
    "Example 1:\n",
    "\n",
    "Input:[2,7,11,15]\n",
    "\n",
    "Output:[]\n",
    "\n",
    "Example 2:\n",
    "\n",
    "Input:[-1,0,1,2,-1,-4]\n",
    "\n",
    "Output:\t[[-1, 0, 1],[-1, -1, 2]]\n",
    "\n",
    "Notice\n",
    "\n",
    "Elements in a triplet (a,b,c) must be in non-descending order. (ie, a ≤ b ≤ c)\n",
    "\n",
    "The solution set must not contain duplicate triplets."
   ]
  },
  {
   "cell_type": "code",
   "execution_count": 15,
   "metadata": {},
   "outputs": [],
   "source": [
    "class Solution:\n",
    "    \"\"\"\n",
    "    @param numbers: Give an array numbers of n integer\n",
    "    @return: Find all unique triplets in the array which gives the sum of zero.\n",
    "    \"\"\"\n",
    "    def threeSum(self, nums):\n",
    "        res = []\n",
    "        nums.sort()\n",
    "        n = len(nums)\n",
    "        for i in range(n-2):\n",
    "            if i > 0 and nums[i] == nums[i-1]: # skip the same num\n",
    "                continue\n",
    "            \n",
    "            left, right = i+1, n-1\n",
    "            while left < right:\n",
    "                curr_sum = nums[i] + nums[left] + nums[right]\n",
    "                if curr_sum < 0:\n",
    "                    left += 1\n",
    "                elif curr_sum > 0:\n",
    "                    right -= 1\n",
    "                else:\n",
    "                    res.append((nums[i], nums[left], nums[right]))\n",
    "                    while left < right and nums[left] == nums[left+1]: # skip the same num from left\n",
    "                        left += 1\n",
    "                    while left < right and nums[right] == nums[right-1]: # skip the same num from right\n",
    "                        right -= 1\n",
    "                    left += 1\n",
    "                    right -= 1\n",
    "        return res"
   ]
  },
  {
   "cell_type": "code",
   "execution_count": 16,
   "metadata": {},
   "outputs": [
    {
     "data": {
      "text/plain": [
       "[(-1, -1, 2), (-1, 0, 1)]"
      ]
     },
     "execution_count": 16,
     "metadata": {},
     "output_type": "execute_result"
    }
   ],
   "source": [
    "s = Solution()\n",
    "A = [-1,0,1,2,-1,-4]\n",
    "t = 9\n",
    "\n",
    "input = [A]\n",
    "s.threeSum(*input)"
   ]
  },
  {
   "cell_type": "code",
   "execution_count": null,
   "metadata": {},
   "outputs": [],
   "source": []
  }
 ],
 "metadata": {
  "kernelspec": {
   "display_name": "Python 3",
   "language": "python",
   "name": "python3"
  },
  "language_info": {
   "codemirror_mode": {
    "name": "ipython",
    "version": 3
   },
   "file_extension": ".py",
   "mimetype": "text/x-python",
   "name": "python",
   "nbconvert_exporter": "python",
   "pygments_lexer": "ipython3",
   "version": "3.7.2"
  }
 },
 "nbformat": 4,
 "nbformat_minor": 2
}
