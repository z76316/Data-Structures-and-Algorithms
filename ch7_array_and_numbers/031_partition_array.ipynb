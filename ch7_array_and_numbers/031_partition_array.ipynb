{
 "cells": [
  {
   "cell_type": "markdown",
   "metadata": {},
   "source": [
    "Given an array nums of integers and an int k, partition the array (i.e move the elements in \"nums\") such that:\n",
    "\n",
    "All elements < k are moved to the left\n",
    "\n",
    "All elements >= k are moved to the right\n",
    "\n",
    "Return the partitioning index, i.e the first index i nums[i] >= k.\n",
    "\n",
    "Example 1:\n",
    "\n",
    "    Input:\n",
    "    [],9\n",
    "\n",
    "    Output:\n",
    "    0\n",
    "\n",
    "Example 2:\n",
    "\n",
    "    Input:\n",
    "    [3,2,2,1],2\n",
    "\n",
    "    Output:1\n",
    "\n",
    "Explanation:\n",
    "\n",
    "    the real array is[1,2,2,3].So return 1\n",
    "\n",
    "Challenge\n",
    "\n",
    "    Can you partition the array in-place and in O(n)?\n",
    "\n",
    "Notice\n",
    "\n",
    "    You should do really partition in array nums instead of just counting the numbers of integers smaller than k.\n",
    "\n",
    "If all elements in nums are smaller than k, then return nums.length\n",
    "\n",
    "https://www.lintcode.com/problem/partition-array/description"
   ]
  },
  {
   "cell_type": "markdown",
   "metadata": {},
   "source": [
    "# Solution"
   ]
  },
  {
   "cell_type": "code",
   "execution_count": 17,
   "metadata": {},
   "outputs": [],
   "source": [
    "class Solution:\n",
    "    \"\"\"\n",
    "    @param nums: The integer array you should partition\n",
    "    @param k: An integer\n",
    "    @return: The index after partition\n",
    "    \"\"\"\n",
    "    def partitionArray(self, nums, k):\n",
    "        # write your code here\n",
    "        if nums == None or len(nums) == 0:\n",
    "            return 0\n",
    "        \n",
    "        left, right = 0, len(nums) - 1\n",
    "        while left <= right:\n",
    "            while left <= right and nums[left] < k:   ##### if the left int fits the condi -> move on\n",
    "                left += 1\n",
    "            while left <= right and nums[right] >= k:   ##### if the right int fits the condi -> move on\n",
    "                right -= 1\n",
    "            if left <= right:   ##### about all the left <= right -> go through the example in which all int < k\n",
    "                nums[left], nums[right] = nums[right], nums[left]\n",
    "                left += 1\n",
    "                right -= 1\n",
    "        return left"
   ]
  },
  {
   "cell_type": "markdown",
   "metadata": {},
   "source": [
    "# Test"
   ]
  },
  {
   "cell_type": "code",
   "execution_count": 18,
   "metadata": {},
   "outputs": [
    {
     "data": {
      "text/plain": [
       "12"
      ]
     },
     "execution_count": 18,
     "metadata": {},
     "output_type": "execute_result"
    }
   ],
   "source": [
    "s = Solution()\n",
    "# A = [3,2,2,1]\n",
    "# t = 2\n",
    "A = [7,7,9,8,6,6,8,7,9,8,6,6]\n",
    "t = 10\n",
    "\n",
    "input = [A, t]\n",
    "s.partitionArray(*input)"
   ]
  },
  {
   "cell_type": "code",
   "execution_count": null,
   "metadata": {},
   "outputs": [],
   "source": []
  },
  {
   "cell_type": "markdown",
   "metadata": {},
   "source": [
    "# History"
   ]
  },
  {
   "cell_type": "code",
   "execution_count": 13,
   "metadata": {},
   "outputs": [],
   "source": [
    "class Solution:\n",
    "    \"\"\"\n",
    "    @param nums: The integer array you should partition\n",
    "    @param k: An integer\n",
    "    @return: The index after partition\n",
    "    \"\"\"\n",
    "    def partitionArray(self, nums, k):\n",
    "        if nums == None or len(nums) == 0:\n",
    "            return 0\n",
    "        \n",
    "        n = len(nums)\n",
    "        left, right = 0, n-1\n",
    "        while left < right:\n",
    "            while left < right and nums[left] < k: # follow the definition\n",
    "                left += 1\n",
    "            while left < right and nums[right] >= k: # follow the definition\n",
    "                right -= 1\n",
    "            \n",
    "            if left < right: # if right is already before or equal left then we can make a choice\n",
    "                nums[left], nums[right] = nums[right], nums[left]\n",
    "                left += 1\n",
    "                right -= 1\n",
    "        \n",
    "        if left == right:\n",
    "            if nums[left] < k:\n",
    "                return left+1\n",
    "            else:\n",
    "                return left\n",
    "            \n",
    "        # by the second while loop, if right is before left means nums[left] is the first num >= k\n",
    "        return left"
   ]
  },
  {
   "cell_type": "code",
   "execution_count": 14,
   "metadata": {},
   "outputs": [
    {
     "data": {
      "text/plain": [
       "1"
      ]
     },
     "execution_count": 14,
     "metadata": {},
     "output_type": "execute_result"
    }
   ],
   "source": [
    "s = Solution()\n",
    "A = [3,2,2,1]\n",
    "t = 2\n",
    "\n",
    "input = [A, t]\n",
    "s.partitionArray(*input)"
   ]
  },
  {
   "cell_type": "code",
   "execution_count": null,
   "metadata": {},
   "outputs": [],
   "source": []
  }
 ],
 "metadata": {
  "kernelspec": {
   "display_name": "Python 3",
   "language": "python",
   "name": "python3"
  },
  "language_info": {
   "codemirror_mode": {
    "name": "ipython",
    "version": 3
   },
   "file_extension": ".py",
   "mimetype": "text/x-python",
   "name": "python",
   "nbconvert_exporter": "python",
   "pygments_lexer": "ipython3",
   "version": "3.7.2"
  },
  "toc": {
   "base_numbering": 1,
   "nav_menu": {},
   "number_sections": true,
   "sideBar": true,
   "skip_h1_title": false,
   "title_cell": "Table of Contents",
   "title_sidebar": "Contents",
   "toc_cell": false,
   "toc_position": {},
   "toc_section_display": true,
   "toc_window_display": false
  }
 },
 "nbformat": 4,
 "nbformat_minor": 2
}
