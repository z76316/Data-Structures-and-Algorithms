{
 "cells": [
  {
   "cell_type": "markdown",
   "metadata": {},
   "source": [
    "Given an array nums of integers and an int k, partition the array (i.e move the elements in \"nums\") such that:\n",
    "\n",
    "All elements < k are moved to the left\n",
    "\n",
    "All elements >= k are moved to the right\n",
    "\n",
    "Return the partitioning index, i.e the first index i nums[i] >= k.\n",
    "\n",
    "Example 1:\n",
    "\n",
    "    Input:\n",
    "    [],9\n",
    "\n",
    "    Output:\n",
    "    0\n",
    "\n",
    "Example 2:\n",
    "\n",
    "    Input:\n",
    "    [3,2,2,1],2\n",
    "\n",
    "    Output:1\n",
    "\n",
    "Explanation:\n",
    "\n",
    "    the real array is[1,2,2,3].So return 1\n",
    "\n",
    "Challenge\n",
    "\n",
    "    Can you partition the array in-place and in O(n)?\n",
    "\n",
    "Notice\n",
    "\n",
    "    You should do really partition in array nums instead of just counting the numbers of integers smaller than k.\n",
    "\n",
    "If all elements in nums are smaller than k, then return nums.length\n",
    "\n",
    "https://www.lintcode.com/problem/partition-array/description"
   ]
  },
  {
   "cell_type": "code",
   "execution_count": 13,
   "metadata": {},
   "outputs": [],
   "source": [
    "class Solution:\n",
    "    \"\"\"\n",
    "    @param nums: The integer array you should partition\n",
    "    @param k: An integer\n",
    "    @return: The index after partition\n",
    "    \"\"\"\n",
    "    def partitionArray(self, nums, k):\n",
    "        if nums == None or len(nums) == 0:\n",
    "            return 0\n",
    "        \n",
    "        n = len(nums)\n",
    "        left, right = 0, n-1\n",
    "        while left < right:\n",
    "            while left < right and nums[left] < k: # follow the definition\n",
    "                left += 1\n",
    "            while left < right and nums[right] >= k: # follow the definition\n",
    "                right -= 1\n",
    "            \n",
    "            if left < right: # if right is already before or equal left then we can make a choice\n",
    "                nums[left], nums[right] = nums[right], nums[left]\n",
    "                left += 1\n",
    "                right -= 1\n",
    "        \n",
    "        if left == right:\n",
    "            if nums[left] < k:\n",
    "                return left+1\n",
    "            else:\n",
    "                return left\n",
    "            \n",
    "        # by the second while loop, if right is before left means nums[left] is the first num >= k\n",
    "        return left"
   ]
  },
  {
   "cell_type": "code",
   "execution_count": 14,
   "metadata": {},
   "outputs": [
    {
     "data": {
      "text/plain": [
       "1"
      ]
     },
     "execution_count": 14,
     "metadata": {},
     "output_type": "execute_result"
    }
   ],
   "source": [
    "s = Solution()\n",
    "A = [3,2,2,1]\n",
    "t = 2\n",
    "\n",
    "input = [A, t]\n",
    "s.partitionArray(*input)"
   ]
  },
  {
   "cell_type": "code",
   "execution_count": null,
   "metadata": {},
   "outputs": [],
   "source": []
  }
 ],
 "metadata": {
  "kernelspec": {
   "display_name": "Python 3",
   "language": "python",
   "name": "python3"
  },
  "language_info": {
   "codemirror_mode": {
    "name": "ipython",
    "version": 3
   },
   "file_extension": ".py",
   "mimetype": "text/x-python",
   "name": "python",
   "nbconvert_exporter": "python",
   "pygments_lexer": "ipython3",
   "version": "3.7.2"
  }
 },
 "nbformat": 4,
 "nbformat_minor": 2
}
