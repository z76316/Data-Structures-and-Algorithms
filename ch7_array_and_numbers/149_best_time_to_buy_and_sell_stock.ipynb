{
 "cells": [
  {
   "cell_type": "markdown",
   "metadata": {},
   "source": [
    "Say you have an array for which the ith element is the price of a given stock on day i.\n",
    "\n",
    "If you were only permitted to complete at most one transaction (ie, buy one and sell one share of the stock), design an algorithm to find the maximum profit.\n",
    "\n",
    "Example\n",
    "Example 1\n",
    "\n",
    "    Input: [3, 2, 3, 1, 2]\n",
    "    Output: 1\n",
    "    Explanation: You can buy at the third day and then sell it at the 4th day. The profit is 2 - 1 = 1\n",
    "Example 2\n",
    "\n",
    "    Input: [1, 2, 3, 4, 5]\n",
    "    Output: 4\n",
    "    Explanation: You can buy at the 0th day and then sell it at the 4th day. The profit is 5 - 1 = 4\n",
    "Example 3\n",
    "\n",
    "    Input: [5, 4, 3, 2, 1]\n",
    "    Output: 0\n",
    "    Explanation: You can do nothing and get nothing.\n",
    "    \n",
    "https://www.lintcode.com/problem/best-time-to-buy-and-sell-stock/description"
   ]
  },
  {
   "cell_type": "markdown",
   "metadata": {},
   "source": [
    "# Solution"
   ]
  },
  {
   "cell_type": "code",
   "execution_count": 15,
   "metadata": {},
   "outputs": [],
   "source": [
    "# sol 1: calculate the min_price and max_price step by step\n",
    "# O(N)\n",
    "class Solution:\n",
    "    \"\"\"\n",
    "    @param prices: Given an integer array\n",
    "    @return: Maximum profit\n",
    "    \"\"\"\n",
    "    def maxProfit(self, prices):\n",
    "        # write your code here\n",
    "        if not prices:\n",
    "            return 0\n",
    "        \n",
    "        min_price, max_price = float('inf'), -float('inf')\n",
    "        for n in prices:\n",
    "            min_price = min(n, min_price)\n",
    "            max_price = max(n - min_price, max_price)\n",
    "        return max_price"
   ]
  },
  {
   "cell_type": "code",
   "execution_count": 13,
   "metadata": {},
   "outputs": [],
   "source": [
    "# sol 2: turn the prices array into the diff array, and then calculate the max consecutive sum of it\n",
    "# O(2N) -> O(N)\n",
    "class Solution:\n",
    "    \"\"\"\n",
    "    @param prices: Given an integer array\n",
    "    @return: Maximum profit\n",
    "    \"\"\"\n",
    "    def maxProfit(self, prices):\n",
    "        # write your code here\n",
    "        if not prices:\n",
    "            return 0\n",
    "        \n",
    "        diff_arr = []\n",
    "        for i in range(1, len(prices)):\n",
    "            diff_arr.append(prices[i] - prices[i-1])\n",
    "        print(diff_arr)    \n",
    "        prefix_sum_max = self.getPrefixSumMax(diff_arr)\n",
    "        return max(prefix_sum_max, 0)\n",
    "        \n",
    "        \n",
    "    def getPrefixSumMax(self, arr):\n",
    "        curr_max, global_max = arr[0], arr[0]\n",
    "        for i in range(1, len(arr)):\n",
    "            curr_max = max(curr_max + arr[i], arr[i])\n",
    "            global_max = max(curr_max, global_max)\n",
    "        return global_max\n",
    "        "
   ]
  },
  {
   "cell_type": "markdown",
   "metadata": {},
   "source": [
    "# Test"
   ]
  },
  {
   "cell_type": "code",
   "execution_count": 16,
   "metadata": {},
   "outputs": [
    {
     "name": "stdout",
     "output_type": "stream",
     "text": [
      "4\n"
     ]
    }
   ],
   "source": [
    "s = Solution()\n",
    "A = [3,4,2,-1,1,3,2]\n",
    "# A = [1, 2, 3, 4, 5]\n",
    "result = s.maxProfit(A)\n",
    "print(result)"
   ]
  },
  {
   "cell_type": "code",
   "execution_count": null,
   "metadata": {},
   "outputs": [],
   "source": []
  },
  {
   "cell_type": "markdown",
   "metadata": {},
   "source": [
    "# History"
   ]
  },
  {
   "cell_type": "code",
   "execution_count": 1,
   "metadata": {},
   "outputs": [],
   "source": [
    "class Solution:\n",
    "    \"\"\"\n",
    "    @param prices: Given an integer array\n",
    "    @return: Maximum profit\n",
    "    \"\"\"\n",
    "    def maxProfit(self, prices):\n",
    "        if prices == None or len(prices) == 0:\n",
    "            return 0\n",
    "        \n",
    "        max_profit, min_price = -float('inf'), float('inf')\n",
    "        for price in prices:\n",
    "            min_price = min(min_price, price)\n",
    "            max_profit = max(max_profit, price - min_price)\n",
    "            \n",
    "        return max_profit"
   ]
  },
  {
   "cell_type": "code",
   "execution_count": 2,
   "metadata": {},
   "outputs": [
    {
     "name": "stdout",
     "output_type": "stream",
     "text": [
      "4\n"
     ]
    }
   ],
   "source": [
    "s = Solution()\n",
    "A = [3,4,2,-1,1,3,2]\n",
    "result = s.maxProfit(A)\n",
    "print(result)"
   ]
  },
  {
   "cell_type": "code",
   "execution_count": null,
   "metadata": {},
   "outputs": [],
   "source": []
  }
 ],
 "metadata": {
  "kernelspec": {
   "display_name": "Python 3",
   "language": "python",
   "name": "python3"
  },
  "language_info": {
   "codemirror_mode": {
    "name": "ipython",
    "version": 3
   },
   "file_extension": ".py",
   "mimetype": "text/x-python",
   "name": "python",
   "nbconvert_exporter": "python",
   "pygments_lexer": "ipython3",
   "version": "3.7.2"
  },
  "toc": {
   "base_numbering": 1,
   "nav_menu": {},
   "number_sections": true,
   "sideBar": true,
   "skip_h1_title": false,
   "title_cell": "Table of Contents",
   "title_sidebar": "Contents",
   "toc_cell": false,
   "toc_position": {},
   "toc_section_display": true,
   "toc_window_display": false
  }
 },
 "nbformat": 4,
 "nbformat_minor": 2
}
