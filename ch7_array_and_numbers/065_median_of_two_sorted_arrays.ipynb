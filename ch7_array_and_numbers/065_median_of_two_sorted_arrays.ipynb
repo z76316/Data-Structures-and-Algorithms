{
 "cells": [
  {
   "cell_type": "markdown",
   "metadata": {},
   "source": [
    "There are two sorted arrays A and B of size m and n respectively. Find the median of the two sorted arrays.\n",
    "\n",
    "Example\n",
    "\n",
    "    Given A=[1,2,3,4,5,6] and B=[2,3,4,5], the median is 3.5.\n",
    "\n",
    "    Given A=[1,2,3] and B=[4,5], the median is 3.\n",
    "\n",
    "Challenge\n",
    "\n",
    "    The overall run time complexity should be O(log (m+n)).\n",
    "    \n",
    "https://www.lintcode.com/problem/65/"
   ]
  },
  {
   "cell_type": "markdown",
   "metadata": {},
   "source": [
    "# Solution"
   ]
  },
  {
   "cell_type": "code",
   "execution_count": 16,
   "metadata": {},
   "outputs": [],
   "source": [
    "class Solution:\n",
    "    \"\"\"\n",
    "    @param: A: An integer array\n",
    "    @param: B: An integer array\n",
    "    @return: a double whose format is *.5 or *.0\n",
    "    \"\"\"\n",
    "    def findMedianSortedArrays(self, A, B):\n",
    "        # write your code here\n",
    "        k = len(A) + len(B)\n",
    "        if k % 2 == 0:\n",
    "            return (self.findKth(A, B, k//2) + self.findKth(A, B, k//2 + 1)) /2\n",
    "        else:\n",
    "            return self.findKth(A, B, k//2 + 1)\n",
    "        \n",
    "    def findKth(self, A, B, k):\n",
    "        if len(A) == 0:\n",
    "            return B[k-1]\n",
    "        if len(B) == 0:\n",
    "            return A[k-1]\n",
    "        if k == 1:\n",
    "            return min(A[0], B[0])\n",
    "        \n",
    "        value_A = A[k//2 - 1] if len(A) >= k//2 else None\n",
    "        value_B = B[k//2 - 1] if len(B) >= k//2 else None\n",
    "            \n",
    "        if (value_A and value_B and value_A < value_B) or not value_B:\n",
    "            return self.findKth(A[k//2:], B, k - k//2)\n",
    "        else:\n",
    "            return self.findKth(A, B[k//2:], k - k//2)"
   ]
  },
  {
   "cell_type": "markdown",
   "metadata": {},
   "source": [
    "# Test"
   ]
  },
  {
   "cell_type": "code",
   "execution_count": 17,
   "metadata": {},
   "outputs": [
    {
     "name": "stdout",
     "output_type": "stream",
     "text": [
      "3.5\n"
     ]
    }
   ],
   "source": [
    "s = Solution()\n",
    "A = [1,2,3,4,5,6]\n",
    "B = [2,3,4,5]\n",
    "result = s.findMedianSortedArrays(A, B)\n",
    "print(result)"
   ]
  },
  {
   "cell_type": "code",
   "execution_count": null,
   "metadata": {},
   "outputs": [],
   "source": []
  },
  {
   "cell_type": "markdown",
   "metadata": {},
   "source": [
    "# History"
   ]
  },
  {
   "cell_type": "code",
   "execution_count": 7,
   "metadata": {},
   "outputs": [],
   "source": [
    "class Solution:\n",
    "    \"\"\"\n",
    "    @param: A: An integer array\n",
    "    @param: B: An integer array\n",
    "    @return: a double whose format is *.5 or *.0\n",
    "    \"\"\"\n",
    "    def findMedianSortedArrays(self, A, B):\n",
    "        k = len(A) + len(B)\n",
    "        if k % 2 == 0:\n",
    "            return (self.findKth(A, B, k//2) + self.findKth(A, B, k//2 + 1)) / 2\n",
    "        else:\n",
    "            return self.findKth(A, B, k//2 + 1)\n",
    "        \n",
    "    def findKth(self, A, B, k):\n",
    "        if len(A) == 0:\n",
    "            return B[k-1]\n",
    "        if len(B) == 0:\n",
    "            return A[k-1]\n",
    "        if k == 1:\n",
    "            return min(A[k-1], B[k-1])\n",
    "        \n",
    "        valueA = A[k//2 - 1] if len(A) >= k//2 else None\n",
    "        valueB = B[k//2 - 1] if len(B) >= k//2 else None\n",
    "            \n",
    "        if valueA != None and valueB != None and valueA < valueB:\n",
    "            return self.findKth(A[k//2:], B, k - k//2)\n",
    "        else:\n",
    "            return self.findKth(A, B[k//2:], k - k//2)"
   ]
  },
  {
   "cell_type": "code",
   "execution_count": 8,
   "metadata": {},
   "outputs": [
    {
     "name": "stdout",
     "output_type": "stream",
     "text": [
      "3.5\n"
     ]
    }
   ],
   "source": [
    "s = Solution()\n",
    "A = [1,2,3,4,5,6]\n",
    "B = [2,3,4,5]\n",
    "result = s.findMedianSortedArrays(A, B)\n",
    "print(result)"
   ]
  },
  {
   "cell_type": "code",
   "execution_count": null,
   "metadata": {},
   "outputs": [],
   "source": []
  }
 ],
 "metadata": {
  "kernelspec": {
   "display_name": "Python 3",
   "language": "python",
   "name": "python3"
  },
  "language_info": {
   "codemirror_mode": {
    "name": "ipython",
    "version": 3
   },
   "file_extension": ".py",
   "mimetype": "text/x-python",
   "name": "python",
   "nbconvert_exporter": "python",
   "pygments_lexer": "ipython3",
   "version": "3.7.2"
  },
  "toc": {
   "base_numbering": 1,
   "nav_menu": {},
   "number_sections": true,
   "sideBar": true,
   "skip_h1_title": false,
   "title_cell": "Table of Contents",
   "title_sidebar": "Contents",
   "toc_cell": false,
   "toc_position": {},
   "toc_section_display": true,
   "toc_window_display": false
  }
 },
 "nbformat": 4,
 "nbformat_minor": 2
}
