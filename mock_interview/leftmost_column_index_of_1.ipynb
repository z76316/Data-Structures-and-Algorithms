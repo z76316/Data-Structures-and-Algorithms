{
 "cells": [
  {
   "cell_type": "markdown",
   "metadata": {},
   "source": [
    "A binary matrix means that all elements are 0 or 1. For each individual row of the matrix, this row is sorted in non-decreasing order.\n",
    "\n",
    "Given a row-sorted binary matrix binaryMatrix, return leftmost column index(0-indexed) with at least a 1 in it. If such index doesn't exist, return -1\n",
    "\n",
    "Example 1:\n",
    "    \n",
    "    Input: mat = [[0,0],[1,1]]\n",
    "    Output: 0\n",
    "\n",
    "Example 2:\n",
    "\n",
    "    Input: mat = [[0,0],[0,0]]\n",
    "    Output: -1\n",
    "    \n",
    "Example 3:\n",
    "\n",
    "    Input: mat = [[0,0,0,1],[0,0,1,1],[0,1,1,1]]\n",
    "    Output: 1\n",
    "    \n",
    "https://leetcode.jp/problemdetail.php?id=1428\n",
    "\n",
    "https://www.lintcode.com/problem/898/"
   ]
  },
  {
   "cell_type": "markdown",
   "metadata": {},
   "source": [
    "# Solution"
   ]
  },
  {
   "cell_type": "markdown",
   "metadata": {},
   "source": [
    "## Binary search"
   ]
  },
  {
   "cell_type": "code",
   "execution_count": 83,
   "metadata": {},
   "outputs": [],
   "source": [
    "class Solution:\n",
    "    def leftMostColumnWithOne(self, mat):\n",
    "        if not mat:\n",
    "            return -1\n",
    "        \n",
    "        col_len = len(mat[0])\n",
    "        min_col = float('inf')\n",
    "        for row in mat:\n",
    "            if min_col <= col_len and row[min_col] == 0:   ### accelerate\n",
    "                continue\n",
    "            min_col = min(self.binarySearch(row, 1), min_col)\n",
    "        \n",
    "        if min_col > col_len:\n",
    "            return -1\n",
    "        return min_col\n",
    "    \n",
    "    \n",
    "    def binarySearch(self, arr, target):\n",
    "        n = len(arr)\n",
    "        start, end = 0, n - 1\n",
    "        while start + 1 < end:\n",
    "            mid = start + (end - start) // 2\n",
    "            if arr[mid] >= target:\n",
    "                end = mid\n",
    "            else:\n",
    "                start = mid\n",
    "        \n",
    "        if arr[start] == target:\n",
    "            return start\n",
    "        if arr[end] == target:\n",
    "            return end\n",
    "        return float('inf')"
   ]
  },
  {
   "cell_type": "markdown",
   "metadata": {},
   "source": [
    "# Test"
   ]
  },
  {
   "cell_type": "code",
   "execution_count": 84,
   "metadata": {},
   "outputs": [
    {
     "data": {
      "text/plain": [
       "1"
      ]
     },
     "execution_count": 84,
     "metadata": {},
     "output_type": "execute_result"
    }
   ],
   "source": [
    "a = Solution()\n",
    "# mat = [[0,0],[1,1]]\n",
    "# mat = [[0,0],[0,0]]\n",
    "mat = [[0,0,0,1],[0,0,1,1],[0,1,1,1]]\n",
    "\n",
    "a.leftMostColumnWithOne(mat)"
   ]
  },
  {
   "cell_type": "code",
   "execution_count": null,
   "metadata": {},
   "outputs": [],
   "source": []
  }
 ],
 "metadata": {
  "kernelspec": {
   "display_name": "Python 3",
   "language": "python",
   "name": "python3"
  },
  "language_info": {
   "codemirror_mode": {
    "name": "ipython",
    "version": 3
   },
   "file_extension": ".py",
   "mimetype": "text/x-python",
   "name": "python",
   "nbconvert_exporter": "python",
   "pygments_lexer": "ipython3",
   "version": "3.7.2"
  },
  "toc": {
   "base_numbering": 1,
   "nav_menu": {},
   "number_sections": true,
   "sideBar": true,
   "skip_h1_title": false,
   "title_cell": "Table of Contents",
   "title_sidebar": "Contents",
   "toc_cell": false,
   "toc_position": {},
   "toc_section_display": true,
   "toc_window_display": false
  }
 },
 "nbformat": 4,
 "nbformat_minor": 2
}
