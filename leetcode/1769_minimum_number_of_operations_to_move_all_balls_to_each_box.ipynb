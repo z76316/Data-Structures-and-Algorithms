{
 "cells": [
  {
   "cell_type": "markdown",
   "metadata": {},
   "source": [
    "You have n boxes. You are given a binary string boxes of length n, where boxes[i] is '0' if the ith box is empty, and '1' if it contains one ball.\n",
    "\n",
    "In one operation, you can move one ball from a box to an adjacent box. Box i is adjacent to box j if abs(i - j) == 1. Note that after doing so, there may be more than one ball in some boxes.\n",
    "\n",
    "Return an array answer of size n, where answer[i] is the minimum number of operations needed to move all the balls to the ith box.\n",
    "\n",
    "Each answer[i] is calculated considering the initial state of the boxes.\n",
    "\n",
    "Example 1:\n",
    "\n",
    "    Input: boxes = \"110\"\n",
    "    Output: [1,1,3]\n",
    "    Explanation: The answer for each box is as follows:\n",
    "    1) First box: you will have to move one ball from the second box to the first box in one operation.\n",
    "    2) Second box: you will have to move one ball from the first box to the second box in one operation.\n",
    "    3) Third box: you will have to move one ball from the first box to the third box in two operations, and move one ball from the second box to the third box in one operation.\n",
    "\n",
    "Example 2:\n",
    "\n",
    "    Input: boxes = \"001011\"\n",
    "    Output: [11,8,5,4,3,4]\n",
    " \n",
    "Constraints:\n",
    "\n",
    "    n == boxes.length\n",
    "    1 <= n <= 2000\n",
    "    boxes[i] is either '0' or '1'.\n",
    "\n",
    "https://leetcode.com/problems/minimum-number-of-operations-to-move-all-balls-to-each-box/"
   ]
  },
  {
   "cell_type": "markdown",
   "metadata": {},
   "source": [
    "# Solution"
   ]
  },
  {
   "cell_type": "code",
   "execution_count": 2,
   "metadata": {},
   "outputs": [],
   "source": [
    "class Solution:\n",
    "    def minOperations(self, boxes: str):\n",
    "        n = len(boxes)\n",
    "        result = [0]*n\n",
    "        \n",
    "        step, curr = 0, 0\n",
    "        for i in range(n):\n",
    "            result[i] = step\n",
    "            curr += int(boxes[i])\n",
    "            step += curr\n",
    "        \n",
    "        step, curr = 0, 0\n",
    "        for j in range(n):\n",
    "            result[n-1-j] += step\n",
    "            curr += int(boxes[n-1-j])\n",
    "            step += curr\n",
    "        \n",
    "        return result"
   ]
  },
  {
   "cell_type": "markdown",
   "metadata": {},
   "source": [
    "# Test"
   ]
  },
  {
   "cell_type": "code",
   "execution_count": 3,
   "metadata": {},
   "outputs": [
    {
     "name": "stdout",
     "output_type": "stream",
     "text": [
      "[11, 8, 5, 4, 3, 4]\n"
     ]
    }
   ],
   "source": [
    "boxes = '001011'\n",
    "\n",
    "a = Solution()\n",
    "print(a.minOperations(boxes))"
   ]
  },
  {
   "cell_type": "code",
   "execution_count": null,
   "metadata": {},
   "outputs": [],
   "source": []
  }
 ],
 "metadata": {
  "kernelspec": {
   "display_name": "Python 3",
   "language": "python",
   "name": "python3"
  },
  "language_info": {
   "codemirror_mode": {
    "name": "ipython",
    "version": 3
   },
   "file_extension": ".py",
   "mimetype": "text/x-python",
   "name": "python",
   "nbconvert_exporter": "python",
   "pygments_lexer": "ipython3",
   "version": "3.7.2"
  },
  "toc": {
   "base_numbering": 1,
   "nav_menu": {},
   "number_sections": true,
   "sideBar": true,
   "skip_h1_title": false,
   "title_cell": "Table of Contents",
   "title_sidebar": "Contents",
   "toc_cell": false,
   "toc_position": {},
   "toc_section_display": true,
   "toc_window_display": false
  }
 },
 "nbformat": 4,
 "nbformat_minor": 2
}
